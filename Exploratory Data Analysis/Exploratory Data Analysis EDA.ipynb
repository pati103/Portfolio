{
 "cells": [
  {
   "cell_type": "markdown",
   "metadata": {},
   "source": [
    "# Research on car sales ads\n",
    "\n",
    "\n",
    "This report is focused on finding the factors or parameters that influence the price of a vehicle advertised in the website, based on data collected over the past couple of years. \n",
    "\n",
    "**TABLE OF CONTENTS**\n",
    "\n",
    "* [1. Open and Study Data](#chapter1)\n",
    "* [2. Data Preprocessing](#chapter2)\n",
    "    * [Missing Values](#section_2_1)\n",
    "    * [Data Types](#section_2_2)\n",
    "* [3. Adding Columns with Calculations](#chapter3)\n",
    "* [4. Exploratory Analysis](#chapter4)\n",
    "    * [Histograms](#chapter4.1)\n",
    "    * [Outliers](#chapter4.2)\n",
    "    * [Filtered Data](#chapter4.3)\n",
    "    * [ADS: Days Listed](#chapter4.4)\n",
    "    * [Analysis based on Vehicle Type](#chapter4.5)\n",
    "* [5. Conclusion](#chapter5)\n",
    "* [6. Checklist](#chapter6)"
   ]
  },
  {
   "cell_type": "markdown",
   "metadata": {},
   "source": [
    "## Step 1. Open the data file and study the general information. <a class=\"anchor\" id=\"chapter1\"></a>"
   ]
  },
  {
   "cell_type": "code",
   "execution_count": 1,
   "metadata": {},
   "outputs": [
    {
     "data": {
      "text/html": [
       "<div>\n",
       "<style scoped>\n",
       "    .dataframe tbody tr th:only-of-type {\n",
       "        vertical-align: middle;\n",
       "    }\n",
       "\n",
       "    .dataframe tbody tr th {\n",
       "        vertical-align: top;\n",
       "    }\n",
       "\n",
       "    .dataframe thead th {\n",
       "        text-align: right;\n",
       "    }\n",
       "</style>\n",
       "<table border=\"1\" class=\"dataframe\">\n",
       "  <thead>\n",
       "    <tr style=\"text-align: right;\">\n",
       "      <th></th>\n",
       "      <th>price</th>\n",
       "      <th>model_year</th>\n",
       "      <th>model</th>\n",
       "      <th>condition</th>\n",
       "      <th>cylinders</th>\n",
       "      <th>fuel</th>\n",
       "      <th>odometer</th>\n",
       "      <th>transmission</th>\n",
       "      <th>type</th>\n",
       "      <th>paint_color</th>\n",
       "      <th>is_4wd</th>\n",
       "      <th>date_posted</th>\n",
       "      <th>days_listed</th>\n",
       "    </tr>\n",
       "  </thead>\n",
       "  <tbody>\n",
       "    <tr>\n",
       "      <td>0</td>\n",
       "      <td>9400</td>\n",
       "      <td>2011.0</td>\n",
       "      <td>bmw x5</td>\n",
       "      <td>good</td>\n",
       "      <td>6.0</td>\n",
       "      <td>gas</td>\n",
       "      <td>145000.0</td>\n",
       "      <td>automatic</td>\n",
       "      <td>SUV</td>\n",
       "      <td>NaN</td>\n",
       "      <td>1.0</td>\n",
       "      <td>2018-06-23</td>\n",
       "      <td>19</td>\n",
       "    </tr>\n",
       "    <tr>\n",
       "      <td>1</td>\n",
       "      <td>25500</td>\n",
       "      <td>NaN</td>\n",
       "      <td>ford f-150</td>\n",
       "      <td>good</td>\n",
       "      <td>6.0</td>\n",
       "      <td>gas</td>\n",
       "      <td>88705.0</td>\n",
       "      <td>automatic</td>\n",
       "      <td>pickup</td>\n",
       "      <td>white</td>\n",
       "      <td>1.0</td>\n",
       "      <td>2018-10-19</td>\n",
       "      <td>50</td>\n",
       "    </tr>\n",
       "    <tr>\n",
       "      <td>2</td>\n",
       "      <td>5500</td>\n",
       "      <td>2013.0</td>\n",
       "      <td>hyundai sonata</td>\n",
       "      <td>like new</td>\n",
       "      <td>4.0</td>\n",
       "      <td>gas</td>\n",
       "      <td>110000.0</td>\n",
       "      <td>automatic</td>\n",
       "      <td>sedan</td>\n",
       "      <td>red</td>\n",
       "      <td>NaN</td>\n",
       "      <td>2019-02-07</td>\n",
       "      <td>79</td>\n",
       "    </tr>\n",
       "    <tr>\n",
       "      <td>3</td>\n",
       "      <td>1500</td>\n",
       "      <td>2003.0</td>\n",
       "      <td>ford f-150</td>\n",
       "      <td>fair</td>\n",
       "      <td>8.0</td>\n",
       "      <td>gas</td>\n",
       "      <td>NaN</td>\n",
       "      <td>automatic</td>\n",
       "      <td>pickup</td>\n",
       "      <td>NaN</td>\n",
       "      <td>NaN</td>\n",
       "      <td>2019-03-22</td>\n",
       "      <td>9</td>\n",
       "    </tr>\n",
       "    <tr>\n",
       "      <td>4</td>\n",
       "      <td>14900</td>\n",
       "      <td>2017.0</td>\n",
       "      <td>chrysler 200</td>\n",
       "      <td>excellent</td>\n",
       "      <td>4.0</td>\n",
       "      <td>gas</td>\n",
       "      <td>80903.0</td>\n",
       "      <td>automatic</td>\n",
       "      <td>sedan</td>\n",
       "      <td>black</td>\n",
       "      <td>NaN</td>\n",
       "      <td>2019-04-02</td>\n",
       "      <td>28</td>\n",
       "    </tr>\n",
       "    <tr>\n",
       "      <td>5</td>\n",
       "      <td>14990</td>\n",
       "      <td>2014.0</td>\n",
       "      <td>chrysler 300</td>\n",
       "      <td>excellent</td>\n",
       "      <td>6.0</td>\n",
       "      <td>gas</td>\n",
       "      <td>57954.0</td>\n",
       "      <td>automatic</td>\n",
       "      <td>sedan</td>\n",
       "      <td>black</td>\n",
       "      <td>1.0</td>\n",
       "      <td>2018-06-20</td>\n",
       "      <td>15</td>\n",
       "    </tr>\n",
       "    <tr>\n",
       "      <td>6</td>\n",
       "      <td>12990</td>\n",
       "      <td>2015.0</td>\n",
       "      <td>toyota camry</td>\n",
       "      <td>excellent</td>\n",
       "      <td>4.0</td>\n",
       "      <td>gas</td>\n",
       "      <td>79212.0</td>\n",
       "      <td>automatic</td>\n",
       "      <td>sedan</td>\n",
       "      <td>white</td>\n",
       "      <td>NaN</td>\n",
       "      <td>2018-12-27</td>\n",
       "      <td>73</td>\n",
       "    </tr>\n",
       "    <tr>\n",
       "      <td>7</td>\n",
       "      <td>15990</td>\n",
       "      <td>2013.0</td>\n",
       "      <td>honda pilot</td>\n",
       "      <td>excellent</td>\n",
       "      <td>6.0</td>\n",
       "      <td>gas</td>\n",
       "      <td>109473.0</td>\n",
       "      <td>automatic</td>\n",
       "      <td>SUV</td>\n",
       "      <td>black</td>\n",
       "      <td>1.0</td>\n",
       "      <td>2019-01-07</td>\n",
       "      <td>68</td>\n",
       "    </tr>\n",
       "    <tr>\n",
       "      <td>8</td>\n",
       "      <td>11500</td>\n",
       "      <td>2012.0</td>\n",
       "      <td>kia sorento</td>\n",
       "      <td>excellent</td>\n",
       "      <td>4.0</td>\n",
       "      <td>gas</td>\n",
       "      <td>104174.0</td>\n",
       "      <td>automatic</td>\n",
       "      <td>SUV</td>\n",
       "      <td>NaN</td>\n",
       "      <td>1.0</td>\n",
       "      <td>2018-07-16</td>\n",
       "      <td>19</td>\n",
       "    </tr>\n",
       "    <tr>\n",
       "      <td>9</td>\n",
       "      <td>9200</td>\n",
       "      <td>2008.0</td>\n",
       "      <td>honda pilot</td>\n",
       "      <td>excellent</td>\n",
       "      <td>NaN</td>\n",
       "      <td>gas</td>\n",
       "      <td>147191.0</td>\n",
       "      <td>automatic</td>\n",
       "      <td>SUV</td>\n",
       "      <td>blue</td>\n",
       "      <td>1.0</td>\n",
       "      <td>2019-02-15</td>\n",
       "      <td>17</td>\n",
       "    </tr>\n",
       "  </tbody>\n",
       "</table>\n",
       "</div>"
      ],
      "text/plain": [
       "   price  model_year           model  condition  cylinders fuel  odometer  \\\n",
       "0   9400      2011.0          bmw x5       good        6.0  gas  145000.0   \n",
       "1  25500         NaN      ford f-150       good        6.0  gas   88705.0   \n",
       "2   5500      2013.0  hyundai sonata   like new        4.0  gas  110000.0   \n",
       "3   1500      2003.0      ford f-150       fair        8.0  gas       NaN   \n",
       "4  14900      2017.0    chrysler 200  excellent        4.0  gas   80903.0   \n",
       "5  14990      2014.0    chrysler 300  excellent        6.0  gas   57954.0   \n",
       "6  12990      2015.0    toyota camry  excellent        4.0  gas   79212.0   \n",
       "7  15990      2013.0     honda pilot  excellent        6.0  gas  109473.0   \n",
       "8  11500      2012.0     kia sorento  excellent        4.0  gas  104174.0   \n",
       "9   9200      2008.0     honda pilot  excellent        NaN  gas  147191.0   \n",
       "\n",
       "  transmission    type paint_color  is_4wd date_posted  days_listed  \n",
       "0    automatic     SUV         NaN     1.0  2018-06-23           19  \n",
       "1    automatic  pickup       white     1.0  2018-10-19           50  \n",
       "2    automatic   sedan         red     NaN  2019-02-07           79  \n",
       "3    automatic  pickup         NaN     NaN  2019-03-22            9  \n",
       "4    automatic   sedan       black     NaN  2019-04-02           28  \n",
       "5    automatic   sedan       black     1.0  2018-06-20           15  \n",
       "6    automatic   sedan       white     NaN  2018-12-27           73  \n",
       "7    automatic     SUV       black     1.0  2019-01-07           68  \n",
       "8    automatic     SUV         NaN     1.0  2018-07-16           19  \n",
       "9    automatic     SUV        blue     1.0  2019-02-15           17  "
      ]
     },
     "execution_count": 1,
     "metadata": {},
     "output_type": "execute_result"
    }
   ],
   "source": [
    "import pandas as pd\n",
    "import matplotlib.pyplot as plt\n",
    "import warnings\n",
    "warnings.filterwarnings('ignore')\n",
    "\n",
    "data = pd.read_csv(\"/datasets/vehicles_us.csv\")\n",
    "data.head(10)"
   ]
  },
  {
   "cell_type": "code",
   "execution_count": 2,
   "metadata": {},
   "outputs": [
    {
     "name": "stdout",
     "output_type": "stream",
     "text": [
      "<class 'pandas.core.frame.DataFrame'>\n",
      "RangeIndex: 51525 entries, 0 to 51524\n",
      "Data columns (total 13 columns):\n",
      "price           51525 non-null int64\n",
      "model_year      47906 non-null float64\n",
      "model           51525 non-null object\n",
      "condition       51525 non-null object\n",
      "cylinders       46265 non-null float64\n",
      "fuel            51525 non-null object\n",
      "odometer        43633 non-null float64\n",
      "transmission    51525 non-null object\n",
      "type            51525 non-null object\n",
      "paint_color     42258 non-null object\n",
      "is_4wd          25572 non-null float64\n",
      "date_posted     51525 non-null object\n",
      "days_listed     51525 non-null int64\n",
      "dtypes: float64(4), int64(2), object(7)\n",
      "memory usage: 5.1+ MB\n"
     ]
    }
   ],
   "source": [
    "data.info()"
   ]
  },
  {
   "cell_type": "code",
   "execution_count": 3,
   "metadata": {
    "scrolled": true
   },
   "outputs": [
    {
     "data": {
      "text/html": [
       "<div>\n",
       "<style scoped>\n",
       "    .dataframe tbody tr th:only-of-type {\n",
       "        vertical-align: middle;\n",
       "    }\n",
       "\n",
       "    .dataframe tbody tr th {\n",
       "        vertical-align: top;\n",
       "    }\n",
       "\n",
       "    .dataframe thead th {\n",
       "        text-align: right;\n",
       "    }\n",
       "</style>\n",
       "<table border=\"1\" class=\"dataframe\">\n",
       "  <thead>\n",
       "    <tr style=\"text-align: right;\">\n",
       "      <th></th>\n",
       "      <th>price</th>\n",
       "      <th>model_year</th>\n",
       "      <th>cylinders</th>\n",
       "      <th>odometer</th>\n",
       "      <th>is_4wd</th>\n",
       "      <th>days_listed</th>\n",
       "    </tr>\n",
       "  </thead>\n",
       "  <tbody>\n",
       "    <tr>\n",
       "      <td>count</td>\n",
       "      <td>51525.000000</td>\n",
       "      <td>47906.000000</td>\n",
       "      <td>46265.000000</td>\n",
       "      <td>43633.000000</td>\n",
       "      <td>25572.0</td>\n",
       "      <td>51525.00000</td>\n",
       "    </tr>\n",
       "    <tr>\n",
       "      <td>mean</td>\n",
       "      <td>12132.464920</td>\n",
       "      <td>2009.750470</td>\n",
       "      <td>6.125235</td>\n",
       "      <td>115553.461738</td>\n",
       "      <td>1.0</td>\n",
       "      <td>39.55476</td>\n",
       "    </tr>\n",
       "    <tr>\n",
       "      <td>std</td>\n",
       "      <td>10040.803015</td>\n",
       "      <td>6.282065</td>\n",
       "      <td>1.660360</td>\n",
       "      <td>65094.611341</td>\n",
       "      <td>0.0</td>\n",
       "      <td>28.20427</td>\n",
       "    </tr>\n",
       "    <tr>\n",
       "      <td>min</td>\n",
       "      <td>1.000000</td>\n",
       "      <td>1908.000000</td>\n",
       "      <td>3.000000</td>\n",
       "      <td>0.000000</td>\n",
       "      <td>1.0</td>\n",
       "      <td>0.00000</td>\n",
       "    </tr>\n",
       "    <tr>\n",
       "      <td>25%</td>\n",
       "      <td>5000.000000</td>\n",
       "      <td>2006.000000</td>\n",
       "      <td>4.000000</td>\n",
       "      <td>70000.000000</td>\n",
       "      <td>1.0</td>\n",
       "      <td>19.00000</td>\n",
       "    </tr>\n",
       "    <tr>\n",
       "      <td>50%</td>\n",
       "      <td>9000.000000</td>\n",
       "      <td>2011.000000</td>\n",
       "      <td>6.000000</td>\n",
       "      <td>113000.000000</td>\n",
       "      <td>1.0</td>\n",
       "      <td>33.00000</td>\n",
       "    </tr>\n",
       "    <tr>\n",
       "      <td>75%</td>\n",
       "      <td>16839.000000</td>\n",
       "      <td>2014.000000</td>\n",
       "      <td>8.000000</td>\n",
       "      <td>155000.000000</td>\n",
       "      <td>1.0</td>\n",
       "      <td>53.00000</td>\n",
       "    </tr>\n",
       "    <tr>\n",
       "      <td>max</td>\n",
       "      <td>375000.000000</td>\n",
       "      <td>2019.000000</td>\n",
       "      <td>12.000000</td>\n",
       "      <td>990000.000000</td>\n",
       "      <td>1.0</td>\n",
       "      <td>271.00000</td>\n",
       "    </tr>\n",
       "  </tbody>\n",
       "</table>\n",
       "</div>"
      ],
      "text/plain": [
       "               price    model_year     cylinders       odometer   is_4wd  \\\n",
       "count   51525.000000  47906.000000  46265.000000   43633.000000  25572.0   \n",
       "mean    12132.464920   2009.750470      6.125235  115553.461738      1.0   \n",
       "std     10040.803015      6.282065      1.660360   65094.611341      0.0   \n",
       "min         1.000000   1908.000000      3.000000       0.000000      1.0   \n",
       "25%      5000.000000   2006.000000      4.000000   70000.000000      1.0   \n",
       "50%      9000.000000   2011.000000      6.000000  113000.000000      1.0   \n",
       "75%     16839.000000   2014.000000      8.000000  155000.000000      1.0   \n",
       "max    375000.000000   2019.000000     12.000000  990000.000000      1.0   \n",
       "\n",
       "       days_listed  \n",
       "count  51525.00000  \n",
       "mean      39.55476  \n",
       "std       28.20427  \n",
       "min        0.00000  \n",
       "25%       19.00000  \n",
       "50%       33.00000  \n",
       "75%       53.00000  \n",
       "max      271.00000  "
      ]
     },
     "execution_count": 3,
     "metadata": {},
     "output_type": "execute_result"
    }
   ],
   "source": [
    "data.describe()"
   ]
  },
  {
   "cell_type": "markdown",
   "metadata": {},
   "source": [
    "### Conclusion"
   ]
  },
  {
   "cell_type": "markdown",
   "metadata": {},
   "source": [
    "We are working with a dataset of 51525 rows.Each row represents a car advertised in the website, with its specifications. We can already see that some of these columns have **missing values**, so we will need to look into them more in detail in Chapter 2. \n",
    "\n",
    "We will also **change the float data types to int**, as it will be easier for the analysis.\n",
    "\n",
    "From the .describe() methot output, we already see some suspicious data:\n",
    "* minimum price is 1\n",
    "* model year 1908 - who would advertise a car from that era?\n",
    "* the minimum days listed is 0 - then why is this entry in this dataset? was it maybe listed for a few hours?\n",
    "\n",
    "Column names are intuitive, so no need to modify any of them.\n",
    "\n",
    "Having this first impression, let's do some cleaning."
   ]
  },
  {
   "cell_type": "markdown",
   "metadata": {},
   "source": [
    "## Step 2. Data preprocessing <a class=\"anchor\" id=\"chapter2\"></a>"
   ]
  },
  {
   "cell_type": "markdown",
   "metadata": {},
   "source": [
    "### 2.1 Missing Values <a class=\"anchor\" id=\"section_2_1\"></a>"
   ]
  },
  {
   "cell_type": "markdown",
   "metadata": {},
   "source": [
    "With the .info() method we can already see that the following columns have less than 51525 rows, meaning they have missing values. Let's calculate how many missing values we are talking about exactly:"
   ]
  },
  {
   "cell_type": "code",
   "execution_count": 4,
   "metadata": {
    "scrolled": false
   },
   "outputs": [
    {
     "data": {
      "text/plain": [
       "price               0\n",
       "model_year       3619\n",
       "model               0\n",
       "condition           0\n",
       "cylinders        5260\n",
       "fuel                0\n",
       "odometer         7892\n",
       "transmission        0\n",
       "type                0\n",
       "paint_color      9267\n",
       "is_4wd          25953\n",
       "date_posted         0\n",
       "days_listed         0\n",
       "dtype: int64"
      ]
     },
     "execution_count": 4,
     "metadata": {},
     "output_type": "execute_result"
    }
   ],
   "source": [
    "data.isna().sum()"
   ]
  },
  {
   "cell_type": "code",
   "execution_count": 5,
   "metadata": {
    "scrolled": true
   },
   "outputs": [
    {
     "name": "stdout",
     "output_type": "stream",
     "text": [
      "price            0.000000\n",
      "model_year       7.023775\n",
      "model            0.000000\n",
      "condition        0.000000\n",
      "cylinders       10.208637\n",
      "fuel             0.000000\n",
      "odometer        15.316836\n",
      "transmission     0.000000\n",
      "type             0.000000\n",
      "paint_color     17.985444\n",
      "is_4wd          50.369723\n",
      "date_posted      0.000000\n",
      "days_listed      0.000000\n",
      "dtype: float64\n"
     ]
    }
   ],
   "source": [
    "# Find % of missing data per column\n",
    "\n",
    "total_rows = len(data)\n",
    "print(((data.isnull().sum()) / total_rows)*100)"
   ]
  },
  {
   "cell_type": "markdown",
   "metadata": {},
   "source": [
    "Half of the data in is_4wd is missing! This is something we need address. The other columns have much less missing data, but we should still try to find a solution rather than just dropping them, as they could represent valuable data. \n",
    "\n",
    "Let's begin with the simple one: paint_color. Missing data could be due to the possibility for the vendor to have several colors available, so it was left blank. \n",
    "\n",
    "We could try to find the most common color in the dataset, but that could mislead the analysis if it turns out paint_color is a key factor that influences the price of the vehicle. We will replace all missing values for unknown instead."
   ]
  },
  {
   "cell_type": "code",
   "execution_count": 6,
   "metadata": {},
   "outputs": [
    {
     "data": {
      "text/plain": [
       "white      10029\n",
       "Unknown     9267\n",
       "black       7692\n",
       "silver      6244\n",
       "grey        5037\n",
       "blue        4475\n",
       "red         4421\n",
       "green       1396\n",
       "brown       1223\n",
       "custom      1153\n",
       "yellow       255\n",
       "orange       231\n",
       "purple       102\n",
       "Name: paint_color, dtype: int64"
      ]
     },
     "execution_count": 6,
     "metadata": {},
     "output_type": "execute_result"
    }
   ],
   "source": [
    "data[\"paint_color\"] = data[\"paint_color\"].fillna(\"Unknown\")\n",
    "data[\"paint_color\"].value_counts()"
   ]
  },
  {
   "cell_type": "markdown",
   "metadata": {},
   "source": [
    "Let's focus now on the model_year. We have some missing values there, so we could use the value of a row with the same model to replace the missing value."
   ]
  },
  {
   "cell_type": "code",
   "execution_count": 7,
   "metadata": {},
   "outputs": [],
   "source": [
    "data[\"model_year\"] = data.groupby(\"model\")[\"model_year\"].transform(\n",
    "    lambda grp: grp.fillna(pd.Series.mode(grp)[0])\n",
    ")"
   ]
  },
  {
   "cell_type": "code",
   "execution_count": 8,
   "metadata": {
    "scrolled": true
   },
   "outputs": [
    {
     "data": {
      "text/plain": [
       "price               0\n",
       "model_year          0\n",
       "model               0\n",
       "condition           0\n",
       "cylinders        5260\n",
       "fuel                0\n",
       "odometer         7892\n",
       "transmission        0\n",
       "type                0\n",
       "paint_color         0\n",
       "is_4wd          25953\n",
       "date_posted         0\n",
       "days_listed         0\n",
       "dtype: int64"
      ]
     },
     "execution_count": 8,
     "metadata": {},
     "output_type": "execute_result"
    }
   ],
   "source": [
    "data.isna().sum()"
   ]
  },
  {
   "cell_type": "markdown",
   "metadata": {},
   "source": [
    "We now have all model years cleared. Let's move on!"
   ]
  },
  {
   "cell_type": "code",
   "execution_count": 9,
   "metadata": {},
   "outputs": [],
   "source": [
    "#old_model_year = data[data['model_year'] < 1990].index\n",
    "#data.drop(old_model_year, inplace=True)"
   ]
  },
  {
   "cell_type": "code",
   "execution_count": 10,
   "metadata": {},
   "outputs": [
    {
     "data": {
      "text/html": [
       "<div>\n",
       "<style scoped>\n",
       "    .dataframe tbody tr th:only-of-type {\n",
       "        vertical-align: middle;\n",
       "    }\n",
       "\n",
       "    .dataframe tbody tr th {\n",
       "        vertical-align: top;\n",
       "    }\n",
       "\n",
       "    .dataframe thead th {\n",
       "        text-align: right;\n",
       "    }\n",
       "</style>\n",
       "<table border=\"1\" class=\"dataframe\">\n",
       "  <thead>\n",
       "    <tr style=\"text-align: right;\">\n",
       "      <th></th>\n",
       "      <th>price</th>\n",
       "      <th>model_year</th>\n",
       "      <th>cylinders</th>\n",
       "      <th>odometer</th>\n",
       "      <th>is_4wd</th>\n",
       "      <th>days_listed</th>\n",
       "    </tr>\n",
       "  </thead>\n",
       "  <tbody>\n",
       "    <tr>\n",
       "      <td>count</td>\n",
       "      <td>51525.000000</td>\n",
       "      <td>51525.000000</td>\n",
       "      <td>46265.000000</td>\n",
       "      <td>43633.000000</td>\n",
       "      <td>25572.0</td>\n",
       "      <td>51525.00000</td>\n",
       "    </tr>\n",
       "    <tr>\n",
       "      <td>mean</td>\n",
       "      <td>12132.464920</td>\n",
       "      <td>2009.871033</td>\n",
       "      <td>6.125235</td>\n",
       "      <td>115553.461738</td>\n",
       "      <td>1.0</td>\n",
       "      <td>39.55476</td>\n",
       "    </tr>\n",
       "    <tr>\n",
       "      <td>std</td>\n",
       "      <td>10040.803015</td>\n",
       "      <td>6.145084</td>\n",
       "      <td>1.660360</td>\n",
       "      <td>65094.611341</td>\n",
       "      <td>0.0</td>\n",
       "      <td>28.20427</td>\n",
       "    </tr>\n",
       "    <tr>\n",
       "      <td>min</td>\n",
       "      <td>1.000000</td>\n",
       "      <td>1908.000000</td>\n",
       "      <td>3.000000</td>\n",
       "      <td>0.000000</td>\n",
       "      <td>1.0</td>\n",
       "      <td>0.00000</td>\n",
       "    </tr>\n",
       "    <tr>\n",
       "      <td>25%</td>\n",
       "      <td>5000.000000</td>\n",
       "      <td>2007.000000</td>\n",
       "      <td>4.000000</td>\n",
       "      <td>70000.000000</td>\n",
       "      <td>1.0</td>\n",
       "      <td>19.00000</td>\n",
       "    </tr>\n",
       "    <tr>\n",
       "      <td>50%</td>\n",
       "      <td>9000.000000</td>\n",
       "      <td>2011.000000</td>\n",
       "      <td>6.000000</td>\n",
       "      <td>113000.000000</td>\n",
       "      <td>1.0</td>\n",
       "      <td>33.00000</td>\n",
       "    </tr>\n",
       "    <tr>\n",
       "      <td>75%</td>\n",
       "      <td>16839.000000</td>\n",
       "      <td>2014.000000</td>\n",
       "      <td>8.000000</td>\n",
       "      <td>155000.000000</td>\n",
       "      <td>1.0</td>\n",
       "      <td>53.00000</td>\n",
       "    </tr>\n",
       "    <tr>\n",
       "      <td>max</td>\n",
       "      <td>375000.000000</td>\n",
       "      <td>2019.000000</td>\n",
       "      <td>12.000000</td>\n",
       "      <td>990000.000000</td>\n",
       "      <td>1.0</td>\n",
       "      <td>271.00000</td>\n",
       "    </tr>\n",
       "  </tbody>\n",
       "</table>\n",
       "</div>"
      ],
      "text/plain": [
       "               price    model_year     cylinders       odometer   is_4wd  \\\n",
       "count   51525.000000  51525.000000  46265.000000   43633.000000  25572.0   \n",
       "mean    12132.464920   2009.871033      6.125235  115553.461738      1.0   \n",
       "std     10040.803015      6.145084      1.660360   65094.611341      0.0   \n",
       "min         1.000000   1908.000000      3.000000       0.000000      1.0   \n",
       "25%      5000.000000   2007.000000      4.000000   70000.000000      1.0   \n",
       "50%      9000.000000   2011.000000      6.000000  113000.000000      1.0   \n",
       "75%     16839.000000   2014.000000      8.000000  155000.000000      1.0   \n",
       "max    375000.000000   2019.000000     12.000000  990000.000000      1.0   \n",
       "\n",
       "       days_listed  \n",
       "count  51525.00000  \n",
       "mean      39.55476  \n",
       "std       28.20427  \n",
       "min        0.00000  \n",
       "25%       19.00000  \n",
       "50%       33.00000  \n",
       "75%       53.00000  \n",
       "max      271.00000  "
      ]
     },
     "execution_count": 10,
     "metadata": {},
     "output_type": "execute_result"
    }
   ],
   "source": [
    "data.describe()"
   ]
  },
  {
   "cell_type": "code",
   "execution_count": 11,
   "metadata": {},
   "outputs": [
    {
     "data": {
      "text/plain": [
       "Text(0, 0.5, 'Number of Vehicles')"
      ]
     },
     "execution_count": 11,
     "metadata": {},
     "output_type": "execute_result"
    },
    {
     "data": {
      "image/png": "[encoded data removed]",
      "text/plain": [
       "<Figure size 432x288 with 1 Axes>"
      ]
     },
     "metadata": {
      "needs_background": "light"
     },
     "output_type": "display_data"
    }
   ],
   "source": [
    "data['odometer'].hist(bins=50, range=(0, 990000));\n",
    "\n",
    "plt.title(\"Odometer\")\n",
    "plt.xlabel(\"Mileage\")\n",
    "plt.ylabel(\"Number of Vehicles\")"
   ]
  },
  {
   "cell_type": "markdown",
   "metadata": {},
   "source": [
    "We have a very big amount of vehicles (entries) whose odometers are 0. Is it because they are brand new? or a glitch in the data? we also have an outlier with a mileage of 990,000...we don't want to delete these entries because they could be legitimate, so let's use the median of each model_year to fill in the missing values in the column."
   ]
  },
  {
   "cell_type": "markdown",
   "metadata": {},
   "source": [
    "For the missing data, we could group the cars by model_year, calculate the group's median mileage, and use it to fill the missing values for those vehicles beloning to that model_year group. These are the steps:\n",
    "\n",
    "1. Group by model_year\n",
    "2. Calculate median within each model_year group\n",
    "3. Use mean to fill missing values within each group"
   ]
  },
  {
   "cell_type": "code",
   "execution_count": 12,
   "metadata": {
    "scrolled": true
   },
   "outputs": [
    {
     "data": {
      "text/plain": [
       "model_year\n",
       "1908.0    169328.0\n",
       "1929.0         NaN\n",
       "1936.0     30000.0\n",
       "1948.0      4000.0\n",
       "1949.0      1800.0\n",
       "            ...   \n",
       "2015.0     81195.0\n",
       "2016.0     55932.0\n",
       "2017.0     41426.0\n",
       "2018.0     21200.0\n",
       "2019.0     14152.0\n",
       "Name: odometer, Length: 68, dtype: float64"
      ]
     },
     "execution_count": 12,
     "metadata": {},
     "output_type": "execute_result"
    }
   ],
   "source": [
    "#Calculate mileage average of each year\n",
    "data.groupby('model_year')['odometer'].median().round()"
   ]
  },
  {
   "cell_type": "markdown",
   "metadata": {},
   "source": [
    "Uh oh...we spotted a year, 1929, that has no odometer values at all, so no median could be calculated. Let's see how many vehicles belong to 1929."
   ]
  },
  {
   "cell_type": "code",
   "execution_count": 13,
   "metadata": {},
   "outputs": [
    {
     "data": {
      "text/html": [
       "<div>\n",
       "<style scoped>\n",
       "    .dataframe tbody tr th:only-of-type {\n",
       "        vertical-align: middle;\n",
       "    }\n",
       "\n",
       "    .dataframe tbody tr th {\n",
       "        vertical-align: top;\n",
       "    }\n",
       "\n",
       "    .dataframe thead th {\n",
       "        text-align: right;\n",
       "    }\n",
       "</style>\n",
       "<table border=\"1\" class=\"dataframe\">\n",
       "  <thead>\n",
       "    <tr style=\"text-align: right;\">\n",
       "      <th></th>\n",
       "      <th>price</th>\n",
       "      <th>model_year</th>\n",
       "      <th>model</th>\n",
       "      <th>condition</th>\n",
       "      <th>cylinders</th>\n",
       "      <th>fuel</th>\n",
       "      <th>odometer</th>\n",
       "      <th>transmission</th>\n",
       "      <th>type</th>\n",
       "      <th>paint_color</th>\n",
       "      <th>is_4wd</th>\n",
       "      <th>date_posted</th>\n",
       "      <th>days_listed</th>\n",
       "    </tr>\n",
       "  </thead>\n",
       "  <tbody>\n",
       "    <tr>\n",
       "      <td>45694</td>\n",
       "      <td>18000</td>\n",
       "      <td>1929.0</td>\n",
       "      <td>ford f-150</td>\n",
       "      <td>good</td>\n",
       "      <td>8.0</td>\n",
       "      <td>gas</td>\n",
       "      <td>NaN</td>\n",
       "      <td>manual</td>\n",
       "      <td>other</td>\n",
       "      <td>silver</td>\n",
       "      <td>NaN</td>\n",
       "      <td>2018-11-18</td>\n",
       "      <td>59</td>\n",
       "    </tr>\n",
       "  </tbody>\n",
       "</table>\n",
       "</div>"
      ],
      "text/plain": [
       "       price  model_year       model condition  cylinders fuel  odometer  \\\n",
       "45694  18000      1929.0  ford f-150      good        8.0  gas       NaN   \n",
       "\n",
       "      transmission   type paint_color  is_4wd date_posted  days_listed  \n",
       "45694       manual  other      silver     NaN  2018-11-18           59  "
      ]
     },
     "execution_count": 13,
     "metadata": {},
     "output_type": "execute_result"
    }
   ],
   "source": [
    "data.loc[data[\"model_year\"] == 1929]"
   ]
  },
  {
   "cell_type": "markdown",
   "metadata": {},
   "source": [
    "Luckily there is only one vehicle from 1929, a ford f-150. This doesn't make much sense, as this model was introduced to the market in 1948. The entry must be corrupted, and since we are only dealing with one, it is better to just drop it."
   ]
  },
  {
   "cell_type": "code",
   "execution_count": 14,
   "metadata": {},
   "outputs": [],
   "source": [
    "corrupted_year = data[data[\"model_year\"] == 1929].index\n",
    "data.drop(corrupted_year, inplace=True)"
   ]
  },
  {
   "cell_type": "markdown",
   "metadata": {},
   "source": [
    "Let's go the extra mile and make sure there are no years with decimal numbers, which could divide vehicles in different groups (i.e. 2010, and 2010.33). We will do so by rounding the model_year column."
   ]
  },
  {
   "cell_type": "code",
   "execution_count": 15,
   "metadata": {},
   "outputs": [
    {
     "data": {
      "text/plain": [
       "model_year\n",
       "1908.0    169328.0\n",
       "1936.0     30000.0\n",
       "1948.0      4000.0\n",
       "1949.0      1800.0\n",
       "1954.0      3565.0\n",
       "            ...   \n",
       "2015.0     81195.0\n",
       "2016.0     55932.0\n",
       "2017.0     41426.0\n",
       "2018.0     21200.0\n",
       "2019.0     14152.0\n",
       "Name: odometer, Length: 67, dtype: float64"
      ]
     },
     "execution_count": 15,
     "metadata": {},
     "output_type": "execute_result"
    }
   ],
   "source": [
    "data[\"model_year\"] = data[\"model_year\"].round()\n",
    "data.groupby('model_year')['odometer'].median().round()"
   ]
  },
  {
   "cell_type": "markdown",
   "metadata": {},
   "source": [
    "Much better. Now we can use these median values to replace the missing values based on model_year. We could group the years in 5 or even 10, but mileage is one of the most important factors to take into account when purchasing a second-hand vehicle, so we want this value to be as accurate as possible."
   ]
  },
  {
   "cell_type": "code",
   "execution_count": 16,
   "metadata": {},
   "outputs": [],
   "source": [
    "data[\"odometer\"] = data.groupby('model_year')['odometer'].transform(lambda x: x.fillna(x.median()))"
   ]
  },
  {
   "cell_type": "code",
   "execution_count": 17,
   "metadata": {},
   "outputs": [
    {
     "data": {
      "text/plain": [
       "price               0\n",
       "model_year          0\n",
       "model               0\n",
       "condition           0\n",
       "cylinders        5260\n",
       "fuel                0\n",
       "odometer            0\n",
       "transmission        0\n",
       "type                0\n",
       "paint_color         0\n",
       "is_4wd          25952\n",
       "date_posted         0\n",
       "days_listed         0\n",
       "dtype: int64"
      ]
     },
     "execution_count": 17,
     "metadata": {},
     "output_type": "execute_result"
    }
   ],
   "source": [
    "data.isna().sum()"
   ]
  },
  {
   "cell_type": "markdown",
   "metadata": {},
   "source": [
    "We are now with a complete odometer column! Let's move on to cylinders."
   ]
  },
  {
   "cell_type": "code",
   "execution_count": 18,
   "metadata": {},
   "outputs": [
    {
     "data": {
      "text/plain": [
       "Text(0, 0.5, 'Count')"
      ]
     },
     "execution_count": 18,
     "metadata": {},
     "output_type": "execute_result"
    },
    {
     "data": {
      "image/png": "[encoded data removed]",
      "text/plain": [
       "<Figure size 432x288 with 1 Axes>"
      ]
     },
     "metadata": {
      "needs_background": "light"
     },
     "output_type": "display_data"
    }
   ],
   "source": [
    "data[\"cylinders\"].hist(bins=20);\n",
    "\n",
    "plt.title(\"Cylinders\")\n",
    "plt.xlabel(\"Cylinders\")\n",
    "plt.ylabel(\"Count\")"
   ]
  },
  {
   "cell_type": "markdown",
   "metadata": {},
   "source": [
    "With cylinders, we could fill the missing values with the median of the models as with the mean we could get a non-realistic number of cylinders (with decimals). Similar to what we did in the previous step with the vehicles."
   ]
  },
  {
   "cell_type": "code",
   "execution_count": 19,
   "metadata": {},
   "outputs": [
    {
     "data": {
      "text/plain": [
       "model\n",
       "acura tl             6.0\n",
       "bmw x5               6.0\n",
       "buick enclave        6.0\n",
       "cadillac escalade    8.0\n",
       "chevrolet camaro     6.0\n",
       "                    ... \n",
       "toyota sienna        6.0\n",
       "toyota tacoma        6.0\n",
       "toyota tundra        8.0\n",
       "volkswagen jetta     4.0\n",
       "volkswagen passat    4.0\n",
       "Name: cylinders, Length: 100, dtype: float64"
      ]
     },
     "execution_count": 19,
     "metadata": {},
     "output_type": "execute_result"
    }
   ],
   "source": [
    "data.groupby('model')['cylinders'].median().round()"
   ]
  },
  {
   "cell_type": "code",
   "execution_count": 20,
   "metadata": {},
   "outputs": [],
   "source": [
    "data[\"cylinders\"] = data.groupby('model')['cylinders'].transform(lambda x: x.fillna(x.median()))"
   ]
  },
  {
   "cell_type": "code",
   "execution_count": 21,
   "metadata": {},
   "outputs": [
    {
     "data": {
      "text/plain": [
       "8.0     17711\n",
       "6.0     17435\n",
       "4.0     15499\n",
       "10.0      549\n",
       "5.0       294\n",
       "3.0        34\n",
       "12.0        2\n",
       "Name: cylinders, dtype: int64"
      ]
     },
     "execution_count": 21,
     "metadata": {},
     "output_type": "execute_result"
    }
   ],
   "source": [
    "data[\"cylinders\"].value_counts()"
   ]
  },
  {
   "cell_type": "code",
   "execution_count": 22,
   "metadata": {
    "scrolled": false
   },
   "outputs": [
    {
     "data": {
      "text/plain": [
       "price               0\n",
       "model_year          0\n",
       "model               0\n",
       "condition           0\n",
       "cylinders           0\n",
       "fuel                0\n",
       "odometer            0\n",
       "transmission        0\n",
       "type                0\n",
       "paint_color         0\n",
       "is_4wd          25952\n",
       "date_posted         0\n",
       "days_listed         0\n",
       "dtype: int64"
      ]
     },
     "execution_count": 22,
     "metadata": {},
     "output_type": "execute_result"
    }
   ],
   "source": [
    "data.isnull().sum()"
   ]
  },
  {
   "cell_type": "markdown",
   "metadata": {},
   "source": [
    "We now have is_4wd column with missing values, so many of them missing. "
   ]
  },
  {
   "cell_type": "code",
   "execution_count": 23,
   "metadata": {},
   "outputs": [
    {
     "data": {
      "text/plain": [
       "1.0    25572\n",
       "Name: is_4wd, dtype: int64"
      ]
     },
     "execution_count": 23,
     "metadata": {},
     "output_type": "execute_result"
    }
   ],
   "source": [
    "data[\"is_4wd\"].value_counts()"
   ]
  },
  {
   "cell_type": "markdown",
   "metadata": {},
   "source": [
    "As it is a Boolean column that contains only True values (1), it is fair to assume that the missing values are False. We need to correct this misleading entries, by replacing all missing values with 0."
   ]
  },
  {
   "cell_type": "code",
   "execution_count": 24,
   "metadata": {},
   "outputs": [],
   "source": [
    "data[\"is_4wd\"] = data[\"is_4wd\"].fillna(value = 0)"
   ]
  },
  {
   "cell_type": "code",
   "execution_count": 25,
   "metadata": {},
   "outputs": [
    {
     "data": {
      "text/plain": [
       "0.0    25952\n",
       "1.0    25572\n",
       "Name: is_4wd, dtype: int64"
      ]
     },
     "execution_count": 25,
     "metadata": {},
     "output_type": "execute_result"
    }
   ],
   "source": [
    "data[\"is_4wd\"].value_counts()"
   ]
  },
  {
   "cell_type": "code",
   "execution_count": 26,
   "metadata": {},
   "outputs": [
    {
     "data": {
      "text/plain": [
       "price           0\n",
       "model_year      0\n",
       "model           0\n",
       "condition       0\n",
       "cylinders       0\n",
       "fuel            0\n",
       "odometer        0\n",
       "transmission    0\n",
       "type            0\n",
       "paint_color     0\n",
       "is_4wd          0\n",
       "date_posted     0\n",
       "days_listed     0\n",
       "dtype: int64"
      ]
     },
     "execution_count": 26,
     "metadata": {},
     "output_type": "execute_result"
    }
   ],
   "source": [
    "data.isnull().sum()"
   ]
  },
  {
   "cell_type": "markdown",
   "metadata": {},
   "source": [
    "We have dealt with missing values. Let's now review the data types."
   ]
  },
  {
   "cell_type": "markdown",
   "metadata": {},
   "source": [
    "### 2.2 Data Types <a class=\"anchor\" id=\"section_2_2\"></a>"
   ]
  },
  {
   "cell_type": "markdown",
   "metadata": {},
   "source": [
    "We have now faced the \"fixable\" missing values. Let's focus on the data types of each column, to ease the analysis later on."
   ]
  },
  {
   "cell_type": "code",
   "execution_count": 27,
   "metadata": {},
   "outputs": [
    {
     "name": "stdout",
     "output_type": "stream",
     "text": [
      "<class 'pandas.core.frame.DataFrame'>\n",
      "Int64Index: 51524 entries, 0 to 51524\n",
      "Data columns (total 13 columns):\n",
      "price           51524 non-null int64\n",
      "model_year      51524 non-null float64\n",
      "model           51524 non-null object\n",
      "condition       51524 non-null object\n",
      "cylinders       51524 non-null float64\n",
      "fuel            51524 non-null object\n",
      "odometer        51524 non-null float64\n",
      "transmission    51524 non-null object\n",
      "type            51524 non-null object\n",
      "paint_color     51524 non-null object\n",
      "is_4wd          51524 non-null float64\n",
      "date_posted     51524 non-null object\n",
      "days_listed     51524 non-null int64\n",
      "dtypes: float64(4), int64(2), object(7)\n",
      "memory usage: 5.5+ MB\n"
     ]
    }
   ],
   "source": [
    "data.info()"
   ]
  },
  {
   "cell_type": "code",
   "execution_count": 28,
   "metadata": {},
   "outputs": [],
   "source": [
    "data[\"model_year\"] = data[\"model_year\"].astype(\"int\")"
   ]
  },
  {
   "cell_type": "code",
   "execution_count": 29,
   "metadata": {},
   "outputs": [],
   "source": [
    "data[\"cylinders\"] = data[\"cylinders\"].astype(\"int\")"
   ]
  },
  {
   "cell_type": "code",
   "execution_count": 30,
   "metadata": {},
   "outputs": [],
   "source": [
    "data[\"odometer\"] = data[\"odometer\"].astype(\"int\")"
   ]
  },
  {
   "cell_type": "code",
   "execution_count": 31,
   "metadata": {},
   "outputs": [],
   "source": [
    "data[\"is_4wd\"] = data[\"is_4wd\"].astype(\"int\")"
   ]
  },
  {
   "cell_type": "code",
   "execution_count": 32,
   "metadata": {
    "scrolled": true
   },
   "outputs": [
    {
     "name": "stdout",
     "output_type": "stream",
     "text": [
      "<class 'pandas.core.frame.DataFrame'>\n",
      "Int64Index: 51524 entries, 0 to 51524\n",
      "Data columns (total 13 columns):\n",
      "price           51524 non-null int64\n",
      "model_year      51524 non-null int64\n",
      "model           51524 non-null object\n",
      "condition       51524 non-null object\n",
      "cylinders       51524 non-null int64\n",
      "fuel            51524 non-null object\n",
      "odometer        51524 non-null int64\n",
      "transmission    51524 non-null object\n",
      "type            51524 non-null object\n",
      "paint_color     51524 non-null object\n",
      "is_4wd          51524 non-null int64\n",
      "date_posted     51524 non-null object\n",
      "days_listed     51524 non-null int64\n",
      "dtypes: int64(6), object(7)\n",
      "memory usage: 5.5+ MB\n"
     ]
    }
   ],
   "source": [
    "data.info()"
   ]
  },
  {
   "cell_type": "code",
   "execution_count": 33,
   "metadata": {},
   "outputs": [
    {
     "data": {
      "text/plain": [
       "array([<class 'str'>], dtype=object)"
      ]
     },
     "execution_count": 33,
     "metadata": {},
     "output_type": "execute_result"
    }
   ],
   "source": [
    "data['model'].apply(type).unique()"
   ]
  },
  {
   "cell_type": "code",
   "execution_count": 34,
   "metadata": {},
   "outputs": [
    {
     "data": {
      "text/plain": [
       "array([<class 'str'>], dtype=object)"
      ]
     },
     "execution_count": 34,
     "metadata": {},
     "output_type": "execute_result"
    }
   ],
   "source": [
    "data['condition'].apply(type).unique()"
   ]
  },
  {
   "cell_type": "code",
   "execution_count": 35,
   "metadata": {},
   "outputs": [
    {
     "data": {
      "text/plain": [
       "array([<class 'str'>], dtype=object)"
      ]
     },
     "execution_count": 35,
     "metadata": {},
     "output_type": "execute_result"
    }
   ],
   "source": [
    "data['fuel'].apply(type).unique()"
   ]
  },
  {
   "cell_type": "code",
   "execution_count": 36,
   "metadata": {},
   "outputs": [
    {
     "data": {
      "text/plain": [
       "array([<class 'str'>], dtype=object)"
      ]
     },
     "execution_count": 36,
     "metadata": {},
     "output_type": "execute_result"
    }
   ],
   "source": [
    "data['transmission'].apply(type).unique()"
   ]
  },
  {
   "cell_type": "code",
   "execution_count": 37,
   "metadata": {},
   "outputs": [
    {
     "data": {
      "text/plain": [
       "array([<class 'str'>], dtype=object)"
      ]
     },
     "execution_count": 37,
     "metadata": {},
     "output_type": "execute_result"
    }
   ],
   "source": [
    "data['type'].apply(type).unique()"
   ]
  },
  {
   "cell_type": "code",
   "execution_count": 38,
   "metadata": {},
   "outputs": [
    {
     "data": {
      "text/plain": [
       "array([<class 'str'>], dtype=object)"
      ]
     },
     "execution_count": 38,
     "metadata": {},
     "output_type": "execute_result"
    }
   ],
   "source": [
    "data['paint_color'].apply(type).unique()"
   ]
  },
  {
   "cell_type": "code",
   "execution_count": 39,
   "metadata": {},
   "outputs": [
    {
     "data": {
      "text/plain": [
       "array([<class 'str'>], dtype=object)"
      ]
     },
     "execution_count": 39,
     "metadata": {},
     "output_type": "execute_result"
    }
   ],
   "source": [
    "data['date_posted'].apply(type).unique()"
   ]
  },
  {
   "cell_type": "markdown",
   "metadata": {},
   "source": [
    "All object columns seem to to have the appropiate data type (string) except for date_posted. It identifies as string, when it should be numeric. Let's see the format first and convert it."
   ]
  },
  {
   "cell_type": "code",
   "execution_count": 40,
   "metadata": {},
   "outputs": [
    {
     "data": {
      "text/plain": [
       "2019-03-17    186\n",
       "2019-01-05    184\n",
       "2018-09-20    178\n",
       "2019-03-11    176\n",
       "2018-10-09    174\n",
       "             ... \n",
       "2018-06-18    119\n",
       "2018-07-04    118\n",
       "2019-01-11    117\n",
       "2018-06-08    117\n",
       "2019-01-04    116\n",
       "Name: date_posted, Length: 354, dtype: int64"
      ]
     },
     "execution_count": 40,
     "metadata": {},
     "output_type": "execute_result"
    }
   ],
   "source": [
    "data[\"date_posted\"].value_counts()"
   ]
  },
  {
   "cell_type": "code",
   "execution_count": 41,
   "metadata": {},
   "outputs": [],
   "source": [
    "data['date_posted'] = pd.to_datetime(data[\"date_posted\"], format=\"%Y-%m-%d\")"
   ]
  },
  {
   "cell_type": "code",
   "execution_count": 42,
   "metadata": {},
   "outputs": [
    {
     "data": {
      "text/plain": [
       "array([<class 'pandas._libs.tslibs.timestamps.Timestamp'>], dtype=object)"
      ]
     },
     "execution_count": 42,
     "metadata": {},
     "output_type": "execute_result"
    }
   ],
   "source": [
    "data['date_posted'].apply(type).unique()"
   ]
  },
  {
   "cell_type": "code",
   "execution_count": 43,
   "metadata": {
    "scrolled": false
   },
   "outputs": [
    {
     "name": "stdout",
     "output_type": "stream",
     "text": [
      "<class 'pandas.core.frame.DataFrame'>\n",
      "Int64Index: 51524 entries, 0 to 51524\n",
      "Data columns (total 13 columns):\n",
      "price           51524 non-null int64\n",
      "model_year      51524 non-null int64\n",
      "model           51524 non-null object\n",
      "condition       51524 non-null object\n",
      "cylinders       51524 non-null int64\n",
      "fuel            51524 non-null object\n",
      "odometer        51524 non-null int64\n",
      "transmission    51524 non-null object\n",
      "type            51524 non-null object\n",
      "paint_color     51524 non-null object\n",
      "is_4wd          51524 non-null int64\n",
      "date_posted     51524 non-null datetime64[ns]\n",
      "days_listed     51524 non-null int64\n",
      "dtypes: datetime64[ns](1), int64(6), object(6)\n",
      "memory usage: 5.5+ MB\n"
     ]
    }
   ],
   "source": [
    "data.info()"
   ]
  },
  {
   "cell_type": "markdown",
   "metadata": {},
   "source": [
    "Great! now it is in date time format. The last step in this section is duplicates. Let's see if can find any, by first converting all string values to lower case."
   ]
  },
  {
   "cell_type": "code",
   "execution_count": 44,
   "metadata": {},
   "outputs": [],
   "source": [
    "data[\"model\"] = data[\"model\"].str.lower()"
   ]
  },
  {
   "cell_type": "code",
   "execution_count": 45,
   "metadata": {},
   "outputs": [],
   "source": [
    "data[\"condition\"] = data[\"condition\"].str.lower()"
   ]
  },
  {
   "cell_type": "code",
   "execution_count": 46,
   "metadata": {},
   "outputs": [],
   "source": [
    "data[\"fuel\"] = data[\"fuel\"].str.lower()"
   ]
  },
  {
   "cell_type": "code",
   "execution_count": 47,
   "metadata": {},
   "outputs": [],
   "source": [
    "data[\"type\"] = data[\"type\"].str.lower()"
   ]
  },
  {
   "cell_type": "code",
   "execution_count": 48,
   "metadata": {},
   "outputs": [],
   "source": [
    "data[\"paint_color\"] = data[\"paint_color\"].str.lower()"
   ]
  },
  {
   "cell_type": "code",
   "execution_count": 49,
   "metadata": {},
   "outputs": [
    {
     "name": "stdout",
     "output_type": "stream",
     "text": [
      "Duplicate entries in the table: 0\n"
     ]
    }
   ],
   "source": [
    "print('Duplicate entries in the table:', data.duplicated().sum())"
   ]
  },
  {
   "cell_type": "code",
   "execution_count": 50,
   "metadata": {},
   "outputs": [
    {
     "name": "stdout",
     "output_type": "stream",
     "text": [
      "<class 'pandas.core.frame.DataFrame'>\n",
      "Int64Index: 51524 entries, 0 to 51524\n",
      "Data columns (total 13 columns):\n",
      "price           51524 non-null int64\n",
      "model_year      51524 non-null int64\n",
      "model           51524 non-null object\n",
      "condition       51524 non-null object\n",
      "cylinders       51524 non-null int64\n",
      "fuel            51524 non-null object\n",
      "odometer        51524 non-null int64\n",
      "transmission    51524 non-null object\n",
      "type            51524 non-null object\n",
      "paint_color     51524 non-null object\n",
      "is_4wd          51524 non-null int64\n",
      "date_posted     51524 non-null datetime64[ns]\n",
      "days_listed     51524 non-null int64\n",
      "dtypes: datetime64[ns](1), int64(6), object(6)\n",
      "memory usage: 5.5+ MB\n"
     ]
    }
   ],
   "source": [
    "data.info()"
   ]
  },
  {
   "cell_type": "markdown",
   "metadata": {},
   "source": [
    "In this section, we have identified how many missing values are in every parameter of the dataset. Based on the value type (quantitative or qualitative), and the overall dataset, we replaced the missing values with medians, mean, or most common value, some times based on another parameter (model year for example). The ultimate goal is to make the dataset ready to analyze, but also using a logical approach to missing values. \n",
    "\n",
    "We have also adjusted the data types, mostly converting float values to integers, and dates to date time type.\n",
    "\n",
    "As per **duplicates**, we converted all strings into lower case to ease the search, but no duplicates were found."
   ]
  },
  {
   "cell_type": "markdown",
   "metadata": {},
   "source": [
    "## Step 3. Make calculations and add them to the table <a class=\"anchor\" id=\"chapter3\"></a>"
   ]
  },
  {
   "cell_type": "markdown",
   "metadata": {},
   "source": [
    "The date in which an ad is posted can be a strong influence in the price. To make our life easier in the analysis, let's narrow the date into day of the week, month and year, each in a new column."
   ]
  },
  {
   "cell_type": "code",
   "execution_count": 51,
   "metadata": {},
   "outputs": [],
   "source": [
    "data[\"month_posted\"] = pd.DatetimeIndex(data[\"date_posted\"]).month"
   ]
  },
  {
   "cell_type": "code",
   "execution_count": 52,
   "metadata": {},
   "outputs": [
    {
     "data": {
      "text/plain": [
       "10    4643\n",
       "12    4564\n",
       "3     4559\n",
       "5     4503\n",
       "8     4480\n",
       "7     4471\n",
       "9     4452\n",
       "1     4452\n",
       "11    4353\n",
       "6     4216\n",
       "2     4014\n",
       "4     2817\n",
       "Name: month_posted, dtype: int64"
      ]
     },
     "execution_count": 52,
     "metadata": {},
     "output_type": "execute_result"
    }
   ],
   "source": [
    "data[\"month_posted\"].value_counts()"
   ]
  },
  {
   "cell_type": "code",
   "execution_count": 53,
   "metadata": {},
   "outputs": [],
   "source": [
    "data[\"day_posted\"] = pd.DatetimeIndex(data[\"date_posted\"]).dayofweek"
   ]
  },
  {
   "cell_type": "code",
   "execution_count": 54,
   "metadata": {},
   "outputs": [
    {
     "data": {
      "text/plain": [
       "3    7510\n",
       "5    7392\n",
       "6    7355\n",
       "0    7339\n",
       "4    7334\n",
       "2    7299\n",
       "1    7295\n",
       "Name: day_posted, dtype: int64"
      ]
     },
     "execution_count": 54,
     "metadata": {},
     "output_type": "execute_result"
    }
   ],
   "source": [
    "data[\"day_posted\"].value_counts()"
   ]
  },
  {
   "cell_type": "code",
   "execution_count": 55,
   "metadata": {},
   "outputs": [],
   "source": [
    "data[\"year_posted\"] = pd.DatetimeIndex(data[\"date_posted\"]).year"
   ]
  },
  {
   "cell_type": "code",
   "execution_count": 56,
   "metadata": {
    "scrolled": true
   },
   "outputs": [
    {
     "data": {
      "text/plain": [
       "2018    35682\n",
       "2019    15842\n",
       "Name: year_posted, dtype: int64"
      ]
     },
     "execution_count": 56,
     "metadata": {},
     "output_type": "execute_result"
    }
   ],
   "source": [
    "data[\"year_posted\"].value_counts()"
   ]
  },
  {
   "cell_type": "code",
   "execution_count": 57,
   "metadata": {},
   "outputs": [
    {
     "name": "stdout",
     "output_type": "stream",
     "text": [
      "<class 'pandas.core.frame.DataFrame'>\n",
      "Int64Index: 51524 entries, 0 to 51524\n",
      "Data columns (total 16 columns):\n",
      "price           51524 non-null int64\n",
      "model_year      51524 non-null int64\n",
      "model           51524 non-null object\n",
      "condition       51524 non-null object\n",
      "cylinders       51524 non-null int64\n",
      "fuel            51524 non-null object\n",
      "odometer        51524 non-null int64\n",
      "transmission    51524 non-null object\n",
      "type            51524 non-null object\n",
      "paint_color     51524 non-null object\n",
      "is_4wd          51524 non-null int64\n",
      "date_posted     51524 non-null datetime64[ns]\n",
      "days_listed     51524 non-null int64\n",
      "month_posted    51524 non-null int64\n",
      "day_posted      51524 non-null int64\n",
      "year_posted     51524 non-null int64\n",
      "dtypes: datetime64[ns](1), int64(9), object(6)\n",
      "memory usage: 6.7+ MB\n"
     ]
    }
   ],
   "source": [
    "data.info()"
   ]
  },
  {
   "cell_type": "markdown",
   "metadata": {},
   "source": [
    "We have now created 3 additional columns in this dataset, based on the date_posted column: which day of the week it was posted (0 being Monday and 6 Sunday), month and year."
   ]
  },
  {
   "cell_type": "markdown",
   "metadata": {},
   "source": [
    "Just like most goods, it is very important to know how old or new a vehicle is. Let's add a column with the age (in years):"
   ]
  },
  {
   "cell_type": "code",
   "execution_count": 58,
   "metadata": {},
   "outputs": [],
   "source": [
    "data[\"age\"] = data[\"year_posted\"] - data[\"model_year\"]"
   ]
  },
  {
   "cell_type": "code",
   "execution_count": 59,
   "metadata": {},
   "outputs": [
    {
     "data": {
      "text/plain": [
       "5     4008\n",
       "4     3917\n",
       "6     3853\n",
       "7     3733\n",
       "3     3503\n",
       "      ... \n",
       "43       1\n",
       "82       1\n",
       "65       1\n",
       "59       1\n",
       "63       1\n",
       "Name: age, Length: 67, dtype: int64"
      ]
     },
     "execution_count": 59,
     "metadata": {},
     "output_type": "execute_result"
    }
   ],
   "source": [
    "data[\"age\"].value_counts()"
   ]
  },
  {
   "cell_type": "markdown",
   "metadata": {},
   "source": [
    "With vehicles it is also important to take into account the mileage; a 5 year old car with only 1000 miles could be in much better condition than a 2 year old car with 3000 miles for example. \n",
    "We see in the age column that some values have 0 years. This will lead to an error when dividing mileage/year, so we will change the 0 values for 1, since the car is technically in its first year of life."
   ]
  },
  {
   "cell_type": "code",
   "execution_count": 60,
   "metadata": {},
   "outputs": [],
   "source": [
    "data.loc[data[\"age\"] == 0, \"age\"] = 1"
   ]
  },
  {
   "cell_type": "code",
   "execution_count": 61,
   "metadata": {},
   "outputs": [
    {
     "data": {
      "text/plain": [
       "1     4351\n",
       "5     4008\n",
       "4     3917\n",
       "6     3853\n",
       "7     3733\n",
       "      ... \n",
       "43       1\n",
       "82       1\n",
       "65       1\n",
       "59       1\n",
       "63       1\n",
       "Name: age, Length: 66, dtype: int64"
      ]
     },
     "execution_count": 61,
     "metadata": {},
     "output_type": "execute_result"
    }
   ],
   "source": [
    "data[\"age\"].value_counts()"
   ]
  },
  {
   "cell_type": "code",
   "execution_count": 62,
   "metadata": {},
   "outputs": [],
   "source": [
    "data[\"mileage_peryear\"] = data[\"odometer\"] / data[\"age\"]"
   ]
  },
  {
   "cell_type": "code",
   "execution_count": 63,
   "metadata": {},
   "outputs": [
    {
     "name": "stdout",
     "output_type": "stream",
     "text": [
      "<class 'pandas.core.frame.DataFrame'>\n",
      "Int64Index: 51524 entries, 0 to 51524\n",
      "Data columns (total 18 columns):\n",
      "price              51524 non-null int64\n",
      "model_year         51524 non-null int64\n",
      "model              51524 non-null object\n",
      "condition          51524 non-null object\n",
      "cylinders          51524 non-null int64\n",
      "fuel               51524 non-null object\n",
      "odometer           51524 non-null int64\n",
      "transmission       51524 non-null object\n",
      "type               51524 non-null object\n",
      "paint_color        51524 non-null object\n",
      "is_4wd             51524 non-null int64\n",
      "date_posted        51524 non-null datetime64[ns]\n",
      "days_listed        51524 non-null int64\n",
      "month_posted       51524 non-null int64\n",
      "day_posted         51524 non-null int64\n",
      "year_posted        51524 non-null int64\n",
      "age                51524 non-null int64\n",
      "mileage_peryear    51524 non-null float64\n",
      "dtypes: datetime64[ns](1), float64(1), int64(10), object(6)\n",
      "memory usage: 7.5+ MB\n"
     ]
    }
   ],
   "source": [
    "data.info()"
   ]
  },
  {
   "cell_type": "code",
   "execution_count": 64,
   "metadata": {},
   "outputs": [],
   "source": [
    "data[\"mileage_peryear\"] = data[\"mileage_peryear\"].astype(\"int\")"
   ]
  },
  {
   "cell_type": "markdown",
   "metadata": {},
   "source": [
    "Lastly, let's replace the condition column to a string, so it is easier to read."
   ]
  },
  {
   "cell_type": "code",
   "execution_count": 65,
   "metadata": {},
   "outputs": [],
   "source": [
    "for value in data[\"condition\"]:\n",
    "    if value == 0:\n",
    "        print(\"salvage\")\n",
    "    if value == 1:\n",
    "        print(\"fair\")\n",
    "    if value == 2:\n",
    "        print(\"good\")\n",
    "    if value == 3:\n",
    "        print(\"excellent\")\n",
    "    if value == 4:\n",
    "        print(\"like new\")\n",
    "    if value == 5:\n",
    "        print(\"new\")"
   ]
  },
  {
   "cell_type": "code",
   "execution_count": 66,
   "metadata": {},
   "outputs": [
    {
     "data": {
      "text/plain": [
       "excellent    24773\n",
       "good         20144\n",
       "like new      4742\n",
       "fair          1607\n",
       "new            143\n",
       "salvage        115\n",
       "Name: condition, dtype: int64"
      ]
     },
     "execution_count": 66,
     "metadata": {},
     "output_type": "execute_result"
    }
   ],
   "source": [
    "data[\"condition\"].value_counts()"
   ]
  },
  {
   "cell_type": "markdown",
   "metadata": {},
   "source": [
    "**Conclusion**\n",
    "\n",
    "In this section we have \"extended\" some of the data in the parameters. In other to calculate the age of a vehicle, we have split the date the ad was posted into year, month and day. We have also used the age parameter to calculate the average mileage per year each vehicle has. \n",
    "\n",
    "Lastly, we converted the condition into string keywords, to make it easier to understand the categorization of the vehicle."
   ]
  },
  {
   "cell_type": "markdown",
   "metadata": {},
   "source": [
    "## Step 4. Carry out exploratory data analysis <a class=\"anchor\" id=\"chapter4\"></a>"
   ]
  },
  {
   "cell_type": "markdown",
   "metadata": {},
   "source": [
    "The dataset is finally ready to analyze. Let's begin by having a clear idea of each parameter. Let's use describe method to have the current stats handy."
   ]
  },
  {
   "cell_type": "code",
   "execution_count": 67,
   "metadata": {},
   "outputs": [
    {
     "data": {
      "text/html": [
       "<div>\n",
       "<style scoped>\n",
       "    .dataframe tbody tr th:only-of-type {\n",
       "        vertical-align: middle;\n",
       "    }\n",
       "\n",
       "    .dataframe tbody tr th {\n",
       "        vertical-align: top;\n",
       "    }\n",
       "\n",
       "    .dataframe thead th {\n",
       "        text-align: right;\n",
       "    }\n",
       "</style>\n",
       "<table border=\"1\" class=\"dataframe\">\n",
       "  <thead>\n",
       "    <tr style=\"text-align: right;\">\n",
       "      <th></th>\n",
       "      <th>price</th>\n",
       "      <th>model_year</th>\n",
       "      <th>cylinders</th>\n",
       "      <th>odometer</th>\n",
       "      <th>is_4wd</th>\n",
       "      <th>days_listed</th>\n",
       "      <th>month_posted</th>\n",
       "      <th>day_posted</th>\n",
       "      <th>year_posted</th>\n",
       "      <th>age</th>\n",
       "      <th>mileage_peryear</th>\n",
       "    </tr>\n",
       "  </thead>\n",
       "  <tbody>\n",
       "    <tr>\n",
       "      <td>count</td>\n",
       "      <td>51524.00000</td>\n",
       "      <td>51524.000000</td>\n",
       "      <td>51524.000000</td>\n",
       "      <td>51524.000000</td>\n",
       "      <td>51524.000000</td>\n",
       "      <td>51524.000000</td>\n",
       "      <td>51524.000000</td>\n",
       "      <td>51524.000000</td>\n",
       "      <td>51524.000000</td>\n",
       "      <td>51524.000000</td>\n",
       "      <td>51524.000000</td>\n",
       "    </tr>\n",
       "    <tr>\n",
       "      <td>mean</td>\n",
       "      <td>12132.35104</td>\n",
       "      <td>2009.872603</td>\n",
       "      <td>6.121031</td>\n",
       "      <td>115129.388576</td>\n",
       "      <td>0.496312</td>\n",
       "      <td>39.554382</td>\n",
       "      <td>6.628406</td>\n",
       "      <td>3.005376</td>\n",
       "      <td>2018.307468</td>\n",
       "      <td>8.477137</td>\n",
       "      <td>18184.378270</td>\n",
       "    </tr>\n",
       "    <tr>\n",
       "      <td>std</td>\n",
       "      <td>10040.86718</td>\n",
       "      <td>6.134806</td>\n",
       "      <td>1.657452</td>\n",
       "      <td>62084.246037</td>\n",
       "      <td>0.499991</td>\n",
       "      <td>28.204413</td>\n",
       "      <td>3.474115</td>\n",
       "      <td>1.997735</td>\n",
       "      <td>0.461450</td>\n",
       "      <td>6.093387</td>\n",
       "      <td>13256.991489</td>\n",
       "    </tr>\n",
       "    <tr>\n",
       "      <td>min</td>\n",
       "      <td>1.00000</td>\n",
       "      <td>1908.000000</td>\n",
       "      <td>3.000000</td>\n",
       "      <td>0.000000</td>\n",
       "      <td>0.000000</td>\n",
       "      <td>0.000000</td>\n",
       "      <td>1.000000</td>\n",
       "      <td>0.000000</td>\n",
       "      <td>2018.000000</td>\n",
       "      <td>1.000000</td>\n",
       "      <td>0.000000</td>\n",
       "    </tr>\n",
       "    <tr>\n",
       "      <td>25%</td>\n",
       "      <td>5000.00000</td>\n",
       "      <td>2007.000000</td>\n",
       "      <td>4.000000</td>\n",
       "      <td>73289.000000</td>\n",
       "      <td>0.000000</td>\n",
       "      <td>19.000000</td>\n",
       "      <td>3.000000</td>\n",
       "      <td>1.000000</td>\n",
       "      <td>2018.000000</td>\n",
       "      <td>4.000000</td>\n",
       "      <td>10918.000000</td>\n",
       "    </tr>\n",
       "    <tr>\n",
       "      <td>50%</td>\n",
       "      <td>9000.00000</td>\n",
       "      <td>2011.000000</td>\n",
       "      <td>6.000000</td>\n",
       "      <td>113683.000000</td>\n",
       "      <td>0.000000</td>\n",
       "      <td>33.000000</td>\n",
       "      <td>7.000000</td>\n",
       "      <td>3.000000</td>\n",
       "      <td>2018.000000</td>\n",
       "      <td>7.000000</td>\n",
       "      <td>15360.000000</td>\n",
       "    </tr>\n",
       "    <tr>\n",
       "      <td>75%</td>\n",
       "      <td>16836.00000</td>\n",
       "      <td>2014.000000</td>\n",
       "      <td>8.000000</td>\n",
       "      <td>152735.750000</td>\n",
       "      <td>1.000000</td>\n",
       "      <td>53.000000</td>\n",
       "      <td>10.000000</td>\n",
       "      <td>5.000000</td>\n",
       "      <td>2019.000000</td>\n",
       "      <td>12.000000</td>\n",
       "      <td>21500.000000</td>\n",
       "    </tr>\n",
       "    <tr>\n",
       "      <td>max</td>\n",
       "      <td>375000.00000</td>\n",
       "      <td>2019.000000</td>\n",
       "      <td>12.000000</td>\n",
       "      <td>990000.000000</td>\n",
       "      <td>1.000000</td>\n",
       "      <td>271.000000</td>\n",
       "      <td>12.000000</td>\n",
       "      <td>6.000000</td>\n",
       "      <td>2019.000000</td>\n",
       "      <td>110.000000</td>\n",
       "      <td>373200.000000</td>\n",
       "    </tr>\n",
       "  </tbody>\n",
       "</table>\n",
       "</div>"
      ],
      "text/plain": [
       "              price    model_year     cylinders       odometer        is_4wd  \\\n",
       "count   51524.00000  51524.000000  51524.000000   51524.000000  51524.000000   \n",
       "mean    12132.35104   2009.872603      6.121031  115129.388576      0.496312   \n",
       "std     10040.86718      6.134806      1.657452   62084.246037      0.499991   \n",
       "min         1.00000   1908.000000      3.000000       0.000000      0.000000   \n",
       "25%      5000.00000   2007.000000      4.000000   73289.000000      0.000000   \n",
       "50%      9000.00000   2011.000000      6.000000  113683.000000      0.000000   \n",
       "75%     16836.00000   2014.000000      8.000000  152735.750000      1.000000   \n",
       "max    375000.00000   2019.000000     12.000000  990000.000000      1.000000   \n",
       "\n",
       "        days_listed  month_posted    day_posted   year_posted           age  \\\n",
       "count  51524.000000  51524.000000  51524.000000  51524.000000  51524.000000   \n",
       "mean      39.554382      6.628406      3.005376   2018.307468      8.477137   \n",
       "std       28.204413      3.474115      1.997735      0.461450      6.093387   \n",
       "min        0.000000      1.000000      0.000000   2018.000000      1.000000   \n",
       "25%       19.000000      3.000000      1.000000   2018.000000      4.000000   \n",
       "50%       33.000000      7.000000      3.000000   2018.000000      7.000000   \n",
       "75%       53.000000     10.000000      5.000000   2019.000000     12.000000   \n",
       "max      271.000000     12.000000      6.000000   2019.000000    110.000000   \n",
       "\n",
       "       mileage_peryear  \n",
       "count     51524.000000  \n",
       "mean      18184.378270  \n",
       "std       13256.991489  \n",
       "min           0.000000  \n",
       "25%       10918.000000  \n",
       "50%       15360.000000  \n",
       "75%       21500.000000  \n",
       "max      373200.000000  "
      ]
     },
     "execution_count": 67,
     "metadata": {},
     "output_type": "execute_result"
    }
   ],
   "source": [
    "data.describe()"
   ]
  },
  {
   "cell_type": "markdown",
   "metadata": {},
   "source": [
    "### DATA Histograms <a class=\"anchor\" id=\"chapter4.1\"></a>"
   ]
  },
  {
   "cell_type": "markdown",
   "metadata": {},
   "source": [
    "**PRICE** "
   ]
  },
  {
   "cell_type": "code",
   "execution_count": 68,
   "metadata": {},
   "outputs": [
    {
     "data": {
      "text/plain": [
       "Text(0, 0.5, 'Count')"
      ]
     },
     "execution_count": 68,
     "metadata": {},
     "output_type": "execute_result"
    },
    {
     "data": {
      "image/png": "[encoded data removed]",
      "text/plain": [
       "<Figure size 432x288 with 1 Axes>"
      ]
     },
     "metadata": {
      "needs_background": "light"
     },
     "output_type": "display_data"
    }
   ],
   "source": [
    "data['price'].hist(bins=30, range=(0, 375000));\n",
    "plt.title(\"Price\")\n",
    "plt.xlabel(\"Price\")\n",
    "plt.ylabel(\"Count\")"
   ]
  },
  {
   "cell_type": "markdown",
   "metadata": {},
   "source": [
    "We see a big amount of vehicles with a price between 0 and 50k. Then why is the x axis displaying until 350000? If we have a look at the describe method output above, we see that the maximum price is 350,000. This is definitely an outlier, and perhaps there will be a lot more. Let's make a bookmark on this to investigate later. "
   ]
  },
  {
   "cell_type": "markdown",
   "metadata": {},
   "source": [
    "**VEHICLE'S AGE WHEN AD WAS POSTED**"
   ]
  },
  {
   "cell_type": "code",
   "execution_count": 69,
   "metadata": {},
   "outputs": [
    {
     "data": {
      "text/plain": [
       "Text(0, 0.5, 'Count')"
      ]
     },
     "execution_count": 69,
     "metadata": {},
     "output_type": "execute_result"
    },
    {
     "data": {
      "image/png": "[encoded data removed]",
      "text/plain": [
       "<Figure size 432x288 with 1 Axes>"
      ]
     },
     "metadata": {
      "needs_background": "light"
     },
     "output_type": "display_data"
    }
   ],
   "source": [
    "data['age'].hist(bins=30);\n",
    "plt.title(\"Vehicle's age when ad was posted\")\n",
    "plt.xlabel(\"Age (in years)\")\n",
    "plt.ylabel(\"Count\")"
   ]
  },
  {
   "cell_type": "markdown",
   "metadata": {},
   "source": [
    "The bars range from 1 (remember we replaced all vehicles with \"0\" age to 1 year) all the way to 110 years! It is quite hard to believe such old cars are being posted for sale in a website. We will have to analyze the outliers here as well. "
   ]
  },
  {
   "cell_type": "markdown",
   "metadata": {},
   "source": [
    "**ODOMETER**"
   ]
  },
  {
   "cell_type": "code",
   "execution_count": 70,
   "metadata": {},
   "outputs": [
    {
     "data": {
      "text/plain": [
       "Text(0, 0.5, 'Count')"
      ]
     },
     "execution_count": 70,
     "metadata": {},
     "output_type": "execute_result"
    },
    {
     "data": {
      "image/png": "[encoded data removed]",
      "text/plain": [
       "<Figure size 432x288 with 1 Axes>"
      ]
     },
     "metadata": {
      "needs_background": "light"
     },
     "output_type": "display_data"
    }
   ],
   "source": [
    "data['odometer'].hist(bins=30);\n",
    "plt.title(\"Odometer\")\n",
    "plt.xlabel(\"Mileage\")\n",
    "plt.ylabel(\"Count\")"
   ]
  },
  {
   "cell_type": "markdown",
   "metadata": {},
   "source": [
    "Something similar happens here. At plain sight, we can see that most vehicles have between 0 and 400000 miles. However, the histogram's x axis goes all the way to 1 million miles! "
   ]
  },
  {
   "cell_type": "code",
   "execution_count": 71,
   "metadata": {},
   "outputs": [
    {
     "data": {
      "text/plain": [
       "Text(0, 0.5, 'Count')"
      ]
     },
     "execution_count": 71,
     "metadata": {},
     "output_type": "execute_result"
    },
    {
     "data": {
      "image/png": "[encoded data removed]",
      "text/plain": [
       "<Figure size 432x288 with 1 Axes>"
      ]
     },
     "metadata": {
      "needs_background": "light"
     },
     "output_type": "display_data"
    }
   ],
   "source": [
    "data['condition'].value_counts().plot(kind='bar');\n",
    "\n",
    "plt.title(\"Vehicle Conditions\")\n",
    "plt.xlabel(\"Conditions\")\n",
    "plt.ylabel(\"Count\")"
   ]
  },
  {
   "cell_type": "markdown",
   "metadata": {},
   "source": [
    "**Conclusion**"
   ]
  },
  {
   "cell_type": "markdown",
   "metadata": {},
   "source": [
    "Numerical parameters' histograms are not very readable due to the outliers in each of them. We will need to approach this in order to have access to data visualization more in detail. Let's filter the data, and store the outliers else where for now."
   ]
  },
  {
   "cell_type": "markdown",
   "metadata": {},
   "source": [
    "### Outliers <a class=\"anchor\" id=\"chapter4.2\"></a>"
   ]
  },
  {
   "cell_type": "markdown",
   "metadata": {},
   "source": [
    "**PRICE**"
   ]
  },
  {
   "cell_type": "code",
   "execution_count": 72,
   "metadata": {},
   "outputs": [
    {
     "data": {
      "text/plain": [
       "(-500, 50000)"
      ]
     },
     "execution_count": 72,
     "metadata": {},
     "output_type": "execute_result"
    },
    {
     "data": {
      "image/png": "[encoded data removed]",
      "text/plain": [
       "<Figure size 432x288 with 1 Axes>"
      ]
     },
     "metadata": {
      "needs_background": "light"
     },
     "output_type": "display_data"
    }
   ],
   "source": [
    "data.boxplot(column='price', return_type='axes')\n",
    "plt.ylim(-500, 50000)"
   ]
  },
  {
   "cell_type": "code",
   "execution_count": 73,
   "metadata": {},
   "outputs": [],
   "source": [
    "Q1_price = data['price'].quantile(0.25)\n",
    "Q3_price = data['price'].quantile(0.75)\n",
    "IQR_price = Q3_price - Q1_price"
   ]
  },
  {
   "cell_type": "code",
   "execution_count": 74,
   "metadata": {},
   "outputs": [
    {
     "data": {
      "text/plain": [
       "34590.0"
      ]
     },
     "execution_count": 74,
     "metadata": {},
     "output_type": "execute_result"
    }
   ],
   "source": [
    "Q3_price+1.5*IQR_price"
   ]
  },
  {
   "cell_type": "markdown",
   "metadata": {},
   "source": [
    "We have found the price, above which outliers are held. We keep this number for now, and once we know the outliers limit from each numerical column, we will create a new table with the filtered data (without outliers), new_data."
   ]
  },
  {
   "cell_type": "markdown",
   "metadata": {},
   "source": [
    "**AGE**"
   ]
  },
  {
   "cell_type": "code",
   "execution_count": 75,
   "metadata": {},
   "outputs": [
    {
     "data": {
      "text/plain": [
       "(-10, 50)"
      ]
     },
     "execution_count": 75,
     "metadata": {},
     "output_type": "execute_result"
    },
    {
     "data": {
      "image/png": "[encoded data removed]",
      "text/plain": [
       "<Figure size 432x288 with 1 Axes>"
      ]
     },
     "metadata": {
      "needs_background": "light"
     },
     "output_type": "display_data"
    }
   ],
   "source": [
    "data.boxplot(column='age', return_type='axes')\n",
    "plt.ylim(-10, 50)"
   ]
  },
  {
   "cell_type": "code",
   "execution_count": 76,
   "metadata": {},
   "outputs": [
    {
     "data": {
      "text/plain": [
       "24.0"
      ]
     },
     "execution_count": 76,
     "metadata": {},
     "output_type": "execute_result"
    }
   ],
   "source": [
    "Q1_age = data['age'].quantile(0.25)\n",
    "Q3_age = data['age'].quantile(0.75)\n",
    "IQR_age = Q3_age - Q1_age\n",
    "Q3_age+1.5*IQR_age"
   ]
  },
  {
   "cell_type": "markdown",
   "metadata": {},
   "source": [
    "In this case, all vehicles that are older than 24 are outliers. Let's put the non-outliers to the new_data dataset."
   ]
  },
  {
   "cell_type": "markdown",
   "metadata": {},
   "source": [
    "**MODEL YEAR**"
   ]
  },
  {
   "cell_type": "code",
   "execution_count": 77,
   "metadata": {},
   "outputs": [
    {
     "data": {
      "image/png": "[encoded data removed]",
      "text/plain": [
       "<Figure size 432x288 with 1 Axes>"
      ]
     },
     "metadata": {
      "needs_background": "light"
     },
     "output_type": "display_data"
    }
   ],
   "source": [
    "data.boxplot(column='model_year', return_type='axes');"
   ]
  },
  {
   "cell_type": "code",
   "execution_count": 78,
   "metadata": {},
   "outputs": [
    {
     "data": {
      "text/plain": [
       "1996.5"
      ]
     },
     "execution_count": 78,
     "metadata": {},
     "output_type": "execute_result"
    }
   ],
   "source": [
    "Q1_model_year = data['model_year'].quantile(0.25)\n",
    "Q3_model_year = data['model_year'].quantile(0.75)\n",
    "IQR_model_year = Q3_model_year - Q1_model_year\n",
    "Q1_model_year-1.5*IQR_model_year"
   ]
  },
  {
   "cell_type": "markdown",
   "metadata": {},
   "source": [
    "Model_year outliers are < 1996"
   ]
  },
  {
   "cell_type": "markdown",
   "metadata": {},
   "source": [
    "**CYLINDER**"
   ]
  },
  {
   "cell_type": "code",
   "execution_count": 79,
   "metadata": {},
   "outputs": [
    {
     "data": {
      "image/png": "[encoded data removed]",
      "text/plain": [
       "<Figure size 432x288 with 1 Axes>"
      ]
     },
     "metadata": {
      "needs_background": "light"
     },
     "output_type": "display_data"
    }
   ],
   "source": [
    "data.boxplot(column='cylinders', return_type='axes');"
   ]
  },
  {
   "cell_type": "markdown",
   "metadata": {},
   "source": [
    "No outliers here, as expected."
   ]
  },
  {
   "cell_type": "markdown",
   "metadata": {},
   "source": [
    "**ODOMETER**"
   ]
  },
  {
   "cell_type": "code",
   "execution_count": 80,
   "metadata": {},
   "outputs": [
    {
     "data": {
      "image/png": "[encoded data removed]",
      "text/plain": [
       "<Figure size 432x288 with 1 Axes>"
      ]
     },
     "metadata": {
      "needs_background": "light"
     },
     "output_type": "display_data"
    }
   ],
   "source": [
    "data.boxplot(column='odometer', return_type='axes');"
   ]
  },
  {
   "cell_type": "code",
   "execution_count": 81,
   "metadata": {},
   "outputs": [
    {
     "data": {
      "text/plain": [
       "271905.875"
      ]
     },
     "execution_count": 81,
     "metadata": {},
     "output_type": "execute_result"
    }
   ],
   "source": [
    "Q1_odometer = data['odometer'].quantile(0.25)\n",
    "Q3_odometer = data['odometer'].quantile(0.75)\n",
    "IQR_odometer = Q3_odometer - Q1_odometer\n",
    "Q3_odometer+1.5*IQR_odometer"
   ]
  },
  {
   "cell_type": "markdown",
   "metadata": {},
   "source": [
    "Odometer with > 271905.875 miles are outliers."
   ]
  },
  {
   "cell_type": "markdown",
   "metadata": {},
   "source": [
    "**DAYS LISTED**"
   ]
  },
  {
   "cell_type": "code",
   "execution_count": 82,
   "metadata": {},
   "outputs": [
    {
     "data": {
      "image/png": "[encoded data removed]",
      "text/plain": [
       "<Figure size 432x288 with 1 Axes>"
      ]
     },
     "metadata": {
      "needs_background": "light"
     },
     "output_type": "display_data"
    }
   ],
   "source": [
    "data.boxplot(column='days_listed', return_type='axes');"
   ]
  },
  {
   "cell_type": "code",
   "execution_count": 83,
   "metadata": {},
   "outputs": [
    {
     "data": {
      "text/plain": [
       "104.0"
      ]
     },
     "execution_count": 83,
     "metadata": {},
     "output_type": "execute_result"
    }
   ],
   "source": [
    "Q1_days_listed = data['days_listed'].quantile(0.25)\n",
    "Q3_days_listed = data['days_listed'].quantile(0.75)\n",
    "IQR_days_listed = Q3_days_listed - Q1_days_listed\n",
    "Q3_days_listed+1.5*IQR_days_listed"
   ]
  },
  {
   "cell_type": "markdown",
   "metadata": {},
   "source": [
    "All vehicles advertised for more than 104 days are outliers"
   ]
  },
  {
   "cell_type": "markdown",
   "metadata": {},
   "source": [
    "**MILEAGE PER YEAR**"
   ]
  },
  {
   "cell_type": "code",
   "execution_count": 84,
   "metadata": {
    "scrolled": true
   },
   "outputs": [
    {
     "data": {
      "image/png": "[encoded data removed]",
      "text/plain": [
       "<Figure size 432x288 with 1 Axes>"
      ]
     },
     "metadata": {
      "needs_background": "light"
     },
     "output_type": "display_data"
    }
   ],
   "source": [
    "data.boxplot(column='mileage_peryear', return_type='axes');\n"
   ]
  },
  {
   "cell_type": "code",
   "execution_count": 85,
   "metadata": {},
   "outputs": [
    {
     "data": {
      "text/plain": [
       "37373.0"
      ]
     },
     "execution_count": 85,
     "metadata": {},
     "output_type": "execute_result"
    }
   ],
   "source": [
    "Q1_mileage_peryear = data['mileage_peryear'].quantile(0.25)\n",
    "Q3_mileage_peryear = data['mileage_peryear'].quantile(0.75)\n",
    "IQR_mileage_peryear = Q3_mileage_peryear - Q1_mileage_peryear\n",
    "Q3_mileage_peryear+1.5*IQR_mileage_peryear"
   ]
  },
  {
   "cell_type": "markdown",
   "metadata": {},
   "source": [
    "Those vehicles with a mileage per year of over 37373 are outliers."
   ]
  },
  {
   "cell_type": "markdown",
   "metadata": {},
   "source": [
    "Now that we have found the limit that defines the outliers in the columns, let's create the new_data dataframe to store the filtered data."
   ]
  },
  {
   "cell_type": "code",
   "execution_count": 86,
   "metadata": {},
   "outputs": [],
   "source": [
    "new_data = data.query(\"age < 24 and price < 34590 and model_year > 1996 and odometer < 271905.875 and days_listed < 104 and mileage_peryear < 37373\")"
   ]
  },
  {
   "cell_type": "code",
   "execution_count": 87,
   "metadata": {},
   "outputs": [
    {
     "data": {
      "text/html": [
       "<div>\n",
       "<style scoped>\n",
       "    .dataframe tbody tr th:only-of-type {\n",
       "        vertical-align: middle;\n",
       "    }\n",
       "\n",
       "    .dataframe tbody tr th {\n",
       "        vertical-align: top;\n",
       "    }\n",
       "\n",
       "    .dataframe thead th {\n",
       "        text-align: right;\n",
       "    }\n",
       "</style>\n",
       "<table border=\"1\" class=\"dataframe\">\n",
       "  <thead>\n",
       "    <tr style=\"text-align: right;\">\n",
       "      <th></th>\n",
       "      <th>price</th>\n",
       "      <th>model_year</th>\n",
       "      <th>cylinders</th>\n",
       "      <th>odometer</th>\n",
       "      <th>is_4wd</th>\n",
       "      <th>days_listed</th>\n",
       "      <th>month_posted</th>\n",
       "      <th>day_posted</th>\n",
       "      <th>year_posted</th>\n",
       "      <th>age</th>\n",
       "      <th>mileage_peryear</th>\n",
       "    </tr>\n",
       "  </thead>\n",
       "  <tbody>\n",
       "    <tr>\n",
       "      <td>count</td>\n",
       "      <td>43618.000000</td>\n",
       "      <td>43618.000000</td>\n",
       "      <td>43618.000000</td>\n",
       "      <td>43618.000000</td>\n",
       "      <td>43618.000000</td>\n",
       "      <td>43618.000000</td>\n",
       "      <td>43618.000000</td>\n",
       "      <td>43618.000000</td>\n",
       "      <td>43618.000000</td>\n",
       "      <td>43618.000000</td>\n",
       "      <td>43618.000000</td>\n",
       "    </tr>\n",
       "    <tr>\n",
       "      <td>mean</td>\n",
       "      <td>10965.647875</td>\n",
       "      <td>2009.873836</td>\n",
       "      <td>6.052364</td>\n",
       "      <td>114970.862901</td>\n",
       "      <td>0.484594</td>\n",
       "      <td>36.543216</td>\n",
       "      <td>6.563689</td>\n",
       "      <td>3.003278</td>\n",
       "      <td>2018.317507</td>\n",
       "      <td>8.473887</td>\n",
       "      <td>15833.641226</td>\n",
       "    </tr>\n",
       "    <tr>\n",
       "      <td>std</td>\n",
       "      <td>7695.994593</td>\n",
       "      <td>4.832017</td>\n",
       "      <td>1.648075</td>\n",
       "      <td>55763.521366</td>\n",
       "      <td>0.499768</td>\n",
       "      <td>23.009445</td>\n",
       "      <td>3.487865</td>\n",
       "      <td>1.996561</td>\n",
       "      <td>0.465512</td>\n",
       "      <td>4.784655</td>\n",
       "      <td>7237.342898</td>\n",
       "    </tr>\n",
       "    <tr>\n",
       "      <td>min</td>\n",
       "      <td>1.000000</td>\n",
       "      <td>1997.000000</td>\n",
       "      <td>3.000000</td>\n",
       "      <td>0.000000</td>\n",
       "      <td>0.000000</td>\n",
       "      <td>0.000000</td>\n",
       "      <td>1.000000</td>\n",
       "      <td>0.000000</td>\n",
       "      <td>2018.000000</td>\n",
       "      <td>1.000000</td>\n",
       "      <td>0.000000</td>\n",
       "    </tr>\n",
       "    <tr>\n",
       "      <td>25%</td>\n",
       "      <td>4995.000000</td>\n",
       "      <td>2007.000000</td>\n",
       "      <td>4.000000</td>\n",
       "      <td>78132.500000</td>\n",
       "      <td>0.000000</td>\n",
       "      <td>18.000000</td>\n",
       "      <td>3.000000</td>\n",
       "      <td>1.000000</td>\n",
       "      <td>2018.000000</td>\n",
       "      <td>5.000000</td>\n",
       "      <td>10918.000000</td>\n",
       "    </tr>\n",
       "    <tr>\n",
       "      <td>50%</td>\n",
       "      <td>8900.000000</td>\n",
       "      <td>2011.000000</td>\n",
       "      <td>6.000000</td>\n",
       "      <td>116000.000000</td>\n",
       "      <td>0.000000</td>\n",
       "      <td>32.000000</td>\n",
       "      <td>7.000000</td>\n",
       "      <td>3.000000</td>\n",
       "      <td>2018.000000</td>\n",
       "      <td>8.000000</td>\n",
       "      <td>14750.000000</td>\n",
       "    </tr>\n",
       "    <tr>\n",
       "      <td>75%</td>\n",
       "      <td>15495.000000</td>\n",
       "      <td>2014.000000</td>\n",
       "      <td>8.000000</td>\n",
       "      <td>152118.250000</td>\n",
       "      <td>1.000000</td>\n",
       "      <td>51.000000</td>\n",
       "      <td>10.000000</td>\n",
       "      <td>5.000000</td>\n",
       "      <td>2019.000000</td>\n",
       "      <td>12.000000</td>\n",
       "      <td>20181.000000</td>\n",
       "    </tr>\n",
       "    <tr>\n",
       "      <td>max</td>\n",
       "      <td>34555.000000</td>\n",
       "      <td>2019.000000</td>\n",
       "      <td>12.000000</td>\n",
       "      <td>271093.000000</td>\n",
       "      <td>1.000000</td>\n",
       "      <td>103.000000</td>\n",
       "      <td>12.000000</td>\n",
       "      <td>6.000000</td>\n",
       "      <td>2019.000000</td>\n",
       "      <td>22.000000</td>\n",
       "      <td>37368.000000</td>\n",
       "    </tr>\n",
       "  </tbody>\n",
       "</table>\n",
       "</div>"
      ],
      "text/plain": [
       "              price    model_year     cylinders       odometer        is_4wd  \\\n",
       "count  43618.000000  43618.000000  43618.000000   43618.000000  43618.000000   \n",
       "mean   10965.647875   2009.873836      6.052364  114970.862901      0.484594   \n",
       "std     7695.994593      4.832017      1.648075   55763.521366      0.499768   \n",
       "min        1.000000   1997.000000      3.000000       0.000000      0.000000   \n",
       "25%     4995.000000   2007.000000      4.000000   78132.500000      0.000000   \n",
       "50%     8900.000000   2011.000000      6.000000  116000.000000      0.000000   \n",
       "75%    15495.000000   2014.000000      8.000000  152118.250000      1.000000   \n",
       "max    34555.000000   2019.000000     12.000000  271093.000000      1.000000   \n",
       "\n",
       "        days_listed  month_posted    day_posted   year_posted           age  \\\n",
       "count  43618.000000  43618.000000  43618.000000  43618.000000  43618.000000   \n",
       "mean      36.543216      6.563689      3.003278   2018.317507      8.473887   \n",
       "std       23.009445      3.487865      1.996561      0.465512      4.784655   \n",
       "min        0.000000      1.000000      0.000000   2018.000000      1.000000   \n",
       "25%       18.000000      3.000000      1.000000   2018.000000      5.000000   \n",
       "50%       32.000000      7.000000      3.000000   2018.000000      8.000000   \n",
       "75%       51.000000     10.000000      5.000000   2019.000000     12.000000   \n",
       "max      103.000000     12.000000      6.000000   2019.000000     22.000000   \n",
       "\n",
       "       mileage_peryear  \n",
       "count     43618.000000  \n",
       "mean      15833.641226  \n",
       "std        7237.342898  \n",
       "min           0.000000  \n",
       "25%       10918.000000  \n",
       "50%       14750.000000  \n",
       "75%       20181.000000  \n",
       "max       37368.000000  "
      ]
     },
     "execution_count": 87,
     "metadata": {},
     "output_type": "execute_result"
    }
   ],
   "source": [
    "#Confirm outliers are not in the new_data dataframe\n",
    "new_data.describe()"
   ]
  },
  {
   "cell_type": "markdown",
   "metadata": {},
   "source": [
    "Let's pull the same histograms we did before filtering the data, and see how much influence the outliers had on the dataset."
   ]
  },
  {
   "cell_type": "markdown",
   "metadata": {},
   "source": [
    "### Filtered Data: Histograms <a class=\"anchor\" id=\"chapter4.3\"></a>"
   ]
  },
  {
   "cell_type": "markdown",
   "metadata": {},
   "source": [
    "**PRICE**"
   ]
  },
  {
   "cell_type": "code",
   "execution_count": 88,
   "metadata": {},
   "outputs": [
    {
     "data": {
      "text/plain": [
       "Text(0, 0.5, 'Count')"
      ]
     },
     "execution_count": 88,
     "metadata": {},
     "output_type": "execute_result"
    },
    {
     "data": {
      "image/png": "[encoded data removed]",
      "text/plain": [
       "<Figure size 432x288 with 1 Axes>"
      ]
     },
     "metadata": {
      "needs_background": "light"
     },
     "output_type": "display_data"
    }
   ],
   "source": [
    "data['price'].hist(bins=30);\n",
    "new_data['price'].hist(bins=30);\n",
    "\n",
    "plt.title(\"Price data with and without Outliers\")\n",
    "plt.xlabel(\"Price\")\n",
    "plt.ylabel(\"Count\")"
   ]
  },
  {
   "cell_type": "markdown",
   "metadata": {},
   "source": [
    "Look the difference! let's just print the new_data (in orange) to see the range of the histogram."
   ]
  },
  {
   "cell_type": "code",
   "execution_count": 89,
   "metadata": {},
   "outputs": [
    {
     "data": {
      "text/plain": [
       "Text(0, 0.5, 'Count')"
      ]
     },
     "execution_count": 89,
     "metadata": {},
     "output_type": "execute_result"
    },
    {
     "data": {
      "image/png": "[encoded data removed]",
      "text/plain": [
       "<Figure size 432x288 with 1 Axes>"
      ]
     },
     "metadata": {
      "needs_background": "light"
     },
     "output_type": "display_data"
    }
   ],
   "source": [
    "new_data['price'].hist(bins=30);\n",
    "plt.title(\"Price without Outliers\")\n",
    "plt.xlabel(\"Price\")\n",
    "plt.ylabel(\"Count\")"
   ]
  },
  {
   "cell_type": "markdown",
   "metadata": {},
   "source": [
    "This is much easier to look at! we can clearly see the number of vehicles at each price."
   ]
  },
  {
   "cell_type": "markdown",
   "metadata": {},
   "source": [
    "**AGE**"
   ]
  },
  {
   "cell_type": "code",
   "execution_count": 90,
   "metadata": {},
   "outputs": [
    {
     "data": {
      "text/plain": [
       "Text(0, 0.5, 'Count')"
      ]
     },
     "execution_count": 90,
     "metadata": {},
     "output_type": "execute_result"
    },
    {
     "data": {
      "image/png": "[encoded data removed]",
      "text/plain": [
       "<Figure size 432x288 with 1 Axes>"
      ]
     },
     "metadata": {
      "needs_background": "light"
     },
     "output_type": "display_data"
    }
   ],
   "source": [
    "data['age'].hist(bins=30);\n",
    "new_data['age'].hist(bins=20);\n",
    "\n",
    "plt.title(\"Age with and without Outliers\")\n",
    "plt.xlabel(\"Age (in years)\")\n",
    "plt.ylabel(\"Count\")"
   ]
  },
  {
   "cell_type": "code",
   "execution_count": 91,
   "metadata": {},
   "outputs": [
    {
     "data": {
      "text/plain": [
       "Text(0, 0.5, 'Count')"
      ]
     },
     "execution_count": 91,
     "metadata": {},
     "output_type": "execute_result"
    },
    {
     "data": {
      "image/png": "[encoded data removed]",
      "text/plain": [
       "<Figure size 432x288 with 1 Axes>"
      ]
     },
     "metadata": {
      "needs_background": "light"
     },
     "output_type": "display_data"
    }
   ],
   "source": [
    "new_data['age'].hist(bins=20);\n",
    "\n",
    "plt.title(\"Age without Outliers\")\n",
    "plt.xlabel(\"Age\")\n",
    "plt.ylabel(\"Count\")"
   ]
  },
  {
   "cell_type": "markdown",
   "metadata": {},
   "source": [
    "Data in age column is more grouped than before filtering outliers!"
   ]
  },
  {
   "cell_type": "markdown",
   "metadata": {},
   "source": [
    "**ODOMETER**"
   ]
  },
  {
   "cell_type": "code",
   "execution_count": 92,
   "metadata": {},
   "outputs": [
    {
     "data": {
      "text/plain": [
       "Text(0, 0.5, 'Count')"
      ]
     },
     "execution_count": 92,
     "metadata": {},
     "output_type": "execute_result"
    },
    {
     "data": {
      "image/png": "[encoded data removed]",
      "text/plain": [
       "<Figure size 432x288 with 1 Axes>"
      ]
     },
     "metadata": {
      "needs_background": "light"
     },
     "output_type": "display_data"
    }
   ],
   "source": [
    "data['odometer'].hist(bins=30)\n",
    "new_data['odometer'].hist(bins=20)\n",
    "\n",
    "plt.title(\"Odometer with and without Outliers\")\n",
    "plt.xlabel(\"Miles\")\n",
    "plt.ylabel(\"Count\")"
   ]
  },
  {
   "cell_type": "code",
   "execution_count": 93,
   "metadata": {},
   "outputs": [
    {
     "data": {
      "text/plain": [
       "Text(0, 0.5, 'Count')"
      ]
     },
     "execution_count": 93,
     "metadata": {},
     "output_type": "execute_result"
    },
    {
     "data": {
      "image/png": "[encoded data removed]",
      "text/plain": [
       "<Figure size 432x288 with 1 Axes>"
      ]
     },
     "metadata": {
      "needs_background": "light"
     },
     "output_type": "display_data"
    }
   ],
   "source": [
    "new_data['odometer'].hist(bins=20);\n",
    "plt.title(\"Odometer without Outliers\")\n",
    "plt.xlabel(\"Miles\")\n",
    "plt.ylabel(\"Count\")"
   ]
  },
  {
   "cell_type": "markdown",
   "metadata": {},
   "source": [
    "Odometer values seem more realistic now. "
   ]
  },
  {
   "cell_type": "markdown",
   "metadata": {},
   "source": [
    "### DAYS LISTED <a class=\"anchor\" id=\"chapter4.4\"></a>"
   ]
  },
  {
   "cell_type": "markdown",
   "metadata": {},
   "source": [
    "Let's plot a histogram of the days an ad was listed, including outliers:"
   ]
  },
  {
   "cell_type": "code",
   "execution_count": 94,
   "metadata": {},
   "outputs": [
    {
     "data": {
      "text/plain": [
       "Text(0, 0.5, 'Count')"
      ]
     },
     "execution_count": 94,
     "metadata": {},
     "output_type": "execute_result"
    },
    {
     "data": {
      "image/png": "[encoded data removed]",
      "text/plain": [
       "<Figure size 432x288 with 1 Axes>"
      ]
     },
     "metadata": {
      "needs_background": "light"
     },
     "output_type": "display_data"
    }
   ],
   "source": [
    "data['days_listed'].hist(bins=30);\n",
    "new_data[\"days_listed\"].hist(bins=30);\n",
    "plt.title(\"Days listed with and without Outliers\")\n",
    "plt.xlabel(\"Days\")\n",
    "plt.ylabel(\"Count\")"
   ]
  },
  {
   "cell_type": "markdown",
   "metadata": {},
   "source": [
    "Removing the outliers makes a big impact on the histogram. Let's see how the mean and median look in each case:"
   ]
  },
  {
   "cell_type": "code",
   "execution_count": 95,
   "metadata": {},
   "outputs": [
    {
     "data": {
      "text/plain": [
       "39.55438242372487"
      ]
     },
     "execution_count": 95,
     "metadata": {},
     "output_type": "execute_result"
    }
   ],
   "source": [
    "#mean with outliers\n",
    "data['days_listed'].mean()"
   ]
  },
  {
   "cell_type": "code",
   "execution_count": 96,
   "metadata": {},
   "outputs": [
    {
     "data": {
      "text/plain": [
       "33.0"
      ]
     },
     "execution_count": 96,
     "metadata": {},
     "output_type": "execute_result"
    }
   ],
   "source": [
    "#median with outliers\n",
    "data['days_listed'].median()"
   ]
  },
  {
   "cell_type": "code",
   "execution_count": 97,
   "metadata": {},
   "outputs": [
    {
     "data": {
      "text/plain": [
       "36.543216103443534"
      ]
     },
     "execution_count": 97,
     "metadata": {},
     "output_type": "execute_result"
    }
   ],
   "source": [
    "#mean without outliers\n",
    "new_data['days_listed'].mean()"
   ]
  },
  {
   "cell_type": "code",
   "execution_count": 98,
   "metadata": {},
   "outputs": [
    {
     "data": {
      "text/plain": [
       "32.0"
      ]
     },
     "execution_count": 98,
     "metadata": {},
     "output_type": "execute_result"
    }
   ],
   "source": [
    "#median with outliers\n",
    "new_data['days_listed'].median()"
   ]
  },
  {
   "cell_type": "markdown",
   "metadata": {},
   "source": [
    "The median is barely affected; the most common values are still the same. However, the mean has shifted from 39 to 36, which for this amount of entries is quite a change!"
   ]
  },
  {
   "cell_type": "code",
   "execution_count": 99,
   "metadata": {},
   "outputs": [
    {
     "name": "stdout",
     "output_type": "stream",
     "text": [
      "The typical lifetime of an ad is between: 18.0 and 51.0 days.\n"
     ]
    }
   ],
   "source": [
    "Q1_days_listed = new_data['days_listed'].quantile(0.25)\n",
    "Q3_days_listed = new_data['days_listed'].quantile(0.75)\n",
    "print(\"The typical lifetime of an ad is between:\", Q1_days_listed, \"and\", Q3_days_listed, \"days.\")"
   ]
  },
  {
   "cell_type": "code",
   "execution_count": 100,
   "metadata": {
    "scrolled": false
   },
   "outputs": [],
   "source": [
    "short_listed = data[data[\"days_listed\"] < Q1_days_listed]"
   ]
  },
  {
   "cell_type": "code",
   "execution_count": 101,
   "metadata": {},
   "outputs": [],
   "source": [
    "long_listed = data[data[\"days_listed\"] > Q3_days_listed]"
   ]
  },
  {
   "cell_type": "markdown",
   "metadata": {},
   "source": [
    "**What determines the number of days an ad is posted?**"
   ]
  },
  {
   "cell_type": "code",
   "execution_count": 102,
   "metadata": {},
   "outputs": [
    {
     "data": {
      "text/html": [
       "<div>\n",
       "<style scoped>\n",
       "    .dataframe tbody tr th:only-of-type {\n",
       "        vertical-align: middle;\n",
       "    }\n",
       "\n",
       "    .dataframe tbody tr th {\n",
       "        vertical-align: top;\n",
       "    }\n",
       "\n",
       "    .dataframe thead th {\n",
       "        text-align: right;\n",
       "    }\n",
       "</style>\n",
       "<table border=\"1\" class=\"dataframe\">\n",
       "  <thead>\n",
       "    <tr style=\"text-align: right;\">\n",
       "      <th></th>\n",
       "      <th>price</th>\n",
       "      <th>model_year</th>\n",
       "      <th>cylinders</th>\n",
       "      <th>odometer</th>\n",
       "      <th>is_4wd</th>\n",
       "      <th>days_listed</th>\n",
       "      <th>month_posted</th>\n",
       "      <th>day_posted</th>\n",
       "      <th>year_posted</th>\n",
       "      <th>age</th>\n",
       "      <th>mileage_peryear</th>\n",
       "    </tr>\n",
       "  </thead>\n",
       "  <tbody>\n",
       "    <tr>\n",
       "      <td>price</td>\n",
       "      <td>1.000000</td>\n",
       "      <td>0.507329</td>\n",
       "      <td>0.314364</td>\n",
       "      <td>-0.451890</td>\n",
       "      <td>0.330661</td>\n",
       "      <td>0.002196</td>\n",
       "      <td>-0.023751</td>\n",
       "      <td>-0.001413</td>\n",
       "      <td>0.022213</td>\n",
       "      <td>-0.504252</td>\n",
       "      <td>0.194549</td>\n",
       "    </tr>\n",
       "    <tr>\n",
       "      <td>model_year</td>\n",
       "      <td>0.507329</td>\n",
       "      <td>1.000000</td>\n",
       "      <td>-0.152430</td>\n",
       "      <td>-0.631653</td>\n",
       "      <td>-0.020576</td>\n",
       "      <td>-0.001409</td>\n",
       "      <td>-0.041605</td>\n",
       "      <td>0.001759</td>\n",
       "      <td>0.042495</td>\n",
       "      <td>-0.994900</td>\n",
       "      <td>0.540064</td>\n",
       "    </tr>\n",
       "    <tr>\n",
       "      <td>cylinders</td>\n",
       "      <td>0.314364</td>\n",
       "      <td>-0.152430</td>\n",
       "      <td>1.000000</td>\n",
       "      <td>0.117155</td>\n",
       "      <td>0.415366</td>\n",
       "      <td>0.001349</td>\n",
       "      <td>0.003803</td>\n",
       "      <td>-0.004170</td>\n",
       "      <td>-0.002874</td>\n",
       "      <td>0.153142</td>\n",
       "      <td>-0.054894</td>\n",
       "    </tr>\n",
       "    <tr>\n",
       "      <td>odometer</td>\n",
       "      <td>-0.451890</td>\n",
       "      <td>-0.631653</td>\n",
       "      <td>0.117155</td>\n",
       "      <td>1.000000</td>\n",
       "      <td>0.052169</td>\n",
       "      <td>0.001007</td>\n",
       "      <td>0.022968</td>\n",
       "      <td>0.003285</td>\n",
       "      <td>-0.018325</td>\n",
       "      <td>0.625074</td>\n",
       "      <td>0.145864</td>\n",
       "    </tr>\n",
       "    <tr>\n",
       "      <td>is_4wd</td>\n",
       "      <td>0.330661</td>\n",
       "      <td>-0.020576</td>\n",
       "      <td>0.415366</td>\n",
       "      <td>0.052169</td>\n",
       "      <td>1.000000</td>\n",
       "      <td>0.003990</td>\n",
       "      <td>0.002924</td>\n",
       "      <td>0.002521</td>\n",
       "      <td>0.000085</td>\n",
       "      <td>0.021481</td>\n",
       "      <td>0.039560</td>\n",
       "    </tr>\n",
       "    <tr>\n",
       "      <td>days_listed</td>\n",
       "      <td>0.002196</td>\n",
       "      <td>-0.001409</td>\n",
       "      <td>0.001349</td>\n",
       "      <td>0.001007</td>\n",
       "      <td>0.003990</td>\n",
       "      <td>1.000000</td>\n",
       "      <td>-0.008473</td>\n",
       "      <td>0.003691</td>\n",
       "      <td>0.007654</td>\n",
       "      <td>0.002082</td>\n",
       "      <td>-0.002323</td>\n",
       "    </tr>\n",
       "    <tr>\n",
       "      <td>month_posted</td>\n",
       "      <td>-0.023751</td>\n",
       "      <td>-0.041605</td>\n",
       "      <td>0.003803</td>\n",
       "      <td>0.022968</td>\n",
       "      <td>0.002924</td>\n",
       "      <td>-0.008473</td>\n",
       "      <td>1.000000</td>\n",
       "      <td>0.007014</td>\n",
       "      <td>-0.821644</td>\n",
       "      <td>-0.036587</td>\n",
       "      <td>0.089430</td>\n",
       "    </tr>\n",
       "    <tr>\n",
       "      <td>day_posted</td>\n",
       "      <td>-0.001413</td>\n",
       "      <td>0.001759</td>\n",
       "      <td>-0.004170</td>\n",
       "      <td>0.003285</td>\n",
       "      <td>0.002521</td>\n",
       "      <td>0.003691</td>\n",
       "      <td>0.007014</td>\n",
       "      <td>1.000000</td>\n",
       "      <td>-0.007608</td>\n",
       "      <td>-0.002200</td>\n",
       "      <td>0.000648</td>\n",
       "    </tr>\n",
       "    <tr>\n",
       "      <td>year_posted</td>\n",
       "      <td>0.022213</td>\n",
       "      <td>0.042495</td>\n",
       "      <td>-0.002874</td>\n",
       "      <td>-0.018325</td>\n",
       "      <td>0.000085</td>\n",
       "      <td>0.007654</td>\n",
       "      <td>-0.821644</td>\n",
       "      <td>-0.007608</td>\n",
       "      <td>1.000000</td>\n",
       "      <td>0.052591</td>\n",
       "      <td>-0.108819</td>\n",
       "    </tr>\n",
       "    <tr>\n",
       "      <td>age</td>\n",
       "      <td>-0.504252</td>\n",
       "      <td>-0.994900</td>\n",
       "      <td>0.153142</td>\n",
       "      <td>0.625074</td>\n",
       "      <td>0.021481</td>\n",
       "      <td>0.002082</td>\n",
       "      <td>-0.036587</td>\n",
       "      <td>-0.002200</td>\n",
       "      <td>0.052591</td>\n",
       "      <td>1.000000</td>\n",
       "      <td>-0.554614</td>\n",
       "    </tr>\n",
       "    <tr>\n",
       "      <td>mileage_peryear</td>\n",
       "      <td>0.194549</td>\n",
       "      <td>0.540064</td>\n",
       "      <td>-0.054894</td>\n",
       "      <td>0.145864</td>\n",
       "      <td>0.039560</td>\n",
       "      <td>-0.002323</td>\n",
       "      <td>0.089430</td>\n",
       "      <td>0.000648</td>\n",
       "      <td>-0.108819</td>\n",
       "      <td>-0.554614</td>\n",
       "      <td>1.000000</td>\n",
       "    </tr>\n",
       "  </tbody>\n",
       "</table>\n",
       "</div>"
      ],
      "text/plain": [
       "                    price  model_year  cylinders  odometer    is_4wd  \\\n",
       "price            1.000000    0.507329   0.314364 -0.451890  0.330661   \n",
       "model_year       0.507329    1.000000  -0.152430 -0.631653 -0.020576   \n",
       "cylinders        0.314364   -0.152430   1.000000  0.117155  0.415366   \n",
       "odometer        -0.451890   -0.631653   0.117155  1.000000  0.052169   \n",
       "is_4wd           0.330661   -0.020576   0.415366  0.052169  1.000000   \n",
       "days_listed      0.002196   -0.001409   0.001349  0.001007  0.003990   \n",
       "month_posted    -0.023751   -0.041605   0.003803  0.022968  0.002924   \n",
       "day_posted      -0.001413    0.001759  -0.004170  0.003285  0.002521   \n",
       "year_posted      0.022213    0.042495  -0.002874 -0.018325  0.000085   \n",
       "age             -0.504252   -0.994900   0.153142  0.625074  0.021481   \n",
       "mileage_peryear  0.194549    0.540064  -0.054894  0.145864  0.039560   \n",
       "\n",
       "                 days_listed  month_posted  day_posted  year_posted       age  \\\n",
       "price               0.002196     -0.023751   -0.001413     0.022213 -0.504252   \n",
       "model_year         -0.001409     -0.041605    0.001759     0.042495 -0.994900   \n",
       "cylinders           0.001349      0.003803   -0.004170    -0.002874  0.153142   \n",
       "odometer            0.001007      0.022968    0.003285    -0.018325  0.625074   \n",
       "is_4wd              0.003990      0.002924    0.002521     0.000085  0.021481   \n",
       "days_listed         1.000000     -0.008473    0.003691     0.007654  0.002082   \n",
       "month_posted       -0.008473      1.000000    0.007014    -0.821644 -0.036587   \n",
       "day_posted          0.003691      0.007014    1.000000    -0.007608 -0.002200   \n",
       "year_posted         0.007654     -0.821644   -0.007608     1.000000  0.052591   \n",
       "age                 0.002082     -0.036587   -0.002200     0.052591  1.000000   \n",
       "mileage_peryear    -0.002323      0.089430    0.000648    -0.108819 -0.554614   \n",
       "\n",
       "                 mileage_peryear  \n",
       "price                   0.194549  \n",
       "model_year              0.540064  \n",
       "cylinders              -0.054894  \n",
       "odometer                0.145864  \n",
       "is_4wd                  0.039560  \n",
       "days_listed            -0.002323  \n",
       "month_posted            0.089430  \n",
       "day_posted              0.000648  \n",
       "year_posted            -0.108819  \n",
       "age                    -0.554614  \n",
       "mileage_peryear         1.000000  "
      ]
     },
     "execution_count": 102,
     "metadata": {},
     "output_type": "execute_result"
    }
   ],
   "source": [
    "new_data.corr()"
   ]
  },
  {
   "cell_type": "markdown",
   "metadata": {},
   "source": [
    "It is almost impossible to see what could be the reason an ad is lasting so short or so long. We have however seen that outliers have a big impact on the mean and median, so by removing them we have had a more accurate value of what makes an ad \"too short\" and what \"too long\". "
   ]
  },
  {
   "cell_type": "markdown",
   "metadata": {},
   "source": [
    "### ANALYSIS BASED ON VEHICLE TYPE <a class=\"anchor\" id=\"chapter4.5\"></a>"
   ]
  },
  {
   "cell_type": "markdown",
   "metadata": {},
   "source": [
    "Analyze the number of ads and the average price for each type of vehicle. Plot a graph showing the dependence of the number of ads on the vehicle type. Select the two types with the greatest number of ads."
   ]
  },
  {
   "cell_type": "code",
   "execution_count": 103,
   "metadata": {},
   "outputs": [
    {
     "data": {
      "text/html": [
       "<div>\n",
       "<style scoped>\n",
       "    .dataframe tbody tr th:only-of-type {\n",
       "        vertical-align: middle;\n",
       "    }\n",
       "\n",
       "    .dataframe tbody tr th {\n",
       "        vertical-align: top;\n",
       "    }\n",
       "\n",
       "    .dataframe thead th {\n",
       "        text-align: right;\n",
       "    }\n",
       "</style>\n",
       "<table border=\"1\" class=\"dataframe\">\n",
       "  <thead>\n",
       "    <tr style=\"text-align: right;\">\n",
       "      <th></th>\n",
       "      <th>model</th>\n",
       "    </tr>\n",
       "    <tr>\n",
       "      <th>type</th>\n",
       "      <th></th>\n",
       "    </tr>\n",
       "  </thead>\n",
       "  <tbody>\n",
       "    <tr>\n",
       "      <td>bus</td>\n",
       "      <td>21</td>\n",
       "    </tr>\n",
       "    <tr>\n",
       "      <td>convertible</td>\n",
       "      <td>320</td>\n",
       "    </tr>\n",
       "    <tr>\n",
       "      <td>coupe</td>\n",
       "      <td>1834</td>\n",
       "    </tr>\n",
       "    <tr>\n",
       "      <td>hatchback</td>\n",
       "      <td>921</td>\n",
       "    </tr>\n",
       "    <tr>\n",
       "      <td>mini-van</td>\n",
       "      <td>1011</td>\n",
       "    </tr>\n",
       "    <tr>\n",
       "      <td>offroad</td>\n",
       "      <td>162</td>\n",
       "    </tr>\n",
       "    <tr>\n",
       "      <td>other</td>\n",
       "      <td>210</td>\n",
       "    </tr>\n",
       "    <tr>\n",
       "      <td>pickup</td>\n",
       "      <td>5646</td>\n",
       "    </tr>\n",
       "    <tr>\n",
       "      <td>sedan</td>\n",
       "      <td>10871</td>\n",
       "    </tr>\n",
       "    <tr>\n",
       "      <td>suv</td>\n",
       "      <td>10848</td>\n",
       "    </tr>\n",
       "    <tr>\n",
       "      <td>truck</td>\n",
       "      <td>9873</td>\n",
       "    </tr>\n",
       "    <tr>\n",
       "      <td>van</td>\n",
       "      <td>509</td>\n",
       "    </tr>\n",
       "    <tr>\n",
       "      <td>wagon</td>\n",
       "      <td>1392</td>\n",
       "    </tr>\n",
       "  </tbody>\n",
       "</table>\n",
       "</div>"
      ],
      "text/plain": [
       "             model\n",
       "type              \n",
       "bus             21\n",
       "convertible    320\n",
       "coupe         1834\n",
       "hatchback      921\n",
       "mini-van      1011\n",
       "offroad        162\n",
       "other          210\n",
       "pickup        5646\n",
       "sedan        10871\n",
       "suv          10848\n",
       "truck         9873\n",
       "van            509\n",
       "wagon         1392"
      ]
     },
     "execution_count": 103,
     "metadata": {},
     "output_type": "execute_result"
    }
   ],
   "source": [
    "#number of ads per type of vehicle:\n",
    "\n",
    "new_data.pivot_table(index=\"type\", values=\"model\", aggfunc=\"count\")\n",
    "\n"
   ]
  },
  {
   "cell_type": "markdown",
   "metadata": {},
   "source": [
    "The 2 vehicle types with most ads are sedan and SUV"
   ]
  },
  {
   "cell_type": "code",
   "execution_count": 104,
   "metadata": {},
   "outputs": [
    {
     "data": {
      "text/plain": [
       "Text(0, 0.5, 'Count')"
      ]
     },
     "execution_count": 104,
     "metadata": {},
     "output_type": "execute_result"
    },
    {
     "data": {
      "image/png": "[encoded data removed]",
      "text/plain": [
       "<Figure size 432x288 with 1 Axes>"
      ]
     },
     "metadata": {
      "needs_background": "light"
     },
     "output_type": "display_data"
    }
   ],
   "source": [
    "new_data['type'].value_counts().plot(kind='bar');\n",
    "\n",
    "plt.title(\"Vehicle Types\")\n",
    "plt.xlabel(\"Type\")\n",
    "plt.ylabel(\"Count\")"
   ]
  },
  {
   "cell_type": "code",
   "execution_count": 105,
   "metadata": {},
   "outputs": [
    {
     "data": {
      "text/html": [
       "<div>\n",
       "<style scoped>\n",
       "    .dataframe tbody tr th:only-of-type {\n",
       "        vertical-align: middle;\n",
       "    }\n",
       "\n",
       "    .dataframe tbody tr th {\n",
       "        vertical-align: top;\n",
       "    }\n",
       "\n",
       "    .dataframe thead th {\n",
       "        text-align: right;\n",
       "    }\n",
       "</style>\n",
       "<table border=\"1\" class=\"dataframe\">\n",
       "  <thead>\n",
       "    <tr style=\"text-align: right;\">\n",
       "      <th></th>\n",
       "      <th>price</th>\n",
       "    </tr>\n",
       "    <tr>\n",
       "      <th>type</th>\n",
       "      <th></th>\n",
       "    </tr>\n",
       "  </thead>\n",
       "  <tbody>\n",
       "    <tr>\n",
       "      <td>bus</td>\n",
       "      <td>18107.428571</td>\n",
       "    </tr>\n",
       "    <tr>\n",
       "      <td>convertible</td>\n",
       "      <td>13126.131250</td>\n",
       "    </tr>\n",
       "    <tr>\n",
       "      <td>coupe</td>\n",
       "      <td>13400.124318</td>\n",
       "    </tr>\n",
       "    <tr>\n",
       "      <td>hatchback</td>\n",
       "      <td>6624.608035</td>\n",
       "    </tr>\n",
       "    <tr>\n",
       "      <td>mini-van</td>\n",
       "      <td>7677.386746</td>\n",
       "    </tr>\n",
       "    <tr>\n",
       "      <td>offroad</td>\n",
       "      <td>14626.728395</td>\n",
       "    </tr>\n",
       "    <tr>\n",
       "      <td>other</td>\n",
       "      <td>9961.338095</td>\n",
       "    </tr>\n",
       "    <tr>\n",
       "      <td>pickup</td>\n",
       "      <td>14876.271520</td>\n",
       "    </tr>\n",
       "    <tr>\n",
       "      <td>sedan</td>\n",
       "      <td>6758.577868</td>\n",
       "    </tr>\n",
       "    <tr>\n",
       "      <td>suv</td>\n",
       "      <td>10228.389012</td>\n",
       "    </tr>\n",
       "    <tr>\n",
       "      <td>truck</td>\n",
       "      <td>14780.385091</td>\n",
       "    </tr>\n",
       "    <tr>\n",
       "      <td>van</td>\n",
       "      <td>8293.481336</td>\n",
       "    </tr>\n",
       "    <tr>\n",
       "      <td>wagon</td>\n",
       "      <td>8799.607040</td>\n",
       "    </tr>\n",
       "  </tbody>\n",
       "</table>\n",
       "</div>"
      ],
      "text/plain": [
       "                    price\n",
       "type                     \n",
       "bus          18107.428571\n",
       "convertible  13126.131250\n",
       "coupe        13400.124318\n",
       "hatchback     6624.608035\n",
       "mini-van      7677.386746\n",
       "offroad      14626.728395\n",
       "other         9961.338095\n",
       "pickup       14876.271520\n",
       "sedan         6758.577868\n",
       "suv          10228.389012\n",
       "truck        14780.385091\n",
       "van           8293.481336\n",
       "wagon         8799.607040"
      ]
     },
     "execution_count": 105,
     "metadata": {},
     "output_type": "execute_result"
    }
   ],
   "source": [
    "#average price per type of vehicle:\n",
    "\n",
    "new_data.pivot_table(index=\"type\", values=\"price\", aggfunc=\"mean\")"
   ]
  },
  {
   "cell_type": "markdown",
   "metadata": {},
   "source": [
    " The highest average prices based on vehicle type are bus and pick up. The lowest average prices are sedan - which remember they have the highest number of ads, and  a hatchback."
   ]
  },
  {
   "cell_type": "markdown",
   "metadata": {},
   "source": [
    "Take each of the popular types you detected at the previous stage and study whether the price depends on age, mileage, condition, transmission type, and color."
   ]
  },
  {
   "cell_type": "markdown",
   "metadata": {},
   "source": [
    "**SUV**"
   ]
  },
  {
   "cell_type": "code",
   "execution_count": 106,
   "metadata": {},
   "outputs": [],
   "source": [
    "SUV = new_data[new_data[\"type\"] == \"suv\"]"
   ]
  },
  {
   "cell_type": "code",
   "execution_count": 107,
   "metadata": {},
   "outputs": [
    {
     "name": "stdout",
     "output_type": "stream",
     "text": [
      "<class 'pandas.core.frame.DataFrame'>\n",
      "Int64Index: 10848 entries, 0 to 51516\n",
      "Data columns (total 18 columns):\n",
      "price              10848 non-null int64\n",
      "model_year         10848 non-null int64\n",
      "model              10848 non-null object\n",
      "condition          10848 non-null object\n",
      "cylinders          10848 non-null int64\n",
      "fuel               10848 non-null object\n",
      "odometer           10848 non-null int64\n",
      "transmission       10848 non-null object\n",
      "type               10848 non-null object\n",
      "paint_color        10848 non-null object\n",
      "is_4wd             10848 non-null int64\n",
      "date_posted        10848 non-null datetime64[ns]\n",
      "days_listed        10848 non-null int64\n",
      "month_posted       10848 non-null int64\n",
      "day_posted         10848 non-null int64\n",
      "year_posted        10848 non-null int64\n",
      "age                10848 non-null int64\n",
      "mileage_peryear    10848 non-null int64\n",
      "dtypes: datetime64[ns](1), int64(11), object(6)\n",
      "memory usage: 1.6+ MB\n"
     ]
    }
   ],
   "source": [
    "SUV.info()"
   ]
  },
  {
   "cell_type": "code",
   "execution_count": 108,
   "metadata": {},
   "outputs": [
    {
     "data": {
      "image/png": "[encoded data removed]",
      "text/plain": [
       "<Figure size 576x432 with 2 Axes>"
      ]
     },
     "metadata": {
      "needs_background": "light"
     },
     "output_type": "display_data"
    }
   ],
   "source": [
    "SUV.plot(x='age', y='price', kind='hexbin', gridsize=20, figsize=(8, 6), sharex=False, grid=True, title=\"SUV: PRICE and AGE correlation\");"
   ]
  },
  {
   "cell_type": "markdown",
   "metadata": {},
   "source": [
    "For SUV, there is a shy correlation between age and price. The older the SUV is, the lower the price tends to be. "
   ]
  },
  {
   "cell_type": "code",
   "execution_count": 109,
   "metadata": {},
   "outputs": [
    {
     "data": {
      "image/png": "[encoded data removed]",
      "text/plain": [
       "<Figure size 576x432 with 2 Axes>"
      ]
     },
     "metadata": {
      "needs_background": "light"
     },
     "output_type": "display_data"
    }
   ],
   "source": [
    "SUV.plot(x='odometer', y='price', kind='hexbin', gridsize=20, figsize=(8, 6), sharex=False, grid=True, title=\"SUV: PRICE and MILEAGE correlation\");"
   ]
  },
  {
   "cell_type": "markdown",
   "metadata": {},
   "source": [
    "We can also see a tendency of the price to lower with SUVs with higher mileage. "
   ]
  },
  {
   "cell_type": "markdown",
   "metadata": {},
   "source": [
    "To have a relevant analysis, from the categorical parameters let's just analize those categories with more than 50 ads."
   ]
  },
  {
   "cell_type": "code",
   "execution_count": 110,
   "metadata": {},
   "outputs": [
    {
     "data": {
      "text/plain": [
       "excellent    5733\n",
       "good         3830\n",
       "like new      986\n",
       "fair          267\n",
       "new            17\n",
       "salvage        15\n",
       "Name: condition, dtype: int64"
      ]
     },
     "execution_count": 110,
     "metadata": {},
     "output_type": "execute_result"
    }
   ],
   "source": [
    "SUV[\"condition\"].value_counts()"
   ]
  },
  {
   "cell_type": "code",
   "execution_count": 111,
   "metadata": {},
   "outputs": [],
   "source": [
    "SUVfiltered_condition = SUV.query('condition not in (\"new\", \"salvage\")')"
   ]
  },
  {
   "cell_type": "code",
   "execution_count": 112,
   "metadata": {
    "scrolled": true
   },
   "outputs": [
    {
     "data": {
      "image/png": "[encoded data removed]",
      "text/plain": [
       "<Figure size 432x288 with 1 Axes>"
      ]
     },
     "metadata": {
      "needs_background": "light"
     },
     "output_type": "display_data"
    }
   ],
   "source": [
    "SUVfiltered_condition.boxplot(column=['price'], by='condition',\n",
    "                     return_type='axes');"
   ]
  },
  {
   "cell_type": "markdown",
   "metadata": {},
   "source": [
    "The SUV Condition with over 50 ads that seem to determine the price the most is fair (as Q3-Q1 is narrower). Those SUV that are \"like new\" have the widest range of prices, so the price for these is not defined by the condition."
   ]
  },
  {
   "cell_type": "code",
   "execution_count": 113,
   "metadata": {},
   "outputs": [
    {
     "data": {
      "text/plain": [
       "automatic    10288\n",
       "manual         428\n",
       "other          132\n",
       "Name: transmission, dtype: int64"
      ]
     },
     "execution_count": 113,
     "metadata": {},
     "output_type": "execute_result"
    }
   ],
   "source": [
    "SUV[\"transmission\"].value_counts()"
   ]
  },
  {
   "cell_type": "code",
   "execution_count": 114,
   "metadata": {},
   "outputs": [
    {
     "data": {
      "text/plain": [
       "Text(0, 0.5, 'price')"
      ]
     },
     "execution_count": 114,
     "metadata": {},
     "output_type": "execute_result"
    },
    {
     "data": {
      "image/png": "[encoded data removed]",
      "text/plain": [
       "<Figure size 432x288 with 1 Axes>"
      ]
     },
     "metadata": {
      "needs_background": "light"
     },
     "output_type": "display_data"
    }
   ],
   "source": [
    "SUV.boxplot(column=['price'], by='transmission',\n",
    "                     return_type='axes')\n",
    "\n",
    "plt.title('SUV: Price and Transmission')\n",
    "plt.xlabel('transmission')\n",
    "plt.ylabel('price')"
   ]
  },
  {
   "cell_type": "markdown",
   "metadata": {},
   "source": [
    "Manual transmission SUVs tend to have a higher price than automatic and others. However, I wouldn't consider this a key parameter that defines the price. "
   ]
  },
  {
   "cell_type": "code",
   "execution_count": 115,
   "metadata": {},
   "outputs": [
    {
     "data": {
      "text/plain": [
       "unknown    1931\n",
       "black      1912\n",
       "white      1678\n",
       "silver     1406\n",
       "grey       1059\n",
       "blue        920\n",
       "red         812\n",
       "green       380\n",
       "brown       326\n",
       "custom      277\n",
       "orange       71\n",
       "purple       38\n",
       "yellow       38\n",
       "Name: paint_color, dtype: int64"
      ]
     },
     "execution_count": 115,
     "metadata": {},
     "output_type": "execute_result"
    }
   ],
   "source": [
    "SUV[\"paint_color\"].value_counts()"
   ]
  },
  {
   "cell_type": "code",
   "execution_count": 116,
   "metadata": {},
   "outputs": [],
   "source": [
    "SUVfiltered_color = SUV.query('paint_color not in (\"purple\", \"yellow\")')"
   ]
  },
  {
   "cell_type": "code",
   "execution_count": 117,
   "metadata": {},
   "outputs": [
    {
     "data": {
      "text/plain": [
       "Text(0, 0.5, 'price')"
      ]
     },
     "execution_count": 117,
     "metadata": {},
     "output_type": "execute_result"
    },
    {
     "data": {
      "image/png": "[encoded data removed]",
      "text/plain": [
       "<Figure size 720x720 with 1 Axes>"
      ]
     },
     "metadata": {
      "needs_background": "light"
     },
     "output_type": "display_data"
    }
   ],
   "source": [
    "SUVfiltered_color.boxplot(column=['price'], by='paint_color',\n",
    "                     return_type='axes',\n",
    "           figsize= (10,10))\n",
    "\n",
    "plt.title('SUV: Price and Color')\n",
    "plt.xlabel('Color')\n",
    "plt.ylabel('price')"
   ]
  },
  {
   "cell_type": "markdown",
   "metadata": {},
   "source": [
    "Orange SUVs have the highest median price value, so it seems like a popular color for SUVs on sale. The next highest median is the black color. All the rest are pretty similar between them. I wouldn't say paint_color is a key parameter that defines the price of SUVs, as the Q3-Q1 are pretty wide in each color. "
   ]
  },
  {
   "cell_type": "markdown",
   "metadata": {},
   "source": [
    "**SEDAN**"
   ]
  },
  {
   "cell_type": "code",
   "execution_count": 118,
   "metadata": {
    "scrolled": true
   },
   "outputs": [],
   "source": [
    "SEDAN = new_data[new_data[\"type\"] == \"sedan\"]"
   ]
  },
  {
   "cell_type": "code",
   "execution_count": 119,
   "metadata": {},
   "outputs": [
    {
     "data": {
      "image/png": "[encoded data removed]",
      "text/plain": [
       "<Figure size 576x432 with 2 Axes>"
      ]
     },
     "metadata": {
      "needs_background": "light"
     },
     "output_type": "display_data"
    }
   ],
   "source": [
    "SEDAN.plot(x='age', y='price', kind='hexbin', gridsize=20, figsize=(8, 6), sharex=False, grid=True, title=\"sedan: PRICE and AGE correlation\");"
   ]
  },
  {
   "cell_type": "markdown",
   "metadata": {},
   "source": [
    "The correlation between age and price is very similar to the SUV; however the price is stable in Sedans between 6 and 12 years old, around 5000. Those present the highest correlation between these 2 parameters."
   ]
  },
  {
   "cell_type": "code",
   "execution_count": 120,
   "metadata": {},
   "outputs": [
    {
     "data": {
      "image/png": "[encoded data removed]",
      "text/plain": [
       "<Figure size 576x432 with 2 Axes>"
      ]
     },
     "metadata": {
      "needs_background": "light"
     },
     "output_type": "display_data"
    }
   ],
   "source": [
    "SEDAN.plot(x='odometer', y='price', kind='hexbin', gridsize=20, figsize=(8, 6), sharex=False, grid=True, title=\"sedan: PRICE and MILEAGE correlation\");"
   ]
  },
  {
   "cell_type": "markdown",
   "metadata": {},
   "source": [
    "The correlation between mileage and price is very similar to the SUV as well, so Mileage is not particularly affecting the price by type of vehicle."
   ]
  },
  {
   "cell_type": "code",
   "execution_count": 121,
   "metadata": {},
   "outputs": [
    {
     "data": {
      "text/plain": [
       "excellent    5480\n",
       "good         3919\n",
       "like new     1147\n",
       "fair          252\n",
       "new            40\n",
       "salvage        33\n",
       "Name: condition, dtype: int64"
      ]
     },
     "execution_count": 121,
     "metadata": {},
     "output_type": "execute_result"
    }
   ],
   "source": [
    "SEDAN[\"condition\"].value_counts()"
   ]
  },
  {
   "cell_type": "code",
   "execution_count": 122,
   "metadata": {},
   "outputs": [],
   "source": [
    "SEDANfiltered_condition = SEDAN.query('condition not in (\"new\", \"salvage\")')"
   ]
  },
  {
   "cell_type": "code",
   "execution_count": 123,
   "metadata": {},
   "outputs": [
    {
     "data": {
      "text/plain": [
       "Text(0, 0.5, 'price')"
      ]
     },
     "execution_count": 123,
     "metadata": {},
     "output_type": "execute_result"
    },
    {
     "data": {
      "image/png": "[encoded data removed]",
      "text/plain": [
       "<Figure size 576x432 with 1 Axes>"
      ]
     },
     "metadata": {
      "needs_background": "light"
     },
     "output_type": "display_data"
    }
   ],
   "source": [
    "SEDANfiltered_condition.boxplot(column=['price'], by='condition',\n",
    "                     return_type='axes',\n",
    "             figsize=(8, 6))\n",
    "\n",
    "plt.title('SEDAN: Price and Condition')\n",
    "plt.xlabel('condition')\n",
    "plt.ylabel('price')"
   ]
  },
  {
   "cell_type": "markdown",
   "metadata": {},
   "source": [
    "The condition in which sedan is sold seems to have quite an impact on the price. Those in \"fair\" condition have a very similar price between them, which is around 2500 or less. On the other hand, those sedan with \"excellent\" or \"like new\" condition have more dispersion in the price, so the correlation is not as strong as in \"fair\" condition. "
   ]
  },
  {
   "cell_type": "code",
   "execution_count": 124,
   "metadata": {},
   "outputs": [
    {
     "data": {
      "text/plain": [
       "automatic    10236\n",
       "manual         523\n",
       "other          112\n",
       "Name: transmission, dtype: int64"
      ]
     },
     "execution_count": 124,
     "metadata": {},
     "output_type": "execute_result"
    }
   ],
   "source": [
    "SEDAN[\"transmission\"].value_counts()"
   ]
  },
  {
   "cell_type": "code",
   "execution_count": 125,
   "metadata": {},
   "outputs": [
    {
     "data": {
      "text/plain": [
       "Text(0, 0.5, 'price')"
      ]
     },
     "execution_count": 125,
     "metadata": {},
     "output_type": "execute_result"
    },
    {
     "data": {
      "image/png": "[encoded data removed]",
      "text/plain": [
       "<Figure size 576x432 with 1 Axes>"
      ]
     },
     "metadata": {
      "needs_background": "light"
     },
     "output_type": "display_data"
    }
   ],
   "source": [
    "SEDAN.boxplot(column=['price'], by='transmission',\n",
    "                     return_type='axes',\n",
    "             figsize=(8, 6))\n",
    "\n",
    "plt.title('SEDAN: Price and Transmission')\n",
    "plt.xlabel('transmission')\n",
    "plt.ylabel('price')"
   ]
  },
  {
   "cell_type": "markdown",
   "metadata": {},
   "source": [
    "Again, the price in each transmission type is quite similar for sedans, so it is not a key parameter that defines the price of the vehicle."
   ]
  },
  {
   "cell_type": "code",
   "execution_count": 126,
   "metadata": {},
   "outputs": [
    {
     "data": {
      "text/plain": [
       "unknown    1966\n",
       "silver     1837\n",
       "black      1574\n",
       "grey       1445\n",
       "white      1338\n",
       "blue       1115\n",
       "red         854\n",
       "custom      265\n",
       "brown       239\n",
       "green       187\n",
       "purple       22\n",
       "yellow       20\n",
       "orange        9\n",
       "Name: paint_color, dtype: int64"
      ]
     },
     "execution_count": 126,
     "metadata": {},
     "output_type": "execute_result"
    }
   ],
   "source": [
    "SEDAN[\"paint_color\"].value_counts()"
   ]
  },
  {
   "cell_type": "code",
   "execution_count": 127,
   "metadata": {},
   "outputs": [],
   "source": [
    "SEDANfiltered_color = SEDAN.query('paint_color not in (\"purple\", \"yellow\", \"orange\")')"
   ]
  },
  {
   "cell_type": "code",
   "execution_count": 128,
   "metadata": {},
   "outputs": [
    {
     "data": {
      "text/plain": [
       "Text(0, 0.5, 'price')"
      ]
     },
     "execution_count": 128,
     "metadata": {},
     "output_type": "execute_result"
    },
    {
     "data": {
      "image/png": "[encoded data removed]",
      "text/plain": [
       "<Figure size 576x432 with 1 Axes>"
      ]
     },
     "metadata": {
      "needs_background": "light"
     },
     "output_type": "display_data"
    }
   ],
   "source": [
    "SEDANfiltered_color.boxplot(column=['price'], by='paint_color',\n",
    "                     return_type='axes',\n",
    "             figsize=(8, 6))\n",
    "\n",
    "plt.title('SEDAN: Price and Color')\n",
    "plt.xlabel('Color')\n",
    "plt.ylabel('price')"
   ]
  },
  {
   "cell_type": "markdown",
   "metadata": {},
   "source": [
    "There is no correlation between price and color for sedan type of vehicles. They all have similar Boxplots, and quite similar median values of price. "
   ]
  },
  {
   "cell_type": "markdown",
   "metadata": {},
   "source": [
    "**Conclusion**\n",
    "\n",
    "Exploring data, we realized that we still had to do some cleaning, because histograms were very hard to read due to the dispersion of the outliers. We found the delimitations of the data, removed them from \"Age\", \"Odometer\", \"Price\" and \"Condition\" and stored the new dataset in a filtered one, \"new_data\".\n",
    "\n",
    "We then compared the data with and without outliers, and saw a great difference pulling the same graphs.\n",
    "\n",
    "We also tried to figure out why some vehicles were listed for a very short time, and why some others for a long time. Our hypothesis was that perhaps the condition or the mileage per year could be a potential cause, but we did not find any relevant correlation on that.\n",
    "\n",
    "Lastly, we took the 2 types of vehicles which were advertised the most, and analyzed which parameter influenced the price the most. The details are in the overall conclusion. "
   ]
  },
  {
   "cell_type": "markdown",
   "metadata": {},
   "source": [
    "## Step 5. Overall conclusion <a class=\"anchor\" id=\"chapter5\"></a>"
   ]
  },
  {
   "cell_type": "markdown",
   "metadata": {},
   "source": [
    "Once the data has been processed and polished to analyze, we have identified the outliers in the most important parameters, and after comparing the data with and without them, we decided to filter them out in order to have a more accurate analysis. \n",
    "\n",
    "We have pulled the type of vehicles with most amount of ads, and used them to study what parameters influence the price of a vehicle the most. \n",
    "\n",
    "After pulling some correlation graphs, we come to the conclusion that age, odometer and condition have the biggest impact on the price. The correlation coeficients are as follows:\n",
    "\n",
    "**FOR SUV**\n",
    "* Age: -0.57\n",
    "* Odometer (mileage): -0.52\n",
    "* Condition: see boxplot above\n",
    "\n",
    "**FOR SEDAN**\n",
    "* Age: -0.6\n",
    "* Odometer (mileage): -0.56\n",
    "* Condition: see boxplot above"
   ]
  },
  {
   "cell_type": "code",
   "execution_count": 129,
   "metadata": {},
   "outputs": [
    {
     "data": {
      "text/html": [
       "<div>\n",
       "<style scoped>\n",
       "    .dataframe tbody tr th:only-of-type {\n",
       "        vertical-align: middle;\n",
       "    }\n",
       "\n",
       "    .dataframe tbody tr th {\n",
       "        vertical-align: top;\n",
       "    }\n",
       "\n",
       "    .dataframe thead th {\n",
       "        text-align: right;\n",
       "    }\n",
       "</style>\n",
       "<table border=\"1\" class=\"dataframe\">\n",
       "  <thead>\n",
       "    <tr style=\"text-align: right;\">\n",
       "      <th></th>\n",
       "      <th>price</th>\n",
       "      <th>model_year</th>\n",
       "      <th>cylinders</th>\n",
       "      <th>odometer</th>\n",
       "      <th>is_4wd</th>\n",
       "      <th>days_listed</th>\n",
       "      <th>month_posted</th>\n",
       "      <th>day_posted</th>\n",
       "      <th>year_posted</th>\n",
       "      <th>age</th>\n",
       "      <th>mileage_peryear</th>\n",
       "    </tr>\n",
       "  </thead>\n",
       "  <tbody>\n",
       "    <tr>\n",
       "      <td>price</td>\n",
       "      <td>1.000000</td>\n",
       "      <td>0.575171</td>\n",
       "      <td>0.014734</td>\n",
       "      <td>-0.520579</td>\n",
       "      <td>0.116455</td>\n",
       "      <td>-0.017539</td>\n",
       "      <td>-0.020552</td>\n",
       "      <td>0.011433</td>\n",
       "      <td>0.016919</td>\n",
       "      <td>-0.574725</td>\n",
       "      <td>0.252881</td>\n",
       "    </tr>\n",
       "    <tr>\n",
       "      <td>model_year</td>\n",
       "      <td>0.575171</td>\n",
       "      <td>1.000000</td>\n",
       "      <td>-0.265975</td>\n",
       "      <td>-0.642067</td>\n",
       "      <td>-0.061381</td>\n",
       "      <td>-0.008833</td>\n",
       "      <td>-0.040102</td>\n",
       "      <td>0.004717</td>\n",
       "      <td>0.038283</td>\n",
       "      <td>-0.994632</td>\n",
       "      <td>0.572305</td>\n",
       "    </tr>\n",
       "    <tr>\n",
       "      <td>cylinders</td>\n",
       "      <td>0.014734</td>\n",
       "      <td>-0.265975</td>\n",
       "      <td>1.000000</td>\n",
       "      <td>0.234859</td>\n",
       "      <td>0.118663</td>\n",
       "      <td>0.004824</td>\n",
       "      <td>0.005916</td>\n",
       "      <td>-0.008451</td>\n",
       "      <td>-0.006142</td>\n",
       "      <td>0.265730</td>\n",
       "      <td>-0.107706</td>\n",
       "    </tr>\n",
       "    <tr>\n",
       "      <td>odometer</td>\n",
       "      <td>-0.520579</td>\n",
       "      <td>-0.642067</td>\n",
       "      <td>0.234859</td>\n",
       "      <td>1.000000</td>\n",
       "      <td>0.026951</td>\n",
       "      <td>0.009881</td>\n",
       "      <td>0.023559</td>\n",
       "      <td>0.009420</td>\n",
       "      <td>-0.021618</td>\n",
       "      <td>0.634663</td>\n",
       "      <td>0.100144</td>\n",
       "    </tr>\n",
       "    <tr>\n",
       "      <td>is_4wd</td>\n",
       "      <td>0.116455</td>\n",
       "      <td>-0.061381</td>\n",
       "      <td>0.118663</td>\n",
       "      <td>0.026951</td>\n",
       "      <td>1.000000</td>\n",
       "      <td>-0.009326</td>\n",
       "      <td>-0.000322</td>\n",
       "      <td>0.013152</td>\n",
       "      <td>-0.003842</td>\n",
       "      <td>0.060704</td>\n",
       "      <td>-0.030833</td>\n",
       "    </tr>\n",
       "    <tr>\n",
       "      <td>days_listed</td>\n",
       "      <td>-0.017539</td>\n",
       "      <td>-0.008833</td>\n",
       "      <td>0.004824</td>\n",
       "      <td>0.009881</td>\n",
       "      <td>-0.009326</td>\n",
       "      <td>1.000000</td>\n",
       "      <td>-0.000274</td>\n",
       "      <td>-0.005268</td>\n",
       "      <td>0.000043</td>\n",
       "      <td>0.008566</td>\n",
       "      <td>0.001312</td>\n",
       "    </tr>\n",
       "    <tr>\n",
       "      <td>month_posted</td>\n",
       "      <td>-0.020552</td>\n",
       "      <td>-0.040102</td>\n",
       "      <td>0.005916</td>\n",
       "      <td>0.023559</td>\n",
       "      <td>-0.000322</td>\n",
       "      <td>-0.000274</td>\n",
       "      <td>1.000000</td>\n",
       "      <td>0.027018</td>\n",
       "      <td>-0.820622</td>\n",
       "      <td>-0.040587</td>\n",
       "      <td>0.096127</td>\n",
       "    </tr>\n",
       "    <tr>\n",
       "      <td>day_posted</td>\n",
       "      <td>0.011433</td>\n",
       "      <td>0.004717</td>\n",
       "      <td>-0.008451</td>\n",
       "      <td>0.009420</td>\n",
       "      <td>0.013152</td>\n",
       "      <td>-0.005268</td>\n",
       "      <td>0.027018</td>\n",
       "      <td>1.000000</td>\n",
       "      <td>-0.025153</td>\n",
       "      <td>-0.007387</td>\n",
       "      <td>0.009545</td>\n",
       "    </tr>\n",
       "    <tr>\n",
       "      <td>year_posted</td>\n",
       "      <td>0.016919</td>\n",
       "      <td>0.038283</td>\n",
       "      <td>-0.006142</td>\n",
       "      <td>-0.021618</td>\n",
       "      <td>-0.003842</td>\n",
       "      <td>0.000043</td>\n",
       "      <td>-0.820622</td>\n",
       "      <td>-0.025153</td>\n",
       "      <td>1.000000</td>\n",
       "      <td>0.059779</td>\n",
       "      <td>-0.121264</td>\n",
       "    </tr>\n",
       "    <tr>\n",
       "      <td>age</td>\n",
       "      <td>-0.574725</td>\n",
       "      <td>-0.994632</td>\n",
       "      <td>0.265730</td>\n",
       "      <td>0.634663</td>\n",
       "      <td>0.060704</td>\n",
       "      <td>0.008566</td>\n",
       "      <td>-0.040587</td>\n",
       "      <td>-0.007387</td>\n",
       "      <td>0.059779</td>\n",
       "      <td>1.000000</td>\n",
       "      <td>-0.587952</td>\n",
       "    </tr>\n",
       "    <tr>\n",
       "      <td>mileage_peryear</td>\n",
       "      <td>0.252881</td>\n",
       "      <td>0.572305</td>\n",
       "      <td>-0.107706</td>\n",
       "      <td>0.100144</td>\n",
       "      <td>-0.030833</td>\n",
       "      <td>0.001312</td>\n",
       "      <td>0.096127</td>\n",
       "      <td>0.009545</td>\n",
       "      <td>-0.121264</td>\n",
       "      <td>-0.587952</td>\n",
       "      <td>1.000000</td>\n",
       "    </tr>\n",
       "  </tbody>\n",
       "</table>\n",
       "</div>"
      ],
      "text/plain": [
       "                    price  model_year  cylinders  odometer    is_4wd  \\\n",
       "price            1.000000    0.575171   0.014734 -0.520579  0.116455   \n",
       "model_year       0.575171    1.000000  -0.265975 -0.642067 -0.061381   \n",
       "cylinders        0.014734   -0.265975   1.000000  0.234859  0.118663   \n",
       "odometer        -0.520579   -0.642067   0.234859  1.000000  0.026951   \n",
       "is_4wd           0.116455   -0.061381   0.118663  0.026951  1.000000   \n",
       "days_listed     -0.017539   -0.008833   0.004824  0.009881 -0.009326   \n",
       "month_posted    -0.020552   -0.040102   0.005916  0.023559 -0.000322   \n",
       "day_posted       0.011433    0.004717  -0.008451  0.009420  0.013152   \n",
       "year_posted      0.016919    0.038283  -0.006142 -0.021618 -0.003842   \n",
       "age             -0.574725   -0.994632   0.265730  0.634663  0.060704   \n",
       "mileage_peryear  0.252881    0.572305  -0.107706  0.100144 -0.030833   \n",
       "\n",
       "                 days_listed  month_posted  day_posted  year_posted       age  \\\n",
       "price              -0.017539     -0.020552    0.011433     0.016919 -0.574725   \n",
       "model_year         -0.008833     -0.040102    0.004717     0.038283 -0.994632   \n",
       "cylinders           0.004824      0.005916   -0.008451    -0.006142  0.265730   \n",
       "odometer            0.009881      0.023559    0.009420    -0.021618  0.634663   \n",
       "is_4wd             -0.009326     -0.000322    0.013152    -0.003842  0.060704   \n",
       "days_listed         1.000000     -0.000274   -0.005268     0.000043  0.008566   \n",
       "month_posted       -0.000274      1.000000    0.027018    -0.820622 -0.040587   \n",
       "day_posted         -0.005268      0.027018    1.000000    -0.025153 -0.007387   \n",
       "year_posted         0.000043     -0.820622   -0.025153     1.000000  0.059779   \n",
       "age                 0.008566     -0.040587   -0.007387     0.059779  1.000000   \n",
       "mileage_peryear     0.001312      0.096127    0.009545    -0.121264 -0.587952   \n",
       "\n",
       "                 mileage_peryear  \n",
       "price                   0.252881  \n",
       "model_year              0.572305  \n",
       "cylinders              -0.107706  \n",
       "odometer                0.100144  \n",
       "is_4wd                 -0.030833  \n",
       "days_listed             0.001312  \n",
       "month_posted            0.096127  \n",
       "day_posted              0.009545  \n",
       "year_posted            -0.121264  \n",
       "age                    -0.587952  \n",
       "mileage_peryear         1.000000  "
      ]
     },
     "execution_count": 129,
     "metadata": {},
     "output_type": "execute_result"
    }
   ],
   "source": [
    "SUV.corr()"
   ]
  },
  {
   "cell_type": "code",
   "execution_count": 130,
   "metadata": {},
   "outputs": [
    {
     "data": {
      "text/html": [
       "<div>\n",
       "<style scoped>\n",
       "    .dataframe tbody tr th:only-of-type {\n",
       "        vertical-align: middle;\n",
       "    }\n",
       "\n",
       "    .dataframe tbody tr th {\n",
       "        vertical-align: top;\n",
       "    }\n",
       "\n",
       "    .dataframe thead th {\n",
       "        text-align: right;\n",
       "    }\n",
       "</style>\n",
       "<table border=\"1\" class=\"dataframe\">\n",
       "  <thead>\n",
       "    <tr style=\"text-align: right;\">\n",
       "      <th></th>\n",
       "      <th>price</th>\n",
       "      <th>model_year</th>\n",
       "      <th>cylinders</th>\n",
       "      <th>odometer</th>\n",
       "      <th>is_4wd</th>\n",
       "      <th>days_listed</th>\n",
       "      <th>month_posted</th>\n",
       "      <th>day_posted</th>\n",
       "      <th>year_posted</th>\n",
       "      <th>age</th>\n",
       "      <th>mileage_peryear</th>\n",
       "    </tr>\n",
       "  </thead>\n",
       "  <tbody>\n",
       "    <tr>\n",
       "      <td>price</td>\n",
       "      <td>1.000000</td>\n",
       "      <td>0.609501</td>\n",
       "      <td>-0.033782</td>\n",
       "      <td>-0.562165</td>\n",
       "      <td>0.045619</td>\n",
       "      <td>-0.001551</td>\n",
       "      <td>-0.040129</td>\n",
       "      <td>-0.002184</td>\n",
       "      <td>0.033969</td>\n",
       "      <td>-0.603572</td>\n",
       "      <td>0.184590</td>\n",
       "    </tr>\n",
       "    <tr>\n",
       "      <td>model_year</td>\n",
       "      <td>0.609501</td>\n",
       "      <td>1.000000</td>\n",
       "      <td>-0.117127</td>\n",
       "      <td>-0.637766</td>\n",
       "      <td>0.073894</td>\n",
       "      <td>-0.001556</td>\n",
       "      <td>-0.057559</td>\n",
       "      <td>0.004189</td>\n",
       "      <td>0.053518</td>\n",
       "      <td>-0.993809</td>\n",
       "      <td>0.509849</td>\n",
       "    </tr>\n",
       "    <tr>\n",
       "      <td>cylinders</td>\n",
       "      <td>-0.033782</td>\n",
       "      <td>-0.117127</td>\n",
       "      <td>1.000000</td>\n",
       "      <td>0.075939</td>\n",
       "      <td>0.214671</td>\n",
       "      <td>-0.002011</td>\n",
       "      <td>0.000646</td>\n",
       "      <td>-0.008097</td>\n",
       "      <td>-0.006699</td>\n",
       "      <td>0.119010</td>\n",
       "      <td>-0.070299</td>\n",
       "    </tr>\n",
       "    <tr>\n",
       "      <td>odometer</td>\n",
       "      <td>-0.562165</td>\n",
       "      <td>-0.637766</td>\n",
       "      <td>0.075939</td>\n",
       "      <td>1.000000</td>\n",
       "      <td>-0.062141</td>\n",
       "      <td>0.000114</td>\n",
       "      <td>0.035035</td>\n",
       "      <td>-0.002138</td>\n",
       "      <td>-0.022922</td>\n",
       "      <td>0.631102</td>\n",
       "      <td>0.171891</td>\n",
       "    </tr>\n",
       "    <tr>\n",
       "      <td>is_4wd</td>\n",
       "      <td>0.045619</td>\n",
       "      <td>0.073894</td>\n",
       "      <td>0.214671</td>\n",
       "      <td>-0.062141</td>\n",
       "      <td>1.000000</td>\n",
       "      <td>0.001863</td>\n",
       "      <td>0.007295</td>\n",
       "      <td>-0.020300</td>\n",
       "      <td>-0.004002</td>\n",
       "      <td>-0.071092</td>\n",
       "      <td>0.018172</td>\n",
       "    </tr>\n",
       "    <tr>\n",
       "      <td>days_listed</td>\n",
       "      <td>-0.001551</td>\n",
       "      <td>-0.001556</td>\n",
       "      <td>-0.002011</td>\n",
       "      <td>0.000114</td>\n",
       "      <td>0.001863</td>\n",
       "      <td>1.000000</td>\n",
       "      <td>-0.008625</td>\n",
       "      <td>0.006049</td>\n",
       "      <td>0.013804</td>\n",
       "      <td>0.003218</td>\n",
       "      <td>-0.008143</td>\n",
       "    </tr>\n",
       "    <tr>\n",
       "      <td>month_posted</td>\n",
       "      <td>-0.040129</td>\n",
       "      <td>-0.057559</td>\n",
       "      <td>0.000646</td>\n",
       "      <td>0.035035</td>\n",
       "      <td>0.007295</td>\n",
       "      <td>-0.008625</td>\n",
       "      <td>1.000000</td>\n",
       "      <td>0.004339</td>\n",
       "      <td>-0.822963</td>\n",
       "      <td>-0.029256</td>\n",
       "      <td>0.093428</td>\n",
       "    </tr>\n",
       "    <tr>\n",
       "      <td>day_posted</td>\n",
       "      <td>-0.002184</td>\n",
       "      <td>0.004189</td>\n",
       "      <td>-0.008097</td>\n",
       "      <td>-0.002138</td>\n",
       "      <td>-0.020300</td>\n",
       "      <td>0.006049</td>\n",
       "      <td>0.004339</td>\n",
       "      <td>1.000000</td>\n",
       "      <td>-0.006841</td>\n",
       "      <td>-0.004734</td>\n",
       "      <td>0.006282</td>\n",
       "    </tr>\n",
       "    <tr>\n",
       "      <td>year_posted</td>\n",
       "      <td>0.033969</td>\n",
       "      <td>0.053518</td>\n",
       "      <td>-0.006699</td>\n",
       "      <td>-0.022922</td>\n",
       "      <td>-0.004002</td>\n",
       "      <td>0.013804</td>\n",
       "      <td>-0.822963</td>\n",
       "      <td>-0.006841</td>\n",
       "      <td>1.000000</td>\n",
       "      <td>0.051849</td>\n",
       "      <td>-0.112664</td>\n",
       "    </tr>\n",
       "    <tr>\n",
       "      <td>age</td>\n",
       "      <td>-0.603572</td>\n",
       "      <td>-0.993809</td>\n",
       "      <td>0.119010</td>\n",
       "      <td>0.631102</td>\n",
       "      <td>-0.071092</td>\n",
       "      <td>0.003218</td>\n",
       "      <td>-0.029256</td>\n",
       "      <td>-0.004734</td>\n",
       "      <td>0.051849</td>\n",
       "      <td>1.000000</td>\n",
       "      <td>-0.525945</td>\n",
       "    </tr>\n",
       "    <tr>\n",
       "      <td>mileage_peryear</td>\n",
       "      <td>0.184590</td>\n",
       "      <td>0.509849</td>\n",
       "      <td>-0.070299</td>\n",
       "      <td>0.171891</td>\n",
       "      <td>0.018172</td>\n",
       "      <td>-0.008143</td>\n",
       "      <td>0.093428</td>\n",
       "      <td>0.006282</td>\n",
       "      <td>-0.112664</td>\n",
       "      <td>-0.525945</td>\n",
       "      <td>1.000000</td>\n",
       "    </tr>\n",
       "  </tbody>\n",
       "</table>\n",
       "</div>"
      ],
      "text/plain": [
       "                    price  model_year  cylinders  odometer    is_4wd  \\\n",
       "price            1.000000    0.609501  -0.033782 -0.562165  0.045619   \n",
       "model_year       0.609501    1.000000  -0.117127 -0.637766  0.073894   \n",
       "cylinders       -0.033782   -0.117127   1.000000  0.075939  0.214671   \n",
       "odometer        -0.562165   -0.637766   0.075939  1.000000 -0.062141   \n",
       "is_4wd           0.045619    0.073894   0.214671 -0.062141  1.000000   \n",
       "days_listed     -0.001551   -0.001556  -0.002011  0.000114  0.001863   \n",
       "month_posted    -0.040129   -0.057559   0.000646  0.035035  0.007295   \n",
       "day_posted      -0.002184    0.004189  -0.008097 -0.002138 -0.020300   \n",
       "year_posted      0.033969    0.053518  -0.006699 -0.022922 -0.004002   \n",
       "age             -0.603572   -0.993809   0.119010  0.631102 -0.071092   \n",
       "mileage_peryear  0.184590    0.509849  -0.070299  0.171891  0.018172   \n",
       "\n",
       "                 days_listed  month_posted  day_posted  year_posted       age  \\\n",
       "price              -0.001551     -0.040129   -0.002184     0.033969 -0.603572   \n",
       "model_year         -0.001556     -0.057559    0.004189     0.053518 -0.993809   \n",
       "cylinders          -0.002011      0.000646   -0.008097    -0.006699  0.119010   \n",
       "odometer            0.000114      0.035035   -0.002138    -0.022922  0.631102   \n",
       "is_4wd              0.001863      0.007295   -0.020300    -0.004002 -0.071092   \n",
       "days_listed         1.000000     -0.008625    0.006049     0.013804  0.003218   \n",
       "month_posted       -0.008625      1.000000    0.004339    -0.822963 -0.029256   \n",
       "day_posted          0.006049      0.004339    1.000000    -0.006841 -0.004734   \n",
       "year_posted         0.013804     -0.822963   -0.006841     1.000000  0.051849   \n",
       "age                 0.003218     -0.029256   -0.004734     0.051849  1.000000   \n",
       "mileage_peryear    -0.008143      0.093428    0.006282    -0.112664 -0.525945   \n",
       "\n",
       "                 mileage_peryear  \n",
       "price                   0.184590  \n",
       "model_year              0.509849  \n",
       "cylinders              -0.070299  \n",
       "odometer                0.171891  \n",
       "is_4wd                  0.018172  \n",
       "days_listed            -0.008143  \n",
       "month_posted            0.093428  \n",
       "day_posted              0.006282  \n",
       "year_posted            -0.112664  \n",
       "age                    -0.525945  \n",
       "mileage_peryear         1.000000  "
      ]
     },
     "execution_count": 130,
     "metadata": {},
     "output_type": "execute_result"
    }
   ],
   "source": [
    "SEDAN.corr()"
   ]
  },
  {
   "cell_type": "markdown",
   "metadata": {},
   "source": [
    "We have also considered ads as too short if they were listed for less than 19 days, and too long if listed for more than 53 days. However, there were no particular parameter that defined the time an ad was posted. "
   ]
  }
 ],
 "metadata": {
  "kernelspec": {
   "display_name": "Python 3",
   "language": "python",
   "name": "python3"
  },
  "language_info": {
   "codemirror_mode": {
    "name": "ipython",
    "version": 3
   },
   "file_extension": ".py",
   "mimetype": "text/x-python",
   "name": "python",
   "nbconvert_exporter": "python",
   "pygments_lexer": "ipython3",
   "version": "3.8.5"
  },
  "toc": {
   "base_numbering": 1,
   "nav_menu": {},
   "number_sections": true,
   "sideBar": true,
   "skip_h1_title": false,
   "title_cell": "Table of Contents",
   "title_sidebar": "Contents",
   "toc_cell": false,
   "toc_position": {},
   "toc_section_display": true,
   "toc_window_display": false
  }
 },
 "nbformat": 4,
 "nbformat_minor": 2
}
