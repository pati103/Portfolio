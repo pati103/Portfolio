{
 "cells": [
  {
   "cell_type": "markdown",
   "metadata": {},
   "source": [
    "# Advertising Campaign for 2017"
   ]
  },
  {
   "cell_type": "markdown",
   "metadata": {},
   "source": [
    "The aim of this analytics report is to identify which game will succeed in 2017 and hence focus the next advertising campaign on it. This study is based on data provided from 2016.\n",
    "\n",
    "**TABLE OF CONTENTS**\n",
    "* 1. [Open Data](#chapter1)\n",
    "* 2. [Prepare Data](#chapter2)\n",
    "    * 2.1 [Column Naming](#chapter2.1)\n",
    "    * 2.2 [Missing Values](#chapter2.2)\n",
    "    * 2.3 [Duplicates](#chapter2.3)\n",
    "    * 2.4 [Data Types](#chapter2.4)\n",
    "    * 2.5 [Global Sales](#chapter2.5)\n",
    "    * 2.6 [Conclusion](#chapter2.6)\n",
    "* 3. [Data Analysis](#chapter3)\n",
    "    * 3.1 [Games Release per Year](#chapter3.1)\n",
    "    * 3.2 [Global Sales by Platform](#chapter3.2)\n",
    "    * 3.3 [Platform Sales over Time](#chapter3.3)\n",
    "    * 3.4 [Sample Data](#chapter3.4)\n",
    "    * 3.5 [Platform Analysis](#chapter3.5)\n",
    "    * 3.6 [Sales & Reviews Correlation](#chapter3.6)\n",
    "    * 3.7 [Sales & Genres Correlation](#chapter3.7)\n",
    "    * 3.8 [Conclusion](#chapter3.8)\n",
    "* 4. [Analysis by Region](#chapter4)\n",
    "* 5. [Hypotheses](#chapter5)\n",
    "* 6. [Overall Conclusion](#chapter6)"
   ]
  },
  {
   "cell_type": "markdown",
   "metadata": {},
   "source": [
    "## 1. Opening Data <a class=\"anchor\" id=\"chapter1\"></a>"
   ]
  },
  {
   "cell_type": "code",
   "execution_count": 1,
   "metadata": {},
   "outputs": [],
   "source": [
    "import warnings\n",
    "warnings.filterwarnings('ignore')"
   ]
  },
  {
   "cell_type": "code",
   "execution_count": 2,
   "metadata": {},
   "outputs": [],
   "source": [
    "import pandas as pd"
   ]
  },
  {
   "cell_type": "code",
   "execution_count": 3,
   "metadata": {},
   "outputs": [],
   "source": [
    "try:\n",
    "    data = pd.read_csv(r\"D:\\Practicum100\\Datasets\\games.csv\")\n",
    "except:\n",
    "    data = pd.read_csv('/datasets/games.csv')"
   ]
  },
  {
   "cell_type": "code",
   "execution_count": 4,
   "metadata": {},
   "outputs": [
    {
     "data": {
      "text/html": [
       "<div>\n",
       "<style scoped>\n",
       "    .dataframe tbody tr th:only-of-type {\n",
       "        vertical-align: middle;\n",
       "    }\n",
       "\n",
       "    .dataframe tbody tr th {\n",
       "        vertical-align: top;\n",
       "    }\n",
       "\n",
       "    .dataframe thead th {\n",
       "        text-align: right;\n",
       "    }\n",
       "</style>\n",
       "<table border=\"1\" class=\"dataframe\">\n",
       "  <thead>\n",
       "    <tr style=\"text-align: right;\">\n",
       "      <th></th>\n",
       "      <th>Year_of_Release</th>\n",
       "      <th>NA_sales</th>\n",
       "      <th>EU_sales</th>\n",
       "      <th>JP_sales</th>\n",
       "      <th>Other_sales</th>\n",
       "      <th>Critic_Score</th>\n",
       "    </tr>\n",
       "  </thead>\n",
       "  <tbody>\n",
       "    <tr>\n",
       "      <th>count</th>\n",
       "      <td>16446.000000</td>\n",
       "      <td>16715.000000</td>\n",
       "      <td>16715.000000</td>\n",
       "      <td>16715.000000</td>\n",
       "      <td>16715.000000</td>\n",
       "      <td>8137.000000</td>\n",
       "    </tr>\n",
       "    <tr>\n",
       "      <th>mean</th>\n",
       "      <td>2006.484616</td>\n",
       "      <td>0.263377</td>\n",
       "      <td>0.145060</td>\n",
       "      <td>0.077617</td>\n",
       "      <td>0.047342</td>\n",
       "      <td>68.967679</td>\n",
       "    </tr>\n",
       "    <tr>\n",
       "      <th>std</th>\n",
       "      <td>5.877050</td>\n",
       "      <td>0.813604</td>\n",
       "      <td>0.503339</td>\n",
       "      <td>0.308853</td>\n",
       "      <td>0.186731</td>\n",
       "      <td>13.938165</td>\n",
       "    </tr>\n",
       "    <tr>\n",
       "      <th>min</th>\n",
       "      <td>1980.000000</td>\n",
       "      <td>0.000000</td>\n",
       "      <td>0.000000</td>\n",
       "      <td>0.000000</td>\n",
       "      <td>0.000000</td>\n",
       "      <td>13.000000</td>\n",
       "    </tr>\n",
       "    <tr>\n",
       "      <th>25%</th>\n",
       "      <td>2003.000000</td>\n",
       "      <td>0.000000</td>\n",
       "      <td>0.000000</td>\n",
       "      <td>0.000000</td>\n",
       "      <td>0.000000</td>\n",
       "      <td>60.000000</td>\n",
       "    </tr>\n",
       "    <tr>\n",
       "      <th>50%</th>\n",
       "      <td>2007.000000</td>\n",
       "      <td>0.080000</td>\n",
       "      <td>0.020000</td>\n",
       "      <td>0.000000</td>\n",
       "      <td>0.010000</td>\n",
       "      <td>71.000000</td>\n",
       "    </tr>\n",
       "    <tr>\n",
       "      <th>75%</th>\n",
       "      <td>2010.000000</td>\n",
       "      <td>0.240000</td>\n",
       "      <td>0.110000</td>\n",
       "      <td>0.040000</td>\n",
       "      <td>0.030000</td>\n",
       "      <td>79.000000</td>\n",
       "    </tr>\n",
       "    <tr>\n",
       "      <th>max</th>\n",
       "      <td>2016.000000</td>\n",
       "      <td>41.360000</td>\n",
       "      <td>28.960000</td>\n",
       "      <td>10.220000</td>\n",
       "      <td>10.570000</td>\n",
       "      <td>98.000000</td>\n",
       "    </tr>\n",
       "  </tbody>\n",
       "</table>\n",
       "</div>"
      ],
      "text/plain": [
       "       Year_of_Release      NA_sales      EU_sales      JP_sales  \\\n",
       "count     16446.000000  16715.000000  16715.000000  16715.000000   \n",
       "mean       2006.484616      0.263377      0.145060      0.077617   \n",
       "std           5.877050      0.813604      0.503339      0.308853   \n",
       "min        1980.000000      0.000000      0.000000      0.000000   \n",
       "25%        2003.000000      0.000000      0.000000      0.000000   \n",
       "50%        2007.000000      0.080000      0.020000      0.000000   \n",
       "75%        2010.000000      0.240000      0.110000      0.040000   \n",
       "max        2016.000000     41.360000     28.960000     10.220000   \n",
       "\n",
       "        Other_sales  Critic_Score  \n",
       "count  16715.000000   8137.000000  \n",
       "mean       0.047342     68.967679  \n",
       "std        0.186731     13.938165  \n",
       "min        0.000000     13.000000  \n",
       "25%        0.000000     60.000000  \n",
       "50%        0.010000     71.000000  \n",
       "75%        0.030000     79.000000  \n",
       "max       10.570000     98.000000  "
      ]
     },
     "execution_count": 4,
     "metadata": {},
     "output_type": "execute_result"
    }
   ],
   "source": [
    "data.describe()"
   ]
  },
  {
   "cell_type": "code",
   "execution_count": 5,
   "metadata": {},
   "outputs": [
    {
     "name": "stdout",
     "output_type": "stream",
     "text": [
      "<class 'pandas.core.frame.DataFrame'>\n",
      "RangeIndex: 16715 entries, 0 to 16714\n",
      "Data columns (total 11 columns):\n",
      " #   Column           Non-Null Count  Dtype  \n",
      "---  ------           --------------  -----  \n",
      " 0   Name             16713 non-null  object \n",
      " 1   Platform         16715 non-null  object \n",
      " 2   Year_of_Release  16446 non-null  float64\n",
      " 3   Genre            16713 non-null  object \n",
      " 4   NA_sales         16715 non-null  float64\n",
      " 5   EU_sales         16715 non-null  float64\n",
      " 6   JP_sales         16715 non-null  float64\n",
      " 7   Other_sales      16715 non-null  float64\n",
      " 8   Critic_Score     8137 non-null   float64\n",
      " 9   User_Score       10014 non-null  object \n",
      " 10  Rating           9949 non-null   object \n",
      "dtypes: float64(6), object(5)\n",
      "memory usage: 1.4+ MB\n"
     ]
    }
   ],
   "source": [
    "data.info()"
   ]
  },
  {
   "cell_type": "markdown",
   "metadata": {},
   "source": [
    "We have a dataset with 16,715 entries and 11 columns. We can already observe some columns have missing or null values, and data types will need to be adjusted as well. Let's polish the data for the further analysis. "
   ]
  },
  {
   "cell_type": "markdown",
   "metadata": {},
   "source": [
    "<div class=\"alert alert-success\" role=\"alert\">\n",
    "Reviewer's comment v. 1:\n",
    "    \n",
    "Great, data is downloaded and ready for the further preparation and analysis.\n",
    "</div>"
   ]
  },
  {
   "cell_type": "markdown",
   "metadata": {},
   "source": [
    "## 2. Preparing Data  <a class=\"anchor\" id=\"chapter2\"></a>"
   ]
  },
  {
   "cell_type": "markdown",
   "metadata": {},
   "source": [
    "### 2.1 Column Naming <a class=\"anchor\" id=\"chapter2.1\"></a>"
   ]
  },
  {
   "cell_type": "markdown",
   "metadata": {},
   "source": [
    "Lower case the column names, as the analysis code is case-sensitive."
   ]
  },
  {
   "cell_type": "code",
   "execution_count": 6,
   "metadata": {
    "scrolled": true
   },
   "outputs": [
    {
     "data": {
      "text/html": [
       "<div>\n",
       "<style scoped>\n",
       "    .dataframe tbody tr th:only-of-type {\n",
       "        vertical-align: middle;\n",
       "    }\n",
       "\n",
       "    .dataframe tbody tr th {\n",
       "        vertical-align: top;\n",
       "    }\n",
       "\n",
       "    .dataframe thead th {\n",
       "        text-align: right;\n",
       "    }\n",
       "</style>\n",
       "<table border=\"1\" class=\"dataframe\">\n",
       "  <thead>\n",
       "    <tr style=\"text-align: right;\">\n",
       "      <th></th>\n",
       "      <th>Name</th>\n",
       "      <th>Platform</th>\n",
       "      <th>Year_of_Release</th>\n",
       "      <th>Genre</th>\n",
       "      <th>NA_sales</th>\n",
       "      <th>EU_sales</th>\n",
       "      <th>JP_sales</th>\n",
       "      <th>Other_sales</th>\n",
       "      <th>Critic_Score</th>\n",
       "      <th>User_Score</th>\n",
       "      <th>Rating</th>\n",
       "    </tr>\n",
       "  </thead>\n",
       "  <tbody>\n",
       "    <tr>\n",
       "      <th>0</th>\n",
       "      <td>Wii Sports</td>\n",
       "      <td>Wii</td>\n",
       "      <td>2006.0</td>\n",
       "      <td>Sports</td>\n",
       "      <td>41.36</td>\n",
       "      <td>28.96</td>\n",
       "      <td>3.77</td>\n",
       "      <td>8.45</td>\n",
       "      <td>76.0</td>\n",
       "      <td>8</td>\n",
       "      <td>E</td>\n",
       "    </tr>\n",
       "    <tr>\n",
       "      <th>1</th>\n",
       "      <td>Super Mario Bros.</td>\n",
       "      <td>NES</td>\n",
       "      <td>1985.0</td>\n",
       "      <td>Platform</td>\n",
       "      <td>29.08</td>\n",
       "      <td>3.58</td>\n",
       "      <td>6.81</td>\n",
       "      <td>0.77</td>\n",
       "      <td>NaN</td>\n",
       "      <td>NaN</td>\n",
       "      <td>NaN</td>\n",
       "    </tr>\n",
       "    <tr>\n",
       "      <th>2</th>\n",
       "      <td>Mario Kart Wii</td>\n",
       "      <td>Wii</td>\n",
       "      <td>2008.0</td>\n",
       "      <td>Racing</td>\n",
       "      <td>15.68</td>\n",
       "      <td>12.76</td>\n",
       "      <td>3.79</td>\n",
       "      <td>3.29</td>\n",
       "      <td>82.0</td>\n",
       "      <td>8.3</td>\n",
       "      <td>E</td>\n",
       "    </tr>\n",
       "    <tr>\n",
       "      <th>3</th>\n",
       "      <td>Wii Sports Resort</td>\n",
       "      <td>Wii</td>\n",
       "      <td>2009.0</td>\n",
       "      <td>Sports</td>\n",
       "      <td>15.61</td>\n",
       "      <td>10.93</td>\n",
       "      <td>3.28</td>\n",
       "      <td>2.95</td>\n",
       "      <td>80.0</td>\n",
       "      <td>8</td>\n",
       "      <td>E</td>\n",
       "    </tr>\n",
       "    <tr>\n",
       "      <th>4</th>\n",
       "      <td>Pokemon Red/Pokemon Blue</td>\n",
       "      <td>GB</td>\n",
       "      <td>1996.0</td>\n",
       "      <td>Role-Playing</td>\n",
       "      <td>11.27</td>\n",
       "      <td>8.89</td>\n",
       "      <td>10.22</td>\n",
       "      <td>1.00</td>\n",
       "      <td>NaN</td>\n",
       "      <td>NaN</td>\n",
       "      <td>NaN</td>\n",
       "    </tr>\n",
       "  </tbody>\n",
       "</table>\n",
       "</div>"
      ],
      "text/plain": [
       "                       Name Platform  Year_of_Release         Genre  NA_sales  \\\n",
       "0                Wii Sports      Wii           2006.0        Sports     41.36   \n",
       "1         Super Mario Bros.      NES           1985.0      Platform     29.08   \n",
       "2            Mario Kart Wii      Wii           2008.0        Racing     15.68   \n",
       "3         Wii Sports Resort      Wii           2009.0        Sports     15.61   \n",
       "4  Pokemon Red/Pokemon Blue       GB           1996.0  Role-Playing     11.27   \n",
       "\n",
       "   EU_sales  JP_sales  Other_sales  Critic_Score User_Score Rating  \n",
       "0     28.96      3.77         8.45          76.0          8      E  \n",
       "1      3.58      6.81         0.77           NaN        NaN    NaN  \n",
       "2     12.76      3.79         3.29          82.0        8.3      E  \n",
       "3     10.93      3.28         2.95          80.0          8      E  \n",
       "4      8.89     10.22         1.00           NaN        NaN    NaN  "
      ]
     },
     "execution_count": 6,
     "metadata": {},
     "output_type": "execute_result"
    }
   ],
   "source": [
    "data.head()"
   ]
  },
  {
   "cell_type": "code",
   "execution_count": 7,
   "metadata": {},
   "outputs": [
    {
     "data": {
      "text/html": [
       "<div>\n",
       "<style scoped>\n",
       "    .dataframe tbody tr th:only-of-type {\n",
       "        vertical-align: middle;\n",
       "    }\n",
       "\n",
       "    .dataframe tbody tr th {\n",
       "        vertical-align: top;\n",
       "    }\n",
       "\n",
       "    .dataframe thead th {\n",
       "        text-align: right;\n",
       "    }\n",
       "</style>\n",
       "<table border=\"1\" class=\"dataframe\">\n",
       "  <thead>\n",
       "    <tr style=\"text-align: right;\">\n",
       "      <th></th>\n",
       "      <th>name</th>\n",
       "      <th>platform</th>\n",
       "      <th>year_of_release</th>\n",
       "      <th>genre</th>\n",
       "      <th>na_sales</th>\n",
       "      <th>eu_sales</th>\n",
       "      <th>jp_sales</th>\n",
       "      <th>other_sales</th>\n",
       "      <th>critic_score</th>\n",
       "      <th>user_score</th>\n",
       "      <th>rating</th>\n",
       "    </tr>\n",
       "  </thead>\n",
       "  <tbody>\n",
       "    <tr>\n",
       "      <th>0</th>\n",
       "      <td>Wii Sports</td>\n",
       "      <td>Wii</td>\n",
       "      <td>2006.0</td>\n",
       "      <td>Sports</td>\n",
       "      <td>41.36</td>\n",
       "      <td>28.96</td>\n",
       "      <td>3.77</td>\n",
       "      <td>8.45</td>\n",
       "      <td>76.0</td>\n",
       "      <td>8</td>\n",
       "      <td>E</td>\n",
       "    </tr>\n",
       "    <tr>\n",
       "      <th>1</th>\n",
       "      <td>Super Mario Bros.</td>\n",
       "      <td>NES</td>\n",
       "      <td>1985.0</td>\n",
       "      <td>Platform</td>\n",
       "      <td>29.08</td>\n",
       "      <td>3.58</td>\n",
       "      <td>6.81</td>\n",
       "      <td>0.77</td>\n",
       "      <td>NaN</td>\n",
       "      <td>NaN</td>\n",
       "      <td>NaN</td>\n",
       "    </tr>\n",
       "    <tr>\n",
       "      <th>2</th>\n",
       "      <td>Mario Kart Wii</td>\n",
       "      <td>Wii</td>\n",
       "      <td>2008.0</td>\n",
       "      <td>Racing</td>\n",
       "      <td>15.68</td>\n",
       "      <td>12.76</td>\n",
       "      <td>3.79</td>\n",
       "      <td>3.29</td>\n",
       "      <td>82.0</td>\n",
       "      <td>8.3</td>\n",
       "      <td>E</td>\n",
       "    </tr>\n",
       "    <tr>\n",
       "      <th>3</th>\n",
       "      <td>Wii Sports Resort</td>\n",
       "      <td>Wii</td>\n",
       "      <td>2009.0</td>\n",
       "      <td>Sports</td>\n",
       "      <td>15.61</td>\n",
       "      <td>10.93</td>\n",
       "      <td>3.28</td>\n",
       "      <td>2.95</td>\n",
       "      <td>80.0</td>\n",
       "      <td>8</td>\n",
       "      <td>E</td>\n",
       "    </tr>\n",
       "    <tr>\n",
       "      <th>4</th>\n",
       "      <td>Pokemon Red/Pokemon Blue</td>\n",
       "      <td>GB</td>\n",
       "      <td>1996.0</td>\n",
       "      <td>Role-Playing</td>\n",
       "      <td>11.27</td>\n",
       "      <td>8.89</td>\n",
       "      <td>10.22</td>\n",
       "      <td>1.00</td>\n",
       "      <td>NaN</td>\n",
       "      <td>NaN</td>\n",
       "      <td>NaN</td>\n",
       "    </tr>\n",
       "  </tbody>\n",
       "</table>\n",
       "</div>"
      ],
      "text/plain": [
       "                       name platform  year_of_release         genre  na_sales  \\\n",
       "0                Wii Sports      Wii           2006.0        Sports     41.36   \n",
       "1         Super Mario Bros.      NES           1985.0      Platform     29.08   \n",
       "2            Mario Kart Wii      Wii           2008.0        Racing     15.68   \n",
       "3         Wii Sports Resort      Wii           2009.0        Sports     15.61   \n",
       "4  Pokemon Red/Pokemon Blue       GB           1996.0  Role-Playing     11.27   \n",
       "\n",
       "   eu_sales  jp_sales  other_sales  critic_score user_score rating  \n",
       "0     28.96      3.77         8.45          76.0          8      E  \n",
       "1      3.58      6.81         0.77           NaN        NaN    NaN  \n",
       "2     12.76      3.79         3.29          82.0        8.3      E  \n",
       "3     10.93      3.28         2.95          80.0          8      E  \n",
       "4      8.89     10.22         1.00           NaN        NaN    NaN  "
      ]
     },
     "execution_count": 7,
     "metadata": {},
     "output_type": "execute_result"
    }
   ],
   "source": [
    "data.columns = [\"name\", \"platform\", \"year_of_release\", \"genre\", \"na_sales\", \"eu_sales\", \"jp_sales\", \"other_sales\", \"critic_score\", \"user_score\", \"rating\"]\n",
    "data.head()"
   ]
  },
  {
   "cell_type": "markdown",
   "metadata": {},
   "source": [
    "### 2.2 Missing Values <a class=\"anchor\" id=\"chapter2.2\"></a>"
   ]
  },
  {
   "cell_type": "markdown",
   "metadata": {},
   "source": [
    "First we check the proportion of missing values per column:"
   ]
  },
  {
   "cell_type": "code",
   "execution_count": 8,
   "metadata": {},
   "outputs": [
    {
     "data": {
      "text/plain": [
       "name                  2\n",
       "platform              0\n",
       "year_of_release     269\n",
       "genre                 2\n",
       "na_sales              0\n",
       "eu_sales              0\n",
       "jp_sales              0\n",
       "other_sales           0\n",
       "critic_score       8578\n",
       "user_score         6701\n",
       "rating             6766\n",
       "dtype: int64"
      ]
     },
     "execution_count": 8,
     "metadata": {},
     "output_type": "execute_result"
    }
   ],
   "source": [
    "data.isna().sum()"
   ]
  },
  {
   "cell_type": "markdown",
   "metadata": {},
   "source": [
    "These are considerable amount of missing values. Before we will them in with medians, means or modes, we will try to replace these missing values by merging this dataset with another from Megacritic, which contains over 400k entries of games, with their release year and ratings."
   ]
  },
  {
   "cell_type": "markdown",
   "metadata": {},
   "source": [
    "**KAGGLE DATASET PREPROCESSING**"
   ]
  },
  {
   "cell_type": "code",
   "execution_count": 9,
   "metadata": {},
   "outputs": [
    {
     "data": {
      "text/html": [
       "<div>\n",
       "<style scoped>\n",
       "    .dataframe tbody tr th:only-of-type {\n",
       "        vertical-align: middle;\n",
       "    }\n",
       "\n",
       "    .dataframe tbody tr th {\n",
       "        vertical-align: top;\n",
       "    }\n",
       "\n",
       "    .dataframe thead th {\n",
       "        text-align: right;\n",
       "    }\n",
       "</style>\n",
       "<table border=\"1\" class=\"dataframe\">\n",
       "  <thead>\n",
       "    <tr style=\"text-align: right;\">\n",
       "      <th></th>\n",
       "      <th>Unnamed: 0</th>\n",
       "      <th>name</th>\n",
       "      <th>metacritic</th>\n",
       "      <th>rating</th>\n",
       "      <th>esrb_rating</th>\n",
       "    </tr>\n",
       "  </thead>\n",
       "  <tbody>\n",
       "    <tr>\n",
       "      <th>0</th>\n",
       "      <td>0</td>\n",
       "      <td>D/Generation HD</td>\n",
       "      <td>NaN</td>\n",
       "      <td>0.0</td>\n",
       "      <td>Everyone 10+</td>\n",
       "    </tr>\n",
       "    <tr>\n",
       "      <th>1</th>\n",
       "      <td>1</td>\n",
       "      <td>G Prime Into The Rain</td>\n",
       "      <td>NaN</td>\n",
       "      <td>0.0</td>\n",
       "      <td>Everyone</td>\n",
       "    </tr>\n",
       "    <tr>\n",
       "      <th>2</th>\n",
       "      <td>2</td>\n",
       "      <td>Land Sliders</td>\n",
       "      <td>NaN</td>\n",
       "      <td>0.0</td>\n",
       "      <td>Everyone 10+</td>\n",
       "    </tr>\n",
       "    <tr>\n",
       "      <th>3</th>\n",
       "      <td>3</td>\n",
       "      <td>Pixel Gear</td>\n",
       "      <td>NaN</td>\n",
       "      <td>0.0</td>\n",
       "      <td>Teen</td>\n",
       "    </tr>\n",
       "    <tr>\n",
       "      <th>4</th>\n",
       "      <td>4</td>\n",
       "      <td>Gods and Idols</td>\n",
       "      <td>NaN</td>\n",
       "      <td>0.0</td>\n",
       "      <td>NaN</td>\n",
       "    </tr>\n",
       "    <tr>\n",
       "      <th>...</th>\n",
       "      <td>...</td>\n",
       "      <td>...</td>\n",
       "      <td>...</td>\n",
       "      <td>...</td>\n",
       "      <td>...</td>\n",
       "    </tr>\n",
       "    <tr>\n",
       "      <th>474412</th>\n",
       "      <td>474412</td>\n",
       "      <td>Holy or Dead</td>\n",
       "      <td>NaN</td>\n",
       "      <td>0.0</td>\n",
       "      <td>NaN</td>\n",
       "    </tr>\n",
       "    <tr>\n",
       "      <th>474413</th>\n",
       "      <td>474413</td>\n",
       "      <td>Airstrike HD Demo</td>\n",
       "      <td>NaN</td>\n",
       "      <td>0.0</td>\n",
       "      <td>NaN</td>\n",
       "    </tr>\n",
       "    <tr>\n",
       "      <th>474414</th>\n",
       "      <td>474414</td>\n",
       "      <td>Urania's Mirror</td>\n",
       "      <td>NaN</td>\n",
       "      <td>0.0</td>\n",
       "      <td>NaN</td>\n",
       "    </tr>\n",
       "    <tr>\n",
       "      <th>474415</th>\n",
       "      <td>474415</td>\n",
       "      <td>Simucities</td>\n",
       "      <td>NaN</td>\n",
       "      <td>0.0</td>\n",
       "      <td>NaN</td>\n",
       "    </tr>\n",
       "    <tr>\n",
       "      <th>474416</th>\n",
       "      <td>474416</td>\n",
       "      <td>Pocket Assault (itch)</td>\n",
       "      <td>NaN</td>\n",
       "      <td>0.0</td>\n",
       "      <td>NaN</td>\n",
       "    </tr>\n",
       "  </tbody>\n",
       "</table>\n",
       "<p>474417 rows × 5 columns</p>\n",
       "</div>"
      ],
      "text/plain": [
       "        Unnamed: 0                   name  metacritic  rating   esrb_rating\n",
       "0                0        D/Generation HD         NaN     0.0  Everyone 10+\n",
       "1                1  G Prime Into The Rain         NaN     0.0      Everyone\n",
       "2                2           Land Sliders         NaN     0.0  Everyone 10+\n",
       "3                3             Pixel Gear         NaN     0.0          Teen\n",
       "4                4         Gods and Idols         NaN     0.0           NaN\n",
       "...            ...                    ...         ...     ...           ...\n",
       "474412      474412           Holy or Dead         NaN     0.0           NaN\n",
       "474413      474413      Airstrike HD Demo         NaN     0.0           NaN\n",
       "474414      474414        Urania's Mirror         NaN     0.0           NaN\n",
       "474415      474415             Simucities         NaN     0.0           NaN\n",
       "474416      474416  Pocket Assault (itch)         NaN     0.0           NaN\n",
       "\n",
       "[474417 rows x 5 columns]"
      ]
     },
     "execution_count": 9,
     "metadata": {},
     "output_type": "execute_result"
    }
   ],
   "source": [
    "import pandas as pd\n",
    "from io import BytesIO\n",
    "import requests\n",
    "spreadsheet_id = '1AFrRdJ1pdOwqul_DplBFM9sWwacRFBxzu74ZYNy-aPk'\n",
    "file_name = 'https://docs.google.com/spreadsheets/d/{}/export?format=csv'.format(spreadsheet_id)\n",
    "r = requests.get(file_name)\n",
    "kaggle = pd.read_csv(BytesIO(r.content))\n",
    "kaggle"
   ]
  },
  {
   "cell_type": "code",
   "execution_count": 10,
   "metadata": {},
   "outputs": [],
   "source": [
    "kaggle[\"esrb_rating\"]= kaggle[\"esrb_rating\"].replace([\"Everyone 10+\"], 'E10+')"
   ]
  },
  {
   "cell_type": "code",
   "execution_count": 11,
   "metadata": {},
   "outputs": [],
   "source": [
    "kaggle[\"esrb_rating\"]= kaggle[\"esrb_rating\"].replace([\"Teen\"], 'T')"
   ]
  },
  {
   "cell_type": "code",
   "execution_count": 12,
   "metadata": {},
   "outputs": [],
   "source": [
    "kaggle[\"esrb_rating\"]= kaggle[\"esrb_rating\"].replace([\"Mature\"], 'M')"
   ]
  },
  {
   "cell_type": "code",
   "execution_count": 13,
   "metadata": {},
   "outputs": [],
   "source": [
    "kaggle[\"esrb_rating\"]= kaggle[\"esrb_rating\"].replace([\"Everyone\"], 'E')"
   ]
  },
  {
   "cell_type": "code",
   "execution_count": 14,
   "metadata": {},
   "outputs": [],
   "source": [
    "kaggle[\"esrb_rating\"]= kaggle[\"esrb_rating\"].replace([\"Adults Only\"], 'AO')"
   ]
  },
  {
   "cell_type": "code",
   "execution_count": 15,
   "metadata": {},
   "outputs": [],
   "source": [
    "kaggle[\"esrb_rating\"]= kaggle[\"esrb_rating\"].replace([\"Rating Pending\"], 'RP')"
   ]
  },
  {
   "cell_type": "code",
   "execution_count": 16,
   "metadata": {},
   "outputs": [
    {
     "data": {
      "text/plain": [
       "E10+    36682\n",
       "T       10031\n",
       "M        4859\n",
       "E        3837\n",
       "AO        405\n",
       "RP         50\n",
       "Name: esrb_rating, dtype: int64"
      ]
     },
     "execution_count": 16,
     "metadata": {},
     "output_type": "execute_result"
    }
   ],
   "source": [
    "kaggle[\"esrb_rating\"].value_counts()"
   ]
  },
  {
   "cell_type": "code",
   "execution_count": 17,
   "metadata": {},
   "outputs": [
    {
     "data": {
      "text/html": [
       "<div>\n",
       "<style scoped>\n",
       "    .dataframe tbody tr th:only-of-type {\n",
       "        vertical-align: middle;\n",
       "    }\n",
       "\n",
       "    .dataframe tbody tr th {\n",
       "        vertical-align: top;\n",
       "    }\n",
       "\n",
       "    .dataframe thead th {\n",
       "        text-align: right;\n",
       "    }\n",
       "</style>\n",
       "<table border=\"1\" class=\"dataframe\">\n",
       "  <thead>\n",
       "    <tr style=\"text-align: right;\">\n",
       "      <th></th>\n",
       "      <th>Unnamed: 0</th>\n",
       "      <th>name</th>\n",
       "      <th>metacritic</th>\n",
       "      <th>rating</th>\n",
       "      <th>esrb_rating</th>\n",
       "    </tr>\n",
       "  </thead>\n",
       "  <tbody>\n",
       "    <tr>\n",
       "      <th>0</th>\n",
       "      <td>0</td>\n",
       "      <td>D/Generation HD</td>\n",
       "      <td>NaN</td>\n",
       "      <td>0.0</td>\n",
       "      <td>E10+</td>\n",
       "    </tr>\n",
       "    <tr>\n",
       "      <th>1</th>\n",
       "      <td>1</td>\n",
       "      <td>G Prime Into The Rain</td>\n",
       "      <td>NaN</td>\n",
       "      <td>0.0</td>\n",
       "      <td>E</td>\n",
       "    </tr>\n",
       "    <tr>\n",
       "      <th>2</th>\n",
       "      <td>2</td>\n",
       "      <td>Land Sliders</td>\n",
       "      <td>NaN</td>\n",
       "      <td>0.0</td>\n",
       "      <td>E10+</td>\n",
       "    </tr>\n",
       "    <tr>\n",
       "      <th>3</th>\n",
       "      <td>3</td>\n",
       "      <td>Pixel Gear</td>\n",
       "      <td>NaN</td>\n",
       "      <td>0.0</td>\n",
       "      <td>T</td>\n",
       "    </tr>\n",
       "    <tr>\n",
       "      <th>4</th>\n",
       "      <td>4</td>\n",
       "      <td>Gods and Idols</td>\n",
       "      <td>NaN</td>\n",
       "      <td>0.0</td>\n",
       "      <td>NaN</td>\n",
       "    </tr>\n",
       "  </tbody>\n",
       "</table>\n",
       "</div>"
      ],
      "text/plain": [
       "   Unnamed: 0                   name  metacritic  rating esrb_rating\n",
       "0           0        D/Generation HD         NaN     0.0        E10+\n",
       "1           1  G Prime Into The Rain         NaN     0.0           E\n",
       "2           2           Land Sliders         NaN     0.0        E10+\n",
       "3           3             Pixel Gear         NaN     0.0           T\n",
       "4           4         Gods and Idols         NaN     0.0         NaN"
      ]
     },
     "execution_count": 17,
     "metadata": {},
     "output_type": "execute_result"
    }
   ],
   "source": [
    "kaggle.head()"
   ]
  },
  {
   "cell_type": "code",
   "execution_count": 18,
   "metadata": {
    "scrolled": true
   },
   "outputs": [
    {
     "name": "stdout",
     "output_type": "stream",
     "text": [
      "<class 'pandas.core.frame.DataFrame'>\n",
      "RangeIndex: 474417 entries, 0 to 474416\n",
      "Data columns (total 5 columns):\n",
      " #   Column       Non-Null Count   Dtype  \n",
      "---  ------       --------------   -----  \n",
      " 0   Unnamed: 0   474417 non-null  int64  \n",
      " 1   name         474415 non-null  object \n",
      " 2   metacritic   4733 non-null    float64\n",
      " 3   rating       474417 non-null  float64\n",
      " 4   esrb_rating  55864 non-null   object \n",
      "dtypes: float64(2), int64(1), object(2)\n",
      "memory usage: 18.1+ MB\n"
     ]
    }
   ],
   "source": [
    "kaggle.info()"
   ]
  },
  {
   "cell_type": "code",
   "execution_count": 19,
   "metadata": {},
   "outputs": [],
   "source": [
    "games_names = data[\"name\"].unique()"
   ]
  },
  {
   "cell_type": "code",
   "execution_count": 20,
   "metadata": {},
   "outputs": [],
   "source": [
    "kaggle = kaggle[kaggle.name.isin(games_names)]"
   ]
  },
  {
   "cell_type": "code",
   "execution_count": 21,
   "metadata": {},
   "outputs": [],
   "source": [
    "newdata = data.merge(kaggle, on=\"name\", how=\"left\")"
   ]
  },
  {
   "cell_type": "code",
   "execution_count": 22,
   "metadata": {
    "scrolled": true
   },
   "outputs": [
    {
     "name": "stdout",
     "output_type": "stream",
     "text": [
      "<class 'pandas.core.frame.DataFrame'>\n",
      "Int64Index: 16717 entries, 0 to 16716\n",
      "Data columns (total 15 columns):\n",
      " #   Column           Non-Null Count  Dtype  \n",
      "---  ------           --------------  -----  \n",
      " 0   name             16713 non-null  object \n",
      " 1   platform         16717 non-null  object \n",
      " 2   year_of_release  16448 non-null  float64\n",
      " 3   genre            16713 non-null  object \n",
      " 4   na_sales         16717 non-null  float64\n",
      " 5   eu_sales         16717 non-null  float64\n",
      " 6   jp_sales         16717 non-null  float64\n",
      " 7   other_sales      16717 non-null  float64\n",
      " 8   critic_score     8137 non-null   float64\n",
      " 9   user_score       10014 non-null  object \n",
      " 10  rating_x         9949 non-null   object \n",
      " 11  Unnamed: 0       9824 non-null   float64\n",
      " 12  metacritic       2346 non-null   float64\n",
      " 13  rating_y         9824 non-null   float64\n",
      " 14  esrb_rating      3448 non-null   object \n",
      "dtypes: float64(9), object(6)\n",
      "memory usage: 2.0+ MB\n"
     ]
    }
   ],
   "source": [
    "newdata.info()"
   ]
  },
  {
   "cell_type": "code",
   "execution_count": 23,
   "metadata": {
    "scrolled": true
   },
   "outputs": [
    {
     "data": {
      "text/plain": [
       "name                   4\n",
       "platform               0\n",
       "year_of_release      269\n",
       "genre                  4\n",
       "na_sales               0\n",
       "eu_sales               0\n",
       "jp_sales               0\n",
       "other_sales            0\n",
       "critic_score        8580\n",
       "user_score          6703\n",
       "rating_x            6768\n",
       "Unnamed: 0          6893\n",
       "metacritic         14371\n",
       "rating_y            6893\n",
       "esrb_rating        13269\n",
       "dtype: int64"
      ]
     },
     "execution_count": 23,
     "metadata": {},
     "output_type": "execute_result"
    }
   ],
   "source": [
    "newdata.isna().sum()"
   ]
  },
  {
   "cell_type": "markdown",
   "metadata": {},
   "source": [
    "**name**"
   ]
  },
  {
   "cell_type": "code",
   "execution_count": 24,
   "metadata": {
    "scrolled": true
   },
   "outputs": [],
   "source": [
    "newdata[\"name\"]=newdata[\"name\"].fillna(\"missing\")"
   ]
  },
  {
   "cell_type": "markdown",
   "metadata": {},
   "source": [
    "The missing values from \"name\" column seem to be very incomplete; they barely have sales and no reviews or rating whatsoever. Since these are only 2 entries out of 16715, we will drop them."
   ]
  },
  {
   "cell_type": "code",
   "execution_count": 25,
   "metadata": {},
   "outputs": [
    {
     "data": {
      "text/plain": [
       "659      missing\n",
       "660      missing\n",
       "14245    missing\n",
       "14246    missing\n",
       "Name: name, dtype: object"
      ]
     },
     "execution_count": 25,
     "metadata": {},
     "output_type": "execute_result"
    }
   ],
   "source": [
    "newdata[\"name\"].loc[newdata[\"name\"]==\"missing\"]"
   ]
  },
  {
   "cell_type": "code",
   "execution_count": 26,
   "metadata": {
    "scrolled": true
   },
   "outputs": [],
   "source": [
    "newdata = newdata.drop([659, 660, 14245, 14246])"
   ]
  },
  {
   "cell_type": "code",
   "execution_count": 27,
   "metadata": {},
   "outputs": [
    {
     "data": {
      "text/plain": [
       "name                   0\n",
       "platform               0\n",
       "year_of_release      269\n",
       "genre                  0\n",
       "na_sales               0\n",
       "eu_sales               0\n",
       "jp_sales               0\n",
       "other_sales            0\n",
       "critic_score        8576\n",
       "user_score          6699\n",
       "rating_x            6764\n",
       "Unnamed: 0          6893\n",
       "metacritic         14367\n",
       "rating_y            6893\n",
       "esrb_rating        13265\n",
       "dtype: int64"
      ]
     },
     "execution_count": 27,
     "metadata": {},
     "output_type": "execute_result"
    }
   ],
   "source": [
    "newdata.isna().sum()"
   ]
  },
  {
   "cell_type": "markdown",
   "metadata": {},
   "source": [
    "As the year of release can be related to the platform, we can pull the median year of release per platform and assign it to the missing values of each platform accordingly. \n",
    "\n",
    "We chose the median as it would be the \"middle\" value of all games' year of release for that platformm (and it is usually the most common value as well). Platforms don't have a wide popularity lifespan, as it is a very fast-paced industry, so the median would be quite accurate in this case. "
   ]
  },
  {
   "cell_type": "code",
   "execution_count": 28,
   "metadata": {},
   "outputs": [],
   "source": [
    "newdata[\"year_of_release\"] = newdata.groupby(\"name\")[\"year_of_release\"].transform(\n",
    "    lambda grp: grp.fillna(grp.median()))"
   ]
  },
  {
   "cell_type": "code",
   "execution_count": 29,
   "metadata": {},
   "outputs": [],
   "source": [
    "newdata[\"year_of_release\"] = newdata[\"year_of_release\"].round()"
   ]
  },
  {
   "cell_type": "code",
   "execution_count": 30,
   "metadata": {},
   "outputs": [
    {
     "data": {
      "text/plain": [
       "name                   0\n",
       "platform               0\n",
       "year_of_release      146\n",
       "genre                  0\n",
       "na_sales               0\n",
       "eu_sales               0\n",
       "jp_sales               0\n",
       "other_sales            0\n",
       "critic_score        8576\n",
       "user_score          6699\n",
       "rating_x            6764\n",
       "Unnamed: 0          6893\n",
       "metacritic         14367\n",
       "rating_y            6893\n",
       "esrb_rating        13265\n",
       "dtype: int64"
      ]
     },
     "execution_count": 30,
     "metadata": {},
     "output_type": "execute_result"
    }
   ],
   "source": [
    "newdata.isnull().sum()"
   ]
  },
  {
   "cell_type": "markdown",
   "metadata": {},
   "source": [
    "Good! We have replaced the missing values in \"year_of_release\" with the median value of the corresponding platform for each entry. There are still 146 entries whose missing values could not be replaced though. They only represent 0.87% of the dataset, so we will drop them."
   ]
  },
  {
   "cell_type": "code",
   "execution_count": 31,
   "metadata": {},
   "outputs": [],
   "source": [
    "newdata = newdata.dropna(subset=['year_of_release'])"
   ]
  },
  {
   "cell_type": "code",
   "execution_count": 32,
   "metadata": {},
   "outputs": [
    {
     "data": {
      "text/plain": [
       "name                   0\n",
       "platform               0\n",
       "year_of_release        0\n",
       "genre                  0\n",
       "na_sales               0\n",
       "eu_sales               0\n",
       "jp_sales               0\n",
       "other_sales            0\n",
       "critic_score        8492\n",
       "user_score          6633\n",
       "rating_x            6699\n",
       "Unnamed: 0          6842\n",
       "metacritic         14233\n",
       "rating_y            6842\n",
       "esrb_rating        13140\n",
       "dtype: int64"
      ]
     },
     "execution_count": 32,
     "metadata": {},
     "output_type": "execute_result"
    }
   ],
   "source": [
    "newdata.isnull().sum()"
   ]
  },
  {
   "cell_type": "markdown",
   "metadata": {},
   "source": [
    "We will try to replace the missing values with the corresponding columns from the kaggle dataset."
   ]
  },
  {
   "cell_type": "code",
   "execution_count": 33,
   "metadata": {},
   "outputs": [],
   "source": [
    "newdata[\"critic_score\"]=newdata[\"critic_score\"].fillna(value=newdata['metacritic'])"
   ]
  },
  {
   "cell_type": "code",
   "execution_count": 34,
   "metadata": {},
   "outputs": [],
   "source": [
    "newdata[\"user_score\"]=newdata[\"user_score\"].fillna(newdata['rating_y'])"
   ]
  },
  {
   "cell_type": "code",
   "execution_count": 35,
   "metadata": {},
   "outputs": [],
   "source": [
    "newdata[\"rating_x\"]=newdata[\"rating_x\"].fillna(newdata['esrb_rating'])"
   ]
  },
  {
   "cell_type": "code",
   "execution_count": 36,
   "metadata": {},
   "outputs": [
    {
     "data": {
      "text/plain": [
       "name                   0\n",
       "platform               0\n",
       "year_of_release        0\n",
       "genre                  0\n",
       "na_sales               0\n",
       "eu_sales               0\n",
       "jp_sales               0\n",
       "other_sales            0\n",
       "critic_score        8144\n",
       "user_score          4201\n",
       "rating_x            6206\n",
       "Unnamed: 0          6842\n",
       "metacritic         14233\n",
       "rating_y            6842\n",
       "esrb_rating        13140\n",
       "dtype: int64"
      ]
     },
     "execution_count": 36,
     "metadata": {},
     "output_type": "execute_result"
    }
   ],
   "source": [
    "newdata.isnull().sum()"
   ]
  },
  {
   "cell_type": "markdown",
   "metadata": {},
   "source": [
    "We were able to get rid of some missing values, but there are still some left. We will need to continue with these as they are though."
   ]
  },
  {
   "cell_type": "code",
   "execution_count": 37,
   "metadata": {},
   "outputs": [],
   "source": [
    "#Dropping unnecessary columns imported from kaggle\n",
    "newdata = newdata.drop(labels=[\"metacritic\", \"rating_y\", \"esrb_rating\"], axis=\"columns\")"
   ]
  },
  {
   "cell_type": "code",
   "execution_count": 38,
   "metadata": {},
   "outputs": [],
   "source": [
    "newdata = newdata.rename(columns={\"rating_x\": \"rating\"})"
   ]
  },
  {
   "cell_type": "code",
   "execution_count": 39,
   "metadata": {},
   "outputs": [
    {
     "name": "stdout",
     "output_type": "stream",
     "text": [
      "<class 'pandas.core.frame.DataFrame'>\n",
      "Int64Index: 16567 entries, 0 to 16716\n",
      "Data columns (total 12 columns):\n",
      " #   Column           Non-Null Count  Dtype  \n",
      "---  ------           --------------  -----  \n",
      " 0   name             16567 non-null  object \n",
      " 1   platform         16567 non-null  object \n",
      " 2   year_of_release  16567 non-null  float64\n",
      " 3   genre            16567 non-null  object \n",
      " 4   na_sales         16567 non-null  float64\n",
      " 5   eu_sales         16567 non-null  float64\n",
      " 6   jp_sales         16567 non-null  float64\n",
      " 7   other_sales      16567 non-null  float64\n",
      " 8   critic_score     8423 non-null   float64\n",
      " 9   user_score       12366 non-null  object \n",
      " 10  rating           10361 non-null  object \n",
      " 11  Unnamed: 0       9725 non-null   float64\n",
      "dtypes: float64(7), object(5)\n",
      "memory usage: 1.6+ MB\n"
     ]
    }
   ],
   "source": [
    "newdata.info()"
   ]
  },
  {
   "cell_type": "code",
   "execution_count": 40,
   "metadata": {
    "scrolled": true
   },
   "outputs": [
    {
     "data": {
      "text/plain": [
       "name                  0\n",
       "platform              0\n",
       "year_of_release       0\n",
       "genre                 0\n",
       "na_sales              0\n",
       "eu_sales              0\n",
       "jp_sales              0\n",
       "other_sales           0\n",
       "critic_score       8144\n",
       "user_score         4201\n",
       "rating             6206\n",
       "Unnamed: 0         6842\n",
       "dtype: int64"
      ]
     },
     "execution_count": 40,
     "metadata": {},
     "output_type": "execute_result"
    }
   ],
   "source": [
    "newdata.isna().sum()"
   ]
  },
  {
   "cell_type": "markdown",
   "metadata": {},
   "source": [
    "Let's try to replace the remaining missing values. For rating, we will use the genre as basis to fill them.."
   ]
  },
  {
   "cell_type": "code",
   "execution_count": 41,
   "metadata": {},
   "outputs": [],
   "source": [
    "newdata[\"rating\"] = newdata.groupby(\"genre\")[\"rating\"].apply(\n",
    "    lambda grp: grp.fillna(grp.value_counts().index[0]))"
   ]
  },
  {
   "cell_type": "code",
   "execution_count": 42,
   "metadata": {},
   "outputs": [
    {
     "data": {
      "text/plain": [
       "E       7604\n",
       "T       5454\n",
       "M       1923\n",
       "E10+    1565\n",
       "EC         8\n",
       "AO         7\n",
       "K-A        3\n",
       "RP         3\n",
       "Name: rating, dtype: int64"
      ]
     },
     "execution_count": 42,
     "metadata": {},
     "output_type": "execute_result"
    }
   ],
   "source": [
    "newdata[\"rating\"].value_counts()"
   ]
  },
  {
   "cell_type": "code",
   "execution_count": 43,
   "metadata": {
    "scrolled": true
   },
   "outputs": [
    {
     "data": {
      "text/plain": [
       "name                  0\n",
       "platform              0\n",
       "year_of_release       0\n",
       "genre                 0\n",
       "na_sales              0\n",
       "eu_sales              0\n",
       "jp_sales              0\n",
       "other_sales           0\n",
       "critic_score       8144\n",
       "user_score         4201\n",
       "rating                0\n",
       "Unnamed: 0         6842\n",
       "dtype: int64"
      ]
     },
     "execution_count": 43,
     "metadata": {},
     "output_type": "execute_result"
    }
   ],
   "source": [
    "newdata.isna().sum()"
   ]
  },
  {
   "cell_type": "code",
   "execution_count": 44,
   "metadata": {},
   "outputs": [
    {
     "data": {
      "text/plain": [
       "71.0    259\n",
       "70.0    259\n",
       "75.0    251\n",
       "78.0    250\n",
       "80.0    250\n",
       "       ... \n",
       "29.0      3\n",
       "99.0      2\n",
       "17.0      1\n",
       "21.0      1\n",
       "13.0      1\n",
       "Name: critic_score, Length: 82, dtype: int64"
      ]
     },
     "execution_count": 44,
     "metadata": {},
     "output_type": "execute_result"
    }
   ],
   "source": [
    "newdata[\"critic_score\"].value_counts()"
   ]
  },
  {
   "cell_type": "markdown",
   "metadata": {},
   "source": [
    "In this sub section we have dealt with quite a number of missing values. The big amount indicates that the dataset has not been updated for a long time, for example, user_scores still have TBD in many games that are a couple of years old now, same with critics reviews and esrb ratings; these are published after a certain amount of reviews is reached. \n",
    "\n",
    "As per year of release, the reason could be that some games were released long time ago, or again, the dataset was not maintained properly."
   ]
  },
  {
   "cell_type": "markdown",
   "metadata": {},
   "source": [
    "### 2.3 Duplicates<a class=\"anchor\" id=\"chapter2.3\"></a>"
   ]
  },
  {
   "cell_type": "markdown",
   "metadata": {
    "scrolled": true
   },
   "source": [
    "We will check first for duplicates:"
   ]
  },
  {
   "cell_type": "code",
   "execution_count": 45,
   "metadata": {},
   "outputs": [],
   "source": [
    "newdata[\"name\"] = newdata[\"name\"].str.lower()"
   ]
  },
  {
   "cell_type": "code",
   "execution_count": 46,
   "metadata": {},
   "outputs": [],
   "source": [
    "newdata[\"platform\"] = newdata[\"platform\"].str.lower()"
   ]
  },
  {
   "cell_type": "code",
   "execution_count": 47,
   "metadata": {},
   "outputs": [],
   "source": [
    "newdata[\"genre\"] = newdata[\"genre\"].str.lower()"
   ]
  },
  {
   "cell_type": "code",
   "execution_count": 48,
   "metadata": {},
   "outputs": [
    {
     "data": {
      "text/plain": [
       "0"
      ]
     },
     "execution_count": 48,
     "metadata": {},
     "output_type": "execute_result"
    }
   ],
   "source": [
    "newdata.duplicated().sum()"
   ]
  },
  {
   "cell_type": "markdown",
   "metadata": {},
   "source": [
    "### 2.4 Data Types <a class=\"anchor\" id=\"chapter2.4\"></a>"
   ]
  },
  {
   "cell_type": "markdown",
   "metadata": {},
   "source": [
    "With no missing values left, we can adjust the data types."
   ]
  },
  {
   "cell_type": "code",
   "execution_count": 49,
   "metadata": {
    "scrolled": true
   },
   "outputs": [
    {
     "name": "stdout",
     "output_type": "stream",
     "text": [
      "<class 'pandas.core.frame.DataFrame'>\n",
      "Int64Index: 16567 entries, 0 to 16716\n",
      "Data columns (total 12 columns):\n",
      " #   Column           Non-Null Count  Dtype  \n",
      "---  ------           --------------  -----  \n",
      " 0   name             16567 non-null  object \n",
      " 1   platform         16567 non-null  object \n",
      " 2   year_of_release  16567 non-null  float64\n",
      " 3   genre            16567 non-null  object \n",
      " 4   na_sales         16567 non-null  float64\n",
      " 5   eu_sales         16567 non-null  float64\n",
      " 6   jp_sales         16567 non-null  float64\n",
      " 7   other_sales      16567 non-null  float64\n",
      " 8   critic_score     8423 non-null   float64\n",
      " 9   user_score       12366 non-null  object \n",
      " 10  rating           16567 non-null  object \n",
      " 11  Unnamed: 0       9725 non-null   float64\n",
      "dtypes: float64(7), object(5)\n",
      "memory usage: 2.3+ MB\n"
     ]
    }
   ],
   "source": [
    "newdata.info()"
   ]
  },
  {
   "cell_type": "code",
   "execution_count": 50,
   "metadata": {
    "scrolled": true
   },
   "outputs": [],
   "source": [
    "newdata[\"year_of_release\"] = newdata[\"year_of_release\"].round().astype(\"int\")"
   ]
  },
  {
   "cell_type": "markdown",
   "metadata": {},
   "source": [
    "User score is an \"object\" because there is a \"TBD\" value there, \"to be determined\". We will assume this value is given to those games who did not get enough number of reviews to display an average.  We still need to convert this column to numerical values though, as it is currently \"string\"."
   ]
  },
  {
   "cell_type": "code",
   "execution_count": 51,
   "metadata": {
    "scrolled": true
   },
   "outputs": [
    {
     "data": {
      "text/html": [
       "<div>\n",
       "<style scoped>\n",
       "    .dataframe tbody tr th:only-of-type {\n",
       "        vertical-align: middle;\n",
       "    }\n",
       "\n",
       "    .dataframe tbody tr th {\n",
       "        vertical-align: top;\n",
       "    }\n",
       "\n",
       "    .dataframe thead th {\n",
       "        text-align: right;\n",
       "    }\n",
       "</style>\n",
       "<table border=\"1\" class=\"dataframe\">\n",
       "  <thead>\n",
       "    <tr style=\"text-align: right;\">\n",
       "      <th></th>\n",
       "      <th>name</th>\n",
       "      <th>platform</th>\n",
       "      <th>year_of_release</th>\n",
       "      <th>genre</th>\n",
       "      <th>na_sales</th>\n",
       "      <th>eu_sales</th>\n",
       "      <th>jp_sales</th>\n",
       "      <th>other_sales</th>\n",
       "      <th>critic_score</th>\n",
       "      <th>user_score</th>\n",
       "      <th>rating</th>\n",
       "      <th>Unnamed: 0</th>\n",
       "    </tr>\n",
       "  </thead>\n",
       "  <tbody>\n",
       "    <tr>\n",
       "      <th>119</th>\n",
       "      <td>zumba fitness</td>\n",
       "      <td>wii</td>\n",
       "      <td>2010</td>\n",
       "      <td>sports</td>\n",
       "      <td>3.45</td>\n",
       "      <td>2.59</td>\n",
       "      <td>0.0</td>\n",
       "      <td>0.66</td>\n",
       "      <td>NaN</td>\n",
       "      <td>tbd</td>\n",
       "      <td>E</td>\n",
       "      <td>126453.0</td>\n",
       "    </tr>\n",
       "    <tr>\n",
       "      <th>301</th>\n",
       "      <td>namco museum: 50th anniversary</td>\n",
       "      <td>ps2</td>\n",
       "      <td>2005</td>\n",
       "      <td>misc</td>\n",
       "      <td>2.08</td>\n",
       "      <td>1.35</td>\n",
       "      <td>0.0</td>\n",
       "      <td>0.54</td>\n",
       "      <td>61.0</td>\n",
       "      <td>tbd</td>\n",
       "      <td>E10+</td>\n",
       "      <td>NaN</td>\n",
       "    </tr>\n",
       "    <tr>\n",
       "      <th>520</th>\n",
       "      <td>zumba fitness 2</td>\n",
       "      <td>wii</td>\n",
       "      <td>2011</td>\n",
       "      <td>sports</td>\n",
       "      <td>1.51</td>\n",
       "      <td>1.03</td>\n",
       "      <td>0.0</td>\n",
       "      <td>0.27</td>\n",
       "      <td>NaN</td>\n",
       "      <td>tbd</td>\n",
       "      <td>T</td>\n",
       "      <td>144833.0</td>\n",
       "    </tr>\n",
       "    <tr>\n",
       "      <th>645</th>\n",
       "      <td>udraw studio</td>\n",
       "      <td>wii</td>\n",
       "      <td>2010</td>\n",
       "      <td>misc</td>\n",
       "      <td>1.65</td>\n",
       "      <td>0.57</td>\n",
       "      <td>0.0</td>\n",
       "      <td>0.20</td>\n",
       "      <td>71.0</td>\n",
       "      <td>tbd</td>\n",
       "      <td>E</td>\n",
       "      <td>NaN</td>\n",
       "    </tr>\n",
       "    <tr>\n",
       "      <th>719</th>\n",
       "      <td>just dance kids</td>\n",
       "      <td>wii</td>\n",
       "      <td>2010</td>\n",
       "      <td>misc</td>\n",
       "      <td>1.52</td>\n",
       "      <td>0.54</td>\n",
       "      <td>0.0</td>\n",
       "      <td>0.18</td>\n",
       "      <td>NaN</td>\n",
       "      <td>tbd</td>\n",
       "      <td>E</td>\n",
       "      <td>166437.0</td>\n",
       "    </tr>\n",
       "    <tr>\n",
       "      <th>...</th>\n",
       "      <td>...</td>\n",
       "      <td>...</td>\n",
       "      <td>...</td>\n",
       "      <td>...</td>\n",
       "      <td>...</td>\n",
       "      <td>...</td>\n",
       "      <td>...</td>\n",
       "      <td>...</td>\n",
       "      <td>...</td>\n",
       "      <td>...</td>\n",
       "      <td>...</td>\n",
       "      <td>...</td>\n",
       "    </tr>\n",
       "    <tr>\n",
       "      <th>16697</th>\n",
       "      <td>planet monsters</td>\n",
       "      <td>gba</td>\n",
       "      <td>2001</td>\n",
       "      <td>action</td>\n",
       "      <td>0.01</td>\n",
       "      <td>0.00</td>\n",
       "      <td>0.0</td>\n",
       "      <td>0.00</td>\n",
       "      <td>67.0</td>\n",
       "      <td>tbd</td>\n",
       "      <td>E</td>\n",
       "      <td>NaN</td>\n",
       "    </tr>\n",
       "    <tr>\n",
       "      <th>16699</th>\n",
       "      <td>bust-a-move 3000</td>\n",
       "      <td>gc</td>\n",
       "      <td>2003</td>\n",
       "      <td>puzzle</td>\n",
       "      <td>0.01</td>\n",
       "      <td>0.00</td>\n",
       "      <td>0.0</td>\n",
       "      <td>0.00</td>\n",
       "      <td>53.0</td>\n",
       "      <td>tbd</td>\n",
       "      <td>E</td>\n",
       "      <td>NaN</td>\n",
       "    </tr>\n",
       "    <tr>\n",
       "      <th>16700</th>\n",
       "      <td>mega brain boost</td>\n",
       "      <td>ds</td>\n",
       "      <td>2008</td>\n",
       "      <td>puzzle</td>\n",
       "      <td>0.01</td>\n",
       "      <td>0.00</td>\n",
       "      <td>0.0</td>\n",
       "      <td>0.00</td>\n",
       "      <td>48.0</td>\n",
       "      <td>tbd</td>\n",
       "      <td>E</td>\n",
       "      <td>155090.0</td>\n",
       "    </tr>\n",
       "    <tr>\n",
       "      <th>16706</th>\n",
       "      <td>plushees</td>\n",
       "      <td>ds</td>\n",
       "      <td>2008</td>\n",
       "      <td>simulation</td>\n",
       "      <td>0.01</td>\n",
       "      <td>0.00</td>\n",
       "      <td>0.0</td>\n",
       "      <td>0.00</td>\n",
       "      <td>NaN</td>\n",
       "      <td>tbd</td>\n",
       "      <td>E</td>\n",
       "      <td>155747.0</td>\n",
       "    </tr>\n",
       "    <tr>\n",
       "      <th>16708</th>\n",
       "      <td>men in black ii: alien escape</td>\n",
       "      <td>gc</td>\n",
       "      <td>2003</td>\n",
       "      <td>shooter</td>\n",
       "      <td>0.01</td>\n",
       "      <td>0.00</td>\n",
       "      <td>0.0</td>\n",
       "      <td>0.00</td>\n",
       "      <td>NaN</td>\n",
       "      <td>tbd</td>\n",
       "      <td>T</td>\n",
       "      <td>436200.0</td>\n",
       "    </tr>\n",
       "  </tbody>\n",
       "</table>\n",
       "<p>2394 rows × 12 columns</p>\n",
       "</div>"
      ],
      "text/plain": [
       "                                 name platform  year_of_release       genre  \\\n",
       "119                     zumba fitness      wii             2010      sports   \n",
       "301    namco museum: 50th anniversary      ps2             2005        misc   \n",
       "520                   zumba fitness 2      wii             2011      sports   \n",
       "645                      udraw studio      wii             2010        misc   \n",
       "719                   just dance kids      wii             2010        misc   \n",
       "...                               ...      ...              ...         ...   \n",
       "16697                 planet monsters      gba             2001      action   \n",
       "16699                bust-a-move 3000       gc             2003      puzzle   \n",
       "16700                mega brain boost       ds             2008      puzzle   \n",
       "16706                        plushees       ds             2008  simulation   \n",
       "16708   men in black ii: alien escape       gc             2003     shooter   \n",
       "\n",
       "       na_sales  eu_sales  jp_sales  other_sales  critic_score user_score  \\\n",
       "119        3.45      2.59       0.0         0.66           NaN        tbd   \n",
       "301        2.08      1.35       0.0         0.54          61.0        tbd   \n",
       "520        1.51      1.03       0.0         0.27           NaN        tbd   \n",
       "645        1.65      0.57       0.0         0.20          71.0        tbd   \n",
       "719        1.52      0.54       0.0         0.18           NaN        tbd   \n",
       "...         ...       ...       ...          ...           ...        ...   \n",
       "16697      0.01      0.00       0.0         0.00          67.0        tbd   \n",
       "16699      0.01      0.00       0.0         0.00          53.0        tbd   \n",
       "16700      0.01      0.00       0.0         0.00          48.0        tbd   \n",
       "16706      0.01      0.00       0.0         0.00           NaN        tbd   \n",
       "16708      0.01      0.00       0.0         0.00           NaN        tbd   \n",
       "\n",
       "      rating  Unnamed: 0  \n",
       "119        E    126453.0  \n",
       "301     E10+         NaN  \n",
       "520        T    144833.0  \n",
       "645        E         NaN  \n",
       "719        E    166437.0  \n",
       "...      ...         ...  \n",
       "16697      E         NaN  \n",
       "16699      E         NaN  \n",
       "16700      E    155090.0  \n",
       "16706      E    155747.0  \n",
       "16708      T    436200.0  \n",
       "\n",
       "[2394 rows x 12 columns]"
      ]
     },
     "execution_count": 51,
     "metadata": {},
     "output_type": "execute_result"
    }
   ],
   "source": [
    "newdata.loc[newdata[\"user_score\"]==\"tbd\"]"
   ]
  },
  {
   "cell_type": "code",
   "execution_count": 52,
   "metadata": {},
   "outputs": [
    {
     "data": {
      "text/plain": [
       "tbd     2394\n",
       "0.0     1665\n",
       "7.8      324\n",
       "8        288\n",
       "8.2      279\n",
       "        ... \n",
       "9.7        1\n",
       "2.67       1\n",
       "3.99       1\n",
       "4.62       1\n",
       "2.82       1\n",
       "Name: user_score, Length: 248, dtype: int64"
      ]
     },
     "execution_count": 52,
     "metadata": {},
     "output_type": "execute_result"
    }
   ],
   "source": [
    "newdata[\"user_score\"].value_counts()"
   ]
  },
  {
   "cell_type": "code",
   "execution_count": 53,
   "metadata": {},
   "outputs": [],
   "source": [
    "newdata[\"user_score\"] = pd.to_numeric(newdata[\"user_score\"], errors = \"coerce\")"
   ]
  },
  {
   "cell_type": "code",
   "execution_count": 54,
   "metadata": {
    "scrolled": true
   },
   "outputs": [
    {
     "data": {
      "text/plain": [
       "0.00    1666\n",
       "7.80     324\n",
       "8.00     288\n",
       "8.20     279\n",
       "8.30     253\n",
       "        ... \n",
       "2.71       1\n",
       "2.44       1\n",
       "3.22       1\n",
       "3.48       1\n",
       "3.24       1\n",
       "Name: user_score, Length: 227, dtype: int64"
      ]
     },
     "execution_count": 54,
     "metadata": {},
     "output_type": "execute_result"
    }
   ],
   "source": [
    "newdata[\"user_score\"].value_counts()"
   ]
  },
  {
   "cell_type": "code",
   "execution_count": 55,
   "metadata": {},
   "outputs": [
    {
     "data": {
      "text/plain": [
       "name                  0\n",
       "platform              0\n",
       "year_of_release       0\n",
       "genre                 0\n",
       "na_sales              0\n",
       "eu_sales              0\n",
       "jp_sales              0\n",
       "other_sales           0\n",
       "critic_score       8144\n",
       "user_score         6595\n",
       "rating                0\n",
       "Unnamed: 0         6842\n",
       "dtype: int64"
      ]
     },
     "execution_count": 55,
     "metadata": {},
     "output_type": "execute_result"
    }
   ],
   "source": [
    "newdata.isna().sum()"
   ]
  },
  {
   "cell_type": "code",
   "execution_count": 56,
   "metadata": {},
   "outputs": [],
   "source": [
    "newdata[\"user_score\"] =newdata[\"user_score\"].astype(\"float\") "
   ]
  },
  {
   "cell_type": "code",
   "execution_count": 57,
   "metadata": {},
   "outputs": [
    {
     "name": "stdout",
     "output_type": "stream",
     "text": [
      "<class 'pandas.core.frame.DataFrame'>\n",
      "Int64Index: 16567 entries, 0 to 16716\n",
      "Data columns (total 12 columns):\n",
      " #   Column           Non-Null Count  Dtype  \n",
      "---  ------           --------------  -----  \n",
      " 0   name             16567 non-null  object \n",
      " 1   platform         16567 non-null  object \n",
      " 2   year_of_release  16567 non-null  int32  \n",
      " 3   genre            16567 non-null  object \n",
      " 4   na_sales         16567 non-null  float64\n",
      " 5   eu_sales         16567 non-null  float64\n",
      " 6   jp_sales         16567 non-null  float64\n",
      " 7   other_sales      16567 non-null  float64\n",
      " 8   critic_score     8423 non-null   float64\n",
      " 9   user_score       9972 non-null   float64\n",
      " 10  rating           16567 non-null  object \n",
      " 11  Unnamed: 0       9725 non-null   float64\n",
      "dtypes: float64(7), int32(1), object(4)\n",
      "memory usage: 2.2+ MB\n"
     ]
    }
   ],
   "source": [
    "newdata.info()"
   ]
  },
  {
   "cell_type": "markdown",
   "metadata": {},
   "source": [
    "We now have the right data types. User_score \"tbd\" values have been replaced by a numerical \"nan\", so we will still have missing values but at least the column is now a float, which will allow us to perform calculations and graphs later on.\n",
    "\n",
    "The last step is to create a new column that holds the total sales for each game."
   ]
  },
  {
   "cell_type": "markdown",
   "metadata": {},
   "source": [
    "### 2.5 Global Sales<a class=\"anchor\" id=\"chapter2.5\"></a>"
   ]
  },
  {
   "cell_type": "code",
   "execution_count": 58,
   "metadata": {
    "scrolled": true
   },
   "outputs": [
    {
     "data": {
      "text/html": [
       "<div>\n",
       "<style scoped>\n",
       "    .dataframe tbody tr th:only-of-type {\n",
       "        vertical-align: middle;\n",
       "    }\n",
       "\n",
       "    .dataframe tbody tr th {\n",
       "        vertical-align: top;\n",
       "    }\n",
       "\n",
       "    .dataframe thead th {\n",
       "        text-align: right;\n",
       "    }\n",
       "</style>\n",
       "<table border=\"1\" class=\"dataframe\">\n",
       "  <thead>\n",
       "    <tr style=\"text-align: right;\">\n",
       "      <th></th>\n",
       "      <th>name</th>\n",
       "      <th>platform</th>\n",
       "      <th>year_of_release</th>\n",
       "      <th>genre</th>\n",
       "      <th>na_sales</th>\n",
       "      <th>eu_sales</th>\n",
       "      <th>jp_sales</th>\n",
       "      <th>other_sales</th>\n",
       "      <th>critic_score</th>\n",
       "      <th>user_score</th>\n",
       "      <th>rating</th>\n",
       "      <th>Unnamed: 0</th>\n",
       "      <th>total_sales</th>\n",
       "    </tr>\n",
       "  </thead>\n",
       "  <tbody>\n",
       "    <tr>\n",
       "      <th>0</th>\n",
       "      <td>wii sports</td>\n",
       "      <td>wii</td>\n",
       "      <td>2006</td>\n",
       "      <td>sports</td>\n",
       "      <td>41.36</td>\n",
       "      <td>28.96</td>\n",
       "      <td>3.77</td>\n",
       "      <td>8.45</td>\n",
       "      <td>76.0</td>\n",
       "      <td>8.00</td>\n",
       "      <td>E</td>\n",
       "      <td>152116.0</td>\n",
       "      <td>74.09</td>\n",
       "    </tr>\n",
       "    <tr>\n",
       "      <th>1</th>\n",
       "      <td>super mario bros.</td>\n",
       "      <td>nes</td>\n",
       "      <td>1985</td>\n",
       "      <td>platform</td>\n",
       "      <td>29.08</td>\n",
       "      <td>3.58</td>\n",
       "      <td>6.81</td>\n",
       "      <td>0.77</td>\n",
       "      <td>NaN</td>\n",
       "      <td>4.27</td>\n",
       "      <td>E</td>\n",
       "      <td>152285.0</td>\n",
       "      <td>39.47</td>\n",
       "    </tr>\n",
       "    <tr>\n",
       "      <th>2</th>\n",
       "      <td>mario kart wii</td>\n",
       "      <td>wii</td>\n",
       "      <td>2008</td>\n",
       "      <td>racing</td>\n",
       "      <td>15.68</td>\n",
       "      <td>12.76</td>\n",
       "      <td>3.79</td>\n",
       "      <td>3.29</td>\n",
       "      <td>82.0</td>\n",
       "      <td>8.30</td>\n",
       "      <td>E</td>\n",
       "      <td>149304.0</td>\n",
       "      <td>32.23</td>\n",
       "    </tr>\n",
       "    <tr>\n",
       "      <th>3</th>\n",
       "      <td>wii sports resort</td>\n",
       "      <td>wii</td>\n",
       "      <td>2009</td>\n",
       "      <td>sports</td>\n",
       "      <td>15.61</td>\n",
       "      <td>10.93</td>\n",
       "      <td>3.28</td>\n",
       "      <td>2.95</td>\n",
       "      <td>80.0</td>\n",
       "      <td>8.00</td>\n",
       "      <td>E</td>\n",
       "      <td>161084.0</td>\n",
       "      <td>29.82</td>\n",
       "    </tr>\n",
       "    <tr>\n",
       "      <th>4</th>\n",
       "      <td>pokemon red/pokemon blue</td>\n",
       "      <td>gb</td>\n",
       "      <td>1996</td>\n",
       "      <td>role-playing</td>\n",
       "      <td>11.27</td>\n",
       "      <td>8.89</td>\n",
       "      <td>10.22</td>\n",
       "      <td>1.00</td>\n",
       "      <td>NaN</td>\n",
       "      <td>NaN</td>\n",
       "      <td>T</td>\n",
       "      <td>NaN</td>\n",
       "      <td>30.38</td>\n",
       "    </tr>\n",
       "  </tbody>\n",
       "</table>\n",
       "</div>"
      ],
      "text/plain": [
       "                       name platform  year_of_release         genre  na_sales  \\\n",
       "0                wii sports      wii             2006        sports     41.36   \n",
       "1         super mario bros.      nes             1985      platform     29.08   \n",
       "2            mario kart wii      wii             2008        racing     15.68   \n",
       "3         wii sports resort      wii             2009        sports     15.61   \n",
       "4  pokemon red/pokemon blue       gb             1996  role-playing     11.27   \n",
       "\n",
       "   eu_sales  jp_sales  other_sales  critic_score  user_score rating  \\\n",
       "0     28.96      3.77         8.45          76.0        8.00      E   \n",
       "1      3.58      6.81         0.77           NaN        4.27      E   \n",
       "2     12.76      3.79         3.29          82.0        8.30      E   \n",
       "3     10.93      3.28         2.95          80.0        8.00      E   \n",
       "4      8.89     10.22         1.00           NaN         NaN      T   \n",
       "\n",
       "   Unnamed: 0  total_sales  \n",
       "0    152116.0        74.09  \n",
       "1    152285.0        39.47  \n",
       "2    149304.0        32.23  \n",
       "3    161084.0        29.82  \n",
       "4         NaN        30.38  "
      ]
     },
     "execution_count": 58,
     "metadata": {},
     "output_type": "execute_result"
    }
   ],
   "source": [
    "newdata[\"total_sales\"] = newdata[\"na_sales\"]+newdata[\"eu_sales\"]+newdata[\"jp_sales\"]\n",
    "newdata.head()"
   ]
  },
  {
   "cell_type": "markdown",
   "metadata": {},
   "source": [
    "### 2.6 Conclusion <a class=\"anchor\" id=\"chapter2.6\"></a>"
   ]
  },
  {
   "cell_type": "markdown",
   "metadata": {},
   "source": [
    "* In this section, we realized how outdated this dataset is. It has a big amount of missing values in reviews from games that were released years ago. \n",
    "\n",
    "* We tried to fill them in by merging the columns with a more updated dataset found in a reliable source, which decreased the amount of missing values, but there we still too many to be ignored. \n",
    "\n",
    "* We adjusted the data types in order to e able to perform calculations in the next steps (to numerical values).\n",
    "\n",
    "* We checked for duplicates, and didn't find any.\n",
    "* We added a column with the sum of sales of every region: Total_sales \n"
   ]
  },
  {
   "cell_type": "markdown",
   "metadata": {},
   "source": [
    "## 3. Analyzing Data <a class=\"anchor\" id=\"chapter3\"></a>"
   ]
  },
  {
   "cell_type": "markdown",
   "metadata": {},
   "source": [
    "### 3.1 Games Released per Year<a class=\"anchor\" id=\"chapter3.1\"></a>"
   ]
  },
  {
   "cell_type": "code",
   "execution_count": 59,
   "metadata": {},
   "outputs": [
    {
     "name": "stdout",
     "output_type": "stream",
     "text": [
      "Collecting package metadata (current_repodata.json): ...working... done\n",
      "Solving environment: ...working... done\n",
      "\n",
      "# All requested packages already installed.\n",
      "\n",
      "\n",
      "Note: you may need to restart the kernel to use updated packages.\n"
     ]
    }
   ],
   "source": [
    "conda install seaborn"
   ]
  },
  {
   "cell_type": "code",
   "execution_count": 60,
   "metadata": {},
   "outputs": [],
   "source": [
    "import matplotlib.pyplot as plt\n",
    "import matplotlib as mpl\n",
    "import seaborn as sns"
   ]
  },
  {
   "cell_type": "code",
   "execution_count": 61,
   "metadata": {},
   "outputs": [
    {
     "data": {
      "text/html": [
       "<div>\n",
       "<style scoped>\n",
       "    .dataframe tbody tr th:only-of-type {\n",
       "        vertical-align: middle;\n",
       "    }\n",
       "\n",
       "    .dataframe tbody tr th {\n",
       "        vertical-align: top;\n",
       "    }\n",
       "\n",
       "    .dataframe thead th {\n",
       "        text-align: right;\n",
       "    }\n",
       "</style>\n",
       "<table border=\"1\" class=\"dataframe\">\n",
       "  <thead>\n",
       "    <tr style=\"text-align: right;\">\n",
       "      <th></th>\n",
       "      <th>year_of_release</th>\n",
       "      <th>name</th>\n",
       "    </tr>\n",
       "  </thead>\n",
       "  <tbody>\n",
       "    <tr>\n",
       "      <th>0</th>\n",
       "      <td>1980</td>\n",
       "      <td>9</td>\n",
       "    </tr>\n",
       "    <tr>\n",
       "      <th>1</th>\n",
       "      <td>1981</td>\n",
       "      <td>46</td>\n",
       "    </tr>\n",
       "    <tr>\n",
       "      <th>2</th>\n",
       "      <td>1982</td>\n",
       "      <td>36</td>\n",
       "    </tr>\n",
       "    <tr>\n",
       "      <th>3</th>\n",
       "      <td>1983</td>\n",
       "      <td>17</td>\n",
       "    </tr>\n",
       "    <tr>\n",
       "      <th>4</th>\n",
       "      <td>1984</td>\n",
       "      <td>14</td>\n",
       "    </tr>\n",
       "    <tr>\n",
       "      <th>5</th>\n",
       "      <td>1985</td>\n",
       "      <td>14</td>\n",
       "    </tr>\n",
       "    <tr>\n",
       "      <th>6</th>\n",
       "      <td>1986</td>\n",
       "      <td>21</td>\n",
       "    </tr>\n",
       "    <tr>\n",
       "      <th>7</th>\n",
       "      <td>1987</td>\n",
       "      <td>16</td>\n",
       "    </tr>\n",
       "    <tr>\n",
       "      <th>8</th>\n",
       "      <td>1988</td>\n",
       "      <td>15</td>\n",
       "    </tr>\n",
       "    <tr>\n",
       "      <th>9</th>\n",
       "      <td>1989</td>\n",
       "      <td>17</td>\n",
       "    </tr>\n",
       "    <tr>\n",
       "      <th>10</th>\n",
       "      <td>1990</td>\n",
       "      <td>16</td>\n",
       "    </tr>\n",
       "    <tr>\n",
       "      <th>11</th>\n",
       "      <td>1991</td>\n",
       "      <td>41</td>\n",
       "    </tr>\n",
       "    <tr>\n",
       "      <th>12</th>\n",
       "      <td>1992</td>\n",
       "      <td>43</td>\n",
       "    </tr>\n",
       "    <tr>\n",
       "      <th>13</th>\n",
       "      <td>1993</td>\n",
       "      <td>60</td>\n",
       "    </tr>\n",
       "    <tr>\n",
       "      <th>14</th>\n",
       "      <td>1994</td>\n",
       "      <td>121</td>\n",
       "    </tr>\n",
       "    <tr>\n",
       "      <th>15</th>\n",
       "      <td>1995</td>\n",
       "      <td>219</td>\n",
       "    </tr>\n",
       "    <tr>\n",
       "      <th>16</th>\n",
       "      <td>1996</td>\n",
       "      <td>263</td>\n",
       "    </tr>\n",
       "    <tr>\n",
       "      <th>17</th>\n",
       "      <td>1997</td>\n",
       "      <td>289</td>\n",
       "    </tr>\n",
       "    <tr>\n",
       "      <th>18</th>\n",
       "      <td>1998</td>\n",
       "      <td>379</td>\n",
       "    </tr>\n",
       "    <tr>\n",
       "      <th>19</th>\n",
       "      <td>1999</td>\n",
       "      <td>340</td>\n",
       "    </tr>\n",
       "    <tr>\n",
       "      <th>20</th>\n",
       "      <td>2000</td>\n",
       "      <td>351</td>\n",
       "    </tr>\n",
       "    <tr>\n",
       "      <th>21</th>\n",
       "      <td>2001</td>\n",
       "      <td>485</td>\n",
       "    </tr>\n",
       "    <tr>\n",
       "      <th>22</th>\n",
       "      <td>2002</td>\n",
       "      <td>845</td>\n",
       "    </tr>\n",
       "    <tr>\n",
       "      <th>23</th>\n",
       "      <td>2003</td>\n",
       "      <td>784</td>\n",
       "    </tr>\n",
       "    <tr>\n",
       "      <th>24</th>\n",
       "      <td>2004</td>\n",
       "      <td>765</td>\n",
       "    </tr>\n",
       "    <tr>\n",
       "      <th>25</th>\n",
       "      <td>2005</td>\n",
       "      <td>947</td>\n",
       "    </tr>\n",
       "    <tr>\n",
       "      <th>26</th>\n",
       "      <td>2006</td>\n",
       "      <td>1020</td>\n",
       "    </tr>\n",
       "    <tr>\n",
       "      <th>27</th>\n",
       "      <td>2007</td>\n",
       "      <td>1202</td>\n",
       "    </tr>\n",
       "    <tr>\n",
       "      <th>28</th>\n",
       "      <td>2008</td>\n",
       "      <td>1441</td>\n",
       "    </tr>\n",
       "    <tr>\n",
       "      <th>29</th>\n",
       "      <td>2009</td>\n",
       "      <td>1430</td>\n",
       "    </tr>\n",
       "    <tr>\n",
       "      <th>30</th>\n",
       "      <td>2010</td>\n",
       "      <td>1269</td>\n",
       "    </tr>\n",
       "    <tr>\n",
       "      <th>31</th>\n",
       "      <td>2011</td>\n",
       "      <td>1153</td>\n",
       "    </tr>\n",
       "    <tr>\n",
       "      <th>32</th>\n",
       "      <td>2012</td>\n",
       "      <td>662</td>\n",
       "    </tr>\n",
       "    <tr>\n",
       "      <th>33</th>\n",
       "      <td>2013</td>\n",
       "      <td>547</td>\n",
       "    </tr>\n",
       "    <tr>\n",
       "      <th>34</th>\n",
       "      <td>2014</td>\n",
       "      <td>582</td>\n",
       "    </tr>\n",
       "    <tr>\n",
       "      <th>35</th>\n",
       "      <td>2015</td>\n",
       "      <td>606</td>\n",
       "    </tr>\n",
       "    <tr>\n",
       "      <th>36</th>\n",
       "      <td>2016</td>\n",
       "      <td>502</td>\n",
       "    </tr>\n",
       "  </tbody>\n",
       "</table>\n",
       "</div>"
      ],
      "text/plain": [
       "    year_of_release  name\n",
       "0              1980     9\n",
       "1              1981    46\n",
       "2              1982    36\n",
       "3              1983    17\n",
       "4              1984    14\n",
       "5              1985    14\n",
       "6              1986    21\n",
       "7              1987    16\n",
       "8              1988    15\n",
       "9              1989    17\n",
       "10             1990    16\n",
       "11             1991    41\n",
       "12             1992    43\n",
       "13             1993    60\n",
       "14             1994   121\n",
       "15             1995   219\n",
       "16             1996   263\n",
       "17             1997   289\n",
       "18             1998   379\n",
       "19             1999   340\n",
       "20             2000   351\n",
       "21             2001   485\n",
       "22             2002   845\n",
       "23             2003   784\n",
       "24             2004   765\n",
       "25             2005   947\n",
       "26             2006  1020\n",
       "27             2007  1202\n",
       "28             2008  1441\n",
       "29             2009  1430\n",
       "30             2010  1269\n",
       "31             2011  1153\n",
       "32             2012   662\n",
       "33             2013   547\n",
       "34             2014   582\n",
       "35             2015   606\n",
       "36             2016   502"
      ]
     },
     "execution_count": 61,
     "metadata": {},
     "output_type": "execute_result"
    }
   ],
   "source": [
    "df = newdata[{'year_of_release', 'name'}].groupby(['year_of_release']).count().sort_values(by='year_of_release').reset_index()\n",
    "df"
   ]
  },
  {
   "cell_type": "code",
   "execution_count": 62,
   "metadata": {},
   "outputs": [
    {
     "data": {
      "image/png": "[encoded data removed]",
      "text/plain": [
       "<Figure size 1224x720 with 1 Axes>"
      ]
     },
     "metadata": {
      "needs_background": "light"
     },
     "output_type": "display_data"
    }
   ],
   "source": [
    "fig, ax=plt.subplots(figsize=(17,10));\n",
    "ax.vlines(x=df['year_of_release'], ymin=0, ymax=df['name'], color='blue', alpha=0.8, linewidth=2);\n",
    "ax.scatter(x=df['year_of_release'], y=df['name'], s=80, color='red', alpha=0.8);\n",
    "\n",
    "#Labels\n",
    "ax.set_title('Lollypop Chart: Released Games per Year');\n",
    "ax.set_ylabel('Number of Games');\n",
    "ax.set_xticks(df[\"year_of_release\"]);\n",
    "ax.set_xticklabels(df.year_of_release,rotation=90);\n",
    "\n",
    "for row in df.itertuples():\n",
    "    ax.text(row.year_of_release, row.name+30, s=round(row.name, 2))"
   ]
  },
  {
   "cell_type": "markdown",
   "metadata": {},
   "source": [
    "Between 1980 and 1993 it seems video games were either not popular at all. They were definitely not the favourite or affordable form of entertainment.\n",
    "\n",
    "As of 1994 though, the release rate tripled. This could be due to an increase in the marketing campaigns, or a breakthrough advance in the gaming industry (visual quality for example).\n",
    "\n",
    "The release numbers increased since then, reaching the highest points between 2005 and 2011, and within them, the highest peaks were 2008 and 2009. In the histogram we can see the data is skewed to the left, as there is a huge drop after 2011 (global sales drop by almost 50%).\n",
    "\n",
    "Some reasons are the lack of exciting content in the release of new games, or poor game development, or the economic crisis that hit worldwide. \n",
    "\n",
    "Let's look at the sales now, by platform."
   ]
  },
  {
   "cell_type": "markdown",
   "metadata": {},
   "source": [
    "### 3.2 Sales by Platform <a class=\"anchor\" id=\"chapter3.2\"></a>"
   ]
  },
  {
   "cell_type": "markdown",
   "metadata": {},
   "source": [
    "Let's look at how sales varied from platform to platform."
   ]
  },
  {
   "cell_type": "code",
   "execution_count": 63,
   "metadata": {
    "scrolled": false
   },
   "outputs": [
    {
     "data": {
      "text/html": [
       "<div>\n",
       "<style scoped>\n",
       "    .dataframe tbody tr th:only-of-type {\n",
       "        vertical-align: middle;\n",
       "    }\n",
       "\n",
       "    .dataframe tbody tr th {\n",
       "        vertical-align: top;\n",
       "    }\n",
       "\n",
       "    .dataframe thead th {\n",
       "        text-align: right;\n",
       "    }\n",
       "</style>\n",
       "<table border=\"1\" class=\"dataframe\">\n",
       "  <thead>\n",
       "    <tr style=\"text-align: right;\">\n",
       "      <th></th>\n",
       "      <th>platform</th>\n",
       "      <th>total_sales</th>\n",
       "    </tr>\n",
       "  </thead>\n",
       "  <tbody>\n",
       "    <tr>\n",
       "      <th>16</th>\n",
       "      <td>ps2</td>\n",
       "      <td>1054.88</td>\n",
       "    </tr>\n",
       "    <tr>\n",
       "      <th>28</th>\n",
       "      <td>x360</td>\n",
       "      <td>881.27</td>\n",
       "    </tr>\n",
       "    <tr>\n",
       "      <th>25</th>\n",
       "      <td>wii</td>\n",
       "      <td>824.54</td>\n",
       "    </tr>\n",
       "    <tr>\n",
       "      <th>17</th>\n",
       "      <td>ps3</td>\n",
       "      <td>800.09</td>\n",
       "    </tr>\n",
       "    <tr>\n",
       "      <th>4</th>\n",
       "      <td>ds</td>\n",
       "      <td>745.12</td>\n",
       "    </tr>\n",
       "    <tr>\n",
       "      <th>15</th>\n",
       "      <td>ps</td>\n",
       "      <td>686.89</td>\n",
       "    </tr>\n",
       "    <tr>\n",
       "      <th>6</th>\n",
       "      <td>gba</td>\n",
       "      <td>306.11</td>\n",
       "    </tr>\n",
       "    <tr>\n",
       "      <th>18</th>\n",
       "      <td>ps4</td>\n",
       "      <td>265.79</td>\n",
       "    </tr>\n",
       "    <tr>\n",
       "      <th>19</th>\n",
       "      <td>psp</td>\n",
       "      <td>252.15</td>\n",
       "    </tr>\n",
       "    <tr>\n",
       "      <th>29</th>\n",
       "      <td>xb</td>\n",
       "      <td>248.01</td>\n",
       "    </tr>\n",
       "    <tr>\n",
       "      <th>5</th>\n",
       "      <td>gb</td>\n",
       "      <td>246.27</td>\n",
       "    </tr>\n",
       "    <tr>\n",
       "      <th>11</th>\n",
       "      <td>nes</td>\n",
       "      <td>245.74</td>\n",
       "    </tr>\n",
       "    <tr>\n",
       "      <th>2</th>\n",
       "      <td>3ds</td>\n",
       "      <td>245.21</td>\n",
       "    </tr>\n",
       "    <tr>\n",
       "      <th>13</th>\n",
       "      <td>pc</td>\n",
       "      <td>236.56</td>\n",
       "    </tr>\n",
       "    <tr>\n",
       "      <th>10</th>\n",
       "      <td>n64</td>\n",
       "      <td>214.13</td>\n",
       "    </tr>\n",
       "    <tr>\n",
       "      <th>23</th>\n",
       "      <td>snes</td>\n",
       "      <td>196.82</td>\n",
       "    </tr>\n",
       "    <tr>\n",
       "      <th>7</th>\n",
       "      <td>gc</td>\n",
       "      <td>193.48</td>\n",
       "    </tr>\n",
       "    <tr>\n",
       "      <th>30</th>\n",
       "      <td>xone</td>\n",
       "      <td>145.05</td>\n",
       "    </tr>\n",
       "    <tr>\n",
       "      <th>0</th>\n",
       "      <td>2600</td>\n",
       "      <td>88.14</td>\n",
       "    </tr>\n",
       "    <tr>\n",
       "      <th>26</th>\n",
       "      <td>wiiu</td>\n",
       "      <td>76.24</td>\n",
       "    </tr>\n",
       "    <tr>\n",
       "      <th>20</th>\n",
       "      <td>psv</td>\n",
       "      <td>47.38</td>\n",
       "    </tr>\n",
       "    <tr>\n",
       "      <th>21</th>\n",
       "      <td>sat</td>\n",
       "      <td>33.52</td>\n",
       "    </tr>\n",
       "    <tr>\n",
       "      <th>8</th>\n",
       "      <td>gen</td>\n",
       "      <td>27.46</td>\n",
       "    </tr>\n",
       "    <tr>\n",
       "      <th>3</th>\n",
       "      <td>dc</td>\n",
       "      <td>15.68</td>\n",
       "    </tr>\n",
       "    <tr>\n",
       "      <th>22</th>\n",
       "      <td>scd</td>\n",
       "      <td>1.81</td>\n",
       "    </tr>\n",
       "    <tr>\n",
       "      <th>12</th>\n",
       "      <td>ng</td>\n",
       "      <td>1.44</td>\n",
       "    </tr>\n",
       "    <tr>\n",
       "      <th>27</th>\n",
       "      <td>ws</td>\n",
       "      <td>1.42</td>\n",
       "    </tr>\n",
       "    <tr>\n",
       "      <th>24</th>\n",
       "      <td>tg16</td>\n",
       "      <td>0.16</td>\n",
       "    </tr>\n",
       "    <tr>\n",
       "      <th>1</th>\n",
       "      <td>3do</td>\n",
       "      <td>0.10</td>\n",
       "    </tr>\n",
       "    <tr>\n",
       "      <th>9</th>\n",
       "      <td>gg</td>\n",
       "      <td>0.04</td>\n",
       "    </tr>\n",
       "    <tr>\n",
       "      <th>14</th>\n",
       "      <td>pcfx</td>\n",
       "      <td>0.03</td>\n",
       "    </tr>\n",
       "  </tbody>\n",
       "</table>\n",
       "</div>"
      ],
      "text/plain": [
       "   platform  total_sales\n",
       "16      ps2      1054.88\n",
       "28     x360       881.27\n",
       "25      wii       824.54\n",
       "17      ps3       800.09\n",
       "4        ds       745.12\n",
       "15       ps       686.89\n",
       "6       gba       306.11\n",
       "18      ps4       265.79\n",
       "19      psp       252.15\n",
       "29       xb       248.01\n",
       "5        gb       246.27\n",
       "11      nes       245.74\n",
       "2       3ds       245.21\n",
       "13       pc       236.56\n",
       "10      n64       214.13\n",
       "23     snes       196.82\n",
       "7        gc       193.48\n",
       "30     xone       145.05\n",
       "0      2600        88.14\n",
       "26     wiiu        76.24\n",
       "20      psv        47.38\n",
       "21      sat        33.52\n",
       "8       gen        27.46\n",
       "3        dc        15.68\n",
       "22      scd         1.81\n",
       "12       ng         1.44\n",
       "27       ws         1.42\n",
       "24     tg16         0.16\n",
       "1       3do         0.10\n",
       "9        gg         0.04\n",
       "14     pcfx         0.03"
      ]
     },
     "execution_count": 63,
     "metadata": {},
     "output_type": "execute_result"
    }
   ],
   "source": [
    "platform_sales = newdata.pivot_table(index=\"platform\", values=\"total_sales\", aggfunc=\"sum\").reset_index()\n",
    "platform_sales.sort_values(by=\"total_sales\", ascending=False)"
   ]
  },
  {
   "cell_type": "markdown",
   "metadata": {},
   "source": [
    "We could say that the platform with the greatest totals are those with over 650 million USD in global sales."
   ]
  },
  {
   "cell_type": "markdown",
   "metadata": {},
   "source": [
    "Now, we will see which platforms are profitable. \n",
    "\n",
    "We will do so by calculating the Z value, which calculates how far the total_sales number is from the mean value of the platform.\n",
    "\n",
    "Those values that are above the mean, indicate that the platform is profitable. "
   ]
  },
  {
   "cell_type": "code",
   "execution_count": 64,
   "metadata": {},
   "outputs": [
    {
     "data": {
      "text/html": [
       "<div>\n",
       "<style scoped>\n",
       "    .dataframe tbody tr th:only-of-type {\n",
       "        vertical-align: middle;\n",
       "    }\n",
       "\n",
       "    .dataframe tbody tr th {\n",
       "        vertical-align: top;\n",
       "    }\n",
       "\n",
       "    .dataframe thead th {\n",
       "        text-align: right;\n",
       "    }\n",
       "</style>\n",
       "<table border=\"1\" class=\"dataframe\">\n",
       "  <thead>\n",
       "    <tr style=\"text-align: right;\">\n",
       "      <th></th>\n",
       "      <th>platform</th>\n",
       "      <th>total_sales</th>\n",
       "      <th>sales_z</th>\n",
       "    </tr>\n",
       "  </thead>\n",
       "  <tbody>\n",
       "    <tr>\n",
       "      <th>16</th>\n",
       "      <td>ps2</td>\n",
       "      <td>1054.88</td>\n",
       "      <td>2.591629</td>\n",
       "    </tr>\n",
       "    <tr>\n",
       "      <th>28</th>\n",
       "      <td>x360</td>\n",
       "      <td>881.27</td>\n",
       "      <td>2.025095</td>\n",
       "    </tr>\n",
       "    <tr>\n",
       "      <th>25</th>\n",
       "      <td>wii</td>\n",
       "      <td>824.54</td>\n",
       "      <td>1.839971</td>\n",
       "    </tr>\n",
       "    <tr>\n",
       "      <th>17</th>\n",
       "      <td>ps3</td>\n",
       "      <td>800.09</td>\n",
       "      <td>1.760184</td>\n",
       "    </tr>\n",
       "    <tr>\n",
       "      <th>4</th>\n",
       "      <td>ds</td>\n",
       "      <td>745.12</td>\n",
       "      <td>1.580803</td>\n",
       "    </tr>\n",
       "    <tr>\n",
       "      <th>15</th>\n",
       "      <td>ps</td>\n",
       "      <td>686.89</td>\n",
       "      <td>1.390784</td>\n",
       "    </tr>\n",
       "    <tr>\n",
       "      <th>6</th>\n",
       "      <td>gba</td>\n",
       "      <td>306.11</td>\n",
       "      <td>0.148202</td>\n",
       "    </tr>\n",
       "    <tr>\n",
       "      <th>18</th>\n",
       "      <td>ps4</td>\n",
       "      <td>265.79</td>\n",
       "      <td>0.016628</td>\n",
       "    </tr>\n",
       "    <tr>\n",
       "      <th>19</th>\n",
       "      <td>psp</td>\n",
       "      <td>252.15</td>\n",
       "      <td>-0.027883</td>\n",
       "    </tr>\n",
       "    <tr>\n",
       "      <th>29</th>\n",
       "      <td>xb</td>\n",
       "      <td>248.01</td>\n",
       "      <td>-0.041393</td>\n",
       "    </tr>\n",
       "    <tr>\n",
       "      <th>5</th>\n",
       "      <td>gb</td>\n",
       "      <td>246.27</td>\n",
       "      <td>-0.047071</td>\n",
       "    </tr>\n",
       "    <tr>\n",
       "      <th>11</th>\n",
       "      <td>nes</td>\n",
       "      <td>245.74</td>\n",
       "      <td>-0.048800</td>\n",
       "    </tr>\n",
       "    <tr>\n",
       "      <th>2</th>\n",
       "      <td>3ds</td>\n",
       "      <td>245.21</td>\n",
       "      <td>-0.050530</td>\n",
       "    </tr>\n",
       "    <tr>\n",
       "      <th>13</th>\n",
       "      <td>pc</td>\n",
       "      <td>236.56</td>\n",
       "      <td>-0.078757</td>\n",
       "    </tr>\n",
       "    <tr>\n",
       "      <th>10</th>\n",
       "      <td>n64</td>\n",
       "      <td>214.13</td>\n",
       "      <td>-0.151952</td>\n",
       "    </tr>\n",
       "    <tr>\n",
       "      <th>23</th>\n",
       "      <td>snes</td>\n",
       "      <td>196.82</td>\n",
       "      <td>-0.208439</td>\n",
       "    </tr>\n",
       "    <tr>\n",
       "      <th>7</th>\n",
       "      <td>gc</td>\n",
       "      <td>193.48</td>\n",
       "      <td>-0.219338</td>\n",
       "    </tr>\n",
       "    <tr>\n",
       "      <th>30</th>\n",
       "      <td>xone</td>\n",
       "      <td>145.05</td>\n",
       "      <td>-0.377377</td>\n",
       "    </tr>\n",
       "    <tr>\n",
       "      <th>0</th>\n",
       "      <td>2600</td>\n",
       "      <td>88.14</td>\n",
       "      <td>-0.563089</td>\n",
       "    </tr>\n",
       "    <tr>\n",
       "      <th>26</th>\n",
       "      <td>wiiu</td>\n",
       "      <td>76.24</td>\n",
       "      <td>-0.601922</td>\n",
       "    </tr>\n",
       "    <tr>\n",
       "      <th>20</th>\n",
       "      <td>psv</td>\n",
       "      <td>47.38</td>\n",
       "      <td>-0.696099</td>\n",
       "    </tr>\n",
       "    <tr>\n",
       "      <th>21</th>\n",
       "      <td>sat</td>\n",
       "      <td>33.52</td>\n",
       "      <td>-0.741328</td>\n",
       "    </tr>\n",
       "    <tr>\n",
       "      <th>8</th>\n",
       "      <td>gen</td>\n",
       "      <td>27.46</td>\n",
       "      <td>-0.761103</td>\n",
       "    </tr>\n",
       "    <tr>\n",
       "      <th>3</th>\n",
       "      <td>dc</td>\n",
       "      <td>15.68</td>\n",
       "      <td>-0.799544</td>\n",
       "    </tr>\n",
       "    <tr>\n",
       "      <th>22</th>\n",
       "      <td>scd</td>\n",
       "      <td>1.81</td>\n",
       "      <td>-0.844806</td>\n",
       "    </tr>\n",
       "    <tr>\n",
       "      <th>12</th>\n",
       "      <td>ng</td>\n",
       "      <td>1.44</td>\n",
       "      <td>-0.846013</td>\n",
       "    </tr>\n",
       "    <tr>\n",
       "      <th>27</th>\n",
       "      <td>ws</td>\n",
       "      <td>1.42</td>\n",
       "      <td>-0.846078</td>\n",
       "    </tr>\n",
       "    <tr>\n",
       "      <th>24</th>\n",
       "      <td>tg16</td>\n",
       "      <td>0.16</td>\n",
       "      <td>-0.850190</td>\n",
       "    </tr>\n",
       "    <tr>\n",
       "      <th>1</th>\n",
       "      <td>3do</td>\n",
       "      <td>0.10</td>\n",
       "      <td>-0.850386</td>\n",
       "    </tr>\n",
       "    <tr>\n",
       "      <th>9</th>\n",
       "      <td>gg</td>\n",
       "      <td>0.04</td>\n",
       "      <td>-0.850582</td>\n",
       "    </tr>\n",
       "    <tr>\n",
       "      <th>14</th>\n",
       "      <td>pcfx</td>\n",
       "      <td>0.03</td>\n",
       "      <td>-0.850614</td>\n",
       "    </tr>\n",
       "  </tbody>\n",
       "</table>\n",
       "</div>"
      ],
      "text/plain": [
       "   platform  total_sales   sales_z\n",
       "16      ps2      1054.88  2.591629\n",
       "28     x360       881.27  2.025095\n",
       "25      wii       824.54  1.839971\n",
       "17      ps3       800.09  1.760184\n",
       "4        ds       745.12  1.580803\n",
       "15       ps       686.89  1.390784\n",
       "6       gba       306.11  0.148202\n",
       "18      ps4       265.79  0.016628\n",
       "19      psp       252.15 -0.027883\n",
       "29       xb       248.01 -0.041393\n",
       "5        gb       246.27 -0.047071\n",
       "11      nes       245.74 -0.048800\n",
       "2       3ds       245.21 -0.050530\n",
       "13       pc       236.56 -0.078757\n",
       "10      n64       214.13 -0.151952\n",
       "23     snes       196.82 -0.208439\n",
       "7        gc       193.48 -0.219338\n",
       "30     xone       145.05 -0.377377\n",
       "0      2600        88.14 -0.563089\n",
       "26     wiiu        76.24 -0.601922\n",
       "20      psv        47.38 -0.696099\n",
       "21      sat        33.52 -0.741328\n",
       "8       gen        27.46 -0.761103\n",
       "3        dc        15.68 -0.799544\n",
       "22      scd         1.81 -0.844806\n",
       "12       ng         1.44 -0.846013\n",
       "27       ws         1.42 -0.846078\n",
       "24     tg16         0.16 -0.850190\n",
       "1       3do         0.10 -0.850386\n",
       "9        gg         0.04 -0.850582\n",
       "14     pcfx         0.03 -0.850614"
      ]
     },
     "execution_count": 64,
     "metadata": {},
     "output_type": "execute_result"
    }
   ],
   "source": [
    "platform_sales['sales_z'] = (platform_sales['total_sales']-platform_sales['total_sales'].mean())/platform_sales['total_sales'].std()\n",
    "platform_sales = platform_sales.sort_values('sales_z', ascending=False)\n",
    "platform_sales"
   ]
  },
  {
   "cell_type": "markdown",
   "metadata": {},
   "source": [
    "We can already see that there are only a few profitable platforms: PS2, X360, Wii, PS3, DS, PS, GBA and PS4"
   ]
  },
  {
   "cell_type": "code",
   "execution_count": 65,
   "metadata": {},
   "outputs": [],
   "source": [
    "platform_sales['color'] = ['red' if x<0 else 'green' for x in platform_sales['sales_z']]"
   ]
  },
  {
   "cell_type": "code",
   "execution_count": 66,
   "metadata": {},
   "outputs": [
    {
     "data": {
      "text/html": [
       "<div>\n",
       "<style scoped>\n",
       "    .dataframe tbody tr th:only-of-type {\n",
       "        vertical-align: middle;\n",
       "    }\n",
       "\n",
       "    .dataframe tbody tr th {\n",
       "        vertical-align: top;\n",
       "    }\n",
       "\n",
       "    .dataframe thead th {\n",
       "        text-align: right;\n",
       "    }\n",
       "</style>\n",
       "<table border=\"1\" class=\"dataframe\">\n",
       "  <thead>\n",
       "    <tr style=\"text-align: right;\">\n",
       "      <th></th>\n",
       "      <th>platform</th>\n",
       "      <th>total_sales</th>\n",
       "      <th>sales_z</th>\n",
       "      <th>color</th>\n",
       "    </tr>\n",
       "  </thead>\n",
       "  <tbody>\n",
       "    <tr>\n",
       "      <th>16</th>\n",
       "      <td>ps2</td>\n",
       "      <td>1054.88</td>\n",
       "      <td>2.591629</td>\n",
       "      <td>green</td>\n",
       "    </tr>\n",
       "    <tr>\n",
       "      <th>28</th>\n",
       "      <td>x360</td>\n",
       "      <td>881.27</td>\n",
       "      <td>2.025095</td>\n",
       "      <td>green</td>\n",
       "    </tr>\n",
       "    <tr>\n",
       "      <th>25</th>\n",
       "      <td>wii</td>\n",
       "      <td>824.54</td>\n",
       "      <td>1.839971</td>\n",
       "      <td>green</td>\n",
       "    </tr>\n",
       "    <tr>\n",
       "      <th>17</th>\n",
       "      <td>ps3</td>\n",
       "      <td>800.09</td>\n",
       "      <td>1.760184</td>\n",
       "      <td>green</td>\n",
       "    </tr>\n",
       "    <tr>\n",
       "      <th>4</th>\n",
       "      <td>ds</td>\n",
       "      <td>745.12</td>\n",
       "      <td>1.580803</td>\n",
       "      <td>green</td>\n",
       "    </tr>\n",
       "  </tbody>\n",
       "</table>\n",
       "</div>"
      ],
      "text/plain": [
       "   platform  total_sales   sales_z  color\n",
       "16      ps2      1054.88  2.591629  green\n",
       "28     x360       881.27  2.025095  green\n",
       "25      wii       824.54  1.839971  green\n",
       "17      ps3       800.09  1.760184  green\n",
       "4        ds       745.12  1.580803  green"
      ]
     },
     "execution_count": 66,
     "metadata": {},
     "output_type": "execute_result"
    }
   ],
   "source": [
    "platform_sales.head()"
   ]
  },
  {
   "cell_type": "code",
   "execution_count": 67,
   "metadata": {},
   "outputs": [
    {
     "data": {
      "image/png": "[encoded data removed]",
      "text/plain": [
       "<Figure size 1008x720 with 1 Axes>"
      ]
     },
     "metadata": {
      "needs_background": "light"
     },
     "output_type": "display_data"
    }
   ],
   "source": [
    "plt.figure(figsize=(14,10))\n",
    "plt.hlines(\n",
    "    y=platform_sales['platform'], \n",
    "    xmax=platform_sales['sales_z'], \n",
    "    xmin=0, \n",
    "    color=platform_sales['color'], \n",
    "    alpha=0.4, \n",
    "    linewidth=10);\n"
   ]
  },
  {
   "cell_type": "markdown",
   "metadata": {},
   "source": [
    "This divergent bar chart shows the visual representation of platform profitability, calculated with the Z value per platform.\n",
    "\n",
    "We have to take into account that this is based on the sum of global sales per platform since its existence. A more accurate result could be provided by the average sales per year per platform. \n",
    "\n",
    "However, this already gives us a general overview."
   ]
  },
  {
   "cell_type": "code",
   "execution_count": 68,
   "metadata": {},
   "outputs": [],
   "source": [
    "best_platforms = newdata.query('platform == [\"ps2\", \"x360\", \"wii\", \"ps3\", \"ds\"]')"
   ]
  },
  {
   "cell_type": "code",
   "execution_count": 69,
   "metadata": {},
   "outputs": [],
   "source": [
    "best_platforms_pivot = best_platforms.pivot_table(index=[\"platform\", \"year_of_release\"], values=\"total_sales\", aggfunc=\"sum\")"
   ]
  },
  {
   "cell_type": "code",
   "execution_count": 70,
   "metadata": {},
   "outputs": [
    {
     "data": {
      "text/html": [
       "<div>\n",
       "<style scoped>\n",
       "    .dataframe tbody tr th:only-of-type {\n",
       "        vertical-align: middle;\n",
       "    }\n",
       "\n",
       "    .dataframe tbody tr th {\n",
       "        vertical-align: top;\n",
       "    }\n",
       "\n",
       "    .dataframe thead th {\n",
       "        text-align: right;\n",
       "    }\n",
       "</style>\n",
       "<table border=\"1\" class=\"dataframe\">\n",
       "  <thead>\n",
       "    <tr style=\"text-align: right;\">\n",
       "      <th></th>\n",
       "      <th></th>\n",
       "      <th>total_sales</th>\n",
       "    </tr>\n",
       "    <tr>\n",
       "      <th>platform</th>\n",
       "      <th>year_of_release</th>\n",
       "      <th></th>\n",
       "    </tr>\n",
       "  </thead>\n",
       "  <tbody>\n",
       "    <tr>\n",
       "      <th rowspan=\"11\" valign=\"top\">ds</th>\n",
       "      <th>1985</th>\n",
       "      <td>0.02</td>\n",
       "    </tr>\n",
       "    <tr>\n",
       "      <th>2004</th>\n",
       "      <td>15.91</td>\n",
       "    </tr>\n",
       "    <tr>\n",
       "      <th>2005</th>\n",
       "      <td>119.34</td>\n",
       "    </tr>\n",
       "    <tr>\n",
       "      <th>2006</th>\n",
       "      <td>111.64</td>\n",
       "    </tr>\n",
       "    <tr>\n",
       "      <th>2007</th>\n",
       "      <td>136.12</td>\n",
       "    </tr>\n",
       "    <tr>\n",
       "      <th>2008</th>\n",
       "      <td>134.42</td>\n",
       "    </tr>\n",
       "    <tr>\n",
       "      <th>2009</th>\n",
       "      <td>111.01</td>\n",
       "    </tr>\n",
       "    <tr>\n",
       "      <th>2010</th>\n",
       "      <td>79.79</td>\n",
       "    </tr>\n",
       "    <tr>\n",
       "      <th>2011</th>\n",
       "      <td>24.44</td>\n",
       "    </tr>\n",
       "    <tr>\n",
       "      <th>2012</th>\n",
       "      <td>11.01</td>\n",
       "    </tr>\n",
       "    <tr>\n",
       "      <th>2013</th>\n",
       "      <td>1.42</td>\n",
       "    </tr>\n",
       "    <tr>\n",
       "      <th rowspan=\"12\" valign=\"top\">ps2</th>\n",
       "      <th>2000</th>\n",
       "      <td>35.59</td>\n",
       "    </tr>\n",
       "    <tr>\n",
       "      <th>2001</th>\n",
       "      <td>149.65</td>\n",
       "    </tr>\n",
       "    <tr>\n",
       "      <th>2002</th>\n",
       "      <td>186.26</td>\n",
       "    </tr>\n",
       "    <tr>\n",
       "      <th>2003</th>\n",
       "      <td>171.14</td>\n",
       "    </tr>\n",
       "    <tr>\n",
       "      <th>2004</th>\n",
       "      <td>172.79</td>\n",
       "    </tr>\n",
       "    <tr>\n",
       "      <th>2005</th>\n",
       "      <td>141.51</td>\n",
       "    </tr>\n",
       "    <tr>\n",
       "      <th>2006</th>\n",
       "      <td>89.92</td>\n",
       "    </tr>\n",
       "    <tr>\n",
       "      <th>2007</th>\n",
       "      <td>52.40</td>\n",
       "    </tr>\n",
       "    <tr>\n",
       "      <th>2008</th>\n",
       "      <td>34.59</td>\n",
       "    </tr>\n",
       "    <tr>\n",
       "      <th>2009</th>\n",
       "      <td>16.24</td>\n",
       "    </tr>\n",
       "    <tr>\n",
       "      <th>2010</th>\n",
       "      <td>4.44</td>\n",
       "    </tr>\n",
       "    <tr>\n",
       "      <th>2011</th>\n",
       "      <td>0.35</td>\n",
       "    </tr>\n",
       "    <tr>\n",
       "      <th rowspan=\"12\" valign=\"top\">ps3</th>\n",
       "      <th>2005</th>\n",
       "      <td>0.15</td>\n",
       "    </tr>\n",
       "    <tr>\n",
       "      <th>2006</th>\n",
       "      <td>17.78</td>\n",
       "    </tr>\n",
       "    <tr>\n",
       "      <th>2007</th>\n",
       "      <td>62.48</td>\n",
       "    </tr>\n",
       "    <tr>\n",
       "      <th>2008</th>\n",
       "      <td>102.03</td>\n",
       "    </tr>\n",
       "    <tr>\n",
       "      <th>2009</th>\n",
       "      <td>113.08</td>\n",
       "    </tr>\n",
       "    <tr>\n",
       "      <th>2010</th>\n",
       "      <td>122.06</td>\n",
       "    </tr>\n",
       "    <tr>\n",
       "      <th>2011</th>\n",
       "      <td>136.21</td>\n",
       "    </tr>\n",
       "    <tr>\n",
       "      <th>2012</th>\n",
       "      <td>91.64</td>\n",
       "    </tr>\n",
       "    <tr>\n",
       "      <th>2013</th>\n",
       "      <td>95.85</td>\n",
       "    </tr>\n",
       "    <tr>\n",
       "      <th>2014</th>\n",
       "      <td>40.88</td>\n",
       "    </tr>\n",
       "    <tr>\n",
       "      <th>2015</th>\n",
       "      <td>14.70</td>\n",
       "    </tr>\n",
       "    <tr>\n",
       "      <th>2016</th>\n",
       "      <td>3.23</td>\n",
       "    </tr>\n",
       "    <tr>\n",
       "      <th rowspan=\"11\" valign=\"top\">wii</th>\n",
       "      <th>2006</th>\n",
       "      <td>126.37</td>\n",
       "    </tr>\n",
       "    <tr>\n",
       "      <th>2007</th>\n",
       "      <td>139.79</td>\n",
       "    </tr>\n",
       "    <tr>\n",
       "      <th>2008</th>\n",
       "      <td>162.17</td>\n",
       "    </tr>\n",
       "    <tr>\n",
       "      <th>2009</th>\n",
       "      <td>189.43</td>\n",
       "    </tr>\n",
       "    <tr>\n",
       "      <th>2010</th>\n",
       "      <td>118.41</td>\n",
       "    </tr>\n",
       "    <tr>\n",
       "      <th>2011</th>\n",
       "      <td>54.50</td>\n",
       "    </tr>\n",
       "    <tr>\n",
       "      <th>2012</th>\n",
       "      <td>21.33</td>\n",
       "    </tr>\n",
       "    <tr>\n",
       "      <th>2013</th>\n",
       "      <td>7.87</td>\n",
       "    </tr>\n",
       "    <tr>\n",
       "      <th>2014</th>\n",
       "      <td>3.45</td>\n",
       "    </tr>\n",
       "    <tr>\n",
       "      <th>2015</th>\n",
       "      <td>1.05</td>\n",
       "    </tr>\n",
       "    <tr>\n",
       "      <th>2016</th>\n",
       "      <td>0.17</td>\n",
       "    </tr>\n",
       "    <tr>\n",
       "      <th rowspan=\"12\" valign=\"top\">x360</th>\n",
       "      <th>2005</th>\n",
       "      <td>8.51</td>\n",
       "    </tr>\n",
       "    <tr>\n",
       "      <th>2006</th>\n",
       "      <td>47.36</td>\n",
       "    </tr>\n",
       "    <tr>\n",
       "      <th>2007</th>\n",
       "      <td>86.68</td>\n",
       "    </tr>\n",
       "    <tr>\n",
       "      <th>2008</th>\n",
       "      <td>123.29</td>\n",
       "    </tr>\n",
       "    <tr>\n",
       "      <th>2009</th>\n",
       "      <td>109.74</td>\n",
       "    </tr>\n",
       "    <tr>\n",
       "      <th>2010</th>\n",
       "      <td>156.28</td>\n",
       "    </tr>\n",
       "    <tr>\n",
       "      <th>2011</th>\n",
       "      <td>132.38</td>\n",
       "    </tr>\n",
       "    <tr>\n",
       "      <th>2012</th>\n",
       "      <td>92.34</td>\n",
       "    </tr>\n",
       "    <tr>\n",
       "      <th>2013</th>\n",
       "      <td>80.82</td>\n",
       "    </tr>\n",
       "    <tr>\n",
       "      <th>2014</th>\n",
       "      <td>31.61</td>\n",
       "    </tr>\n",
       "    <tr>\n",
       "      <th>2015</th>\n",
       "      <td>10.86</td>\n",
       "    </tr>\n",
       "    <tr>\n",
       "      <th>2016</th>\n",
       "      <td>1.40</td>\n",
       "    </tr>\n",
       "  </tbody>\n",
       "</table>\n",
       "</div>"
      ],
      "text/plain": [
       "                          total_sales\n",
       "platform year_of_release             \n",
       "ds       1985                    0.02\n",
       "         2004                   15.91\n",
       "         2005                  119.34\n",
       "         2006                  111.64\n",
       "         2007                  136.12\n",
       "         2008                  134.42\n",
       "         2009                  111.01\n",
       "         2010                   79.79\n",
       "         2011                   24.44\n",
       "         2012                   11.01\n",
       "         2013                    1.42\n",
       "ps2      2000                   35.59\n",
       "         2001                  149.65\n",
       "         2002                  186.26\n",
       "         2003                  171.14\n",
       "         2004                  172.79\n",
       "         2005                  141.51\n",
       "         2006                   89.92\n",
       "         2007                   52.40\n",
       "         2008                   34.59\n",
       "         2009                   16.24\n",
       "         2010                    4.44\n",
       "         2011                    0.35\n",
       "ps3      2005                    0.15\n",
       "         2006                   17.78\n",
       "         2007                   62.48\n",
       "         2008                  102.03\n",
       "         2009                  113.08\n",
       "         2010                  122.06\n",
       "         2011                  136.21\n",
       "         2012                   91.64\n",
       "         2013                   95.85\n",
       "         2014                   40.88\n",
       "         2015                   14.70\n",
       "         2016                    3.23\n",
       "wii      2006                  126.37\n",
       "         2007                  139.79\n",
       "         2008                  162.17\n",
       "         2009                  189.43\n",
       "         2010                  118.41\n",
       "         2011                   54.50\n",
       "         2012                   21.33\n",
       "         2013                    7.87\n",
       "         2014                    3.45\n",
       "         2015                    1.05\n",
       "         2016                    0.17\n",
       "x360     2005                    8.51\n",
       "         2006                   47.36\n",
       "         2007                   86.68\n",
       "         2008                  123.29\n",
       "         2009                  109.74\n",
       "         2010                  156.28\n",
       "         2011                  132.38\n",
       "         2012                   92.34\n",
       "         2013                   80.82\n",
       "         2014                   31.61\n",
       "         2015                   10.86\n",
       "         2016                    1.40"
      ]
     },
     "execution_count": 70,
     "metadata": {},
     "output_type": "execute_result"
    }
   ],
   "source": [
    "best_platforms_pivot"
   ]
  },
  {
   "cell_type": "code",
   "execution_count": 71,
   "metadata": {},
   "outputs": [],
   "source": [
    "ps2 = best_platforms.query('platform == \"ps2\"')"
   ]
  },
  {
   "cell_type": "code",
   "execution_count": 72,
   "metadata": {},
   "outputs": [],
   "source": [
    "x360 = best_platforms.query('platform == \"x360\"')"
   ]
  },
  {
   "cell_type": "code",
   "execution_count": 73,
   "metadata": {},
   "outputs": [],
   "source": [
    "wii = best_platforms.query('platform == \"wii\"')"
   ]
  },
  {
   "cell_type": "code",
   "execution_count": 74,
   "metadata": {},
   "outputs": [],
   "source": [
    "ps3 = best_platforms.query('platform == \"ps3\"')"
   ]
  },
  {
   "cell_type": "code",
   "execution_count": 75,
   "metadata": {},
   "outputs": [],
   "source": [
    "ds = best_platforms.query('platform == \"ds\"')"
   ]
  },
  {
   "cell_type": "markdown",
   "metadata": {},
   "source": [
    "**Choose the platforms with the greatest total sales and build a distribution based on data for each year**\n",
    "\n",
    "We have chosen the top 4 platforms based on global sales between years 1980 and 2016. We will now visualize their data distribution, and then go deeper into each of these platforms. Since sales values are continuous variables, we will choose Density Histograms."
   ]
  },
  {
   "cell_type": "code",
   "execution_count": 76,
   "metadata": {
    "scrolled": false
   },
   "outputs": [
    {
     "data": {
      "image/png": "[encoded data removed]",
      "text/plain": [
       "<Figure size 432x288 with 1 Axes>"
      ]
     },
     "metadata": {
      "needs_background": "light"
     },
     "output_type": "display_data"
    }
   ],
   "source": [
    "plt.hist(ps2[\"total_sales\"], density=True, alpha=0.5);\n",
    "plt.hist(x360[\"total_sales\"], density=True, alpha=0.5);\n",
    "plt.hist(wii[\"total_sales\"], density=True, alpha=0.5);\n",
    "plt.hist(ps3[\"total_sales\"], density=True, alpha=0.5);\n",
    "\n",
    "plt.title(\"Global Sales per year by Platform\")\n",
    "plt.legend(('ps2', 'x360', 'wii', 'ps3'), loc='upper right')\n",
    "plt.xlabel(\"Sales\")\n",
    "plt.ylabel(\"total_sales\")\n",
    "plt.xlim(0, 10)\n",
    "plt.show()\n"
   ]
  },
  {
   "cell_type": "markdown",
   "metadata": {},
   "source": [
    "With the exception of wii, the data from these platforms is very positively skewed. There are also many outliers, which we will have to take into account at a later stage in order to have a more accurate analysis. "
   ]
  },
  {
   "cell_type": "markdown",
   "metadata": {},
   "source": [
    "### 3.3 Popularity Decrease Platforms<a class=\"anchor\" id=\"chapter3.3\"></a>"
   ]
  },
  {
   "cell_type": "markdown",
   "metadata": {},
   "source": [
    "**Find platforms that used to be popular but now have zero sales. How long does it generally take for new platforms to appear and old ones to fade?**"
   ]
  },
  {
   "cell_type": "code",
   "execution_count": 77,
   "metadata": {},
   "outputs": [
    {
     "data": {
      "image/png": "[encoded data removed]",
      "text/plain": [
       "<Figure size 432x288 with 1 Axes>"
      ]
     },
     "metadata": {
      "needs_background": "light"
     },
     "output_type": "display_data"
    }
   ],
   "source": [
    "ps2.pivot_table(index=\"year_of_release\", values=\"total_sales\", aggfunc=\"sum\").plot(\n",
    "    title = \"PS2 Global Sales per Year in Millions\",\n",
    "    kind= \"bar\");"
   ]
  },
  {
   "cell_type": "markdown",
   "metadata": {},
   "source": [
    "PS2 console was released in March 2000, but the sales peak began in 2001 all the way to 2005. After 2005, sales declined, due to the upcoming console, PS3, which was appeared in the market in November 2006.\n",
    "\n",
    "We could say that the span of popularity for PS2 was 6 years (2001 - 2006, both inclusive).\n",
    "It also took 3-4 years to fade - from 2008 onwards."
   ]
  },
  {
   "cell_type": "code",
   "execution_count": 78,
   "metadata": {},
   "outputs": [
    {
     "data": {
      "image/png": "[encoded data removed]",
      "text/plain": [
       "<Figure size 432x288 with 1 Axes>"
      ]
     },
     "metadata": {
      "needs_background": "light"
     },
     "output_type": "display_data"
    }
   ],
   "source": [
    "ps3.pivot_table(index=\"year_of_release\", values=\"total_sales\", aggfunc=\"sum\").plot(\n",
    "    title = \"PS3 Global Sales per Year in Millions\",\n",
    "    kind= \"bar\");"
   ]
  },
  {
   "cell_type": "markdown",
   "metadata": {},
   "source": [
    "As expected, sales in PS3 games peaked right after its release- since it was end of 2006, the sales increased as of 2007 all the way to 2013, which is when the PS4 came out. \n",
    "\n",
    "The year-span of popularity is 7 years from 2007 to 2013.\n",
    "It faded quite fast after 2013. "
   ]
  },
  {
   "cell_type": "code",
   "execution_count": 79,
   "metadata": {},
   "outputs": [
    {
     "data": {
      "image/png": "[encoded data removed]",
      "text/plain": [
       "<Figure size 432x288 with 1 Axes>"
      ]
     },
     "metadata": {
      "needs_background": "light"
     },
     "output_type": "display_data"
    }
   ],
   "source": [
    "wii.pivot_table(index=\"year_of_release\", values=\"total_sales\", aggfunc=\"sum\").plot(\n",
    "    title = \"Wii Global Sales per Year in Millions\",\n",
    "    kind= \"bar\");"
   ]
  },
  {
   "cell_type": "markdown",
   "metadata": {},
   "source": [
    "Wii was introduced in 2006, and their sales on the first year of release were 3 times higher compared to those of PS2 and PS3. Perhaps due to the innovative wireless concept, or new console gamma overall. The data here looks very skewerd to the right, compared tot he other platforms."
   ]
  },
  {
   "cell_type": "code",
   "execution_count": 80,
   "metadata": {},
   "outputs": [
    {
     "data": {
      "image/png": "[encoded data removed]",
      "text/plain": [
       "<Figure size 432x288 with 1 Axes>"
      ]
     },
     "metadata": {
      "needs_background": "light"
     },
     "output_type": "display_data"
    }
   ],
   "source": [
    "x360.pivot_table(index=\"year_of_release\", values=\"total_sales\", aggfunc=\"sum\").plot(\n",
    "    title = \"X360 Global Sales per Year in Millions\",\n",
    "    kind= \"bar\");"
   ]
  },
  {
   "cell_type": "markdown",
   "metadata": {},
   "source": [
    "The xBox360 was introduced at the end of 2005. It reached the highest popularity level in 2010, and dropped after 2013 - might be due to the Xbox One release.\n",
    "The data shows a ver normal distribution at first sight."
   ]
  },
  {
   "cell_type": "code",
   "execution_count": 81,
   "metadata": {},
   "outputs": [
    {
     "data": {
      "image/png": "[encoded data removed]",
      "text/plain": [
       "<Figure size 432x288 with 1 Axes>"
      ]
     },
     "metadata": {
      "needs_background": "light"
     },
     "output_type": "display_data"
    }
   ],
   "source": [
    "ds.pivot_table(index=\"year_of_release\", values=\"total_sales\", aggfunc=\"sum\").plot(\n",
    "    title = \"DS Global Sales per Year in Millions\",\n",
    "    kind= \"bar\");"
   ]
  },
  {
   "cell_type": "markdown",
   "metadata": {},
   "source": [
    "We can already see there is an outlier here. DS was not released before 2004. We will need to get rid of it:"
   ]
  },
  {
   "cell_type": "code",
   "execution_count": 82,
   "metadata": {},
   "outputs": [],
   "source": [
    "newdata = newdata.drop(newdata[(newdata[\"platform\"]==\"ds\") & (newdata[\"year_of_release\"]<2004)].index)"
   ]
  },
  {
   "cell_type": "code",
   "execution_count": 83,
   "metadata": {},
   "outputs": [],
   "source": [
    "best_platforms = newdata.query('platform == [\"ps2\", \"x360\", \"wii\", \"ps3\", \"ds\"]')"
   ]
  },
  {
   "cell_type": "code",
   "execution_count": 84,
   "metadata": {},
   "outputs": [],
   "source": [
    "ds = best_platforms.query('platform == \"ds\"')"
   ]
  },
  {
   "cell_type": "code",
   "execution_count": 85,
   "metadata": {},
   "outputs": [
    {
     "data": {
      "image/png": "[encoded data removed]",
      "text/plain": [
       "<Figure size 432x288 with 1 Axes>"
      ]
     },
     "metadata": {
      "needs_background": "light"
     },
     "output_type": "display_data"
    }
   ],
   "source": [
    "ds.pivot_table(index=\"year_of_release\", values=\"total_sales\", aggfunc=\"sum\").plot(\n",
    "    title = \"DS Global Sales per Year in Millions\",\n",
    "    kind= \"bar\");"
   ]
  },
  {
   "cell_type": "markdown",
   "metadata": {},
   "source": [
    "DS Console was also popular as soon as it was released. Just like Wii, it peaked it sales 3 times more than the PS gamma and Xbox during its first year in the market. It was a new concept as well, a portable console. \n",
    "\n",
    "Its popularity lasted for 6 years (2005 to 2010 inclusive), and faded in just 3.\n",
    "\n",
    "The distribution is slightly normalized, but we would need to verify to obtain an accurate answer. \n",
    "\n",
    "Overall, these once popular platforms held their popularity for about 6 years, and faded in less than 3."
   ]
  },
  {
   "cell_type": "markdown",
   "metadata": {},
   "source": [
    "### 3.4 Selecting Sample Data<a class=\"anchor\" id=\"chapter3.4\"></a>"
   ]
  },
  {
   "cell_type": "markdown",
   "metadata": {},
   "source": [
    "We have pulled and analyzed the best platforms based on total sales. Then we analyzed them individually, each with their global sales per year, to have an idea of how the data is distributed. We were also able to see how long their popularity lasted, and how fast they faded. \n",
    "\n",
    "Based on what we know so far, we will select the period of time that contains the most relevant data for us to build a prognosis for 2017.\n",
    "\n",
    "The gaming industry is a fast-paced growing world. As technology improves, so do videogames. Based on this and the data we pulled from the most popular platforms (based on global sales), as we look into the near future, we will take into account the last relevant few years from this dataset. Due to the constantly growing market, it makes no sense to take a very long period of time, because sales are cumulative, hence the older the platform, the higher the chances for having a much higher revenue.\n",
    "\n",
    "Therefore, moving forward, as platforms seem to keep their sales at peak for 5-6 years, and fade in less than 3, we will proceed our analysis with data from years 2014 to 2016."
   ]
  },
  {
   "cell_type": "code",
   "execution_count": 86,
   "metadata": {},
   "outputs": [
    {
     "name": "stdout",
     "output_type": "stream",
     "text": [
      "<class 'pandas.core.frame.DataFrame'>\n",
      "Int64Index: 1690 entries, 31 to 16716\n",
      "Data columns (total 13 columns):\n",
      " #   Column           Non-Null Count  Dtype  \n",
      "---  ------           --------------  -----  \n",
      " 0   name             1690 non-null   object \n",
      " 1   platform         1690 non-null   object \n",
      " 2   year_of_release  1690 non-null   int32  \n",
      " 3   genre            1690 non-null   object \n",
      " 4   na_sales         1690 non-null   float64\n",
      " 5   eu_sales         1690 non-null   float64\n",
      " 6   jp_sales         1690 non-null   float64\n",
      " 7   other_sales      1690 non-null   float64\n",
      " 8   critic_score     858 non-null    float64\n",
      " 9   user_score       1128 non-null   float64\n",
      " 10  rating           1690 non-null   object \n",
      " 11  Unnamed: 0       914 non-null    float64\n",
      " 12  total_sales      1690 non-null   float64\n",
      "dtypes: float64(8), int32(1), object(4)\n",
      "memory usage: 178.2+ KB\n"
     ]
    }
   ],
   "source": [
    "sampledata = newdata.query('year_of_release >= 2014')\n",
    "sampledata.info()"
   ]
  },
  {
   "cell_type": "code",
   "execution_count": 87,
   "metadata": {},
   "outputs": [
    {
     "data": {
      "text/html": [
       "<div>\n",
       "<style scoped>\n",
       "    .dataframe tbody tr th:only-of-type {\n",
       "        vertical-align: middle;\n",
       "    }\n",
       "\n",
       "    .dataframe tbody tr th {\n",
       "        vertical-align: top;\n",
       "    }\n",
       "\n",
       "    .dataframe thead th {\n",
       "        text-align: right;\n",
       "    }\n",
       "</style>\n",
       "<table border=\"1\" class=\"dataframe\">\n",
       "  <thead>\n",
       "    <tr style=\"text-align: right;\">\n",
       "      <th></th>\n",
       "      <th>year_of_release</th>\n",
       "      <th>na_sales</th>\n",
       "      <th>eu_sales</th>\n",
       "      <th>jp_sales</th>\n",
       "      <th>other_sales</th>\n",
       "      <th>critic_score</th>\n",
       "      <th>user_score</th>\n",
       "      <th>Unnamed: 0</th>\n",
       "      <th>total_sales</th>\n",
       "    </tr>\n",
       "  </thead>\n",
       "  <tbody>\n",
       "    <tr>\n",
       "      <th>count</th>\n",
       "      <td>1690.000000</td>\n",
       "      <td>1690.000000</td>\n",
       "      <td>1690.000000</td>\n",
       "      <td>1690.000000</td>\n",
       "      <td>1690.000000</td>\n",
       "      <td>858.000000</td>\n",
       "      <td>1128.000000</td>\n",
       "      <td>914.000000</td>\n",
       "      <td>1690.000000</td>\n",
       "    </tr>\n",
       "    <tr>\n",
       "      <th>mean</th>\n",
       "      <td>2014.952663</td>\n",
       "      <td>0.168118</td>\n",
       "      <td>0.160314</td>\n",
       "      <td>0.055083</td>\n",
       "      <td>0.048320</td>\n",
       "      <td>73.322844</td>\n",
       "      <td>5.502686</td>\n",
       "      <td>225207.890591</td>\n",
       "      <td>0.383515</td>\n",
       "    </tr>\n",
       "    <tr>\n",
       "      <th>std</th>\n",
       "      <td>0.799724</td>\n",
       "      <td>0.446009</td>\n",
       "      <td>0.466713</td>\n",
       "      <td>0.211455</td>\n",
       "      <td>0.141748</td>\n",
       "      <td>11.972527</td>\n",
       "      <td>2.722856</td>\n",
       "      <td>108917.025777</td>\n",
       "      <td>0.924617</td>\n",
       "    </tr>\n",
       "    <tr>\n",
       "      <th>min</th>\n",
       "      <td>2014.000000</td>\n",
       "      <td>0.000000</td>\n",
       "      <td>0.000000</td>\n",
       "      <td>0.000000</td>\n",
       "      <td>0.000000</td>\n",
       "      <td>19.000000</td>\n",
       "      <td>0.000000</td>\n",
       "      <td>413.000000</td>\n",
       "      <td>0.010000</td>\n",
       "    </tr>\n",
       "    <tr>\n",
       "      <th>25%</th>\n",
       "      <td>2014.000000</td>\n",
       "      <td>0.000000</td>\n",
       "      <td>0.000000</td>\n",
       "      <td>0.000000</td>\n",
       "      <td>0.000000</td>\n",
       "      <td>67.000000</td>\n",
       "      <td>4.090000</td>\n",
       "      <td>172453.000000</td>\n",
       "      <td>0.030000</td>\n",
       "    </tr>\n",
       "    <tr>\n",
       "      <th>50%</th>\n",
       "      <td>2015.000000</td>\n",
       "      <td>0.020000</td>\n",
       "      <td>0.020000</td>\n",
       "      <td>0.010000</td>\n",
       "      <td>0.010000</td>\n",
       "      <td>75.000000</td>\n",
       "      <td>6.400000</td>\n",
       "      <td>234878.500000</td>\n",
       "      <td>0.090000</td>\n",
       "    </tr>\n",
       "    <tr>\n",
       "      <th>75%</th>\n",
       "      <td>2016.000000</td>\n",
       "      <td>0.120000</td>\n",
       "      <td>0.120000</td>\n",
       "      <td>0.040000</td>\n",
       "      <td>0.040000</td>\n",
       "      <td>82.000000</td>\n",
       "      <td>7.600000</td>\n",
       "      <td>265328.250000</td>\n",
       "      <td>0.310000</td>\n",
       "    </tr>\n",
       "    <tr>\n",
       "      <th>max</th>\n",
       "      <td>2016.000000</td>\n",
       "      <td>6.030000</td>\n",
       "      <td>6.310000</td>\n",
       "      <td>3.180000</td>\n",
       "      <td>2.380000</td>\n",
       "      <td>97.000000</td>\n",
       "      <td>9.300000</td>\n",
       "      <td>474207.000000</td>\n",
       "      <td>12.250000</td>\n",
       "    </tr>\n",
       "  </tbody>\n",
       "</table>\n",
       "</div>"
      ],
      "text/plain": [
       "       year_of_release     na_sales     eu_sales     jp_sales  other_sales  \\\n",
       "count      1690.000000  1690.000000  1690.000000  1690.000000  1690.000000   \n",
       "mean       2014.952663     0.168118     0.160314     0.055083     0.048320   \n",
       "std           0.799724     0.446009     0.466713     0.211455     0.141748   \n",
       "min        2014.000000     0.000000     0.000000     0.000000     0.000000   \n",
       "25%        2014.000000     0.000000     0.000000     0.000000     0.000000   \n",
       "50%        2015.000000     0.020000     0.020000     0.010000     0.010000   \n",
       "75%        2016.000000     0.120000     0.120000     0.040000     0.040000   \n",
       "max        2016.000000     6.030000     6.310000     3.180000     2.380000   \n",
       "\n",
       "       critic_score   user_score     Unnamed: 0  total_sales  \n",
       "count    858.000000  1128.000000     914.000000  1690.000000  \n",
       "mean      73.322844     5.502686  225207.890591     0.383515  \n",
       "std       11.972527     2.722856  108917.025777     0.924617  \n",
       "min       19.000000     0.000000     413.000000     0.010000  \n",
       "25%       67.000000     4.090000  172453.000000     0.030000  \n",
       "50%       75.000000     6.400000  234878.500000     0.090000  \n",
       "75%       82.000000     7.600000  265328.250000     0.310000  \n",
       "max       97.000000     9.300000  474207.000000    12.250000  "
      ]
     },
     "execution_count": 87,
     "metadata": {},
     "output_type": "execute_result"
    }
   ],
   "source": [
    "sampledata.describe()"
   ]
  },
  {
   "cell_type": "markdown",
   "metadata": {},
   "source": [
    "We are now working with a dataset of 5321 entries, which includes games released between 2010 and 2016."
   ]
  },
  {
   "cell_type": "markdown",
   "metadata": {},
   "source": [
    "### 3.5 Sample data: Platform analysis<a class=\"anchor\" id=\"chapter3.5\"></a>"
   ]
  },
  {
   "cell_type": "markdown",
   "metadata": {},
   "source": [
    "* Platforms are leading in sales.\n",
    "* Platforms growing or shrinking.\n",
    "* Profitable platforms"
   ]
  },
  {
   "cell_type": "markdown",
   "metadata": {},
   "source": [
    "**3.5.1 Platforms leading in Sales**"
   ]
  },
  {
   "cell_type": "code",
   "execution_count": 88,
   "metadata": {},
   "outputs": [
    {
     "name": "stdout",
     "output_type": "stream",
     "text": [
      "Requirement already satisfied: squarify in c:\\users\\rando\\anaconda3\\lib\\site-packages (0.4.3)\n"
     ]
    }
   ],
   "source": [
    "!pip install squarify\n",
    "import squarify"
   ]
  },
  {
   "cell_type": "code",
   "execution_count": 89,
   "metadata": {},
   "outputs": [],
   "source": [
    "import squarify"
   ]
  },
  {
   "cell_type": "code",
   "execution_count": 90,
   "metadata": {},
   "outputs": [
    {
     "data": {
      "text/html": [
       "<div>\n",
       "<style scoped>\n",
       "    .dataframe tbody tr th:only-of-type {\n",
       "        vertical-align: middle;\n",
       "    }\n",
       "\n",
       "    .dataframe tbody tr th {\n",
       "        vertical-align: top;\n",
       "    }\n",
       "\n",
       "    .dataframe thead th {\n",
       "        text-align: right;\n",
       "    }\n",
       "</style>\n",
       "<table border=\"1\" class=\"dataframe\">\n",
       "  <thead>\n",
       "    <tr style=\"text-align: right;\">\n",
       "      <th></th>\n",
       "      <th>platform</th>\n",
       "      <th>total_sales</th>\n",
       "    </tr>\n",
       "  </thead>\n",
       "  <tbody>\n",
       "    <tr>\n",
       "      <th>0</th>\n",
       "      <td>psp</td>\n",
       "      <td>0.36</td>\n",
       "    </tr>\n",
       "    <tr>\n",
       "      <th>1</th>\n",
       "      <td>wii</td>\n",
       "      <td>4.67</td>\n",
       "    </tr>\n",
       "    <tr>\n",
       "      <th>2</th>\n",
       "      <td>psv</td>\n",
       "      <td>20.59</td>\n",
       "    </tr>\n",
       "    <tr>\n",
       "      <th>3</th>\n",
       "      <td>pc</td>\n",
       "      <td>25.51</td>\n",
       "    </tr>\n",
       "    <tr>\n",
       "      <th>4</th>\n",
       "      <td>wiiu</td>\n",
       "      <td>39.82</td>\n",
       "    </tr>\n",
       "    <tr>\n",
       "      <th>5</th>\n",
       "      <td>x360</td>\n",
       "      <td>43.87</td>\n",
       "    </tr>\n",
       "    <tr>\n",
       "      <th>6</th>\n",
       "      <td>ps3</td>\n",
       "      <td>58.81</td>\n",
       "    </tr>\n",
       "    <tr>\n",
       "      <th>7</th>\n",
       "      <td>3ds</td>\n",
       "      <td>83.00</td>\n",
       "    </tr>\n",
       "    <tr>\n",
       "      <th>8</th>\n",
       "      <td>xone</td>\n",
       "      <td>127.84</td>\n",
       "    </tr>\n",
       "    <tr>\n",
       "      <th>9</th>\n",
       "      <td>ps4</td>\n",
       "      <td>243.67</td>\n",
       "    </tr>\n",
       "  </tbody>\n",
       "</table>\n",
       "</div>"
      ],
      "text/plain": [
       "  platform  total_sales\n",
       "0      psp         0.36\n",
       "1      wii         4.67\n",
       "2      psv        20.59\n",
       "3       pc        25.51\n",
       "4     wiiu        39.82\n",
       "5     x360        43.87\n",
       "6      ps3        58.81\n",
       "7      3ds        83.00\n",
       "8     xone       127.84\n",
       "9      ps4       243.67"
      ]
     },
     "execution_count": 90,
     "metadata": {},
     "output_type": "execute_result"
    }
   ],
   "source": [
    "sampledata_tree = sampledata[[\"platform\", \"total_sales\"]].groupby(['platform']).sum().sort_values(by='total_sales').reset_index()\n",
    "sampledata_tree"
   ]
  },
  {
   "cell_type": "code",
   "execution_count": 91,
   "metadata": {
    "scrolled": true
   },
   "outputs": [
    {
     "data": {
      "text/plain": [
       "[0.36000000000000004,\n",
       " 4.669999999999999,\n",
       " 20.590000000000106,\n",
       " 25.510000000000034,\n",
       " 39.82000000000001,\n",
       " 43.87000000000003,\n",
       " 58.81000000000006,\n",
       " 83.0000000000001,\n",
       " 127.84000000000009,\n",
       " 243.6700000000004]"
      ]
     },
     "execution_count": 91,
     "metadata": {},
     "output_type": "execute_result"
    }
   ],
   "source": [
    "#determine size with column 'total_sales', passing the result as a list\n",
    "sizes=sampledata_tree.total_sales.values.tolist()\n",
    "sizes"
   ]
  },
  {
   "cell_type": "code",
   "execution_count": 92,
   "metadata": {},
   "outputs": [
    {
     "data": {
      "text/plain": [
       "0       psp\\n$0\n",
       "1       wii\\n$5\n",
       "2      psv\\n$21\n",
       "3       pc\\n$26\n",
       "4     wiiu\\n$40\n",
       "5     x360\\n$44\n",
       "6      ps3\\n$59\n",
       "7      3ds\\n$83\n",
       "8    xone\\n$128\n",
       "9     ps4\\n$244\n",
       "dtype: object"
      ]
     },
     "execution_count": 92,
     "metadata": {},
     "output_type": "execute_result"
    }
   ],
   "source": [
    "#For labels, we apply a function across the columns\n",
    "labels= sampledata_tree.apply(lambda x: str(x[0])+'\\n'+'$'+str(round(x[1])), axis=1)\n",
    "labels"
   ]
  },
  {
   "cell_type": "code",
   "execution_count": 93,
   "metadata": {},
   "outputs": [
    {
     "data": {
      "image/png": "[encoded data removed]",
      "text/plain": [
       "<Figure size 1080x576 with 1 Axes>"
      ]
     },
     "metadata": {
      "needs_background": "light"
     },
     "output_type": "display_data"
    }
   ],
   "source": [
    "plt.figure(figsize=(15,8));\n",
    "squarify.plot(sizes=sizes, label=labels, alpha=0.5);"
   ]
  },
  {
   "cell_type": "markdown",
   "metadata": {},
   "source": [
    "The above graph represents the share of the revenue generated by each platform from our sample data, in other words, the distribution of sales across platforms."
   ]
  },
  {
   "cell_type": "code",
   "execution_count": 94,
   "metadata": {
    "scrolled": false
   },
   "outputs": [
    {
     "data": {
      "text/html": [
       "<div>\n",
       "<style scoped>\n",
       "    .dataframe tbody tr th:only-of-type {\n",
       "        vertical-align: middle;\n",
       "    }\n",
       "\n",
       "    .dataframe tbody tr th {\n",
       "        vertical-align: top;\n",
       "    }\n",
       "\n",
       "    .dataframe thead th {\n",
       "        text-align: right;\n",
       "    }\n",
       "</style>\n",
       "<table border=\"1\" class=\"dataframe\">\n",
       "  <thead>\n",
       "    <tr style=\"text-align: right;\">\n",
       "      <th></th>\n",
       "      <th>total_sales</th>\n",
       "    </tr>\n",
       "    <tr>\n",
       "      <th>platform</th>\n",
       "      <th></th>\n",
       "    </tr>\n",
       "  </thead>\n",
       "  <tbody>\n",
       "    <tr>\n",
       "      <th>ps4</th>\n",
       "      <td>243.67</td>\n",
       "    </tr>\n",
       "    <tr>\n",
       "      <th>xone</th>\n",
       "      <td>127.84</td>\n",
       "    </tr>\n",
       "    <tr>\n",
       "      <th>3ds</th>\n",
       "      <td>83.00</td>\n",
       "    </tr>\n",
       "    <tr>\n",
       "      <th>ps3</th>\n",
       "      <td>58.81</td>\n",
       "    </tr>\n",
       "    <tr>\n",
       "      <th>x360</th>\n",
       "      <td>43.87</td>\n",
       "    </tr>\n",
       "  </tbody>\n",
       "</table>\n",
       "</div>"
      ],
      "text/plain": [
       "          total_sales\n",
       "platform             \n",
       "ps4            243.67\n",
       "xone           127.84\n",
       "3ds             83.00\n",
       "ps3             58.81\n",
       "x360            43.87"
      ]
     },
     "execution_count": 94,
     "metadata": {},
     "output_type": "execute_result"
    }
   ],
   "source": [
    "sampledata.pivot_table(index=[\"platform\"], values=\"total_sales\", aggfunc=\"sum\").sort_values(\"total_sales\", ascending=False).head()"
   ]
  },
  {
   "cell_type": "markdown",
   "metadata": {},
   "source": [
    "The platforms leading in global sales between 2014 and 2016 are the **PS4 and xOne**."
   ]
  },
  {
   "cell_type": "markdown",
   "metadata": {},
   "source": [
    "**3.5.2 Which Platforms are Growing or Shrinking**"
   ]
  },
  {
   "cell_type": "code",
   "execution_count": 95,
   "metadata": {},
   "outputs": [
    {
     "data": {
      "text/html": [
       "<div>\n",
       "<style scoped>\n",
       "    .dataframe tbody tr th:only-of-type {\n",
       "        vertical-align: middle;\n",
       "    }\n",
       "\n",
       "    .dataframe tbody tr th {\n",
       "        vertical-align: top;\n",
       "    }\n",
       "\n",
       "    .dataframe thead th {\n",
       "        text-align: right;\n",
       "    }\n",
       "</style>\n",
       "<table border=\"1\" class=\"dataframe\">\n",
       "  <thead>\n",
       "    <tr style=\"text-align: right;\">\n",
       "      <th>platform</th>\n",
       "      <th>3ds</th>\n",
       "      <th>pc</th>\n",
       "      <th>ps3</th>\n",
       "      <th>ps4</th>\n",
       "      <th>psp</th>\n",
       "      <th>psv</th>\n",
       "      <th>wii</th>\n",
       "      <th>wiiu</th>\n",
       "      <th>x360</th>\n",
       "      <th>xone</th>\n",
       "    </tr>\n",
       "    <tr>\n",
       "      <th>year_of_release</th>\n",
       "      <th></th>\n",
       "      <th></th>\n",
       "      <th></th>\n",
       "      <th></th>\n",
       "      <th></th>\n",
       "      <th></th>\n",
       "      <th></th>\n",
       "      <th></th>\n",
       "      <th></th>\n",
       "      <th></th>\n",
       "    </tr>\n",
       "  </thead>\n",
       "  <tbody>\n",
       "    <tr>\n",
       "      <th>2014</th>\n",
       "      <td>41.75</td>\n",
       "      <td>12.69</td>\n",
       "      <td>40.88</td>\n",
       "      <td>84.22</td>\n",
       "      <td>0.24</td>\n",
       "      <td>10.56</td>\n",
       "      <td>3.45</td>\n",
       "      <td>20.35</td>\n",
       "      <td>31.61</td>\n",
       "      <td>49.26</td>\n",
       "    </tr>\n",
       "    <tr>\n",
       "      <th>2015</th>\n",
       "      <td>26.75</td>\n",
       "      <td>7.93</td>\n",
       "      <td>14.70</td>\n",
       "      <td>100.44</td>\n",
       "      <td>0.12</td>\n",
       "      <td>5.93</td>\n",
       "      <td>1.05</td>\n",
       "      <td>15.22</td>\n",
       "      <td>10.86</td>\n",
       "      <td>54.67</td>\n",
       "    </tr>\n",
       "    <tr>\n",
       "      <th>2016</th>\n",
       "      <td>14.50</td>\n",
       "      <td>4.89</td>\n",
       "      <td>3.23</td>\n",
       "      <td>59.01</td>\n",
       "      <td>0.00</td>\n",
       "      <td>4.10</td>\n",
       "      <td>0.17</td>\n",
       "      <td>4.25</td>\n",
       "      <td>1.40</td>\n",
       "      <td>23.91</td>\n",
       "    </tr>\n",
       "  </tbody>\n",
       "</table>\n",
       "</div>"
      ],
      "text/plain": [
       "platform           3ds     pc    ps3     ps4   psp    psv   wii   wiiu   x360  \\\n",
       "year_of_release                                                                 \n",
       "2014             41.75  12.69  40.88   84.22  0.24  10.56  3.45  20.35  31.61   \n",
       "2015             26.75   7.93  14.70  100.44  0.12   5.93  1.05  15.22  10.86   \n",
       "2016             14.50   4.89   3.23   59.01  0.00   4.10  0.17   4.25   1.40   \n",
       "\n",
       "platform          xone  \n",
       "year_of_release         \n",
       "2014             49.26  \n",
       "2015             54.67  \n",
       "2016             23.91  "
      ]
     },
     "execution_count": 95,
     "metadata": {},
     "output_type": "execute_result"
    }
   ],
   "source": [
    "df = sampledata.pivot_table(index='year_of_release', columns='platform', values='total_sales', aggfunc='sum', fill_value=0)\n",
    "df"
   ]
  },
  {
   "cell_type": "markdown",
   "metadata": {},
   "source": [
    "The table above shows an overview of the global sales per platform with game releases between 2014 and 2016. \n",
    "\n",
    "We see already that some are fading faster than others in the market.\n",
    "\n",
    "For example, x360 had a very sudden drop in sales right between 2014 and 2015, by around 60%!\n",
    "Others, like xOne and Wii, have a much slower decline of sales over time. "
   ]
  },
  {
   "cell_type": "code",
   "execution_count": 96,
   "metadata": {},
   "outputs": [],
   "source": [
    "ps4_sales = sampledata.query('platform in \"ps4\"').pivot_table(index=[\"year_of_release\"], values=\"total_sales\", aggfunc=\"sum\")"
   ]
  },
  {
   "cell_type": "code",
   "execution_count": 97,
   "metadata": {},
   "outputs": [],
   "source": [
    "xone_sales = sampledata.query('platform in \"xone\"').pivot_table(index=[\"year_of_release\"], values=\"total_sales\", aggfunc=\"sum\")"
   ]
  },
  {
   "cell_type": "code",
   "execution_count": 98,
   "metadata": {
    "scrolled": true
   },
   "outputs": [
    {
     "data": {
      "image/png": "[encoded data removed]",
      "text/plain": [
       "<Figure size 432x288 with 1 Axes>"
      ]
     },
     "metadata": {
      "needs_background": "light"
     },
     "output_type": "display_data"
    }
   ],
   "source": [
    "#LINE CHART WITH SALES EVOLUTION\n",
    "x = sampledata['year_of_release']\n",
    "y_sales_ps4 = ps4_sales\n",
    "y_sales_xone = xone_sales\n",
    "\n",
    "#plot lines and assign color\n",
    "plt.plot(y_sales_ps4, color=\"blue\")\n",
    "plt.plot(y_sales_xone, color=\"green\")\n",
    "\n",
    "\n",
    "#labels\n",
    "plt.title(\"Global Sales by Platform between 2014 and 2016\")\n",
    "plt.xlabel(\"Timeline\")\n",
    "plt.ylabel(\"Sales in Millions\")\n",
    "plt.xticks(x)\n",
    "\n",
    "#legend\n",
    "plt.legend(('ps4', 'xone'), loc='upper right')\n",
    "\n",
    "plt.show()"
   ]
  },
  {
   "cell_type": "markdown",
   "metadata": {},
   "source": [
    "In the lined graph we can see the timeline of global sales from the platforms that accumulate the biggest sales between 2014 and 2016.\n",
    "\n",
    "We see that even though these were once very profitable, their games popularity is decreasing, probably due to new platforms coming into the market. \n",
    "\n",
    "The latest release was the ps4, but it already shows a decline in sales between 2015 and 2016. "
   ]
  },
  {
   "cell_type": "markdown",
   "metadata": {},
   "source": [
    "**Sales Boxplot**"
   ]
  },
  {
   "cell_type": "markdown",
   "metadata": {},
   "source": [
    "Build a box plot for the global sales of all games, broken down by platform."
   ]
  },
  {
   "cell_type": "code",
   "execution_count": 99,
   "metadata": {},
   "outputs": [
    {
     "data": {
      "text/html": [
       "<div>\n",
       "<style scoped>\n",
       "    .dataframe tbody tr th:only-of-type {\n",
       "        vertical-align: middle;\n",
       "    }\n",
       "\n",
       "    .dataframe tbody tr th {\n",
       "        vertical-align: top;\n",
       "    }\n",
       "\n",
       "    .dataframe thead th {\n",
       "        text-align: right;\n",
       "    }\n",
       "</style>\n",
       "<table border=\"1\" class=\"dataframe\">\n",
       "  <thead>\n",
       "    <tr style=\"text-align: right;\">\n",
       "      <th></th>\n",
       "      <th></th>\n",
       "      <th>total_sales</th>\n",
       "    </tr>\n",
       "    <tr>\n",
       "      <th>platform</th>\n",
       "      <th>name</th>\n",
       "      <th></th>\n",
       "    </tr>\n",
       "  </thead>\n",
       "  <tbody>\n",
       "    <tr>\n",
       "      <th rowspan=\"5\" valign=\"top\">3ds</th>\n",
       "      <th>beyblade burst</th>\n",
       "      <td>0.03</td>\n",
       "    </tr>\n",
       "    <tr>\n",
       "      <th>fire emblem fates</th>\n",
       "      <td>1.56</td>\n",
       "    </tr>\n",
       "    <tr>\n",
       "      <th>haikyu!! cross team match!</th>\n",
       "      <td>0.04</td>\n",
       "    </tr>\n",
       "    <tr>\n",
       "      <th>12-sai. honto no kimochi</th>\n",
       "      <td>0.07</td>\n",
       "    </tr>\n",
       "    <tr>\n",
       "      <th>12-sai. koisuru diary</th>\n",
       "      <td>0.05</td>\n",
       "    </tr>\n",
       "    <tr>\n",
       "      <th>...</th>\n",
       "      <th>...</th>\n",
       "      <td>...</td>\n",
       "    </tr>\n",
       "    <tr>\n",
       "      <th rowspan=\"5\" valign=\"top\">xone</th>\n",
       "      <th>wwe 2k16</th>\n",
       "      <td>0.54</td>\n",
       "    </tr>\n",
       "    <tr>\n",
       "      <th>wwe 2k17</th>\n",
       "      <td>0.24</td>\n",
       "    </tr>\n",
       "    <tr>\n",
       "      <th>xcom 2</th>\n",
       "      <td>0.04</td>\n",
       "    </tr>\n",
       "    <tr>\n",
       "      <th>zombie army trilogy</th>\n",
       "      <td>0.10</td>\n",
       "    </tr>\n",
       "    <tr>\n",
       "      <th>zombiu</th>\n",
       "      <td>0.01</td>\n",
       "    </tr>\n",
       "  </tbody>\n",
       "</table>\n",
       "<p>1690 rows × 1 columns</p>\n",
       "</div>"
      ],
      "text/plain": [
       "                                      total_sales\n",
       "platform name                                    \n",
       "3ds       beyblade burst                     0.03\n",
       "          fire emblem fates                  1.56\n",
       "          haikyu!! cross team match!         0.04\n",
       "         12-sai. honto no kimochi            0.07\n",
       "         12-sai. koisuru diary               0.05\n",
       "...                                           ...\n",
       "xone     wwe 2k16                            0.54\n",
       "         wwe 2k17                            0.24\n",
       "         xcom 2                              0.04\n",
       "         zombie army trilogy                 0.10\n",
       "         zombiu                              0.01\n",
       "\n",
       "[1690 rows x 1 columns]"
      ]
     },
     "execution_count": 99,
     "metadata": {},
     "output_type": "execute_result"
    }
   ],
   "source": [
    "sales_platform = sampledata.pivot_table(index=[\"platform\", \"name\"], values=\"total_sales\", aggfunc=\"sum\")\n",
    "sales_platform"
   ]
  },
  {
   "cell_type": "code",
   "execution_count": 100,
   "metadata": {},
   "outputs": [
    {
     "data": {
      "text/plain": [
       "(0.0, 2.0)"
      ]
     },
     "execution_count": 100,
     "metadata": {},
     "output_type": "execute_result"
    },
    {
     "data": {
      "image/png": "[encoded data removed]",
      "text/plain": [
       "<Figure size 1080x720 with 1 Axes>"
      ]
     },
     "metadata": {
      "needs_background": "light"
     },
     "output_type": "display_data"
    }
   ],
   "source": [
    "sales_platform.boxplot(column=['total_sales'], by='platform', figsize=(15, 10));\n",
    "plt.ylim(0, 2)"
   ]
  },
  {
   "cell_type": "code",
   "execution_count": 101,
   "metadata": {},
   "outputs": [
    {
     "data": {
      "text/html": [
       "<div>\n",
       "<style scoped>\n",
       "    .dataframe tbody tr th:only-of-type {\n",
       "        vertical-align: middle;\n",
       "    }\n",
       "\n",
       "    .dataframe tbody tr th {\n",
       "        vertical-align: top;\n",
       "    }\n",
       "\n",
       "    .dataframe thead th {\n",
       "        text-align: right;\n",
       "    }\n",
       "</style>\n",
       "<table border=\"1\" class=\"dataframe\">\n",
       "  <thead>\n",
       "    <tr style=\"text-align: right;\">\n",
       "      <th></th>\n",
       "      <th></th>\n",
       "      <th>total_sales</th>\n",
       "    </tr>\n",
       "    <tr>\n",
       "      <th>platform</th>\n",
       "      <th>name</th>\n",
       "      <th></th>\n",
       "    </tr>\n",
       "  </thead>\n",
       "  <tbody>\n",
       "    <tr>\n",
       "      <th rowspan=\"5\" valign=\"top\">3ds</th>\n",
       "      <th>beyblade burst</th>\n",
       "      <td>0.03</td>\n",
       "    </tr>\n",
       "    <tr>\n",
       "      <th>fire emblem fates</th>\n",
       "      <td>1.56</td>\n",
       "    </tr>\n",
       "    <tr>\n",
       "      <th>haikyu!! cross team match!</th>\n",
       "      <td>0.04</td>\n",
       "    </tr>\n",
       "    <tr>\n",
       "      <th>12-sai. honto no kimochi</th>\n",
       "      <td>0.07</td>\n",
       "    </tr>\n",
       "    <tr>\n",
       "      <th>12-sai. koisuru diary</th>\n",
       "      <td>0.05</td>\n",
       "    </tr>\n",
       "    <tr>\n",
       "      <th>...</th>\n",
       "      <th>...</th>\n",
       "      <td>...</td>\n",
       "    </tr>\n",
       "    <tr>\n",
       "      <th rowspan=\"5\" valign=\"top\">xone</th>\n",
       "      <th>wwe 2k16</th>\n",
       "      <td>0.54</td>\n",
       "    </tr>\n",
       "    <tr>\n",
       "      <th>wwe 2k17</th>\n",
       "      <td>0.24</td>\n",
       "    </tr>\n",
       "    <tr>\n",
       "      <th>xcom 2</th>\n",
       "      <td>0.04</td>\n",
       "    </tr>\n",
       "    <tr>\n",
       "      <th>zombie army trilogy</th>\n",
       "      <td>0.10</td>\n",
       "    </tr>\n",
       "    <tr>\n",
       "      <th>zombiu</th>\n",
       "      <td>0.01</td>\n",
       "    </tr>\n",
       "  </tbody>\n",
       "</table>\n",
       "<p>1690 rows × 1 columns</p>\n",
       "</div>"
      ],
      "text/plain": [
       "                                      total_sales\n",
       "platform name                                    \n",
       "3ds       beyblade burst                     0.03\n",
       "          fire emblem fates                  1.56\n",
       "          haikyu!! cross team match!         0.04\n",
       "         12-sai. honto no kimochi            0.07\n",
       "         12-sai. koisuru diary               0.05\n",
       "...                                           ...\n",
       "xone     wwe 2k16                            0.54\n",
       "         wwe 2k17                            0.24\n",
       "         xcom 2                              0.04\n",
       "         zombie army trilogy                 0.10\n",
       "         zombiu                              0.01\n",
       "\n",
       "[1690 rows x 1 columns]"
      ]
     },
     "execution_count": 101,
     "metadata": {},
     "output_type": "execute_result"
    }
   ],
   "source": [
    "platform_mean = sampledata.pivot_table(index=[\"platform\", \"name\"], values=\"total_sales\", aggfunc=\"mean\")\n",
    "platform_mean"
   ]
  },
  {
   "cell_type": "markdown",
   "metadata": {},
   "source": [
    "With a few exceptions, every platforms displays a very different situation; \n",
    "\n",
    "* PS2, PSP, PSV show very similar concentration of sales data: 75% of games earned between 0 and 0.15 aproximately.\n",
    "* On the other end, PS3, PS4, X360 and XOne games sales data is very scattered.\n",
    "* All platforms contain a considerable amount of outliers, very scattered.\n",
    "* However, they all have a ver similar median, (see pivot table below for exact median values). \n",
    "* The Q3 in all of them is considerably bigger than their Q2. This shows some games might have much higher sales compared to other games from within the same platform. \n"
   ]
  },
  {
   "cell_type": "markdown",
   "metadata": {},
   "source": [
    "### 3.6 Sales & Reviews Correlation <a class=\"anchor\" id=\"chapter3.6\"></a>"
   ]
  },
  {
   "cell_type": "markdown",
   "metadata": {},
   "source": [
    "We will now study the correlation between reviews and total sales. We will select a few current popular platforms to analize if there is any relation. PS4, XOne and 3DS."
   ]
  },
  {
   "cell_type": "code",
   "execution_count": 102,
   "metadata": {},
   "outputs": [
    {
     "data": {
      "text/html": [
       "<div>\n",
       "<style scoped>\n",
       "    .dataframe tbody tr th:only-of-type {\n",
       "        vertical-align: middle;\n",
       "    }\n",
       "\n",
       "    .dataframe tbody tr th {\n",
       "        vertical-align: top;\n",
       "    }\n",
       "\n",
       "    .dataframe thead th {\n",
       "        text-align: right;\n",
       "    }\n",
       "</style>\n",
       "<table border=\"1\" class=\"dataframe\">\n",
       "  <thead>\n",
       "    <tr style=\"text-align: right;\">\n",
       "      <th></th>\n",
       "      <th>name</th>\n",
       "      <th>platform</th>\n",
       "      <th>year_of_release</th>\n",
       "      <th>genre</th>\n",
       "      <th>na_sales</th>\n",
       "      <th>eu_sales</th>\n",
       "      <th>jp_sales</th>\n",
       "      <th>other_sales</th>\n",
       "      <th>critic_score</th>\n",
       "      <th>user_score</th>\n",
       "      <th>rating</th>\n",
       "      <th>Unnamed: 0</th>\n",
       "      <th>total_sales</th>\n",
       "    </tr>\n",
       "  </thead>\n",
       "  <tbody>\n",
       "    <tr>\n",
       "      <th>31</th>\n",
       "      <td>call of duty: black ops 3</td>\n",
       "      <td>ps4</td>\n",
       "      <td>2015</td>\n",
       "      <td>shooter</td>\n",
       "      <td>6.03</td>\n",
       "      <td>5.86</td>\n",
       "      <td>0.36</td>\n",
       "      <td>2.38</td>\n",
       "      <td>NaN</td>\n",
       "      <td>NaN</td>\n",
       "      <td>M</td>\n",
       "      <td>NaN</td>\n",
       "      <td>12.25</td>\n",
       "    </tr>\n",
       "    <tr>\n",
       "      <th>42</th>\n",
       "      <td>grand theft auto v</td>\n",
       "      <td>ps4</td>\n",
       "      <td>2014</td>\n",
       "      <td>action</td>\n",
       "      <td>3.96</td>\n",
       "      <td>6.31</td>\n",
       "      <td>0.38</td>\n",
       "      <td>1.97</td>\n",
       "      <td>97.0</td>\n",
       "      <td>8.3</td>\n",
       "      <td>M</td>\n",
       "      <td>245294.0</td>\n",
       "      <td>10.65</td>\n",
       "    </tr>\n",
       "    <tr>\n",
       "      <th>77</th>\n",
       "      <td>fifa 16</td>\n",
       "      <td>ps4</td>\n",
       "      <td>2015</td>\n",
       "      <td>sports</td>\n",
       "      <td>1.12</td>\n",
       "      <td>6.12</td>\n",
       "      <td>0.06</td>\n",
       "      <td>1.28</td>\n",
       "      <td>82.0</td>\n",
       "      <td>4.3</td>\n",
       "      <td>E</td>\n",
       "      <td>NaN</td>\n",
       "      <td>7.30</td>\n",
       "    </tr>\n",
       "    <tr>\n",
       "      <th>87</th>\n",
       "      <td>star wars battlefront (2015)</td>\n",
       "      <td>ps4</td>\n",
       "      <td>2015</td>\n",
       "      <td>shooter</td>\n",
       "      <td>2.99</td>\n",
       "      <td>3.49</td>\n",
       "      <td>0.22</td>\n",
       "      <td>1.28</td>\n",
       "      <td>NaN</td>\n",
       "      <td>NaN</td>\n",
       "      <td>M</td>\n",
       "      <td>NaN</td>\n",
       "      <td>6.70</td>\n",
       "    </tr>\n",
       "    <tr>\n",
       "      <th>92</th>\n",
       "      <td>call of duty: advanced warfare</td>\n",
       "      <td>ps4</td>\n",
       "      <td>2014</td>\n",
       "      <td>shooter</td>\n",
       "      <td>2.81</td>\n",
       "      <td>3.48</td>\n",
       "      <td>0.14</td>\n",
       "      <td>1.23</td>\n",
       "      <td>83.0</td>\n",
       "      <td>5.7</td>\n",
       "      <td>M</td>\n",
       "      <td>460091.0</td>\n",
       "      <td>6.43</td>\n",
       "    </tr>\n",
       "    <tr>\n",
       "      <th>...</th>\n",
       "      <td>...</td>\n",
       "      <td>...</td>\n",
       "      <td>...</td>\n",
       "      <td>...</td>\n",
       "      <td>...</td>\n",
       "      <td>...</td>\n",
       "      <td>...</td>\n",
       "      <td>...</td>\n",
       "      <td>...</td>\n",
       "      <td>...</td>\n",
       "      <td>...</td>\n",
       "      <td>...</td>\n",
       "      <td>...</td>\n",
       "    </tr>\n",
       "    <tr>\n",
       "      <th>16502</th>\n",
       "      <td>root letter</td>\n",
       "      <td>ps4</td>\n",
       "      <td>2016</td>\n",
       "      <td>adventure</td>\n",
       "      <td>0.00</td>\n",
       "      <td>0.00</td>\n",
       "      <td>0.01</td>\n",
       "      <td>0.00</td>\n",
       "      <td>69.0</td>\n",
       "      <td>7.5</td>\n",
       "      <td>M</td>\n",
       "      <td>463247.0</td>\n",
       "      <td>0.01</td>\n",
       "    </tr>\n",
       "    <tr>\n",
       "      <th>16505</th>\n",
       "      <td>shin hayarigami 2</td>\n",
       "      <td>ps4</td>\n",
       "      <td>2016</td>\n",
       "      <td>adventure</td>\n",
       "      <td>0.00</td>\n",
       "      <td>0.00</td>\n",
       "      <td>0.01</td>\n",
       "      <td>0.00</td>\n",
       "      <td>NaN</td>\n",
       "      <td>NaN</td>\n",
       "      <td>E</td>\n",
       "      <td>NaN</td>\n",
       "      <td>0.01</td>\n",
       "    </tr>\n",
       "    <tr>\n",
       "      <th>16528</th>\n",
       "      <td>dungeons 2</td>\n",
       "      <td>ps4</td>\n",
       "      <td>2016</td>\n",
       "      <td>role-playing</td>\n",
       "      <td>0.01</td>\n",
       "      <td>0.00</td>\n",
       "      <td>0.00</td>\n",
       "      <td>0.00</td>\n",
       "      <td>61.0</td>\n",
       "      <td>7.9</td>\n",
       "      <td>T</td>\n",
       "      <td>143566.0</td>\n",
       "      <td>0.01</td>\n",
       "    </tr>\n",
       "    <tr>\n",
       "      <th>16532</th>\n",
       "      <td>carmageddon: max damage</td>\n",
       "      <td>ps4</td>\n",
       "      <td>2016</td>\n",
       "      <td>action</td>\n",
       "      <td>0.01</td>\n",
       "      <td>0.00</td>\n",
       "      <td>0.00</td>\n",
       "      <td>0.00</td>\n",
       "      <td>51.0</td>\n",
       "      <td>5.5</td>\n",
       "      <td>M</td>\n",
       "      <td>128994.0</td>\n",
       "      <td>0.01</td>\n",
       "    </tr>\n",
       "    <tr>\n",
       "      <th>16587</th>\n",
       "      <td>farming 2017 - the simulation</td>\n",
       "      <td>ps4</td>\n",
       "      <td>2016</td>\n",
       "      <td>simulation</td>\n",
       "      <td>0.00</td>\n",
       "      <td>0.01</td>\n",
       "      <td>0.00</td>\n",
       "      <td>0.00</td>\n",
       "      <td>NaN</td>\n",
       "      <td>NaN</td>\n",
       "      <td>E</td>\n",
       "      <td>NaN</td>\n",
       "      <td>0.01</td>\n",
       "    </tr>\n",
       "  </tbody>\n",
       "</table>\n",
       "<p>376 rows × 13 columns</p>\n",
       "</div>"
      ],
      "text/plain": [
       "                                 name platform  year_of_release         genre  \\\n",
       "31          call of duty: black ops 3      ps4             2015       shooter   \n",
       "42                 grand theft auto v      ps4             2014        action   \n",
       "77                            fifa 16      ps4             2015        sports   \n",
       "87       star wars battlefront (2015)      ps4             2015       shooter   \n",
       "92     call of duty: advanced warfare      ps4             2014       shooter   \n",
       "...                               ...      ...              ...           ...   \n",
       "16502                     root letter      ps4             2016     adventure   \n",
       "16505               shin hayarigami 2      ps4             2016     adventure   \n",
       "16528                      dungeons 2      ps4             2016  role-playing   \n",
       "16532         carmageddon: max damage      ps4             2016        action   \n",
       "16587   farming 2017 - the simulation      ps4             2016    simulation   \n",
       "\n",
       "       na_sales  eu_sales  jp_sales  other_sales  critic_score  user_score  \\\n",
       "31         6.03      5.86      0.36         2.38           NaN         NaN   \n",
       "42         3.96      6.31      0.38         1.97          97.0         8.3   \n",
       "77         1.12      6.12      0.06         1.28          82.0         4.3   \n",
       "87         2.99      3.49      0.22         1.28           NaN         NaN   \n",
       "92         2.81      3.48      0.14         1.23          83.0         5.7   \n",
       "...         ...       ...       ...          ...           ...         ...   \n",
       "16502      0.00      0.00      0.01         0.00          69.0         7.5   \n",
       "16505      0.00      0.00      0.01         0.00           NaN         NaN   \n",
       "16528      0.01      0.00      0.00         0.00          61.0         7.9   \n",
       "16532      0.01      0.00      0.00         0.00          51.0         5.5   \n",
       "16587      0.00      0.01      0.00         0.00           NaN         NaN   \n",
       "\n",
       "      rating  Unnamed: 0  total_sales  \n",
       "31         M         NaN        12.25  \n",
       "42         M    245294.0        10.65  \n",
       "77         E         NaN         7.30  \n",
       "87         M         NaN         6.70  \n",
       "92         M    460091.0         6.43  \n",
       "...      ...         ...          ...  \n",
       "16502      M    463247.0         0.01  \n",
       "16505      E         NaN         0.01  \n",
       "16528      T    143566.0         0.01  \n",
       "16532      M    128994.0         0.01  \n",
       "16587      E         NaN         0.01  \n",
       "\n",
       "[376 rows x 13 columns]"
      ]
     },
     "execution_count": 102,
     "metadata": {},
     "output_type": "execute_result"
    }
   ],
   "source": [
    "ps4_reviews = sampledata.query('platform in \"ps4\"')\n",
    "ps4_reviews"
   ]
  },
  {
   "cell_type": "code",
   "execution_count": 103,
   "metadata": {},
   "outputs": [
    {
     "data": {
      "image/png": "[encoded data removed]",
      "text/plain": [
       "<Figure size 576x360 with 1 Axes>"
      ]
     },
     "metadata": {
      "needs_background": "light"
     },
     "output_type": "display_data"
    }
   ],
   "source": [
    "ps4_reviews.plot(x='critic_score',\n",
    "                 y='total_sales', \n",
    "                 kind='scatter',\n",
    "                 title = 'Correlation Between Total Sales and Critic Score: PS4',\n",
    "                 figsize=(8, 5));"
   ]
  },
  {
   "cell_type": "markdown",
   "metadata": {},
   "source": [
    "There is a mild positive correlation between the sales and critic score:\n",
    "* There are barely any sales from games that are scored less than 40 points.\n",
    "* Sales increase on games with scores 60 or above.\n",
    "* Between 60 and 90 points, most games concentrate the sales below 2 million. \n"
   ]
  },
  {
   "cell_type": "code",
   "execution_count": 104,
   "metadata": {},
   "outputs": [
    {
     "data": {
      "image/png": "[encoded data removed]",
      "text/plain": [
       "<Figure size 576x360 with 1 Axes>"
      ]
     },
     "metadata": {
      "needs_background": "light"
     },
     "output_type": "display_data"
    }
   ],
   "source": [
    "ps4_reviews.plot(x='user_score',\n",
    "                 y='total_sales', \n",
    "                 kind='scatter',\n",
    "                 title = 'Correlation Between Total Sales and User Score: PS4',\n",
    "                 figsize=(8, 5));"
   ]
  },
  {
   "cell_type": "markdown",
   "metadata": {},
   "source": [
    "There is almost no between Sales and User score.Sales increase as user score increases, however it is far from a defined positive correlation. There is a game that is scored with a 4, and has around 7million USD in sales, and another scored almost 10 that doesn't reach 4 million USD in sales."
   ]
  },
  {
   "cell_type": "markdown",
   "metadata": {},
   "source": [
    "In conclusion, reviews don't have a strong impact on sales."
   ]
  },
  {
   "cell_type": "markdown",
   "metadata": {},
   "source": [
    "**xOne**"
   ]
  },
  {
   "cell_type": "markdown",
   "metadata": {},
   "source": [
    "Let's try to find a correlation on other current popular platforms, like xOne."
   ]
  },
  {
   "cell_type": "code",
   "execution_count": 105,
   "metadata": {},
   "outputs": [],
   "source": [
    "xone_reviews = sampledata.query('platform in \"xone\"')"
   ]
  },
  {
   "cell_type": "code",
   "execution_count": 106,
   "metadata": {},
   "outputs": [
    {
     "data": {
      "image/png": "[encoded data removed]",
      "text/plain": [
       "<Figure size 576x360 with 1 Axes>"
      ]
     },
     "metadata": {
      "needs_background": "light"
     },
     "output_type": "display_data"
    }
   ],
   "source": [
    "xone_reviews.plot(x='critic_score',\n",
    "                 y='total_sales', \n",
    "                 kind='scatter',\n",
    "                 title = 'Correlation Between Total Sales and Critic Score: xOne',\n",
    "                 figsize=(8, 5));"
   ]
  },
  {
   "cell_type": "code",
   "execution_count": 107,
   "metadata": {},
   "outputs": [
    {
     "data": {
      "image/png": "[encoded data removed]",
      "text/plain": [
       "<Figure size 576x360 with 1 Axes>"
      ]
     },
     "metadata": {
      "needs_background": "light"
     },
     "output_type": "display_data"
    }
   ],
   "source": [
    "xone_reviews.plot(x='user_score',\n",
    "                 y='total_sales', \n",
    "                 kind='scatter',\n",
    "                 title = 'Correlation Between Total Sales and User Score: xOne',\n",
    "                 figsize=(8, 5));"
   ]
  },
  {
   "cell_type": "markdown",
   "metadata": {},
   "source": [
    "The xOne also shows no correlation between user reviews and sales. \n",
    "Critic scores however show **slightly** defined positive correlation; those games with a score over 70 seem to have higher sales."
   ]
  },
  {
   "cell_type": "markdown",
   "metadata": {},
   "source": [
    "### 3.7 Genres<a class=\"anchor\" id=\"chapter3.7\"></a>"
   ]
  },
  {
   "cell_type": "markdown",
   "metadata": {},
   "source": [
    "From the Genres point of view, let's find out which ones have the highest and lowest sales globally:"
   ]
  },
  {
   "cell_type": "code",
   "execution_count": 108,
   "metadata": {},
   "outputs": [
    {
     "data": {
      "text/html": [
       "<div>\n",
       "<style scoped>\n",
       "    .dataframe tbody tr th:only-of-type {\n",
       "        vertical-align: middle;\n",
       "    }\n",
       "\n",
       "    .dataframe tbody tr th {\n",
       "        vertical-align: top;\n",
       "    }\n",
       "\n",
       "    .dataframe thead th {\n",
       "        text-align: right;\n",
       "    }\n",
       "</style>\n",
       "<table border=\"1\" class=\"dataframe\">\n",
       "  <thead>\n",
       "    <tr style=\"text-align: right;\">\n",
       "      <th></th>\n",
       "      <th>total_sales</th>\n",
       "    </tr>\n",
       "    <tr>\n",
       "      <th>genre</th>\n",
       "      <th></th>\n",
       "    </tr>\n",
       "  </thead>\n",
       "  <tbody>\n",
       "    <tr>\n",
       "      <th>action</th>\n",
       "      <td>177.10</td>\n",
       "    </tr>\n",
       "    <tr>\n",
       "      <th>shooter</th>\n",
       "      <td>149.41</td>\n",
       "    </tr>\n",
       "    <tr>\n",
       "      <th>sports</th>\n",
       "      <td>95.12</td>\n",
       "    </tr>\n",
       "    <tr>\n",
       "      <th>role-playing</th>\n",
       "      <td>92.80</td>\n",
       "    </tr>\n",
       "    <tr>\n",
       "      <th>misc</th>\n",
       "      <td>33.52</td>\n",
       "    </tr>\n",
       "    <tr>\n",
       "      <th>fighting</th>\n",
       "      <td>25.49</td>\n",
       "    </tr>\n",
       "    <tr>\n",
       "      <th>racing</th>\n",
       "      <td>24.63</td>\n",
       "    </tr>\n",
       "    <tr>\n",
       "      <th>platform</th>\n",
       "      <td>16.28</td>\n",
       "    </tr>\n",
       "    <tr>\n",
       "      <th>adventure</th>\n",
       "      <td>15.73</td>\n",
       "    </tr>\n",
       "    <tr>\n",
       "      <th>simulation</th>\n",
       "      <td>12.24</td>\n",
       "    </tr>\n",
       "    <tr>\n",
       "      <th>strategy</th>\n",
       "      <td>3.72</td>\n",
       "    </tr>\n",
       "    <tr>\n",
       "      <th>puzzle</th>\n",
       "      <td>2.10</td>\n",
       "    </tr>\n",
       "  </tbody>\n",
       "</table>\n",
       "</div>"
      ],
      "text/plain": [
       "              total_sales\n",
       "genre                    \n",
       "action             177.10\n",
       "shooter            149.41\n",
       "sports              95.12\n",
       "role-playing        92.80\n",
       "misc                33.52\n",
       "fighting            25.49\n",
       "racing              24.63\n",
       "platform            16.28\n",
       "adventure           15.73\n",
       "simulation          12.24\n",
       "strategy             3.72\n",
       "puzzle               2.10"
      ]
     },
     "execution_count": 108,
     "metadata": {},
     "output_type": "execute_result"
    }
   ],
   "source": [
    "sales_bygenre = sampledata.pivot_table(\n",
    "    index=\"genre\", \n",
    "    values=\"total_sales\", \n",
    "    aggfunc=\"sum\").sort_values(\"total_sales\", ascending=False)\n",
    "\n",
    "sales_bygenre"
   ]
  },
  {
   "cell_type": "code",
   "execution_count": 109,
   "metadata": {},
   "outputs": [
    {
     "data": {
      "image/png": "[encoded data removed]",
      "text/plain": [
       "<Figure size 432x288 with 1 Axes>"
      ]
     },
     "metadata": {
      "needs_background": "light"
     },
     "output_type": "display_data"
    }
   ],
   "source": [
    "sales_bygenre.plot(title=\"Total Sales per Genre\",\n",
    "                       kind=\"bar\");"
   ]
  },
  {
   "cell_type": "code",
   "execution_count": 110,
   "metadata": {
    "scrolled": true
   },
   "outputs": [
    {
     "data": {
      "text/plain": [
       "action          620\n",
       "role-playing    221\n",
       "adventure       185\n",
       "sports          161\n",
       "shooter         128\n",
       "misc            113\n",
       "racing           69\n",
       "fighting         60\n",
       "simulation       44\n",
       "platform         38\n",
       "strategy         37\n",
       "puzzle           14\n",
       "Name: genre, dtype: int64"
      ]
     },
     "execution_count": 110,
     "metadata": {},
     "output_type": "execute_result"
    }
   ],
   "source": [
    "# Number of games released per genre\n",
    "sampledata[\"genre\"].value_counts()"
   ]
  },
  {
   "cell_type": "markdown",
   "metadata": {},
   "source": [
    "The 2 top genres by global sales are action and shooter, followed by role-playing and sports.\n",
    "The least sales are from genres puzzle and strategy. \n",
    "\n",
    "Action games genre also has the biggest amount of games in this dataset, so this could help the sales increase. On the other hand, there are only 14 puzzle games released between 2014 and 2016, which can explain the low amount of sales from that genre. "
   ]
  },
  {
   "cell_type": "code",
   "execution_count": 111,
   "metadata": {},
   "outputs": [
    {
     "data": {
      "text/plain": [
       "(0.0, 3.0)"
      ]
     },
     "execution_count": 111,
     "metadata": {},
     "output_type": "execute_result"
    },
    {
     "data": {
      "image/png": "[encoded data removed]",
      "text/plain": [
       "<Figure size 1080x720 with 1 Axes>"
      ]
     },
     "metadata": {
      "needs_background": "light"
     },
     "output_type": "display_data"
    }
   ],
   "source": [
    "sampledata.boxplot(column=['total_sales'], by='genre', figsize=(15, 10));\n",
    "plt.ylim(0, 3)"
   ]
  },
  {
   "cell_type": "markdown",
   "metadata": {},
   "source": [
    "* The 2 genres with highest global sales (Action and Shooter), have very different distributions. Action games have a narrower distribution, compared to shooter, which has some games that brought a lot of revenue, and other games that brought much less. This shows that within the genre, some games are extremely popular and others aren't at all.\n",
    "* Some action games (outliers) have brought a much higher revenue than most of the other action games.\n",
    "* adventure and puzzle games on the other end have very low revenue from global sales.\n",
    "* Medians across all genres are relatively similar, except shooter genre games.\n",
    "* In all genres, sales above the median are more scattered than sales below the median."
   ]
  },
  {
   "cell_type": "markdown",
   "metadata": {},
   "source": [
    "### 3.8 Conclusion <a class=\"anchor\" id=\"chapter3.8\"></a>"
   ]
  },
  {
   "cell_type": "markdown",
   "metadata": {},
   "source": [
    "In this section we have analyzed the data very thorough. These are our findings:\n",
    "\n",
    "* The sales period with highest records is between 2005-2011.\n",
    "* Platforms with highest sales have a positive skweness; by analyzing each on its own, we found that they reach sales peak within 1-2 years from the platform release, stays \"popular\" for 4 to 6 years, and fades in just 2-3 years. \n",
    "* We decided to narrow our dataset to the most relevant period As it is an industry with constant changes and improvements, we selected 2014 and 2016.\n",
    "\n",
    "* Platforms leading in sales are PS4 and xOne.\n",
    "* At the moment there are no \"growing\" platforms. But the most popular ones at this times are PS4 and XOne, which makes the the potentially profitable ones.\n",
    "\n",
    "\n",
    "* The sales have a different behaviour across platforms. For example, the platforms with least global sales:\n",
    "    * PS2, PSP, PSV show very similar concentration of sales data: 75% of games earned between 0 and 0.15 aproximately.\n",
    "    * On the other end, PS3, PS4, X360 and XOne games sales data is very scattered.\n",
    "    * All platforms contain a considerable amount of outliers, very scattered.\n",
    "    * However, they all have a ver similar median, (see pivot table below for exact median values).\n",
    "    * The Q3 in all of them is considerably bigger than their Q2. This shows some games might have much higher sales compared    to other games from within the same platform.\n",
    "\n",
    "* We studied the correlation between reviews and sales on PS4 and saw that user reviews had no impact on sales, whereas critics reviews showed a very mild positive correlation. We compared other platforms, but they showed the same results.\n",
    "\n",
    "* The most profitable genres are shooting and action. The least profitable are puzzles and strategy. "
   ]
  },
  {
   "cell_type": "markdown",
   "metadata": {},
   "source": [
    "## 4. Analyzing Data by Region <a class=\"anchor\" id=\"chapter4\"></a>"
   ]
  },
  {
   "cell_type": "code",
   "execution_count": 112,
   "metadata": {},
   "outputs": [
    {
     "data": {
      "text/html": [
       "<div>\n",
       "<style scoped>\n",
       "    .dataframe tbody tr th:only-of-type {\n",
       "        vertical-align: middle;\n",
       "    }\n",
       "\n",
       "    .dataframe tbody tr th {\n",
       "        vertical-align: top;\n",
       "    }\n",
       "\n",
       "    .dataframe thead th {\n",
       "        text-align: right;\n",
       "    }\n",
       "</style>\n",
       "<table border=\"1\" class=\"dataframe\">\n",
       "  <thead>\n",
       "    <tr style=\"text-align: right;\">\n",
       "      <th></th>\n",
       "      <th>eu_sales</th>\n",
       "      <th>jp_sales</th>\n",
       "      <th>na_sales</th>\n",
       "      <th>other_sales</th>\n",
       "    </tr>\n",
       "    <tr>\n",
       "      <th>platform</th>\n",
       "      <th></th>\n",
       "      <th></th>\n",
       "      <th></th>\n",
       "      <th></th>\n",
       "    </tr>\n",
       "  </thead>\n",
       "  <tbody>\n",
       "    <tr>\n",
       "      <th>ps4</th>\n",
       "      <td>130.04</td>\n",
       "      <td>15.02</td>\n",
       "      <td>98.61</td>\n",
       "      <td>44.48</td>\n",
       "    </tr>\n",
       "    <tr>\n",
       "      <th>xone</th>\n",
       "      <td>46.25</td>\n",
       "      <td>0.32</td>\n",
       "      <td>81.27</td>\n",
       "      <td>12.52</td>\n",
       "    </tr>\n",
       "    <tr>\n",
       "      <th>ps3</th>\n",
       "      <td>25.54</td>\n",
       "      <td>11.22</td>\n",
       "      <td>22.05</td>\n",
       "      <td>9.37</td>\n",
       "    </tr>\n",
       "    <tr>\n",
       "      <th>pc</th>\n",
       "      <td>18.22</td>\n",
       "      <td>0.00</td>\n",
       "      <td>7.29</td>\n",
       "      <td>1.89</td>\n",
       "    </tr>\n",
       "    <tr>\n",
       "      <th>3ds</th>\n",
       "      <td>16.12</td>\n",
       "      <td>44.24</td>\n",
       "      <td>22.64</td>\n",
       "      <td>3.68</td>\n",
       "    </tr>\n",
       "    <tr>\n",
       "      <th>x360</th>\n",
       "      <td>15.49</td>\n",
       "      <td>0.08</td>\n",
       "      <td>28.30</td>\n",
       "      <td>4.35</td>\n",
       "    </tr>\n",
       "    <tr>\n",
       "      <th>wiiu</th>\n",
       "      <td>13.15</td>\n",
       "      <td>7.31</td>\n",
       "      <td>19.36</td>\n",
       "      <td>3.16</td>\n",
       "    </tr>\n",
       "    <tr>\n",
       "      <th>psv</th>\n",
       "      <td>3.53</td>\n",
       "      <td>14.54</td>\n",
       "      <td>2.52</td>\n",
       "      <td>1.81</td>\n",
       "    </tr>\n",
       "    <tr>\n",
       "      <th>wii</th>\n",
       "      <td>2.59</td>\n",
       "      <td>0.00</td>\n",
       "      <td>2.08</td>\n",
       "      <td>0.40</td>\n",
       "    </tr>\n",
       "    <tr>\n",
       "      <th>psp</th>\n",
       "      <td>0.00</td>\n",
       "      <td>0.36</td>\n",
       "      <td>0.00</td>\n",
       "      <td>0.00</td>\n",
       "    </tr>\n",
       "  </tbody>\n",
       "</table>\n",
       "</div>"
      ],
      "text/plain": [
       "          eu_sales  jp_sales  na_sales  other_sales\n",
       "platform                                           \n",
       "ps4         130.04     15.02     98.61        44.48\n",
       "xone         46.25      0.32     81.27        12.52\n",
       "ps3          25.54     11.22     22.05         9.37\n",
       "pc           18.22      0.00      7.29         1.89\n",
       "3ds          16.12     44.24     22.64         3.68\n",
       "x360         15.49      0.08     28.30         4.35\n",
       "wiiu         13.15      7.31     19.36         3.16\n",
       "psv           3.53     14.54      2.52         1.81\n",
       "wii           2.59      0.00      2.08         0.40\n",
       "psp           0.00      0.36      0.00         0.00"
      ]
     },
     "execution_count": 112,
     "metadata": {},
     "output_type": "execute_result"
    }
   ],
   "source": [
    "sales_region = sampledata.pivot_table(index=\"platform\", values=[\"na_sales\", \"eu_sales\", \"jp_sales\", \"other_sales\"], aggfunc=\"sum\")\n",
    "sales_region.sort_values(\"eu_sales\", ascending=False)"
   ]
  },
  {
   "cell_type": "code",
   "execution_count": 113,
   "metadata": {},
   "outputs": [
    {
     "data": {
      "text/plain": [
       "270.9300000000002"
      ]
     },
     "execution_count": 113,
     "metadata": {},
     "output_type": "execute_result"
    }
   ],
   "source": [
    "eu_total = sales_region['eu_sales'].sum()\n",
    "eu_total"
   ]
  },
  {
   "cell_type": "code",
   "execution_count": 114,
   "metadata": {},
   "outputs": [
    {
     "data": {
      "text/plain": [
       "284.12000000000023"
      ]
     },
     "execution_count": 114,
     "metadata": {},
     "output_type": "execute_result"
    }
   ],
   "source": [
    "na_total = sales_region['na_sales'].sum()\n",
    "na_total"
   ]
  },
  {
   "cell_type": "code",
   "execution_count": 115,
   "metadata": {},
   "outputs": [
    {
     "data": {
      "text/plain": [
       "93.08999999999988"
      ]
     },
     "execution_count": 115,
     "metadata": {},
     "output_type": "execute_result"
    }
   ],
   "source": [
    "jp_total = sales_region['jp_sales'].sum()\n",
    "jp_total"
   ]
  },
  {
   "cell_type": "code",
   "execution_count": 116,
   "metadata": {},
   "outputs": [
    {
     "data": {
      "text/plain": [
       "81.6599999999999"
      ]
     },
     "execution_count": 116,
     "metadata": {},
     "output_type": "execute_result"
    }
   ],
   "source": [
    "other_total = sales_region['other_sales'].sum()\n",
    "other_total"
   ]
  },
  {
   "cell_type": "code",
   "execution_count": 117,
   "metadata": {
    "scrolled": true
   },
   "outputs": [],
   "source": [
    "sales_region['eu_sales_%'] = (sales_region['eu_sales']/eu_total)*100"
   ]
  },
  {
   "cell_type": "code",
   "execution_count": 118,
   "metadata": {},
   "outputs": [],
   "source": [
    "sales_region['na_sales_%'] = (sales_region['na_sales']/na_total)*100"
   ]
  },
  {
   "cell_type": "code",
   "execution_count": 119,
   "metadata": {},
   "outputs": [],
   "source": [
    "sales_region['jp_sales_%'] = (sales_region['jp_sales']/jp_total)*100"
   ]
  },
  {
   "cell_type": "code",
   "execution_count": 120,
   "metadata": {},
   "outputs": [],
   "source": [
    "sales_region['other_sales_%'] = (sales_region['other_sales']/other_total)*100"
   ]
  },
  {
   "cell_type": "code",
   "execution_count": 121,
   "metadata": {},
   "outputs": [
    {
     "data": {
      "text/html": [
       "<div>\n",
       "<style scoped>\n",
       "    .dataframe tbody tr th:only-of-type {\n",
       "        vertical-align: middle;\n",
       "    }\n",
       "\n",
       "    .dataframe tbody tr th {\n",
       "        vertical-align: top;\n",
       "    }\n",
       "\n",
       "    .dataframe thead th {\n",
       "        text-align: right;\n",
       "    }\n",
       "</style>\n",
       "<table border=\"1\" class=\"dataframe\">\n",
       "  <thead>\n",
       "    <tr style=\"text-align: right;\">\n",
       "      <th></th>\n",
       "      <th>eu_sales</th>\n",
       "      <th>jp_sales</th>\n",
       "      <th>na_sales</th>\n",
       "      <th>other_sales</th>\n",
       "      <th>eu_sales_%</th>\n",
       "      <th>na_sales_%</th>\n",
       "      <th>jp_sales_%</th>\n",
       "      <th>other_sales_%</th>\n",
       "    </tr>\n",
       "    <tr>\n",
       "      <th>platform</th>\n",
       "      <th></th>\n",
       "      <th></th>\n",
       "      <th></th>\n",
       "      <th></th>\n",
       "      <th></th>\n",
       "      <th></th>\n",
       "      <th></th>\n",
       "      <th></th>\n",
       "    </tr>\n",
       "  </thead>\n",
       "  <tbody>\n",
       "    <tr>\n",
       "      <th>ps4</th>\n",
       "      <td>130.04</td>\n",
       "      <td>15.02</td>\n",
       "      <td>98.61</td>\n",
       "      <td>44.48</td>\n",
       "      <td>47.997638</td>\n",
       "      <td>34.707166</td>\n",
       "      <td>16.134923</td>\n",
       "      <td>54.469753</td>\n",
       "    </tr>\n",
       "    <tr>\n",
       "      <th>xone</th>\n",
       "      <td>46.25</td>\n",
       "      <td>0.32</td>\n",
       "      <td>81.27</td>\n",
       "      <td>12.52</td>\n",
       "      <td>17.070830</td>\n",
       "      <td>28.604111</td>\n",
       "      <td>0.343753</td>\n",
       "      <td>15.331864</td>\n",
       "    </tr>\n",
       "    <tr>\n",
       "      <th>ps3</th>\n",
       "      <td>25.54</td>\n",
       "      <td>11.22</td>\n",
       "      <td>22.05</td>\n",
       "      <td>9.37</td>\n",
       "      <td>9.426789</td>\n",
       "      <td>7.760805</td>\n",
       "      <td>12.052852</td>\n",
       "      <td>11.474406</td>\n",
       "    </tr>\n",
       "    <tr>\n",
       "      <th>pc</th>\n",
       "      <td>18.22</td>\n",
       "      <td>0.00</td>\n",
       "      <td>7.29</td>\n",
       "      <td>1.89</td>\n",
       "      <td>6.724984</td>\n",
       "      <td>2.565817</td>\n",
       "      <td>0.000000</td>\n",
       "      <td>2.314475</td>\n",
       "    </tr>\n",
       "    <tr>\n",
       "      <th>3ds</th>\n",
       "      <td>16.12</td>\n",
       "      <td>44.24</td>\n",
       "      <td>22.64</td>\n",
       "      <td>3.68</td>\n",
       "      <td>5.949876</td>\n",
       "      <td>7.968464</td>\n",
       "      <td>47.523902</td>\n",
       "      <td>4.506490</td>\n",
       "    </tr>\n",
       "    <tr>\n",
       "      <th>x360</th>\n",
       "      <td>15.49</td>\n",
       "      <td>0.08</td>\n",
       "      <td>28.30</td>\n",
       "      <td>4.35</td>\n",
       "      <td>5.717344</td>\n",
       "      <td>9.960580</td>\n",
       "      <td>0.085938</td>\n",
       "      <td>5.326965</td>\n",
       "    </tr>\n",
       "    <tr>\n",
       "      <th>wiiu</th>\n",
       "      <td>13.15</td>\n",
       "      <td>7.31</td>\n",
       "      <td>19.36</td>\n",
       "      <td>3.16</td>\n",
       "      <td>4.853652</td>\n",
       "      <td>6.814022</td>\n",
       "      <td>7.852616</td>\n",
       "      <td>3.869704</td>\n",
       "    </tr>\n",
       "    <tr>\n",
       "      <th>psv</th>\n",
       "      <td>3.53</td>\n",
       "      <td>14.54</td>\n",
       "      <td>2.52</td>\n",
       "      <td>1.81</td>\n",
       "      <td>1.302920</td>\n",
       "      <td>0.886949</td>\n",
       "      <td>15.619293</td>\n",
       "      <td>2.216507</td>\n",
       "    </tr>\n",
       "    <tr>\n",
       "      <th>wii</th>\n",
       "      <td>2.59</td>\n",
       "      <td>0.00</td>\n",
       "      <td>2.08</td>\n",
       "      <td>0.40</td>\n",
       "      <td>0.955966</td>\n",
       "      <td>0.732085</td>\n",
       "      <td>0.000000</td>\n",
       "      <td>0.489836</td>\n",
       "    </tr>\n",
       "    <tr>\n",
       "      <th>psp</th>\n",
       "      <td>0.00</td>\n",
       "      <td>0.36</td>\n",
       "      <td>0.00</td>\n",
       "      <td>0.00</td>\n",
       "      <td>0.000000</td>\n",
       "      <td>0.000000</td>\n",
       "      <td>0.386723</td>\n",
       "      <td>0.000000</td>\n",
       "    </tr>\n",
       "  </tbody>\n",
       "</table>\n",
       "</div>"
      ],
      "text/plain": [
       "          eu_sales  jp_sales  na_sales  other_sales  eu_sales_%  na_sales_%  \\\n",
       "platform                                                                      \n",
       "ps4         130.04     15.02     98.61        44.48   47.997638   34.707166   \n",
       "xone         46.25      0.32     81.27        12.52   17.070830   28.604111   \n",
       "ps3          25.54     11.22     22.05         9.37    9.426789    7.760805   \n",
       "pc           18.22      0.00      7.29         1.89    6.724984    2.565817   \n",
       "3ds          16.12     44.24     22.64         3.68    5.949876    7.968464   \n",
       "x360         15.49      0.08     28.30         4.35    5.717344    9.960580   \n",
       "wiiu         13.15      7.31     19.36         3.16    4.853652    6.814022   \n",
       "psv           3.53     14.54      2.52         1.81    1.302920    0.886949   \n",
       "wii           2.59      0.00      2.08         0.40    0.955966    0.732085   \n",
       "psp           0.00      0.36      0.00         0.00    0.000000    0.000000   \n",
       "\n",
       "          jp_sales_%  other_sales_%  \n",
       "platform                             \n",
       "ps4        16.134923      54.469753  \n",
       "xone        0.343753      15.331864  \n",
       "ps3        12.052852      11.474406  \n",
       "pc          0.000000       2.314475  \n",
       "3ds        47.523902       4.506490  \n",
       "x360        0.085938       5.326965  \n",
       "wiiu        7.852616       3.869704  \n",
       "psv        15.619293       2.216507  \n",
       "wii         0.000000       0.489836  \n",
       "psp         0.386723       0.000000  "
      ]
     },
     "execution_count": 121,
     "metadata": {},
     "output_type": "execute_result"
    }
   ],
   "source": [
    "sales_region.sort_values('eu_sales_%', ascending=False)"
   ]
  },
  {
   "cell_type": "markdown",
   "metadata": {},
   "source": [
    "EU:\n",
    "* PS4 is the leading platform in the market by far, followed by xOne.\n",
    "* Wii and PSP have very low popularity , with barely any game sales.\n",
    "\n",
    "JP:\n",
    "* The leading platform is 3DS, contrary to the other regions, where this platform's popularity is average-low.\n",
    "* The rest of the platforms are quite evenly distributed in the market\n",
    "* Wii and PC have null popularity in the region.\n",
    "\n",
    "NA:\n",
    "* The most popular platform is PS4, followed by xOne.\n",
    "* Least popular are Wii and PSP."
   ]
  },
  {
   "cell_type": "code",
   "execution_count": 122,
   "metadata": {
    "scrolled": true
   },
   "outputs": [],
   "source": [
    "sales_genre = sampledata.pivot_table(index=\"genre\", values=[\"na_sales\", \"eu_sales\", \"jp_sales\", \"other_sales\"], aggfunc=\"sum\")"
   ]
  },
  {
   "cell_type": "code",
   "execution_count": 123,
   "metadata": {},
   "outputs": [],
   "source": [
    "sales_genre['eu_sales_%'] = ((sales_genre['eu_sales']/eu_total)*100).round()"
   ]
  },
  {
   "cell_type": "code",
   "execution_count": 124,
   "metadata": {},
   "outputs": [],
   "source": [
    "sales_genre['na_sales_%'] = ((sales_genre['na_sales']/na_total)*100).round()"
   ]
  },
  {
   "cell_type": "code",
   "execution_count": 125,
   "metadata": {},
   "outputs": [],
   "source": [
    "sales_genre['jp_sales_%'] = ((sales_genre['jp_sales']/jp_total)*100).round()"
   ]
  },
  {
   "cell_type": "code",
   "execution_count": 126,
   "metadata": {},
   "outputs": [],
   "source": [
    "sales_genre['other_sales_%'] = ((sales_genre['other_sales']/other_total)*100).round()"
   ]
  },
  {
   "cell_type": "code",
   "execution_count": 127,
   "metadata": {},
   "outputs": [
    {
     "data": {
      "text/html": [
       "<div>\n",
       "<style scoped>\n",
       "    .dataframe tbody tr th:only-of-type {\n",
       "        vertical-align: middle;\n",
       "    }\n",
       "\n",
       "    .dataframe tbody tr th {\n",
       "        vertical-align: top;\n",
       "    }\n",
       "\n",
       "    .dataframe thead th {\n",
       "        text-align: right;\n",
       "    }\n",
       "</style>\n",
       "<table border=\"1\" class=\"dataframe\">\n",
       "  <thead>\n",
       "    <tr style=\"text-align: right;\">\n",
       "      <th></th>\n",
       "      <th>eu_sales</th>\n",
       "      <th>jp_sales</th>\n",
       "      <th>na_sales</th>\n",
       "      <th>other_sales</th>\n",
       "      <th>eu_sales_%</th>\n",
       "      <th>na_sales_%</th>\n",
       "      <th>jp_sales_%</th>\n",
       "      <th>other_sales_%</th>\n",
       "    </tr>\n",
       "    <tr>\n",
       "      <th>genre</th>\n",
       "      <th></th>\n",
       "      <th></th>\n",
       "      <th></th>\n",
       "      <th></th>\n",
       "      <th></th>\n",
       "      <th></th>\n",
       "      <th></th>\n",
       "      <th></th>\n",
       "    </tr>\n",
       "  </thead>\n",
       "  <tbody>\n",
       "    <tr>\n",
       "      <th>action</th>\n",
       "      <td>74.93</td>\n",
       "      <td>29.58</td>\n",
       "      <td>72.59</td>\n",
       "      <td>22.61</td>\n",
       "      <td>28.0</td>\n",
       "      <td>26.0</td>\n",
       "      <td>32.0</td>\n",
       "      <td>28.0</td>\n",
       "    </tr>\n",
       "    <tr>\n",
       "      <th>shooter</th>\n",
       "      <td>65.52</td>\n",
       "      <td>4.87</td>\n",
       "      <td>79.02</td>\n",
       "      <td>21.53</td>\n",
       "      <td>24.0</td>\n",
       "      <td>28.0</td>\n",
       "      <td>5.0</td>\n",
       "      <td>26.0</td>\n",
       "    </tr>\n",
       "    <tr>\n",
       "      <th>sports</th>\n",
       "      <td>45.73</td>\n",
       "      <td>3.26</td>\n",
       "      <td>46.13</td>\n",
       "      <td>14.36</td>\n",
       "      <td>17.0</td>\n",
       "      <td>16.0</td>\n",
       "      <td>4.0</td>\n",
       "      <td>18.0</td>\n",
       "    </tr>\n",
       "    <tr>\n",
       "      <th>role-playing</th>\n",
       "      <td>28.17</td>\n",
       "      <td>31.16</td>\n",
       "      <td>33.47</td>\n",
       "      <td>8.64</td>\n",
       "      <td>10.0</td>\n",
       "      <td>12.0</td>\n",
       "      <td>33.0</td>\n",
       "      <td>11.0</td>\n",
       "    </tr>\n",
       "    <tr>\n",
       "      <th>racing</th>\n",
       "      <td>14.13</td>\n",
       "      <td>1.76</td>\n",
       "      <td>8.74</td>\n",
       "      <td>2.89</td>\n",
       "      <td>5.0</td>\n",
       "      <td>3.0</td>\n",
       "      <td>2.0</td>\n",
       "      <td>4.0</td>\n",
       "    </tr>\n",
       "    <tr>\n",
       "      <th>misc</th>\n",
       "      <td>12.86</td>\n",
       "      <td>5.61</td>\n",
       "      <td>15.05</td>\n",
       "      <td>4.03</td>\n",
       "      <td>5.0</td>\n",
       "      <td>5.0</td>\n",
       "      <td>6.0</td>\n",
       "      <td>5.0</td>\n",
       "    </tr>\n",
       "    <tr>\n",
       "      <th>simulation</th>\n",
       "      <td>7.30</td>\n",
       "      <td>2.31</td>\n",
       "      <td>2.63</td>\n",
       "      <td>0.89</td>\n",
       "      <td>3.0</td>\n",
       "      <td>1.0</td>\n",
       "      <td>2.0</td>\n",
       "      <td>1.0</td>\n",
       "    </tr>\n",
       "    <tr>\n",
       "      <th>platform</th>\n",
       "      <td>6.80</td>\n",
       "      <td>2.69</td>\n",
       "      <td>6.79</td>\n",
       "      <td>1.81</td>\n",
       "      <td>3.0</td>\n",
       "      <td>2.0</td>\n",
       "      <td>3.0</td>\n",
       "      <td>2.0</td>\n",
       "    </tr>\n",
       "    <tr>\n",
       "      <th>fighting</th>\n",
       "      <td>6.69</td>\n",
       "      <td>6.37</td>\n",
       "      <td>12.43</td>\n",
       "      <td>2.73</td>\n",
       "      <td>2.0</td>\n",
       "      <td>4.0</td>\n",
       "      <td>7.0</td>\n",
       "      <td>3.0</td>\n",
       "    </tr>\n",
       "    <tr>\n",
       "      <th>adventure</th>\n",
       "      <td>6.49</td>\n",
       "      <td>3.60</td>\n",
       "      <td>5.64</td>\n",
       "      <td>1.82</td>\n",
       "      <td>2.0</td>\n",
       "      <td>2.0</td>\n",
       "      <td>4.0</td>\n",
       "      <td>2.0</td>\n",
       "    </tr>\n",
       "    <tr>\n",
       "      <th>strategy</th>\n",
       "      <td>1.79</td>\n",
       "      <td>0.95</td>\n",
       "      <td>0.98</td>\n",
       "      <td>0.24</td>\n",
       "      <td>1.0</td>\n",
       "      <td>0.0</td>\n",
       "      <td>1.0</td>\n",
       "      <td>0.0</td>\n",
       "    </tr>\n",
       "    <tr>\n",
       "      <th>puzzle</th>\n",
       "      <td>0.52</td>\n",
       "      <td>0.93</td>\n",
       "      <td>0.65</td>\n",
       "      <td>0.11</td>\n",
       "      <td>0.0</td>\n",
       "      <td>0.0</td>\n",
       "      <td>1.0</td>\n",
       "      <td>0.0</td>\n",
       "    </tr>\n",
       "  </tbody>\n",
       "</table>\n",
       "</div>"
      ],
      "text/plain": [
       "              eu_sales  jp_sales  na_sales  other_sales  eu_sales_%  \\\n",
       "genre                                                                 \n",
       "action           74.93     29.58     72.59        22.61        28.0   \n",
       "shooter          65.52      4.87     79.02        21.53        24.0   \n",
       "sports           45.73      3.26     46.13        14.36        17.0   \n",
       "role-playing     28.17     31.16     33.47         8.64        10.0   \n",
       "racing           14.13      1.76      8.74         2.89         5.0   \n",
       "misc             12.86      5.61     15.05         4.03         5.0   \n",
       "simulation        7.30      2.31      2.63         0.89         3.0   \n",
       "platform          6.80      2.69      6.79         1.81         3.0   \n",
       "fighting          6.69      6.37     12.43         2.73         2.0   \n",
       "adventure         6.49      3.60      5.64         1.82         2.0   \n",
       "strategy          1.79      0.95      0.98         0.24         1.0   \n",
       "puzzle            0.52      0.93      0.65         0.11         0.0   \n",
       "\n",
       "              na_sales_%  jp_sales_%  other_sales_%  \n",
       "genre                                                \n",
       "action              26.0        32.0           28.0  \n",
       "shooter             28.0         5.0           26.0  \n",
       "sports              16.0         4.0           18.0  \n",
       "role-playing        12.0        33.0           11.0  \n",
       "racing               3.0         2.0            4.0  \n",
       "misc                 5.0         6.0            5.0  \n",
       "simulation           1.0         2.0            1.0  \n",
       "platform             2.0         3.0            2.0  \n",
       "fighting             4.0         7.0            3.0  \n",
       "adventure            2.0         4.0            2.0  \n",
       "strategy             0.0         1.0            0.0  \n",
       "puzzle               0.0         1.0            0.0  "
      ]
     },
     "execution_count": 127,
     "metadata": {},
     "output_type": "execute_result"
    }
   ],
   "source": [
    "sales_genre.sort_values(\"eu_sales\", ascending=False)"
   ]
  },
  {
   "cell_type": "markdown",
   "metadata": {},
   "source": [
    "The most popular genre by region based on sales:\n",
    "\n",
    "* Action games lead the market in EU, followed by shooter games.\n",
    "* In NA, is inverse: shooter games make 28% of sales revenue in the region, followed by action games (26%).\n",
    "* Role-playing leads the JP market with 33% revenue, followed very close by action games (32%)\n",
    "* EU and NA have a relatively similar market distribution by genre. JP region differs considerably, as the sales are more equally spread along genres as well.\n",
    "\n",
    "* Puzzle seems to be the least poopular genre across all regions. \n",
    "* Sport games generate at least 4 times more revenue share in EU and NA than in JP. \n"
   ]
  },
  {
   "cell_type": "markdown",
   "metadata": {},
   "source": [
    "ESRB Correlation with Sales by region"
   ]
  },
  {
   "cell_type": "code",
   "execution_count": 128,
   "metadata": {},
   "outputs": [
    {
     "data": {
      "text/html": [
       "<div>\n",
       "<style scoped>\n",
       "    .dataframe tbody tr th:only-of-type {\n",
       "        vertical-align: middle;\n",
       "    }\n",
       "\n",
       "    .dataframe tbody tr th {\n",
       "        vertical-align: top;\n",
       "    }\n",
       "\n",
       "    .dataframe thead th {\n",
       "        text-align: right;\n",
       "    }\n",
       "</style>\n",
       "<table border=\"1\" class=\"dataframe\">\n",
       "  <thead>\n",
       "    <tr style=\"text-align: right;\">\n",
       "      <th></th>\n",
       "      <th>name</th>\n",
       "      <th>platform</th>\n",
       "      <th>year_of_release</th>\n",
       "      <th>genre</th>\n",
       "      <th>na_sales</th>\n",
       "      <th>eu_sales</th>\n",
       "      <th>jp_sales</th>\n",
       "      <th>other_sales</th>\n",
       "      <th>critic_score</th>\n",
       "      <th>user_score</th>\n",
       "      <th>rating</th>\n",
       "      <th>Unnamed: 0</th>\n",
       "      <th>total_sales</th>\n",
       "    </tr>\n",
       "  </thead>\n",
       "  <tbody>\n",
       "    <tr>\n",
       "      <th>31</th>\n",
       "      <td>call of duty: black ops 3</td>\n",
       "      <td>ps4</td>\n",
       "      <td>2015</td>\n",
       "      <td>shooter</td>\n",
       "      <td>6.03</td>\n",
       "      <td>5.86</td>\n",
       "      <td>0.36</td>\n",
       "      <td>2.38</td>\n",
       "      <td>NaN</td>\n",
       "      <td>NaN</td>\n",
       "      <td>M</td>\n",
       "      <td>NaN</td>\n",
       "      <td>12.25</td>\n",
       "    </tr>\n",
       "    <tr>\n",
       "      <th>42</th>\n",
       "      <td>grand theft auto v</td>\n",
       "      <td>ps4</td>\n",
       "      <td>2014</td>\n",
       "      <td>action</td>\n",
       "      <td>3.96</td>\n",
       "      <td>6.31</td>\n",
       "      <td>0.38</td>\n",
       "      <td>1.97</td>\n",
       "      <td>97.0</td>\n",
       "      <td>8.3</td>\n",
       "      <td>M</td>\n",
       "      <td>245294.0</td>\n",
       "      <td>10.65</td>\n",
       "    </tr>\n",
       "    <tr>\n",
       "      <th>47</th>\n",
       "      <td>pokemon omega ruby/pokemon alpha sapphire</td>\n",
       "      <td>3ds</td>\n",
       "      <td>2014</td>\n",
       "      <td>role-playing</td>\n",
       "      <td>4.35</td>\n",
       "      <td>3.49</td>\n",
       "      <td>3.10</td>\n",
       "      <td>0.74</td>\n",
       "      <td>NaN</td>\n",
       "      <td>NaN</td>\n",
       "      <td>T</td>\n",
       "      <td>NaN</td>\n",
       "      <td>10.94</td>\n",
       "    </tr>\n",
       "    <tr>\n",
       "      <th>77</th>\n",
       "      <td>fifa 16</td>\n",
       "      <td>ps4</td>\n",
       "      <td>2015</td>\n",
       "      <td>sports</td>\n",
       "      <td>1.12</td>\n",
       "      <td>6.12</td>\n",
       "      <td>0.06</td>\n",
       "      <td>1.28</td>\n",
       "      <td>82.0</td>\n",
       "      <td>4.3</td>\n",
       "      <td>E</td>\n",
       "      <td>NaN</td>\n",
       "      <td>7.30</td>\n",
       "    </tr>\n",
       "    <tr>\n",
       "      <th>87</th>\n",
       "      <td>star wars battlefront (2015)</td>\n",
       "      <td>ps4</td>\n",
       "      <td>2015</td>\n",
       "      <td>shooter</td>\n",
       "      <td>2.99</td>\n",
       "      <td>3.49</td>\n",
       "      <td>0.22</td>\n",
       "      <td>1.28</td>\n",
       "      <td>NaN</td>\n",
       "      <td>NaN</td>\n",
       "      <td>M</td>\n",
       "      <td>NaN</td>\n",
       "      <td>6.70</td>\n",
       "    </tr>\n",
       "  </tbody>\n",
       "</table>\n",
       "</div>"
      ],
      "text/plain": [
       "                                         name platform  year_of_release  \\\n",
       "31                  call of duty: black ops 3      ps4             2015   \n",
       "42                         grand theft auto v      ps4             2014   \n",
       "47  pokemon omega ruby/pokemon alpha sapphire      3ds             2014   \n",
       "77                                    fifa 16      ps4             2015   \n",
       "87               star wars battlefront (2015)      ps4             2015   \n",
       "\n",
       "           genre  na_sales  eu_sales  jp_sales  other_sales  critic_score  \\\n",
       "31       shooter      6.03      5.86      0.36         2.38           NaN   \n",
       "42        action      3.96      6.31      0.38         1.97          97.0   \n",
       "47  role-playing      4.35      3.49      3.10         0.74           NaN   \n",
       "77        sports      1.12      6.12      0.06         1.28          82.0   \n",
       "87       shooter      2.99      3.49      0.22         1.28           NaN   \n",
       "\n",
       "    user_score rating  Unnamed: 0  total_sales  \n",
       "31         NaN      M         NaN        12.25  \n",
       "42         8.3      M    245294.0        10.65  \n",
       "47         NaN      T         NaN        10.94  \n",
       "77         4.3      E         NaN         7.30  \n",
       "87         NaN      M         NaN         6.70  "
      ]
     },
     "execution_count": 128,
     "metadata": {},
     "output_type": "execute_result"
    }
   ],
   "source": [
    "sampledata.head()"
   ]
  },
  {
   "cell_type": "code",
   "execution_count": 129,
   "metadata": {
    "scrolled": true
   },
   "outputs": [],
   "source": [
    "sampledata['rating']=sampledata['rating'].astype('category').cat.codes"
   ]
  },
  {
   "cell_type": "code",
   "execution_count": 130,
   "metadata": {},
   "outputs": [
    {
     "data": {
      "text/plain": [
       "-0.008216935081707302"
      ]
     },
     "execution_count": 130,
     "metadata": {},
     "output_type": "execute_result"
    }
   ],
   "source": [
    "sampledata['rating'].corr(sampledata['na_sales'])"
   ]
  },
  {
   "cell_type": "code",
   "execution_count": 131,
   "metadata": {},
   "outputs": [
    {
     "data": {
      "text/plain": [
       "-0.040791173978398536"
      ]
     },
     "execution_count": 131,
     "metadata": {},
     "output_type": "execute_result"
    }
   ],
   "source": [
    "sampledata['rating'].corr(sampledata['eu_sales'])"
   ]
  },
  {
   "cell_type": "code",
   "execution_count": 132,
   "metadata": {
    "scrolled": true
   },
   "outputs": [
    {
     "data": {
      "text/plain": [
       "0.09355547644659419"
      ]
     },
     "execution_count": 132,
     "metadata": {},
     "output_type": "execute_result"
    }
   ],
   "source": [
    "sampledata['rating'].corr(sampledata['jp_sales'])"
   ]
  },
  {
   "cell_type": "code",
   "execution_count": 133,
   "metadata": {},
   "outputs": [
    {
     "data": {
      "text/plain": [
       "-0.018432137425744895"
      ]
     },
     "execution_count": 133,
     "metadata": {},
     "output_type": "execute_result"
    }
   ],
   "source": [
    "sampledata['rating'].corr(sampledata['other_sales'])"
   ]
  },
  {
   "cell_type": "markdown",
   "metadata": {},
   "source": [
    "The only region with a relatively defined correlation between ESRB ratings and sales is JP. However, it is still far from acknowledging that ERSB ratings have an impact on sales."
   ]
  },
  {
   "cell_type": "markdown",
   "metadata": {},
   "source": [
    "### 4.1 Conclusion<a class=\"anchor\" id=\"chapter4.1\"></a>"
   ]
  },
  {
   "cell_type": "markdown",
   "metadata": {},
   "source": [
    "In this section we have analyzed the data by region, focusing on what defined the high sales in each of them. \n",
    "* PS4 and xOne are the most popular platforms in NA and EU, whereas 3ds is leading in JP with a big difference from the rest of platforms.\n",
    "* Most popular genres are shooting and action in NA and EU, whereas role-playing and action are the lead in JP.\n",
    "* Puzzle is the least popular genre in all markets. \n",
    "* ESRB ratings have very low impact on sales across all regions, although JP region shows a higher correlation (9% only).\n",
    "\n",
    "Overall, EU and NA regions have a similar behavior on preferred platforms and genres, whereas JP is more on its own.\n",
    "\n",
    "A reason of these different behaviours could be the culture the regions come from. EU and NA are both known as \"Western Civilization\", with very similar beliefs, cultural backgrounds and history even. JP region on the other hand has a totally different culture, habits and even social life - which could perhaps explain why they prefer role-playing. These are just written thoughts.  "
   ]
  },
  {
   "cell_type": "markdown",
   "metadata": {},
   "source": [
    "## 5. Hypothesis <a class=\"anchor\" id=\"chapter5\"></a>"
   ]
  },
  {
   "cell_type": "markdown",
   "metadata": {},
   "source": [
    "Based on data collected, we will study the probability of the following hypotheses.\n",
    "* H0 = Average user ratings of the Xbox One and PC platforms are the same.\n",
    "* H1 = Average user ratings of the Xbox One and PC platforms are different."
   ]
  },
  {
   "cell_type": "code",
   "execution_count": 134,
   "metadata": {},
   "outputs": [],
   "source": [
    "import scipy.stats as st"
   ]
  },
  {
   "cell_type": "code",
   "execution_count": 135,
   "metadata": {},
   "outputs": [
    {
     "data": {
      "text/html": [
       "<div>\n",
       "<style scoped>\n",
       "    .dataframe tbody tr th:only-of-type {\n",
       "        vertical-align: middle;\n",
       "    }\n",
       "\n",
       "    .dataframe tbody tr th {\n",
       "        vertical-align: top;\n",
       "    }\n",
       "\n",
       "    .dataframe thead th {\n",
       "        text-align: right;\n",
       "    }\n",
       "</style>\n",
       "<table border=\"1\" class=\"dataframe\">\n",
       "  <thead>\n",
       "    <tr style=\"text-align: right;\">\n",
       "      <th></th>\n",
       "      <th>name</th>\n",
       "      <th>platform</th>\n",
       "      <th>year_of_release</th>\n",
       "      <th>genre</th>\n",
       "      <th>na_sales</th>\n",
       "      <th>eu_sales</th>\n",
       "      <th>jp_sales</th>\n",
       "      <th>other_sales</th>\n",
       "      <th>critic_score</th>\n",
       "      <th>user_score</th>\n",
       "      <th>rating</th>\n",
       "      <th>Unnamed: 0</th>\n",
       "      <th>total_sales</th>\n",
       "    </tr>\n",
       "  </thead>\n",
       "  <tbody>\n",
       "    <tr>\n",
       "      <th>42</th>\n",
       "      <td>grand theft auto v</td>\n",
       "      <td>ps4</td>\n",
       "      <td>2014</td>\n",
       "      <td>action</td>\n",
       "      <td>3.96</td>\n",
       "      <td>6.31</td>\n",
       "      <td>0.38</td>\n",
       "      <td>1.97</td>\n",
       "      <td>97.0</td>\n",
       "      <td>8.3</td>\n",
       "      <td>3</td>\n",
       "      <td>245294.0</td>\n",
       "      <td>10.65</td>\n",
       "    </tr>\n",
       "    <tr>\n",
       "      <th>77</th>\n",
       "      <td>fifa 16</td>\n",
       "      <td>ps4</td>\n",
       "      <td>2015</td>\n",
       "      <td>sports</td>\n",
       "      <td>1.12</td>\n",
       "      <td>6.12</td>\n",
       "      <td>0.06</td>\n",
       "      <td>1.28</td>\n",
       "      <td>82.0</td>\n",
       "      <td>4.3</td>\n",
       "      <td>1</td>\n",
       "      <td>NaN</td>\n",
       "      <td>7.30</td>\n",
       "    </tr>\n",
       "    <tr>\n",
       "      <th>92</th>\n",
       "      <td>call of duty: advanced warfare</td>\n",
       "      <td>ps4</td>\n",
       "      <td>2014</td>\n",
       "      <td>shooter</td>\n",
       "      <td>2.81</td>\n",
       "      <td>3.48</td>\n",
       "      <td>0.14</td>\n",
       "      <td>1.23</td>\n",
       "      <td>83.0</td>\n",
       "      <td>5.7</td>\n",
       "      <td>3</td>\n",
       "      <td>460091.0</td>\n",
       "      <td>6.43</td>\n",
       "    </tr>\n",
       "    <tr>\n",
       "      <th>94</th>\n",
       "      <td>fifa 17</td>\n",
       "      <td>ps4</td>\n",
       "      <td>2016</td>\n",
       "      <td>sports</td>\n",
       "      <td>0.66</td>\n",
       "      <td>5.75</td>\n",
       "      <td>0.08</td>\n",
       "      <td>1.11</td>\n",
       "      <td>85.0</td>\n",
       "      <td>5.0</td>\n",
       "      <td>1</td>\n",
       "      <td>26371.0</td>\n",
       "      <td>6.49</td>\n",
       "    </tr>\n",
       "    <tr>\n",
       "      <th>105</th>\n",
       "      <td>fallout 4</td>\n",
       "      <td>ps4</td>\n",
       "      <td>2015</td>\n",
       "      <td>role-playing</td>\n",
       "      <td>2.53</td>\n",
       "      <td>3.27</td>\n",
       "      <td>0.24</td>\n",
       "      <td>1.13</td>\n",
       "      <td>87.0</td>\n",
       "      <td>6.5</td>\n",
       "      <td>3</td>\n",
       "      <td>207051.0</td>\n",
       "      <td>6.04</td>\n",
       "    </tr>\n",
       "    <tr>\n",
       "      <th>...</th>\n",
       "      <td>...</td>\n",
       "      <td>...</td>\n",
       "      <td>...</td>\n",
       "      <td>...</td>\n",
       "      <td>...</td>\n",
       "      <td>...</td>\n",
       "      <td>...</td>\n",
       "      <td>...</td>\n",
       "      <td>...</td>\n",
       "      <td>...</td>\n",
       "      <td>...</td>\n",
       "      <td>...</td>\n",
       "      <td>...</td>\n",
       "    </tr>\n",
       "    <tr>\n",
       "      <th>16662</th>\n",
       "      <td>prison architect</td>\n",
       "      <td>xone</td>\n",
       "      <td>2016</td>\n",
       "      <td>action</td>\n",
       "      <td>0.01</td>\n",
       "      <td>0.00</td>\n",
       "      <td>0.00</td>\n",
       "      <td>0.00</td>\n",
       "      <td>74.0</td>\n",
       "      <td>6.7</td>\n",
       "      <td>4</td>\n",
       "      <td>24545.0</td>\n",
       "      <td>0.01</td>\n",
       "    </tr>\n",
       "    <tr>\n",
       "      <th>16670</th>\n",
       "      <td>fujiko f. fujio characters: great assembly! sl...</td>\n",
       "      <td>3ds</td>\n",
       "      <td>2014</td>\n",
       "      <td>action</td>\n",
       "      <td>0.00</td>\n",
       "      <td>0.00</td>\n",
       "      <td>0.01</td>\n",
       "      <td>0.00</td>\n",
       "      <td>NaN</td>\n",
       "      <td>0.0</td>\n",
       "      <td>4</td>\n",
       "      <td>234313.0</td>\n",
       "      <td>0.01</td>\n",
       "    </tr>\n",
       "    <tr>\n",
       "      <th>16686</th>\n",
       "      <td>7'scarlet</td>\n",
       "      <td>psv</td>\n",
       "      <td>2016</td>\n",
       "      <td>adventure</td>\n",
       "      <td>0.00</td>\n",
       "      <td>0.00</td>\n",
       "      <td>0.01</td>\n",
       "      <td>0.00</td>\n",
       "      <td>NaN</td>\n",
       "      <td>0.0</td>\n",
       "      <td>1</td>\n",
       "      <td>438732.0</td>\n",
       "      <td>0.01</td>\n",
       "    </tr>\n",
       "    <tr>\n",
       "      <th>16694</th>\n",
       "      <td>metal gear solid v: ground zeroes</td>\n",
       "      <td>pc</td>\n",
       "      <td>2014</td>\n",
       "      <td>action</td>\n",
       "      <td>0.00</td>\n",
       "      <td>0.01</td>\n",
       "      <td>0.00</td>\n",
       "      <td>0.00</td>\n",
       "      <td>80.0</td>\n",
       "      <td>7.6</td>\n",
       "      <td>3</td>\n",
       "      <td>268253.0</td>\n",
       "      <td>0.01</td>\n",
       "    </tr>\n",
       "    <tr>\n",
       "      <th>16716</th>\n",
       "      <td>winning post 8 2016</td>\n",
       "      <td>psv</td>\n",
       "      <td>2016</td>\n",
       "      <td>simulation</td>\n",
       "      <td>0.00</td>\n",
       "      <td>0.00</td>\n",
       "      <td>0.01</td>\n",
       "      <td>0.00</td>\n",
       "      <td>NaN</td>\n",
       "      <td>0.0</td>\n",
       "      <td>1</td>\n",
       "      <td>237574.0</td>\n",
       "      <td>0.01</td>\n",
       "    </tr>\n",
       "  </tbody>\n",
       "</table>\n",
       "<p>1128 rows × 13 columns</p>\n",
       "</div>"
      ],
      "text/plain": [
       "                                                    name platform  \\\n",
       "42                                    grand theft auto v      ps4   \n",
       "77                                               fifa 16      ps4   \n",
       "92                        call of duty: advanced warfare      ps4   \n",
       "94                                               fifa 17      ps4   \n",
       "105                                            fallout 4      ps4   \n",
       "...                                                  ...      ...   \n",
       "16662                                   prison architect     xone   \n",
       "16670  fujiko f. fujio characters: great assembly! sl...      3ds   \n",
       "16686                                          7'scarlet      psv   \n",
       "16694                  metal gear solid v: ground zeroes       pc   \n",
       "16716                                winning post 8 2016      psv   \n",
       "\n",
       "       year_of_release         genre  na_sales  eu_sales  jp_sales  \\\n",
       "42                2014        action      3.96      6.31      0.38   \n",
       "77                2015        sports      1.12      6.12      0.06   \n",
       "92                2014       shooter      2.81      3.48      0.14   \n",
       "94                2016        sports      0.66      5.75      0.08   \n",
       "105               2015  role-playing      2.53      3.27      0.24   \n",
       "...                ...           ...       ...       ...       ...   \n",
       "16662             2016        action      0.01      0.00      0.00   \n",
       "16670             2014        action      0.00      0.00      0.01   \n",
       "16686             2016     adventure      0.00      0.00      0.01   \n",
       "16694             2014        action      0.00      0.01      0.00   \n",
       "16716             2016    simulation      0.00      0.00      0.01   \n",
       "\n",
       "       other_sales  critic_score  user_score  rating  Unnamed: 0  total_sales  \n",
       "42            1.97          97.0         8.3       3    245294.0        10.65  \n",
       "77            1.28          82.0         4.3       1         NaN         7.30  \n",
       "92            1.23          83.0         5.7       3    460091.0         6.43  \n",
       "94            1.11          85.0         5.0       1     26371.0         6.49  \n",
       "105           1.13          87.0         6.5       3    207051.0         6.04  \n",
       "...            ...           ...         ...     ...         ...          ...  \n",
       "16662         0.00          74.0         6.7       4     24545.0         0.01  \n",
       "16670         0.00           NaN         0.0       4    234313.0         0.01  \n",
       "16686         0.00           NaN         0.0       1    438732.0         0.01  \n",
       "16694         0.00          80.0         7.6       3    268253.0         0.01  \n",
       "16716         0.00           NaN         0.0       1    237574.0         0.01  \n",
       "\n",
       "[1128 rows x 13 columns]"
      ]
     },
     "execution_count": 135,
     "metadata": {},
     "output_type": "execute_result"
    }
   ],
   "source": [
    "reviews = sampledata[sampledata['user_score'].notnull()]\n",
    "reviews"
   ]
  },
  {
   "cell_type": "code",
   "execution_count": 136,
   "metadata": {},
   "outputs": [],
   "source": [
    "xone = reviews.query('platform in \"xone\"')"
   ]
  },
  {
   "cell_type": "code",
   "execution_count": 137,
   "metadata": {},
   "outputs": [
    {
     "data": {
      "text/plain": [
       "ShapiroResult(statistic=0.95131516456604, pvalue=5.6970388868649025e-06)"
      ]
     },
     "execution_count": 137,
     "metadata": {},
     "output_type": "execute_result"
    }
   ],
   "source": [
    "st.shapiro(xone.user_score)"
   ]
  },
  {
   "cell_type": "code",
   "execution_count": 138,
   "metadata": {},
   "outputs": [],
   "source": [
    "pc = reviews.query('platform in \"pc\"')"
   ]
  },
  {
   "cell_type": "code",
   "execution_count": 139,
   "metadata": {},
   "outputs": [
    {
     "data": {
      "text/plain": [
       "ShapiroResult(statistic=0.9510374069213867, pvalue=0.00017543445574119687)"
      ]
     },
     "execution_count": 139,
     "metadata": {},
     "output_type": "execute_result"
    }
   ],
   "source": [
    "st.shapiro(pc.user_score)"
   ]
  },
  {
   "cell_type": "markdown",
   "metadata": {},
   "source": [
    "As both provide a p < 0.05, we confirm neither of them have a normal distribution. This means we need to use the counter test method of ttest: The Mann Whitney U test. Before that, we need to get rid of the outliers."
   ]
  },
  {
   "cell_type": "code",
   "execution_count": 140,
   "metadata": {},
   "outputs": [
    {
     "data": {
      "image/png": "[encoded data removed]",
      "text/plain": [
       "<Figure size 432x288 with 1 Axes>"
      ]
     },
     "metadata": {
      "needs_background": "light"
     },
     "output_type": "display_data"
    }
   ],
   "source": [
    "xone.boxplot(column='user_score', return_type='axes');"
   ]
  },
  {
   "cell_type": "markdown",
   "metadata": {},
   "source": [
    "We only have outliers below the minimum, which represent very few games that have been rated with a ver  low score by users. "
   ]
  },
  {
   "cell_type": "code",
   "execution_count": 141,
   "metadata": {},
   "outputs": [],
   "source": [
    "Q1_xone = xone['user_score'].quantile(0.25)\n",
    "Q3_xone = xone['user_score'].quantile(0.75)\n",
    "IQR_xone = Q3_xone - Q1_xone"
   ]
  },
  {
   "cell_type": "markdown",
   "metadata": {},
   "source": [
    "There are outliers only below the Q1 (not above Q3), so let's calculate the limit:"
   ]
  },
  {
   "cell_type": "code",
   "execution_count": 142,
   "metadata": {},
   "outputs": [
    {
     "name": "stdout",
     "output_type": "stream",
     "text": [
      "2.25\n"
     ]
    }
   ],
   "source": [
    "xone_outliers = Q1_xone-1.5*IQR_xone\n",
    "\n",
    "print(\"{:.2f}\".format(xone_outliers))"
   ]
  },
  {
   "cell_type": "markdown",
   "metadata": {},
   "source": [
    "Any user score below 2.25 will be considered an outlier, so we need to get rid of them in order to do the Mann Whitney U test."
   ]
  },
  {
   "cell_type": "code",
   "execution_count": 143,
   "metadata": {},
   "outputs": [
    {
     "data": {
      "text/html": [
       "<div>\n",
       "<style scoped>\n",
       "    .dataframe tbody tr th:only-of-type {\n",
       "        vertical-align: middle;\n",
       "    }\n",
       "\n",
       "    .dataframe tbody tr th {\n",
       "        vertical-align: top;\n",
       "    }\n",
       "\n",
       "    .dataframe thead th {\n",
       "        text-align: right;\n",
       "    }\n",
       "</style>\n",
       "<table border=\"1\" class=\"dataframe\">\n",
       "  <thead>\n",
       "    <tr style=\"text-align: right;\">\n",
       "      <th></th>\n",
       "      <th>name</th>\n",
       "      <th>platform</th>\n",
       "      <th>year_of_release</th>\n",
       "      <th>genre</th>\n",
       "      <th>na_sales</th>\n",
       "      <th>eu_sales</th>\n",
       "      <th>jp_sales</th>\n",
       "      <th>other_sales</th>\n",
       "      <th>critic_score</th>\n",
       "      <th>user_score</th>\n",
       "      <th>rating</th>\n",
       "      <th>Unnamed: 0</th>\n",
       "      <th>total_sales</th>\n",
       "    </tr>\n",
       "  </thead>\n",
       "  <tbody>\n",
       "    <tr>\n",
       "      <th>165</th>\n",
       "      <td>grand theft auto v</td>\n",
       "      <td>xone</td>\n",
       "      <td>2014</td>\n",
       "      <td>action</td>\n",
       "      <td>2.81</td>\n",
       "      <td>2.19</td>\n",
       "      <td>0.00</td>\n",
       "      <td>0.47</td>\n",
       "      <td>97.0</td>\n",
       "      <td>7.90</td>\n",
       "      <td>3</td>\n",
       "      <td>245294.0</td>\n",
       "      <td>5.00</td>\n",
       "    </tr>\n",
       "    <tr>\n",
       "      <th>179</th>\n",
       "      <td>call of duty: advanced warfare</td>\n",
       "      <td>xone</td>\n",
       "      <td>2014</td>\n",
       "      <td>shooter</td>\n",
       "      <td>3.22</td>\n",
       "      <td>1.55</td>\n",
       "      <td>0.01</td>\n",
       "      <td>0.48</td>\n",
       "      <td>81.0</td>\n",
       "      <td>5.40</td>\n",
       "      <td>3</td>\n",
       "      <td>460091.0</td>\n",
       "      <td>4.78</td>\n",
       "    </tr>\n",
       "    <tr>\n",
       "      <th>242</th>\n",
       "      <td>halo 5: guardians</td>\n",
       "      <td>xone</td>\n",
       "      <td>2015</td>\n",
       "      <td>shooter</td>\n",
       "      <td>2.78</td>\n",
       "      <td>1.27</td>\n",
       "      <td>0.03</td>\n",
       "      <td>0.41</td>\n",
       "      <td>84.0</td>\n",
       "      <td>6.40</td>\n",
       "      <td>4</td>\n",
       "      <td>460205.0</td>\n",
       "      <td>4.08</td>\n",
       "    </tr>\n",
       "    <tr>\n",
       "      <th>270</th>\n",
       "      <td>fallout 4</td>\n",
       "      <td>xone</td>\n",
       "      <td>2015</td>\n",
       "      <td>role-playing</td>\n",
       "      <td>2.51</td>\n",
       "      <td>1.32</td>\n",
       "      <td>0.01</td>\n",
       "      <td>0.38</td>\n",
       "      <td>88.0</td>\n",
       "      <td>6.20</td>\n",
       "      <td>3</td>\n",
       "      <td>207051.0</td>\n",
       "      <td>3.84</td>\n",
       "    </tr>\n",
       "    <tr>\n",
       "      <th>373</th>\n",
       "      <td>assassin's creed: unity</td>\n",
       "      <td>xone</td>\n",
       "      <td>2014</td>\n",
       "      <td>action</td>\n",
       "      <td>2.27</td>\n",
       "      <td>0.90</td>\n",
       "      <td>0.00</td>\n",
       "      <td>0.33</td>\n",
       "      <td>72.0</td>\n",
       "      <td>4.10</td>\n",
       "      <td>3</td>\n",
       "      <td>NaN</td>\n",
       "      <td>3.17</td>\n",
       "    </tr>\n",
       "    <tr>\n",
       "      <th>...</th>\n",
       "      <td>...</td>\n",
       "      <td>...</td>\n",
       "      <td>...</td>\n",
       "      <td>...</td>\n",
       "      <td>...</td>\n",
       "      <td>...</td>\n",
       "      <td>...</td>\n",
       "      <td>...</td>\n",
       "      <td>...</td>\n",
       "      <td>...</td>\n",
       "      <td>...</td>\n",
       "      <td>...</td>\n",
       "      <td>...</td>\n",
       "    </tr>\n",
       "    <tr>\n",
       "      <th>16599</th>\n",
       "      <td>saints row: gat out of hell</td>\n",
       "      <td>xone</td>\n",
       "      <td>2015</td>\n",
       "      <td>action</td>\n",
       "      <td>0.00</td>\n",
       "      <td>0.01</td>\n",
       "      <td>0.00</td>\n",
       "      <td>0.00</td>\n",
       "      <td>65.0</td>\n",
       "      <td>6.00</td>\n",
       "      <td>3</td>\n",
       "      <td>NaN</td>\n",
       "      <td>0.01</td>\n",
       "    </tr>\n",
       "    <tr>\n",
       "      <th>16632</th>\n",
       "      <td>sébastien loeb rally evo</td>\n",
       "      <td>xone</td>\n",
       "      <td>2016</td>\n",
       "      <td>racing</td>\n",
       "      <td>0.00</td>\n",
       "      <td>0.01</td>\n",
       "      <td>0.00</td>\n",
       "      <td>0.00</td>\n",
       "      <td>63.0</td>\n",
       "      <td>8.20</td>\n",
       "      <td>1</td>\n",
       "      <td>NaN</td>\n",
       "      <td>0.01</td>\n",
       "    </tr>\n",
       "    <tr>\n",
       "      <th>16645</th>\n",
       "      <td>rugby challenge 3</td>\n",
       "      <td>xone</td>\n",
       "      <td>2016</td>\n",
       "      <td>sports</td>\n",
       "      <td>0.00</td>\n",
       "      <td>0.01</td>\n",
       "      <td>0.00</td>\n",
       "      <td>0.00</td>\n",
       "      <td>NaN</td>\n",
       "      <td>6.60</td>\n",
       "      <td>1</td>\n",
       "      <td>153346.0</td>\n",
       "      <td>0.01</td>\n",
       "    </tr>\n",
       "    <tr>\n",
       "      <th>16647</th>\n",
       "      <td>zombiu</td>\n",
       "      <td>xone</td>\n",
       "      <td>2016</td>\n",
       "      <td>action</td>\n",
       "      <td>0.00</td>\n",
       "      <td>0.01</td>\n",
       "      <td>0.00</td>\n",
       "      <td>0.00</td>\n",
       "      <td>NaN</td>\n",
       "      <td>3.75</td>\n",
       "      <td>4</td>\n",
       "      <td>172453.0</td>\n",
       "      <td>0.01</td>\n",
       "    </tr>\n",
       "    <tr>\n",
       "      <th>16662</th>\n",
       "      <td>prison architect</td>\n",
       "      <td>xone</td>\n",
       "      <td>2016</td>\n",
       "      <td>action</td>\n",
       "      <td>0.01</td>\n",
       "      <td>0.00</td>\n",
       "      <td>0.00</td>\n",
       "      <td>0.00</td>\n",
       "      <td>74.0</td>\n",
       "      <td>6.70</td>\n",
       "      <td>4</td>\n",
       "      <td>24545.0</td>\n",
       "      <td>0.01</td>\n",
       "    </tr>\n",
       "  </tbody>\n",
       "</table>\n",
       "<p>182 rows × 13 columns</p>\n",
       "</div>"
      ],
      "text/plain": [
       "                                 name platform  year_of_release         genre  \\\n",
       "165                grand theft auto v     xone             2014        action   \n",
       "179    call of duty: advanced warfare     xone             2014       shooter   \n",
       "242                 halo 5: guardians     xone             2015       shooter   \n",
       "270                         fallout 4     xone             2015  role-playing   \n",
       "373           assassin's creed: unity     xone             2014        action   \n",
       "...                               ...      ...              ...           ...   \n",
       "16599     saints row: gat out of hell     xone             2015        action   \n",
       "16632        sébastien loeb rally evo     xone             2016        racing   \n",
       "16645               rugby challenge 3     xone             2016        sports   \n",
       "16647                          zombiu     xone             2016        action   \n",
       "16662                prison architect     xone             2016        action   \n",
       "\n",
       "       na_sales  eu_sales  jp_sales  other_sales  critic_score  user_score  \\\n",
       "165        2.81      2.19      0.00         0.47          97.0        7.90   \n",
       "179        3.22      1.55      0.01         0.48          81.0        5.40   \n",
       "242        2.78      1.27      0.03         0.41          84.0        6.40   \n",
       "270        2.51      1.32      0.01         0.38          88.0        6.20   \n",
       "373        2.27      0.90      0.00         0.33          72.0        4.10   \n",
       "...         ...       ...       ...          ...           ...         ...   \n",
       "16599      0.00      0.01      0.00         0.00          65.0        6.00   \n",
       "16632      0.00      0.01      0.00         0.00          63.0        8.20   \n",
       "16645      0.00      0.01      0.00         0.00           NaN        6.60   \n",
       "16647      0.00      0.01      0.00         0.00           NaN        3.75   \n",
       "16662      0.01      0.00      0.00         0.00          74.0        6.70   \n",
       "\n",
       "       rating  Unnamed: 0  total_sales  \n",
       "165         3    245294.0         5.00  \n",
       "179         3    460091.0         4.78  \n",
       "242         4    460205.0         4.08  \n",
       "270         3    207051.0         3.84  \n",
       "373         3         NaN         3.17  \n",
       "...       ...         ...          ...  \n",
       "16599       3         NaN         0.01  \n",
       "16632       1         NaN         0.01  \n",
       "16645       1    153346.0         0.01  \n",
       "16647       4    172453.0         0.01  \n",
       "16662       4     24545.0         0.01  \n",
       "\n",
       "[182 rows x 13 columns]"
      ]
     },
     "execution_count": 143,
     "metadata": {},
     "output_type": "execute_result"
    }
   ],
   "source": [
    "xone = xone[xone[\"user_score\"]>= xone_outliers]\n",
    "xone"
   ]
  },
  {
   "cell_type": "markdown",
   "metadata": {},
   "source": [
    "Let's do the same with the pc:"
   ]
  },
  {
   "cell_type": "code",
   "execution_count": 144,
   "metadata": {},
   "outputs": [
    {
     "data": {
      "image/png": "[encoded data removed]",
      "text/plain": [
       "<Figure size 432x288 with 1 Axes>"
      ]
     },
     "metadata": {
      "needs_background": "light"
     },
     "output_type": "display_data"
    }
   ],
   "source": [
    "pc.boxplot(column='user_score', return_type='axes');"
   ]
  },
  {
   "cell_type": "code",
   "execution_count": 145,
   "metadata": {},
   "outputs": [],
   "source": [
    "Q1_pc = pc['user_score'].quantile(0.25)\n",
    "Q3_pc = pc['user_score'].quantile(0.75)\n",
    "IQR_pc = Q3_pc - Q1_pc"
   ]
  },
  {
   "cell_type": "code",
   "execution_count": 146,
   "metadata": {},
   "outputs": [
    {
     "data": {
      "text/plain": [
       "1.4749999999999992"
      ]
     },
     "execution_count": 146,
     "metadata": {},
     "output_type": "execute_result"
    }
   ],
   "source": [
    "pc_outliers = Q1_pc-1.5*IQR_pc\n",
    "pc_outliers"
   ]
  },
  {
   "cell_type": "code",
   "execution_count": 147,
   "metadata": {},
   "outputs": [
    {
     "data": {
      "text/html": [
       "<div>\n",
       "<style scoped>\n",
       "    .dataframe tbody tr th:only-of-type {\n",
       "        vertical-align: middle;\n",
       "    }\n",
       "\n",
       "    .dataframe tbody tr th {\n",
       "        vertical-align: top;\n",
       "    }\n",
       "\n",
       "    .dataframe thead th {\n",
       "        text-align: right;\n",
       "    }\n",
       "</style>\n",
       "<table border=\"1\" class=\"dataframe\">\n",
       "  <thead>\n",
       "    <tr style=\"text-align: right;\">\n",
       "      <th></th>\n",
       "      <th>name</th>\n",
       "      <th>platform</th>\n",
       "      <th>year_of_release</th>\n",
       "      <th>genre</th>\n",
       "      <th>na_sales</th>\n",
       "      <th>eu_sales</th>\n",
       "      <th>jp_sales</th>\n",
       "      <th>other_sales</th>\n",
       "      <th>critic_score</th>\n",
       "      <th>user_score</th>\n",
       "      <th>rating</th>\n",
       "      <th>Unnamed: 0</th>\n",
       "      <th>total_sales</th>\n",
       "    </tr>\n",
       "  </thead>\n",
       "  <tbody>\n",
       "    <tr>\n",
       "      <th>458</th>\n",
       "      <td>the sims 4</td>\n",
       "      <td>pc</td>\n",
       "      <td>2014</td>\n",
       "      <td>simulation</td>\n",
       "      <td>1.00</td>\n",
       "      <td>1.82</td>\n",
       "      <td>0.0</td>\n",
       "      <td>0.23</td>\n",
       "      <td>70.0</td>\n",
       "      <td>3.9</td>\n",
       "      <td>4</td>\n",
       "      <td>319238.0</td>\n",
       "      <td>2.82</td>\n",
       "    </tr>\n",
       "    <tr>\n",
       "      <th>1531</th>\n",
       "      <td>fallout 4</td>\n",
       "      <td>pc</td>\n",
       "      <td>2015</td>\n",
       "      <td>role-playing</td>\n",
       "      <td>0.51</td>\n",
       "      <td>0.67</td>\n",
       "      <td>0.0</td>\n",
       "      <td>0.10</td>\n",
       "      <td>84.0</td>\n",
       "      <td>5.4</td>\n",
       "      <td>3</td>\n",
       "      <td>207051.0</td>\n",
       "      <td>1.18</td>\n",
       "    </tr>\n",
       "    <tr>\n",
       "      <th>1731</th>\n",
       "      <td>grand theft auto v</td>\n",
       "      <td>pc</td>\n",
       "      <td>2015</td>\n",
       "      <td>action</td>\n",
       "      <td>0.39</td>\n",
       "      <td>0.69</td>\n",
       "      <td>0.0</td>\n",
       "      <td>0.09</td>\n",
       "      <td>96.0</td>\n",
       "      <td>7.9</td>\n",
       "      <td>3</td>\n",
       "      <td>245294.0</td>\n",
       "      <td>1.08</td>\n",
       "    </tr>\n",
       "    <tr>\n",
       "      <th>2304</th>\n",
       "      <td>the elder scrolls online</td>\n",
       "      <td>pc</td>\n",
       "      <td>2014</td>\n",
       "      <td>role-playing</td>\n",
       "      <td>0.32</td>\n",
       "      <td>0.51</td>\n",
       "      <td>0.0</td>\n",
       "      <td>0.07</td>\n",
       "      <td>71.0</td>\n",
       "      <td>5.7</td>\n",
       "      <td>3</td>\n",
       "      <td>311285.0</td>\n",
       "      <td>0.83</td>\n",
       "    </tr>\n",
       "    <tr>\n",
       "      <th>2785</th>\n",
       "      <td>dragon age: inquisition</td>\n",
       "      <td>pc</td>\n",
       "      <td>2014</td>\n",
       "      <td>role-playing</td>\n",
       "      <td>0.33</td>\n",
       "      <td>0.34</td>\n",
       "      <td>0.0</td>\n",
       "      <td>0.06</td>\n",
       "      <td>85.0</td>\n",
       "      <td>5.9</td>\n",
       "      <td>3</td>\n",
       "      <td>185802.0</td>\n",
       "      <td>0.67</td>\n",
       "    </tr>\n",
       "    <tr>\n",
       "      <th>...</th>\n",
       "      <td>...</td>\n",
       "      <td>...</td>\n",
       "      <td>...</td>\n",
       "      <td>...</td>\n",
       "      <td>...</td>\n",
       "      <td>...</td>\n",
       "      <td>...</td>\n",
       "      <td>...</td>\n",
       "      <td>...</td>\n",
       "      <td>...</td>\n",
       "      <td>...</td>\n",
       "      <td>...</td>\n",
       "      <td>...</td>\n",
       "    </tr>\n",
       "    <tr>\n",
       "      <th>16455</th>\n",
       "      <td>act of aggression</td>\n",
       "      <td>pc</td>\n",
       "      <td>2015</td>\n",
       "      <td>strategy</td>\n",
       "      <td>0.00</td>\n",
       "      <td>0.01</td>\n",
       "      <td>0.0</td>\n",
       "      <td>0.00</td>\n",
       "      <td>71.0</td>\n",
       "      <td>7.1</td>\n",
       "      <td>4</td>\n",
       "      <td>327621.0</td>\n",
       "      <td>0.01</td>\n",
       "    </tr>\n",
       "    <tr>\n",
       "      <th>16458</th>\n",
       "      <td>fallout anthology</td>\n",
       "      <td>pc</td>\n",
       "      <td>2015</td>\n",
       "      <td>action</td>\n",
       "      <td>0.00</td>\n",
       "      <td>0.01</td>\n",
       "      <td>0.0</td>\n",
       "      <td>0.00</td>\n",
       "      <td>NaN</td>\n",
       "      <td>8.3</td>\n",
       "      <td>4</td>\n",
       "      <td>234050.0</td>\n",
       "      <td>0.01</td>\n",
       "    </tr>\n",
       "    <tr>\n",
       "      <th>16465</th>\n",
       "      <td>trackmania turbo</td>\n",
       "      <td>pc</td>\n",
       "      <td>2016</td>\n",
       "      <td>action</td>\n",
       "      <td>0.00</td>\n",
       "      <td>0.01</td>\n",
       "      <td>0.0</td>\n",
       "      <td>0.00</td>\n",
       "      <td>79.0</td>\n",
       "      <td>6.8</td>\n",
       "      <td>1</td>\n",
       "      <td>NaN</td>\n",
       "      <td>0.01</td>\n",
       "    </tr>\n",
       "    <tr>\n",
       "      <th>16511</th>\n",
       "      <td>ride 2</td>\n",
       "      <td>pc</td>\n",
       "      <td>2016</td>\n",
       "      <td>racing</td>\n",
       "      <td>0.00</td>\n",
       "      <td>0.01</td>\n",
       "      <td>0.0</td>\n",
       "      <td>0.00</td>\n",
       "      <td>78.0</td>\n",
       "      <td>7.9</td>\n",
       "      <td>1</td>\n",
       "      <td>268575.0</td>\n",
       "      <td>0.01</td>\n",
       "    </tr>\n",
       "    <tr>\n",
       "      <th>16694</th>\n",
       "      <td>metal gear solid v: ground zeroes</td>\n",
       "      <td>pc</td>\n",
       "      <td>2014</td>\n",
       "      <td>action</td>\n",
       "      <td>0.00</td>\n",
       "      <td>0.01</td>\n",
       "      <td>0.0</td>\n",
       "      <td>0.00</td>\n",
       "      <td>80.0</td>\n",
       "      <td>7.6</td>\n",
       "      <td>3</td>\n",
       "      <td>268253.0</td>\n",
       "      <td>0.01</td>\n",
       "    </tr>\n",
       "  </tbody>\n",
       "</table>\n",
       "<p>124 rows × 13 columns</p>\n",
       "</div>"
      ],
      "text/plain": [
       "                                    name platform  year_of_release  \\\n",
       "458                           the sims 4       pc             2014   \n",
       "1531                           fallout 4       pc             2015   \n",
       "1731                  grand theft auto v       pc             2015   \n",
       "2304            the elder scrolls online       pc             2014   \n",
       "2785             dragon age: inquisition       pc             2014   \n",
       "...                                  ...      ...              ...   \n",
       "16455                  act of aggression       pc             2015   \n",
       "16458                  fallout anthology       pc             2015   \n",
       "16465                   trackmania turbo       pc             2016   \n",
       "16511                             ride 2       pc             2016   \n",
       "16694  metal gear solid v: ground zeroes       pc             2014   \n",
       "\n",
       "              genre  na_sales  eu_sales  jp_sales  other_sales  critic_score  \\\n",
       "458      simulation      1.00      1.82       0.0         0.23          70.0   \n",
       "1531   role-playing      0.51      0.67       0.0         0.10          84.0   \n",
       "1731         action      0.39      0.69       0.0         0.09          96.0   \n",
       "2304   role-playing      0.32      0.51       0.0         0.07          71.0   \n",
       "2785   role-playing      0.33      0.34       0.0         0.06          85.0   \n",
       "...             ...       ...       ...       ...          ...           ...   \n",
       "16455      strategy      0.00      0.01       0.0         0.00          71.0   \n",
       "16458        action      0.00      0.01       0.0         0.00           NaN   \n",
       "16465        action      0.00      0.01       0.0         0.00          79.0   \n",
       "16511        racing      0.00      0.01       0.0         0.00          78.0   \n",
       "16694        action      0.00      0.01       0.0         0.00          80.0   \n",
       "\n",
       "       user_score  rating  Unnamed: 0  total_sales  \n",
       "458           3.9       4    319238.0         2.82  \n",
       "1531          5.4       3    207051.0         1.18  \n",
       "1731          7.9       3    245294.0         1.08  \n",
       "2304          5.7       3    311285.0         0.83  \n",
       "2785          5.9       3    185802.0         0.67  \n",
       "...           ...     ...         ...          ...  \n",
       "16455         7.1       4    327621.0         0.01  \n",
       "16458         8.3       4    234050.0         0.01  \n",
       "16465         6.8       1         NaN         0.01  \n",
       "16511         7.9       1    268575.0         0.01  \n",
       "16694         7.6       3    268253.0         0.01  \n",
       "\n",
       "[124 rows x 13 columns]"
      ]
     },
     "execution_count": 147,
     "metadata": {},
     "output_type": "execute_result"
    }
   ],
   "source": [
    "pc = pc[pc[\"user_score\"]>= pc_outliers]\n",
    "pc"
   ]
  },
  {
   "cell_type": "code",
   "execution_count": 148,
   "metadata": {},
   "outputs": [
    {
     "data": {
      "text/plain": [
       "(11222.5, 0.9359962247617861)"
      ]
     },
     "execution_count": 148,
     "metadata": {},
     "output_type": "execute_result"
    }
   ],
   "source": [
    "s, p = st.mannwhitneyu(xone.user_score, pc.user_score, alternative=\"two-sided\")\n",
    "s, p"
   ]
  },
  {
   "cell_type": "code",
   "execution_count": 149,
   "metadata": {},
   "outputs": [
    {
     "name": "stdout",
     "output_type": "stream",
     "text": [
      "Same distribution (fail to reject H0)\n"
     ]
    }
   ],
   "source": [
    "alpha = 0.05\n",
    "if p > alpha:\n",
    "\tprint('Same distribution (fail to reject H0)')\n",
    "else:\n",
    "\tprint('Different distribution (reject H0)')"
   ]
  },
  {
   "cell_type": "markdown",
   "metadata": {},
   "source": [
    "Since p > alpha, we fail to reject H0 \"Average user ratings of the Xbox One and PC platforms are the same\""
   ]
  },
  {
   "cell_type": "markdown",
   "metadata": {},
   "source": [
    "Let's move on to the next hypotheses:\n",
    "* H0 = Average user ratings for the Action and Sports genres are EQUAL.\n",
    "* H1 = Average user ratings for the Action and Sports genres are DIFFERENT."
   ]
  },
  {
   "cell_type": "markdown",
   "metadata": {},
   "source": [
    "As we did before, let's test if we are working with normal distributions or not."
   ]
  },
  {
   "cell_type": "code",
   "execution_count": 150,
   "metadata": {},
   "outputs": [
    {
     "data": {
      "text/html": [
       "<div>\n",
       "<style scoped>\n",
       "    .dataframe tbody tr th:only-of-type {\n",
       "        vertical-align: middle;\n",
       "    }\n",
       "\n",
       "    .dataframe tbody tr th {\n",
       "        vertical-align: top;\n",
       "    }\n",
       "\n",
       "    .dataframe thead th {\n",
       "        text-align: right;\n",
       "    }\n",
       "</style>\n",
       "<table border=\"1\" class=\"dataframe\">\n",
       "  <thead>\n",
       "    <tr style=\"text-align: right;\">\n",
       "      <th></th>\n",
       "      <th>name</th>\n",
       "      <th>platform</th>\n",
       "      <th>year_of_release</th>\n",
       "      <th>genre</th>\n",
       "      <th>na_sales</th>\n",
       "      <th>eu_sales</th>\n",
       "      <th>jp_sales</th>\n",
       "      <th>other_sales</th>\n",
       "      <th>critic_score</th>\n",
       "      <th>user_score</th>\n",
       "      <th>rating</th>\n",
       "      <th>Unnamed: 0</th>\n",
       "      <th>total_sales</th>\n",
       "    </tr>\n",
       "  </thead>\n",
       "  <tbody>\n",
       "    <tr>\n",
       "      <th>42</th>\n",
       "      <td>grand theft auto v</td>\n",
       "      <td>ps4</td>\n",
       "      <td>2014</td>\n",
       "      <td>action</td>\n",
       "      <td>3.96</td>\n",
       "      <td>6.31</td>\n",
       "      <td>0.38</td>\n",
       "      <td>1.97</td>\n",
       "      <td>97.0</td>\n",
       "      <td>8.3</td>\n",
       "      <td>3</td>\n",
       "      <td>245294.0</td>\n",
       "      <td>10.65</td>\n",
       "    </tr>\n",
       "    <tr>\n",
       "      <th>77</th>\n",
       "      <td>fifa 16</td>\n",
       "      <td>ps4</td>\n",
       "      <td>2015</td>\n",
       "      <td>sports</td>\n",
       "      <td>1.12</td>\n",
       "      <td>6.12</td>\n",
       "      <td>0.06</td>\n",
       "      <td>1.28</td>\n",
       "      <td>82.0</td>\n",
       "      <td>4.3</td>\n",
       "      <td>1</td>\n",
       "      <td>NaN</td>\n",
       "      <td>7.30</td>\n",
       "    </tr>\n",
       "    <tr>\n",
       "      <th>92</th>\n",
       "      <td>call of duty: advanced warfare</td>\n",
       "      <td>ps4</td>\n",
       "      <td>2014</td>\n",
       "      <td>shooter</td>\n",
       "      <td>2.81</td>\n",
       "      <td>3.48</td>\n",
       "      <td>0.14</td>\n",
       "      <td>1.23</td>\n",
       "      <td>83.0</td>\n",
       "      <td>5.7</td>\n",
       "      <td>3</td>\n",
       "      <td>460091.0</td>\n",
       "      <td>6.43</td>\n",
       "    </tr>\n",
       "    <tr>\n",
       "      <th>94</th>\n",
       "      <td>fifa 17</td>\n",
       "      <td>ps4</td>\n",
       "      <td>2016</td>\n",
       "      <td>sports</td>\n",
       "      <td>0.66</td>\n",
       "      <td>5.75</td>\n",
       "      <td>0.08</td>\n",
       "      <td>1.11</td>\n",
       "      <td>85.0</td>\n",
       "      <td>5.0</td>\n",
       "      <td>1</td>\n",
       "      <td>26371.0</td>\n",
       "      <td>6.49</td>\n",
       "    </tr>\n",
       "    <tr>\n",
       "      <th>105</th>\n",
       "      <td>fallout 4</td>\n",
       "      <td>ps4</td>\n",
       "      <td>2015</td>\n",
       "      <td>role-playing</td>\n",
       "      <td>2.53</td>\n",
       "      <td>3.27</td>\n",
       "      <td>0.24</td>\n",
       "      <td>1.13</td>\n",
       "      <td>87.0</td>\n",
       "      <td>6.5</td>\n",
       "      <td>3</td>\n",
       "      <td>207051.0</td>\n",
       "      <td>6.04</td>\n",
       "    </tr>\n",
       "    <tr>\n",
       "      <th>...</th>\n",
       "      <td>...</td>\n",
       "      <td>...</td>\n",
       "      <td>...</td>\n",
       "      <td>...</td>\n",
       "      <td>...</td>\n",
       "      <td>...</td>\n",
       "      <td>...</td>\n",
       "      <td>...</td>\n",
       "      <td>...</td>\n",
       "      <td>...</td>\n",
       "      <td>...</td>\n",
       "      <td>...</td>\n",
       "      <td>...</td>\n",
       "    </tr>\n",
       "    <tr>\n",
       "      <th>16662</th>\n",
       "      <td>prison architect</td>\n",
       "      <td>xone</td>\n",
       "      <td>2016</td>\n",
       "      <td>action</td>\n",
       "      <td>0.01</td>\n",
       "      <td>0.00</td>\n",
       "      <td>0.00</td>\n",
       "      <td>0.00</td>\n",
       "      <td>74.0</td>\n",
       "      <td>6.7</td>\n",
       "      <td>4</td>\n",
       "      <td>24545.0</td>\n",
       "      <td>0.01</td>\n",
       "    </tr>\n",
       "    <tr>\n",
       "      <th>16670</th>\n",
       "      <td>fujiko f. fujio characters: great assembly! sl...</td>\n",
       "      <td>3ds</td>\n",
       "      <td>2014</td>\n",
       "      <td>action</td>\n",
       "      <td>0.00</td>\n",
       "      <td>0.00</td>\n",
       "      <td>0.01</td>\n",
       "      <td>0.00</td>\n",
       "      <td>NaN</td>\n",
       "      <td>0.0</td>\n",
       "      <td>4</td>\n",
       "      <td>234313.0</td>\n",
       "      <td>0.01</td>\n",
       "    </tr>\n",
       "    <tr>\n",
       "      <th>16686</th>\n",
       "      <td>7'scarlet</td>\n",
       "      <td>psv</td>\n",
       "      <td>2016</td>\n",
       "      <td>adventure</td>\n",
       "      <td>0.00</td>\n",
       "      <td>0.00</td>\n",
       "      <td>0.01</td>\n",
       "      <td>0.00</td>\n",
       "      <td>NaN</td>\n",
       "      <td>0.0</td>\n",
       "      <td>1</td>\n",
       "      <td>438732.0</td>\n",
       "      <td>0.01</td>\n",
       "    </tr>\n",
       "    <tr>\n",
       "      <th>16694</th>\n",
       "      <td>metal gear solid v: ground zeroes</td>\n",
       "      <td>pc</td>\n",
       "      <td>2014</td>\n",
       "      <td>action</td>\n",
       "      <td>0.00</td>\n",
       "      <td>0.01</td>\n",
       "      <td>0.00</td>\n",
       "      <td>0.00</td>\n",
       "      <td>80.0</td>\n",
       "      <td>7.6</td>\n",
       "      <td>3</td>\n",
       "      <td>268253.0</td>\n",
       "      <td>0.01</td>\n",
       "    </tr>\n",
       "    <tr>\n",
       "      <th>16716</th>\n",
       "      <td>winning post 8 2016</td>\n",
       "      <td>psv</td>\n",
       "      <td>2016</td>\n",
       "      <td>simulation</td>\n",
       "      <td>0.00</td>\n",
       "      <td>0.00</td>\n",
       "      <td>0.01</td>\n",
       "      <td>0.00</td>\n",
       "      <td>NaN</td>\n",
       "      <td>0.0</td>\n",
       "      <td>1</td>\n",
       "      <td>237574.0</td>\n",
       "      <td>0.01</td>\n",
       "    </tr>\n",
       "  </tbody>\n",
       "</table>\n",
       "<p>1128 rows × 13 columns</p>\n",
       "</div>"
      ],
      "text/plain": [
       "                                                    name platform  \\\n",
       "42                                    grand theft auto v      ps4   \n",
       "77                                               fifa 16      ps4   \n",
       "92                        call of duty: advanced warfare      ps4   \n",
       "94                                               fifa 17      ps4   \n",
       "105                                            fallout 4      ps4   \n",
       "...                                                  ...      ...   \n",
       "16662                                   prison architect     xone   \n",
       "16670  fujiko f. fujio characters: great assembly! sl...      3ds   \n",
       "16686                                          7'scarlet      psv   \n",
       "16694                  metal gear solid v: ground zeroes       pc   \n",
       "16716                                winning post 8 2016      psv   \n",
       "\n",
       "       year_of_release         genre  na_sales  eu_sales  jp_sales  \\\n",
       "42                2014        action      3.96      6.31      0.38   \n",
       "77                2015        sports      1.12      6.12      0.06   \n",
       "92                2014       shooter      2.81      3.48      0.14   \n",
       "94                2016        sports      0.66      5.75      0.08   \n",
       "105               2015  role-playing      2.53      3.27      0.24   \n",
       "...                ...           ...       ...       ...       ...   \n",
       "16662             2016        action      0.01      0.00      0.00   \n",
       "16670             2014        action      0.00      0.00      0.01   \n",
       "16686             2016     adventure      0.00      0.00      0.01   \n",
       "16694             2014        action      0.00      0.01      0.00   \n",
       "16716             2016    simulation      0.00      0.00      0.01   \n",
       "\n",
       "       other_sales  critic_score  user_score  rating  Unnamed: 0  total_sales  \n",
       "42            1.97          97.0         8.3       3    245294.0        10.65  \n",
       "77            1.28          82.0         4.3       1         NaN         7.30  \n",
       "92            1.23          83.0         5.7       3    460091.0         6.43  \n",
       "94            1.11          85.0         5.0       1     26371.0         6.49  \n",
       "105           1.13          87.0         6.5       3    207051.0         6.04  \n",
       "...            ...           ...         ...     ...         ...          ...  \n",
       "16662         0.00          74.0         6.7       4     24545.0         0.01  \n",
       "16670         0.00           NaN         0.0       4    234313.0         0.01  \n",
       "16686         0.00           NaN         0.0       1    438732.0         0.01  \n",
       "16694         0.00          80.0         7.6       3    268253.0         0.01  \n",
       "16716         0.00           NaN         0.0       1    237574.0         0.01  \n",
       "\n",
       "[1128 rows x 13 columns]"
      ]
     },
     "execution_count": 150,
     "metadata": {},
     "output_type": "execute_result"
    }
   ],
   "source": [
    "reviews"
   ]
  },
  {
   "cell_type": "code",
   "execution_count": 151,
   "metadata": {},
   "outputs": [],
   "source": [
    "action = reviews.query('genre in \"action\"')"
   ]
  },
  {
   "cell_type": "code",
   "execution_count": 152,
   "metadata": {},
   "outputs": [
    {
     "data": {
      "text/plain": [
       "ShapiroResult(statistic=0.833488941192627, pvalue=6.718037171494059e-20)"
      ]
     },
     "execution_count": 152,
     "metadata": {},
     "output_type": "execute_result"
    }
   ],
   "source": [
    "st.shapiro(action.user_score)"
   ]
  },
  {
   "cell_type": "code",
   "execution_count": 153,
   "metadata": {},
   "outputs": [],
   "source": [
    "sports=  reviews.query('genre in \"sports\"')"
   ]
  },
  {
   "cell_type": "code",
   "execution_count": 154,
   "metadata": {},
   "outputs": [
    {
     "data": {
      "text/plain": [
       "ShapiroResult(statistic=0.9580489993095398, pvalue=0.0004187525773886591)"
      ]
     },
     "execution_count": 154,
     "metadata": {},
     "output_type": "execute_result"
    }
   ],
   "source": [
    "st.shapiro(sports.user_score)"
   ]
  },
  {
   "cell_type": "markdown",
   "metadata": {},
   "source": [
    "Just like before, neither of them have a normal distribution, as p < 0.05. We will proceed with the Mann Whitney U test like before. First, outliers:"
   ]
  },
  {
   "cell_type": "code",
   "execution_count": 155,
   "metadata": {},
   "outputs": [
    {
     "data": {
      "image/png": "[encoded data removed]",
      "text/plain": [
       "<Figure size 432x288 with 1 Axes>"
      ]
     },
     "metadata": {
      "needs_background": "light"
     },
     "output_type": "display_data"
    }
   ],
   "source": [
    "action.boxplot(column='user_score', return_type='axes');"
   ]
  },
  {
   "cell_type": "code",
   "execution_count": 156,
   "metadata": {},
   "outputs": [
    {
     "data": {
      "image/png": "[encoded data removed]",
      "text/plain": [
       "<Figure size 432x288 with 1 Axes>"
      ]
     },
     "metadata": {
      "needs_background": "light"
     },
     "output_type": "display_data"
    }
   ],
   "source": [
    "sports.boxplot(column='user_score', return_type='axes');"
   ]
  },
  {
   "cell_type": "markdown",
   "metadata": {},
   "source": [
    "No outliers at all."
   ]
  },
  {
   "cell_type": "code",
   "execution_count": 157,
   "metadata": {},
   "outputs": [
    {
     "data": {
      "text/plain": [
       "(31818.5, 0.00017288376920415624)"
      ]
     },
     "execution_count": 157,
     "metadata": {},
     "output_type": "execute_result"
    }
   ],
   "source": [
    "s, p = st.mannwhitneyu(action.user_score, sports.user_score, alternative=\"two-sided\")\n",
    "s, p"
   ]
  },
  {
   "cell_type": "code",
   "execution_count": 158,
   "metadata": {},
   "outputs": [
    {
     "name": "stdout",
     "output_type": "stream",
     "text": [
      "Different distribution (reject H0)\n"
     ]
    }
   ],
   "source": [
    "alpha = 0.05\n",
    "if p > alpha:\n",
    "\tprint('Same distribution (fail to reject H0)')\n",
    "else:\n",
    "\tprint('Different distribution (reject H0)')"
   ]
  },
  {
   "cell_type": "markdown",
   "metadata": {},
   "source": [
    "After running the Mannwhitneyt test again, we confirm that we can reject our initial hypothesis: \" Average user ratings for the Action and Sports genres are EQUAL.\""
   ]
  },
  {
   "cell_type": "markdown",
   "metadata": {},
   "source": [
    "## 6. Overall Conclusion <a class=\"anchor\" id=\"chapter6\"></a>"
   ]
  },
  {
   "cell_type": "markdown",
   "metadata": {},
   "source": [
    "The first thing that should be mentioned, is how outdated and low maintained the dataset we received is. It had a big amount of missing values that could have been perfectly filled by keeping an eye on reviews. \n",
    "\n",
    "We tried to fill as many missing values as possible by merging the dataset with another reliable dataset found online. However, there we still a considerable amount of missing values, too many to just ignore them. \n",
    "\n",
    "As we couldn't fill them in with a 0 or median/mean, because it would impact the results too much, we decided to change the whole column to numeric in order to be able to pull calculations and visualizations.\n",
    "\n",
    "We have also created a new column that holds the total sales of each game (result from adding the sales in each region).\n",
    "\n",
    "Once data was preprocessed, we analyzed it to understand the industry.\n",
    "* **Game Released per year:**\n",
    "    * 1980 to 1993: Lowest period recorded. Less than 100 games released per year.\n",
    "    * 2005 to 2011: highest sales globally\n",
    "    * 2008 to 2009: peak sales globally\n",
    "    * 2011 to present time: sales decreased by over 50%\n",
    "\n",
    "* **Sales by Platform**\n",
    "    * Platforms with the largest share of global sales are (in descendant order): PS2, x360, Wii, PS3. Note that this is the sales over time. A more accurate calculation would be average sales per year, so it accounts for the years the platforms existed. \n",
    "    * Only 10 out of 30 platforms are profitable: S2, x360, Wii, PS3, DS, PS, GBA and PS4.\n",
    "* **Platform popularity** lasts for 5 to 6 years, and it fades in about 3 years - probably due to new platforms coming to the market.\n",
    "*  **Sample Data: 2014 to 2016**\n",
    "    * PS4 is the platforms with the highest revenue, based on global sales between 2014 and 2016.\n",
    "    * PSP and Wii are the lowest by far. \n",
    "    * There is no correlation between user reviews and sales. \n",
    "    * There is a slight positive correlation between critic reviews and sales, but still far from being a perfect positive correlation. \n",
    "    * Sales by genre display a big amount of outliers. However we could draw some conclusions:\n",
    "        * The 2 genres with highest global sales (Action and Shooter), have very different distributions. Action games have a narrower distribution, compared to shooter. This means action games createa  similar revenue, whereas among shooter games, some have a very high number of sales, creating much more revenue than those who are not sold as much. \n",
    "        * Some action games (outliers) have brought a much higher revenue than most of the other action games.\n",
    "        * adventure and puzzle games on the other end have very low revenue from global sales.\n",
    "        * Medians across all genres are relatively similar, except shooter games.\n",
    "        * In all genres, sales above the median are more scattered than sales below the median. Each genre has a few games that have an extraordinary amount of revenue compared to most games from that same genre. \n",
    "* **Analysis by Region:**\n",
    "    * EU and NA have very similar market behaviour, whereas JP is on its own.\n",
    "    * Most popular Platforms:\n",
    "        * EU: PS4 accounts for 48% of sales in the region (almost half of region sales revenue!), and xOne 17%\n",
    "        * NA: PS4 35% of sales in the region, and xOne not far from it, at 28%\n",
    "        * JP: DS3 holds almost 50% of the sales revenue in the region, followed by PS4 with only 15%.\n",
    "        * Other regions: PS4 seems to be the lead, with 54% of sales revenue. \n",
    "    * Most popular Genres:\n",
    "        * EU: Action and Shooter genres are the most popular, accounting for 28% and 26% of regional sales respectively.\n",
    "        * NA: same genres as in EU, but here Action holds 26% of the regional sales, and shooting 28%\n",
    "        * JP: Role-playing and action genres are the absolute leads in sales for the region, representing 33% and 32%. The other genres account for less than 10% each. \n",
    "    * ERSB Ratings: The only region with a relatively defined correlation between ESRB ratings and sales is JP. However, it is still far from acknowledging that ERSB ratings have an impact on sales.\n",
    "    \n",
    "* **Testing Hypotheses:**\n",
    "    * we fail to reject H0 \"Average user ratings of the Xbox One and PC platforms are the same\", meaning the samples are very close to being the same\n",
    "    * we confirm that we can reject our initial hypothesis: \" Average user ratings for the Action and Sports genres are EQUAL\""
   ]
  }
 ],
 "metadata": {
  "kernelspec": {
   "display_name": "Python 3",
   "language": "python",
   "name": "python3"
  },
  "language_info": {
   "codemirror_mode": {
    "name": "ipython",
    "version": 3
   },
   "file_extension": ".py",
   "mimetype": "text/x-python",
   "name": "python",
   "nbconvert_exporter": "python",
   "pygments_lexer": "ipython3",
   "version": "3.8.5"
  },
  "toc": {
   "base_numbering": 1,
   "nav_menu": {},
   "number_sections": false,
   "sideBar": true,
   "skip_h1_title": true,
   "title_cell": "Table of Contents",
   "title_sidebar": "Contents",
   "toc_cell": false,
   "toc_position": {
    "height": "calc(100% - 180px)",
    "left": "10px",
    "top": "150px",
    "width": "255.594px"
   },
   "toc_section_display": true,
   "toc_window_display": true
  }
 },
 "nbformat": 4,
 "nbformat_minor": 2
}
